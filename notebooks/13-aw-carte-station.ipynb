{
 "cells": [
  {
   "cell_type": "code",
   "execution_count": 55,
   "id": "4de0ac90-53fc-4be6-bee4-8836897c3201",
   "metadata": {
    "tags": []
   },
   "outputs": [
    {
     "data": {
      "text/html": [
       "<div>\n",
       "<style scoped>\n",
       "    .dataframe tbody tr th:only-of-type {\n",
       "        vertical-align: middle;\n",
       "    }\n",
       "\n",
       "    .dataframe tbody tr th {\n",
       "        vertical-align: top;\n",
       "    }\n",
       "\n",
       "    .dataframe thead th {\n",
       "        text-align: right;\n",
       "    }\n",
       "</style>\n",
       "<table border=\"1\" class=\"dataframe\">\n",
       "  <thead>\n",
       "    <tr style=\"text-align: right;\">\n",
       "      <th></th>\n",
       "      <th>Station</th>\n",
       "      <th>Latitude</th>\n",
       "      <th>Longitude</th>\n",
       "      <th>CodeRegion</th>\n",
       "      <th>NonMes</th>\n",
       "    </tr>\n",
       "  </thead>\n",
       "  <tbody>\n",
       "    <tr>\n",
       "      <th>0</th>\n",
       "      <td>Albury</td>\n",
       "      <td>-36.080477</td>\n",
       "      <td>146.916280</td>\n",
       "      <td>NSW</td>\n",
       "      <td>Evaporation_Sunshine</td>\n",
       "    </tr>\n",
       "    <tr>\n",
       "      <th>1</th>\n",
       "      <td>BadgerysCreek</td>\n",
       "      <td>-33.881667</td>\n",
       "      <td>150.744163</td>\n",
       "      <td>NSW</td>\n",
       "      <td>Evaporation_Sunshine_Cloud9am_Cloud3pm</td>\n",
       "    </tr>\n",
       "    <tr>\n",
       "      <th>2</th>\n",
       "      <td>Cobar</td>\n",
       "      <td>-31.498333</td>\n",
       "      <td>145.834444</td>\n",
       "      <td>NSW</td>\n",
       "      <td>all</td>\n",
       "    </tr>\n",
       "    <tr>\n",
       "      <th>3</th>\n",
       "      <td>CoffsHarbour</td>\n",
       "      <td>-30.296241</td>\n",
       "      <td>153.113529</td>\n",
       "      <td>NSW</td>\n",
       "      <td>all</td>\n",
       "    </tr>\n",
       "    <tr>\n",
       "      <th>4</th>\n",
       "      <td>Moree</td>\n",
       "      <td>-29.461720</td>\n",
       "      <td>149.840715</td>\n",
       "      <td>NSW</td>\n",
       "      <td>all</td>\n",
       "    </tr>\n",
       "  </tbody>\n",
       "</table>\n",
       "</div>"
      ],
      "text/plain": [
       "         Station   Latitude   Longitude CodeRegion  \\\n",
       "0         Albury -36.080477  146.916280        NSW   \n",
       "1  BadgerysCreek -33.881667  150.744163        NSW   \n",
       "2          Cobar -31.498333  145.834444        NSW   \n",
       "3   CoffsHarbour -30.296241  153.113529        NSW   \n",
       "4          Moree -29.461720  149.840715        NSW   \n",
       "\n",
       "                                   NonMes  \n",
       "0                    Evaporation_Sunshine  \n",
       "1  Evaporation_Sunshine_Cloud9am_Cloud3pm  \n",
       "2                                     all  \n",
       "3                                     all  \n",
       "4                                     all  "
      ]
     },
     "execution_count": 55,
     "metadata": {},
     "output_type": "execute_result"
    }
   ],
   "source": [
    "import pandas as pd\n",
    "import numpy as np\n",
    "import seaborn as sns\n",
    "import matplotlib.pyplot as plt\n",
    "\n",
    "from sklearn.cluster import KMeans\n",
    "\n",
    "df = pd.read_excel('station_gps_region.xlsx')\n",
    "df.head()"
   ]
  },
  {
   "cell_type": "code",
   "execution_count": 56,
   "id": "32a6332e-a030-4d9f-8b51-6a1e8e246cca",
   "metadata": {
    "tags": []
   },
   "outputs": [],
   "source": [
    "from gmplot import gmplot\n",
    "\n",
    "# Initialize the map at a given point\n",
    "gmap = gmplot.GoogleMapPlotter(-23.6983884, 133.8812885, 5) # le dernier argument est le niveau de zoom.  permet d'afficher toute l'australie, centrée sur Alice Springs\n",
    "\n",
    "# Add a marker\n",
    "for i, station in enumerate(df['Station']):\n",
    "    lat = df.loc[df['Station'] == station]['Latitude'][i]\n",
    "    long = df.loc[df['Station'] == station]['Longitude'][i]\n",
    "    gmap.marker(lat, long, 'cornflowerblue', title = station, label = station)\n",
    "\n",
    "# Draw map into HTML file\n",
    "gmap.draw(\"stations.html\")"
   ]
  },
  {
   "cell_type": "code",
   "execution_count": null,
   "id": "c3336f74-e1c9-46a5-a2e1-eb8a8d4de8b0",
   "metadata": {},
   "outputs": [],
   "source": []
  },
  {
   "cell_type": "code",
   "execution_count": null,
   "id": "680102fd-55d8-40a6-a847-65feb01b0580",
   "metadata": {},
   "outputs": [],
   "source": []
  }
 ],
 "metadata": {
  "kernelspec": {
   "display_name": "Python 3 (ipykernel)",
   "language": "python",
   "name": "python3"
  },
  "language_info": {
   "codemirror_mode": {
    "name": "ipython",
    "version": 3
   },
   "file_extension": ".py",
   "mimetype": "text/x-python",
   "name": "python",
   "nbconvert_exporter": "python",
   "pygments_lexer": "ipython3",
   "version": "3.11.5"
  }
 },
 "nbformat": 4,
 "nbformat_minor": 5
}
