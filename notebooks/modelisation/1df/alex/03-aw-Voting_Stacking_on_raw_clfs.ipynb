{
 "cells": [
  {
   "cell_type": "markdown",
   "id": "47906682-d7d8-4ced-b225-97e67a6732b5",
   "metadata": {},
   "source": [
    "# Voting et Stacking"
   ]
  },
  {
   "cell_type": "markdown",
   "id": "a3ef2962-4c52-4ba9-b5d8-a081a013cfde",
   "metadata": {},
   "source": [
    "On utilise ici les versions standards des classifieurs, non optimisés."
   ]
  },
  {
   "cell_type": "code",
   "execution_count": 1,
   "id": "900a9c03-4a8b-4e4e-9513-aadea30fda2a",
   "metadata": {
    "tags": []
   },
   "outputs": [],
   "source": [
    "import pandas as pd\n",
    "import numpy as np\n",
    "import matplotlib.pyplot as plt\n",
    "import seaborn as sns\n",
    "\n",
    "sns.set_theme(style = \"darkgrid\", palette = \"colorblind\")\n",
    "\n",
    "from sklearn import tree, ensemble, linear_model, svm, neighbors\n",
    "from sklearn.model_selection import train_test_split, GridSearchCV, KFold, cross_validate\n",
    "from sklearn.preprocessing import StandardScaler, LabelEncoder\n",
    "from sklearn.metrics import f1_score, classification_report, confusion_matrix, accuracy_score\n",
    "from sklearn.feature_selection import VarianceThreshold\n",
    "from sklearn.svm import SVC\n",
    "from sklearn.ensemble import VotingClassifier, StackingClassifier\n",
    "\n",
    "from imblearn.over_sampling import RandomOverSampler, SMOTE\n",
    "from imblearn.under_sampling import RandomUnderSampler,  ClusterCentroids\n",
    "from imblearn.metrics import classification_report_imbalanced, geometric_mean_score\n",
    "\n",
    "from joblib import dump, load # pour enregistrer et charger les modèles.\n",
    "\n",
    "from IPython.display import display_html # pour pouvoir afficher deux df côte à côte.\n",
    "\n",
    "n_coeurs = 4 # spécifie le nombre de coeurs utilisés sur le processeur par les fonctions qui le permettent (logreg, rdf, knn ici)"
   ]
  },
  {
   "cell_type": "markdown",
   "id": "d40947d5-9524-4c2d-ac90-002b69449e03",
   "metadata": {},
   "source": [
    "## 1.Préparation des données et chargement des modèles"
   ]
  },
  {
   "cell_type": "code",
   "execution_count": 2,
   "id": "f0227a7d-b01c-4d0d-9368-26d03a6a66b1",
   "metadata": {
    "tags": []
   },
   "outputs": [
    {
     "name": "stderr",
     "output_type": "stream",
     "text": [
      "C:\\Users\\AlexW\\anaconda3\\envs\\projet_meteo\\Lib\\site-packages\\imblearn\\over_sampling\\_smote\\base.py:336: FutureWarning: The parameter `n_jobs` has been deprecated in 0.10 and will be removed in 0.12. You can pass an nearest neighbors estimator where `n_jobs` is already set instead.\n",
      "  warnings.warn(\n"
     ]
    },
    {
     "name": "stdout",
     "output_type": "stream",
     "text": [
      "Classes échantillon SMOTE : {0: 82189, 1: 82189}\n"
     ]
    }
   ],
   "source": [
    "# Instanciation df\n",
    "df = pd.read_csv('../../../../data/processed/model_weatherAUS.csv')\n",
    "df.drop(columns = 'Unnamed: 0', inplace = True)\n",
    "df['Date'] = pd.to_datetime(df['Date'])\n",
    "\n",
    "###### Proportions initiales target:\n",
    "#RainTomorrow\n",
    "#0    0.778382\n",
    "#1    0.221618\n",
    "\n",
    "# Séparation data / target:\n",
    "X = df.drop(columns = ['RainTomorrow', 'Date']).copy()\n",
    "y = df['RainTomorrow'].copy()\n",
    "\n",
    "# Séparation du jeu d'entrainement et du jeu de test:\n",
    "X_train, X_test, y_train, y_test = train_test_split(X, y, test_size = 0.25, random_state = 123, stratify = y)\n",
    "# stratify = y assure que la proportion initiale de y se retrouve à l'identique dans les deux échantillons de train et test,\n",
    "# mais ne permet pas de ré-équilibrer les classes!\n",
    "\n",
    "# Scale de X_train, X_test:\n",
    "scaler = StandardScaler()\n",
    "X_train = scaler.fit_transform(X_train)\n",
    "X_test = scaler.transform(X_test)\n",
    "\n",
    "# Oversample avec SMOTE\n",
    "smote = SMOTE(random_state = 12, n_jobs = n_coeurs)\n",
    "X_sm, y_sm = smote.fit_resample(X_train, y_train)\n",
    "\n",
    "print('Classes échantillon SMOTE :', dict(pd.Series(y_sm).value_counts()))"
   ]
  },
  {
   "cell_type": "markdown",
   "id": "3cf10388-c94d-40f6-ad27-e2896b846517",
   "metadata": {},
   "source": [
    "## 2. Voting"
   ]
  },
  {
   "cell_type": "code",
   "execution_count": 13,
   "id": "8f6a1da8-e845-4881-a076-ad7556f5cf28",
   "metadata": {
    "tags": []
   },
   "outputs": [],
   "source": [
    "logreg = linear_model.LogisticRegression()\n",
    "dt = tree.DecisionTreeClassifier()\n",
    "knn = neighbors.KNeighborsClassifier()\n",
    "rdf = ensemble.RandomForestClassifier()\n",
    "svm = svm.SVC()"
   ]
  },
  {
   "cell_type": "code",
   "execution_count": 14,
   "id": "f240af25-2c8f-40ab-b922-2786b9250322",
   "metadata": {
    "tags": []
   },
   "outputs": [
    {
     "data": {
      "text/html": [
       "<style>#sk-container-id-2 {color: black;background-color: white;}#sk-container-id-2 pre{padding: 0;}#sk-container-id-2 div.sk-toggleable {background-color: white;}#sk-container-id-2 label.sk-toggleable__label {cursor: pointer;display: block;width: 100%;margin-bottom: 0;padding: 0.3em;box-sizing: border-box;text-align: center;}#sk-container-id-2 label.sk-toggleable__label-arrow:before {content: \"▸\";float: left;margin-right: 0.25em;color: #696969;}#sk-container-id-2 label.sk-toggleable__label-arrow:hover:before {color: black;}#sk-container-id-2 div.sk-estimator:hover label.sk-toggleable__label-arrow:before {color: black;}#sk-container-id-2 div.sk-toggleable__content {max-height: 0;max-width: 0;overflow: hidden;text-align: left;background-color: #f0f8ff;}#sk-container-id-2 div.sk-toggleable__content pre {margin: 0.2em;color: black;border-radius: 0.25em;background-color: #f0f8ff;}#sk-container-id-2 input.sk-toggleable__control:checked~div.sk-toggleable__content {max-height: 200px;max-width: 100%;overflow: auto;}#sk-container-id-2 input.sk-toggleable__control:checked~label.sk-toggleable__label-arrow:before {content: \"▾\";}#sk-container-id-2 div.sk-estimator input.sk-toggleable__control:checked~label.sk-toggleable__label {background-color: #d4ebff;}#sk-container-id-2 div.sk-label input.sk-toggleable__control:checked~label.sk-toggleable__label {background-color: #d4ebff;}#sk-container-id-2 input.sk-hidden--visually {border: 0;clip: rect(1px 1px 1px 1px);clip: rect(1px, 1px, 1px, 1px);height: 1px;margin: -1px;overflow: hidden;padding: 0;position: absolute;width: 1px;}#sk-container-id-2 div.sk-estimator {font-family: monospace;background-color: #f0f8ff;border: 1px dotted black;border-radius: 0.25em;box-sizing: border-box;margin-bottom: 0.5em;}#sk-container-id-2 div.sk-estimator:hover {background-color: #d4ebff;}#sk-container-id-2 div.sk-parallel-item::after {content: \"\";width: 100%;border-bottom: 1px solid gray;flex-grow: 1;}#sk-container-id-2 div.sk-label:hover label.sk-toggleable__label {background-color: #d4ebff;}#sk-container-id-2 div.sk-serial::before {content: \"\";position: absolute;border-left: 1px solid gray;box-sizing: border-box;top: 0;bottom: 0;left: 50%;z-index: 0;}#sk-container-id-2 div.sk-serial {display: flex;flex-direction: column;align-items: center;background-color: white;padding-right: 0.2em;padding-left: 0.2em;position: relative;}#sk-container-id-2 div.sk-item {position: relative;z-index: 1;}#sk-container-id-2 div.sk-parallel {display: flex;align-items: stretch;justify-content: center;background-color: white;position: relative;}#sk-container-id-2 div.sk-item::before, #sk-container-id-2 div.sk-parallel-item::before {content: \"\";position: absolute;border-left: 1px solid gray;box-sizing: border-box;top: 0;bottom: 0;left: 50%;z-index: -1;}#sk-container-id-2 div.sk-parallel-item {display: flex;flex-direction: column;z-index: 1;position: relative;background-color: white;}#sk-container-id-2 div.sk-parallel-item:first-child::after {align-self: flex-end;width: 50%;}#sk-container-id-2 div.sk-parallel-item:last-child::after {align-self: flex-start;width: 50%;}#sk-container-id-2 div.sk-parallel-item:only-child::after {width: 0;}#sk-container-id-2 div.sk-dashed-wrapped {border: 1px dashed gray;margin: 0 0.4em 0.5em 0.4em;box-sizing: border-box;padding-bottom: 0.4em;background-color: white;}#sk-container-id-2 div.sk-label label {font-family: monospace;font-weight: bold;display: inline-block;line-height: 1.2em;}#sk-container-id-2 div.sk-label-container {text-align: center;}#sk-container-id-2 div.sk-container {/* jupyter's `normalize.less` sets `[hidden] { display: none; }` but bootstrap.min.css set `[hidden] { display: none !important; }` so we also need the `!important` here to be able to override the default hidden behavior on the sphinx rendered scikit-learn.org. See: https://github.com/scikit-learn/scikit-learn/issues/21755 */display: inline-block !important;position: relative;}#sk-container-id-2 div.sk-text-repr-fallback {display: none;}</style><div id=\"sk-container-id-2\" class=\"sk-top-container\"><div class=\"sk-text-repr-fallback\"><pre>VotingClassifier(estimators=[(&#x27;logreg&#x27;, LogisticRegression()),\n",
       "                             (&#x27;dt&#x27;, DecisionTreeClassifier()),\n",
       "                             (&#x27;rdf&#x27;, RandomForestClassifier()),\n",
       "                             (&#x27;knn&#x27;, KNeighborsClassifier()), (&#x27;svm&#x27;, SVC())],\n",
       "                 n_jobs=4, verbose=True)</pre><b>In a Jupyter environment, please rerun this cell to show the HTML representation or trust the notebook. <br />On GitHub, the HTML representation is unable to render, please try loading this page with nbviewer.org.</b></div><div class=\"sk-container\" hidden><div class=\"sk-item sk-dashed-wrapped\"><div class=\"sk-label-container\"><div class=\"sk-label sk-toggleable\"><input class=\"sk-toggleable__control sk-hidden--visually\" id=\"sk-estimator-id-6\" type=\"checkbox\" ><label for=\"sk-estimator-id-6\" class=\"sk-toggleable__label sk-toggleable__label-arrow\">VotingClassifier</label><div class=\"sk-toggleable__content\"><pre>VotingClassifier(estimators=[(&#x27;logreg&#x27;, LogisticRegression()),\n",
       "                             (&#x27;dt&#x27;, DecisionTreeClassifier()),\n",
       "                             (&#x27;rdf&#x27;, RandomForestClassifier()),\n",
       "                             (&#x27;knn&#x27;, KNeighborsClassifier()), (&#x27;svm&#x27;, SVC())],\n",
       "                 n_jobs=4, verbose=True)</pre></div></div></div><div class=\"sk-parallel\"><div class=\"sk-parallel-item\"><div class=\"sk-item\"><div class=\"sk-label-container\"><div class=\"sk-label sk-toggleable\"><label>logreg</label></div></div><div class=\"sk-serial\"><div class=\"sk-item\"><div class=\"sk-estimator sk-toggleable\"><input class=\"sk-toggleable__control sk-hidden--visually\" id=\"sk-estimator-id-7\" type=\"checkbox\" ><label for=\"sk-estimator-id-7\" class=\"sk-toggleable__label sk-toggleable__label-arrow\">LogisticRegression</label><div class=\"sk-toggleable__content\"><pre>LogisticRegression()</pre></div></div></div></div></div></div><div class=\"sk-parallel-item\"><div class=\"sk-item\"><div class=\"sk-label-container\"><div class=\"sk-label sk-toggleable\"><label>dt</label></div></div><div class=\"sk-serial\"><div class=\"sk-item\"><div class=\"sk-estimator sk-toggleable\"><input class=\"sk-toggleable__control sk-hidden--visually\" id=\"sk-estimator-id-8\" type=\"checkbox\" ><label for=\"sk-estimator-id-8\" class=\"sk-toggleable__label sk-toggleable__label-arrow\">DecisionTreeClassifier</label><div class=\"sk-toggleable__content\"><pre>DecisionTreeClassifier()</pre></div></div></div></div></div></div><div class=\"sk-parallel-item\"><div class=\"sk-item\"><div class=\"sk-label-container\"><div class=\"sk-label sk-toggleable\"><label>rdf</label></div></div><div class=\"sk-serial\"><div class=\"sk-item\"><div class=\"sk-estimator sk-toggleable\"><input class=\"sk-toggleable__control sk-hidden--visually\" id=\"sk-estimator-id-9\" type=\"checkbox\" ><label for=\"sk-estimator-id-9\" class=\"sk-toggleable__label sk-toggleable__label-arrow\">RandomForestClassifier</label><div class=\"sk-toggleable__content\"><pre>RandomForestClassifier()</pre></div></div></div></div></div></div><div class=\"sk-parallel-item\"><div class=\"sk-item\"><div class=\"sk-label-container\"><div class=\"sk-label sk-toggleable\"><label>knn</label></div></div><div class=\"sk-serial\"><div class=\"sk-item\"><div class=\"sk-estimator sk-toggleable\"><input class=\"sk-toggleable__control sk-hidden--visually\" id=\"sk-estimator-id-10\" type=\"checkbox\" ><label for=\"sk-estimator-id-10\" class=\"sk-toggleable__label sk-toggleable__label-arrow\">KNeighborsClassifier</label><div class=\"sk-toggleable__content\"><pre>KNeighborsClassifier()</pre></div></div></div></div></div></div><div class=\"sk-parallel-item\"><div class=\"sk-item\"><div class=\"sk-label-container\"><div class=\"sk-label sk-toggleable\"><label>svm</label></div></div><div class=\"sk-serial\"><div class=\"sk-item\"><div class=\"sk-estimator sk-toggleable\"><input class=\"sk-toggleable__control sk-hidden--visually\" id=\"sk-estimator-id-11\" type=\"checkbox\" ><label for=\"sk-estimator-id-11\" class=\"sk-toggleable__label sk-toggleable__label-arrow\">SVC</label><div class=\"sk-toggleable__content\"><pre>SVC()</pre></div></div></div></div></div></div></div></div></div></div>"
      ],
      "text/plain": [
       "VotingClassifier(estimators=[('logreg', LogisticRegression()),\n",
       "                             ('dt', DecisionTreeClassifier()),\n",
       "                             ('rdf', RandomForestClassifier()),\n",
       "                             ('knn', KNeighborsClassifier()), ('svm', SVC())],\n",
       "                 n_jobs=4, verbose=True)"
      ]
     },
     "execution_count": 14,
     "metadata": {},
     "output_type": "execute_result"
    }
   ],
   "source": [
    "vclf = VotingClassifier(estimators = [('logreg', logreg), ('dt', dt), ('rdf', rdf), ('knn', knn), ('svm', svm)], voting = 'hard', n_jobs = n_coeurs, verbose = True)\n",
    "vclf.fit(X_train, y_train)"
   ]
  },
  {
   "cell_type": "markdown",
   "id": "eb6092eb-d8fd-41a7-a9e8-c674095f5a0d",
   "metadata": {},
   "source": [
    "### 2.1 Evaluation sur test"
   ]
  },
  {
   "cell_type": "code",
   "execution_count": 15,
   "id": "9d6a4b03-97d1-4465-84fe-74098f63a8ab",
   "metadata": {
    "tags": []
   },
   "outputs": [
    {
     "data": {
      "text/html": [
       "<div>\n",
       "<style scoped>\n",
       "    .dataframe tbody tr th:only-of-type {\n",
       "        vertical-align: middle;\n",
       "    }\n",
       "\n",
       "    .dataframe tbody tr th {\n",
       "        vertical-align: top;\n",
       "    }\n",
       "\n",
       "    .dataframe thead th {\n",
       "        text-align: right;\n",
       "    }\n",
       "</style>\n",
       "<table border=\"1\" class=\"dataframe\">\n",
       "  <thead>\n",
       "    <tr style=\"text-align: right;\">\n",
       "      <th>Classes prédites</th>\n",
       "      <th>0</th>\n",
       "      <th>1</th>\n",
       "    </tr>\n",
       "    <tr>\n",
       "      <th>Classes réelles</th>\n",
       "      <th></th>\n",
       "      <th></th>\n",
       "    </tr>\n",
       "  </thead>\n",
       "  <tbody>\n",
       "    <tr>\n",
       "      <th>0</th>\n",
       "      <td>26279</td>\n",
       "      <td>1118</td>\n",
       "    </tr>\n",
       "    <tr>\n",
       "      <th>1</th>\n",
       "      <td>3724</td>\n",
       "      <td>4076</td>\n",
       "    </tr>\n",
       "  </tbody>\n",
       "</table>\n",
       "</div>"
      ],
      "text/plain": [
       "Classes prédites      0     1\n",
       "Classes réelles              \n",
       "0                 26279  1118\n",
       "1                  3724  4076"
      ]
     },
     "execution_count": 15,
     "metadata": {},
     "output_type": "execute_result"
    }
   ],
   "source": [
    "y_test_pred = vclf.predict(X_test)\n",
    "cm = pd.crosstab(y_test,y_test_pred, rownames = ['Classes réelles'], colnames = ['Classes prédites'])\n",
    "cm"
   ]
  },
  {
   "cell_type": "code",
   "execution_count": 10,
   "id": "2dd35861-62f6-4dcc-a389-9316b8c70acc",
   "metadata": {
    "tags": []
   },
   "outputs": [
    {
     "name": "stdout",
     "output_type": "stream",
     "text": [
      "              precision    recall  f1-score   support\n",
      "\n",
      "           0       0.86      0.97      0.91     27397\n",
      "           1       0.81      0.46      0.59      7800\n",
      "\n",
      "    accuracy                           0.86     35197\n",
      "   macro avg       0.83      0.71      0.75     35197\n",
      "weighted avg       0.85      0.86      0.84     35197\n",
      "\n"
     ]
    }
   ],
   "source": [
    "print(classification_report(y_test, y_test_pred,  digits = 2))"
   ]
  },
  {
   "cell_type": "markdown",
   "id": "f41c77c6-115f-47dc-88e8-e0abe4a1f8ae",
   "metadata": {
    "jp-MarkdownHeadingCollapsed": true,
    "tags": []
   },
   "source": [
    "### 2.2 Evaluation sur train"
   ]
  },
  {
   "cell_type": "code",
   "execution_count": 21,
   "id": "a7e57c10-9977-432d-90cf-1cb054932e43",
   "metadata": {
    "tags": []
   },
   "outputs": [
    {
     "data": {
      "text/html": [
       "<div>\n",
       "<style scoped>\n",
       "    .dataframe tbody tr th:only-of-type {\n",
       "        vertical-align: middle;\n",
       "    }\n",
       "\n",
       "    .dataframe tbody tr th {\n",
       "        vertical-align: top;\n",
       "    }\n",
       "\n",
       "    .dataframe thead th {\n",
       "        text-align: right;\n",
       "    }\n",
       "</style>\n",
       "<table border=\"1\" class=\"dataframe\">\n",
       "  <thead>\n",
       "    <tr style=\"text-align: right;\">\n",
       "      <th>Classes prédites</th>\n",
       "      <th>0</th>\n",
       "      <th>1</th>\n",
       "    </tr>\n",
       "    <tr>\n",
       "      <th>Classes réelles</th>\n",
       "      <th></th>\n",
       "      <th></th>\n",
       "    </tr>\n",
       "  </thead>\n",
       "  <tbody>\n",
       "    <tr>\n",
       "      <th>0</th>\n",
       "      <td>82189</td>\n",
       "      <td>0</td>\n",
       "    </tr>\n",
       "    <tr>\n",
       "      <th>1</th>\n",
       "      <td>9380</td>\n",
       "      <td>14021</td>\n",
       "    </tr>\n",
       "  </tbody>\n",
       "</table>\n",
       "</div>"
      ],
      "text/plain": [
       "Classes prédites      0      1\n",
       "Classes réelles               \n",
       "0                 82189      0\n",
       "1                  9380  14021"
      ]
     },
     "execution_count": 21,
     "metadata": {},
     "output_type": "execute_result"
    }
   ],
   "source": [
    "y_train_pred = vclf.predict(X_train)\n",
    "cm = pd.crosstab(y_train,y_train_pred, rownames = ['Classes réelles'], colnames = ['Classes prédites'])\n",
    "cm"
   ]
  },
  {
   "cell_type": "code",
   "execution_count": 22,
   "id": "87ee4d02-559e-49bd-958a-f53e158f6d0c",
   "metadata": {
    "tags": []
   },
   "outputs": [
    {
     "name": "stdout",
     "output_type": "stream",
     "text": [
      "              precision    recall  f1-score   support\n",
      "\n",
      "           0       0.90      1.00      0.95     82189\n",
      "           1       1.00      0.60      0.75     23401\n",
      "\n",
      "    accuracy                           0.91    105590\n",
      "   macro avg       0.95      0.80      0.85    105590\n",
      "weighted avg       0.92      0.91      0.90    105590\n",
      "\n"
     ]
    }
   ],
   "source": [
    "print(classification_report(y_train, y_train_pred,  digits = 2))"
   ]
  },
  {
   "cell_type": "markdown",
   "id": "1db84c96-06f0-4711-8579-06ed961de5a6",
   "metadata": {},
   "source": [
    "Il y a clairement overfitting."
   ]
  },
  {
   "cell_type": "markdown",
   "id": "46f90f09-22b4-4c5f-bf47-4e5290c0a294",
   "metadata": {},
   "source": [
    "### 2.3 Voting Soft"
   ]
  },
  {
   "cell_type": "code",
   "execution_count": 11,
   "id": "90698423-f544-4ce6-9108-19a45484e608",
   "metadata": {
    "tags": []
   },
   "outputs": [
    {
     "data": {
      "text/html": [
       "<div>\n",
       "<style scoped>\n",
       "    .dataframe tbody tr th:only-of-type {\n",
       "        vertical-align: middle;\n",
       "    }\n",
       "\n",
       "    .dataframe tbody tr th {\n",
       "        vertical-align: top;\n",
       "    }\n",
       "\n",
       "    .dataframe thead th {\n",
       "        text-align: right;\n",
       "    }\n",
       "</style>\n",
       "<table border=\"1\" class=\"dataframe\">\n",
       "  <thead>\n",
       "    <tr style=\"text-align: right;\">\n",
       "      <th>Classes prédites</th>\n",
       "      <th>0</th>\n",
       "      <th>1</th>\n",
       "    </tr>\n",
       "    <tr>\n",
       "      <th>Classes réelles</th>\n",
       "      <th></th>\n",
       "      <th></th>\n",
       "    </tr>\n",
       "  </thead>\n",
       "  <tbody>\n",
       "    <tr>\n",
       "      <th>0</th>\n",
       "      <td>25892</td>\n",
       "      <td>1505</td>\n",
       "    </tr>\n",
       "    <tr>\n",
       "      <th>1</th>\n",
       "      <td>3652</td>\n",
       "      <td>4148</td>\n",
       "    </tr>\n",
       "  </tbody>\n",
       "</table>\n",
       "</div>"
      ],
      "text/plain": [
       "Classes prédites      0     1\n",
       "Classes réelles              \n",
       "0                 25892  1505\n",
       "1                  3652  4148"
      ]
     },
     "execution_count": 11,
     "metadata": {},
     "output_type": "execute_result"
    }
   ],
   "source": [
    "vclf_soft = VotingClassifier(estimators = [('logreg', logreg), ('dt', dt), ('rdf', rdf), ('knn', knn)], voting = 'soft')\n",
    "\n",
    "vclf_soft.fit(X_train, y_train)\n",
    "\n",
    "y_test_pred = vclf_soft.predict(X_test)\n",
    "cm = pd.crosstab(y_test,y_test_pred, rownames = ['Classes réelles'], colnames = ['Classes prédites'])\n",
    "cm\n"
   ]
  },
  {
   "cell_type": "code",
   "execution_count": 12,
   "id": "5d5a7331-a796-43e2-a4d6-88aa2a26a5a4",
   "metadata": {
    "tags": []
   },
   "outputs": [
    {
     "name": "stdout",
     "output_type": "stream",
     "text": [
      "              precision    recall  f1-score   support\n",
      "\n",
      "           0       0.88      0.95      0.91     27397\n",
      "           1       0.73      0.53      0.62      7800\n",
      "\n",
      "    accuracy                           0.85     35197\n",
      "   macro avg       0.81      0.74      0.76     35197\n",
      "weighted avg       0.84      0.85      0.84     35197\n",
      "\n"
     ]
    }
   ],
   "source": [
    "print(classification_report(y_test, y_test_pred,  digits = 2))"
   ]
  },
  {
   "cell_type": "markdown",
   "id": "6bccfcc0-43f5-4132-b0b8-f38ba6b75f0f",
   "metadata": {},
   "source": [
    "Je préfère la version 'hard', qui donne une meilleure précision sur la classe positive (82% contre 74% ici)"
   ]
  },
  {
   "cell_type": "markdown",
   "id": "bbfc2288-8185-4699-a1a2-8d9299d84b98",
   "metadata": {},
   "source": [
    "## 3. Stacking"
   ]
  },
  {
   "cell_type": "code",
   "execution_count": null,
   "id": "9877155b-ab63-4559-ada4-a36a8db18a68",
   "metadata": {},
   "outputs": [],
   "source": []
  },
  {
   "cell_type": "code",
   "execution_count": null,
   "id": "2e1075d4-e725-406e-acdc-9ece61d6d66b",
   "metadata": {},
   "outputs": [],
   "source": []
  },
  {
   "cell_type": "code",
   "execution_count": null,
   "id": "2718eca8-5b73-4288-9368-18f5e8076567",
   "metadata": {},
   "outputs": [],
   "source": []
  },
  {
   "cell_type": "code",
   "execution_count": null,
   "id": "1f0798b2-b630-4f0d-83a3-dc408f32705c",
   "metadata": {},
   "outputs": [],
   "source": []
  }
 ],
 "metadata": {
  "kernelspec": {
   "display_name": "Python 3 (ipykernel)",
   "language": "python",
   "name": "python3"
  },
  "language_info": {
   "codemirror_mode": {
    "name": "ipython",
    "version": 3
   },
   "file_extension": ".py",
   "mimetype": "text/x-python",
   "name": "python",
   "nbconvert_exporter": "python",
   "pygments_lexer": "ipython3",
   "version": "3.11.5"
  }
 },
 "nbformat": 4,
 "nbformat_minor": 5
}
