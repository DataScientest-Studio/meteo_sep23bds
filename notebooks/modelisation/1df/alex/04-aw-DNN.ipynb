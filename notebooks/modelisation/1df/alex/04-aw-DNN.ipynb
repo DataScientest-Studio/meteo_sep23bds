{
 "cells": [
  {
   "cell_type": "markdown",
   "id": "cbe88b50-9fa8-48aa-8990-7be39ffbbf05",
   "metadata": {},
   "source": [
    "# Réseau de neurones dense"
   ]
  },
  {
   "cell_type": "code",
   "execution_count": 1,
   "id": "9ef4bab5-5f51-45d0-bf6a-865fcd1658fc",
   "metadata": {
    "tags": []
   },
   "outputs": [],
   "source": [
    "import pandas as pd\n",
    "import numpy as np\n",
    "import matplotlib.pyplot as plt\n",
    "import seaborn as sns\n",
    "\n",
    "sns.set_theme(style = \"darkgrid\", palette = \"colorblind\")\n",
    "\n",
    "from sklearn.model_selection import train_test_split\n",
    "from sklearn.preprocessing import StandardScaler\n",
    "from sklearn.metrics import classification_report, confusion_matrix\n",
    "\n",
    "from sklearn.neighbors import NearestNeighbors \n",
    "from imblearn.over_sampling import SMOTE\n",
    "#from imblearn.under_sampling import RandomUnderSampler,  ClusterCentroids\n",
    "\n",
    "from joblib import dump, load # pour enregistrer et charger les modèles.\n",
    "#from IPython.display import display_html # pour pouvoir afficher deux df côte à côte.\n",
    "\n",
    "from tensorflow.keras.layers import Input, Dense #Pour instancier une couche Dense et une d'Input\n",
    "from tensorflow.keras.models import Model\n",
    "from tensorflow.keras.callbacks import EarlyStopping, ReduceLROnPlateau\n",
    "from tensorflow.keras.metrics import Precision\n",
    "from tensorflow.keras.optimizers import Adam\n",
    "n_coeurs = 4"
   ]
  },
  {
   "cell_type": "code",
   "execution_count": 2,
   "id": "1362d696-da1f-43fc-8d45-fcec999dacb7",
   "metadata": {
    "tags": []
   },
   "outputs": [],
   "source": [
    "#### Callbacks:\n",
    "\n",
    "#https://www.tensorflow.org/api_docs/python/tf/keras/callbacks/EarlyStopping\n",
    "early_stopping = EarlyStopping(monitor = 'val_loss', \n",
    "                               min_delta = 0.0001,  # arrête si le changement est inférieur est min_delta\n",
    "                               patience = 5,\n",
    "                               mode = 'min', # In min mode, training will stop when the quantity monitored has stopped decreasing\n",
    "                               restore_best_weights = True,\n",
    "                               verbose = 1)\n",
    "\n",
    "#https://www.tensorflow.org/api_docs/python/tf/keras/callbacks/ReduceLROnPlateau\n",
    "reduce_lr = ReduceLROnPlateau(monitor = 'val_loss', \n",
    "                              min_delta = 0.0001, \n",
    "                              patience = 3, \n",
    "                              factor = 0.1, \n",
    "                              mode = 'min',\n",
    "                              cooldown = 4, \n",
    "                              verbose = 1)"
   ]
  },
  {
   "cell_type": "code",
   "execution_count": 7,
   "id": "c2aa8a23-6bb0-4b7f-bcc3-77ff51406a28",
   "metadata": {
    "tags": []
   },
   "outputs": [],
   "source": [
    "# Instanciation df\n",
    "df = pd.read_csv('../../data/processed/model_weatherAUS.csv')\n",
    "df.drop(columns = 'Unnamed: 0', inplace = True)\n",
    "df['Date'] = pd.to_datetime(df['Date'])"
   ]
  },
  {
   "cell_type": "code",
   "execution_count": 8,
   "id": "c64dcdbe-1ab7-4b30-ab2b-918514ae3b43",
   "metadata": {
    "collapsed": true,
    "jupyter": {
     "outputs_hidden": true
    },
    "tags": []
   },
   "outputs": [
    {
     "name": "stderr",
     "output_type": "stream",
     "text": [
      "C:\\Users\\AlexW\\anaconda3\\envs\\TestDL\\lib\\site-packages\\sklearn\\utils\\validation.py:605: FutureWarning: is_sparse is deprecated and will be removed in a future version. Check `isinstance(dtype, pd.SparseDtype)` instead.\n",
      "  if is_sparse(pd_dtype):\n",
      "C:\\Users\\AlexW\\anaconda3\\envs\\TestDL\\lib\\site-packages\\sklearn\\utils\\validation.py:614: FutureWarning: is_sparse is deprecated and will be removed in a future version. Check `isinstance(dtype, pd.SparseDtype)` instead.\n",
      "  if is_sparse(pd_dtype) or not is_extension_array_dtype(pd_dtype):\n",
      "C:\\Users\\AlexW\\anaconda3\\envs\\TestDL\\lib\\site-packages\\sklearn\\utils\\validation.py:767: FutureWarning: is_sparse is deprecated and will be removed in a future version. Check `isinstance(dtype, pd.SparseDtype)` instead.\n",
      "  if not hasattr(array, \"sparse\") and array.dtypes.apply(is_sparse).any():\n",
      "C:\\Users\\AlexW\\anaconda3\\envs\\TestDL\\lib\\site-packages\\sklearn\\utils\\validation.py:605: FutureWarning: is_sparse is deprecated and will be removed in a future version. Check `isinstance(dtype, pd.SparseDtype)` instead.\n",
      "  if is_sparse(pd_dtype):\n",
      "C:\\Users\\AlexW\\anaconda3\\envs\\TestDL\\lib\\site-packages\\sklearn\\utils\\validation.py:614: FutureWarning: is_sparse is deprecated and will be removed in a future version. Check `isinstance(dtype, pd.SparseDtype)` instead.\n",
      "  if is_sparse(pd_dtype) or not is_extension_array_dtype(pd_dtype):\n",
      "C:\\Users\\AlexW\\anaconda3\\envs\\TestDL\\lib\\site-packages\\sklearn\\utils\\validation.py:767: FutureWarning: is_sparse is deprecated and will be removed in a future version. Check `isinstance(dtype, pd.SparseDtype)` instead.\n",
      "  if not hasattr(array, \"sparse\") and array.dtypes.apply(is_sparse).any():\n",
      "C:\\Users\\AlexW\\anaconda3\\envs\\TestDL\\lib\\site-packages\\sklearn\\utils\\validation.py:605: FutureWarning: is_sparse is deprecated and will be removed in a future version. Check `isinstance(dtype, pd.SparseDtype)` instead.\n",
      "  if is_sparse(pd_dtype):\n",
      "C:\\Users\\AlexW\\anaconda3\\envs\\TestDL\\lib\\site-packages\\sklearn\\utils\\validation.py:614: FutureWarning: is_sparse is deprecated and will be removed in a future version. Check `isinstance(dtype, pd.SparseDtype)` instead.\n",
      "  if is_sparse(pd_dtype) or not is_extension_array_dtype(pd_dtype):\n",
      "C:\\Users\\AlexW\\anaconda3\\envs\\TestDL\\lib\\site-packages\\sklearn\\utils\\validation.py:767: FutureWarning: is_sparse is deprecated and will be removed in a future version. Check `isinstance(dtype, pd.SparseDtype)` instead.\n",
      "  if not hasattr(array, \"sparse\") and array.dtypes.apply(is_sparse).any():\n",
      "C:\\Users\\AlexW\\anaconda3\\envs\\TestDL\\lib\\site-packages\\sklearn\\utils\\validation.py:605: FutureWarning: is_sparse is deprecated and will be removed in a future version. Check `isinstance(dtype, pd.SparseDtype)` instead.\n",
      "  if is_sparse(pd_dtype):\n",
      "C:\\Users\\AlexW\\anaconda3\\envs\\TestDL\\lib\\site-packages\\sklearn\\utils\\validation.py:614: FutureWarning: is_sparse is deprecated and will be removed in a future version. Check `isinstance(dtype, pd.SparseDtype)` instead.\n",
      "  if is_sparse(pd_dtype) or not is_extension_array_dtype(pd_dtype):\n",
      "C:\\Users\\AlexW\\anaconda3\\envs\\TestDL\\lib\\site-packages\\sklearn\\utils\\validation.py:605: FutureWarning: is_sparse is deprecated and will be removed in a future version. Check `isinstance(dtype, pd.SparseDtype)` instead.\n",
      "  if is_sparse(pd_dtype):\n",
      "C:\\Users\\AlexW\\anaconda3\\envs\\TestDL\\lib\\site-packages\\sklearn\\utils\\validation.py:614: FutureWarning: is_sparse is deprecated and will be removed in a future version. Check `isinstance(dtype, pd.SparseDtype)` instead.\n",
      "  if is_sparse(pd_dtype) or not is_extension_array_dtype(pd_dtype):\n",
      "C:\\Users\\AlexW\\anaconda3\\envs\\TestDL\\lib\\site-packages\\sklearn\\utils\\validation.py:605: FutureWarning: is_sparse is deprecated and will be removed in a future version. Check `isinstance(dtype, pd.SparseDtype)` instead.\n",
      "  if is_sparse(pd_dtype):\n",
      "C:\\Users\\AlexW\\anaconda3\\envs\\TestDL\\lib\\site-packages\\sklearn\\utils\\validation.py:614: FutureWarning: is_sparse is deprecated and will be removed in a future version. Check `isinstance(dtype, pd.SparseDtype)` instead.\n",
      "  if is_sparse(pd_dtype) or not is_extension_array_dtype(pd_dtype):\n",
      "C:\\Users\\AlexW\\anaconda3\\envs\\TestDL\\lib\\site-packages\\sklearn\\utils\\validation.py:605: FutureWarning: is_sparse is deprecated and will be removed in a future version. Check `isinstance(dtype, pd.SparseDtype)` instead.\n",
      "  if is_sparse(pd_dtype):\n",
      "C:\\Users\\AlexW\\anaconda3\\envs\\TestDL\\lib\\site-packages\\sklearn\\utils\\validation.py:614: FutureWarning: is_sparse is deprecated and will be removed in a future version. Check `isinstance(dtype, pd.SparseDtype)` instead.\n",
      "  if is_sparse(pd_dtype) or not is_extension_array_dtype(pd_dtype):\n",
      "C:\\Users\\AlexW\\anaconda3\\envs\\TestDL\\lib\\site-packages\\sklearn\\utils\\validation.py:605: FutureWarning: is_sparse is deprecated and will be removed in a future version. Check `isinstance(dtype, pd.SparseDtype)` instead.\n",
      "  if is_sparse(pd_dtype):\n",
      "C:\\Users\\AlexW\\anaconda3\\envs\\TestDL\\lib\\site-packages\\sklearn\\utils\\validation.py:614: FutureWarning: is_sparse is deprecated and will be removed in a future version. Check `isinstance(dtype, pd.SparseDtype)` instead.\n",
      "  if is_sparse(pd_dtype) or not is_extension_array_dtype(pd_dtype):\n",
      "C:\\Users\\AlexW\\anaconda3\\envs\\TestDL\\lib\\site-packages\\sklearn\\utils\\validation.py:605: FutureWarning: is_sparse is deprecated and will be removed in a future version. Check `isinstance(dtype, pd.SparseDtype)` instead.\n",
      "  if is_sparse(pd_dtype):\n",
      "C:\\Users\\AlexW\\anaconda3\\envs\\TestDL\\lib\\site-packages\\sklearn\\utils\\validation.py:614: FutureWarning: is_sparse is deprecated and will be removed in a future version. Check `isinstance(dtype, pd.SparseDtype)` instead.\n",
      "  if is_sparse(pd_dtype) or not is_extension_array_dtype(pd_dtype):\n"
     ]
    },
    {
     "name": "stdout",
     "output_type": "stream",
     "text": [
      "Classes échantillon SMOTE : {0: 82189, 1: 82189}\n"
     ]
    }
   ],
   "source": [
    "# Instanciation df\n",
    "df = pd.read_csv('../../data/processed/model_weatherAUS.csv')\n",
    "df.drop(columns = 'Unnamed: 0', inplace = True)\n",
    "df['Date'] = pd.to_datetime(df['Date'])\n",
    "\n",
    "###### Proportions initiales target:\n",
    "#RainTomorrow\n",
    "#0    0.778382\n",
    "#1    0.221618\n",
    "\n",
    "# Séparation data / target:\n",
    "X = df.drop(columns = ['RainTomorrow', 'Date']).copy()\n",
    "#X = df[[Pressure9am, Pressure3pm, WindGU]].copy()\n",
    "y = df['RainTomorrow'].copy()\n",
    "\n",
    "# Séparation du jeu d'entrainement et du jeu de test:\n",
    "X_train, X_test, y_train, y_test = train_test_split(X, y, test_size = 0.25, random_state = 123, stratify = y)\n",
    "\n",
    "# Scale de X_train, X_test:\n",
    "scaler = StandardScaler()\n",
    "X_train = scaler.fit_transform(X_train)\n",
    "X_test = scaler.transform(X_test)\n",
    "\n",
    "# Oversample avec SMOTE: pour pouvoir spécifier n_jobs, il faut désormais le faire en instanciant en amont un nearest neighbors compatible, ici NearestNeighbors\n",
    "nn_smote = NearestNeighbors(n_neighbors = 5, n_jobs = n_coeurs)\n",
    "smote = SMOTE(random_state = 12, k_neighbors = nn_smote)\n",
    "X_sm, y_sm = smote.fit_resample(X_train, y_train)\n",
    "\n",
    "print('Classes échantillon SMOTE :', dict(pd.Series(y_sm).value_counts()))"
   ]
  },
  {
   "cell_type": "code",
   "execution_count": 9,
   "id": "bf821d2c-566f-4529-8933-8227798923bd",
   "metadata": {
    "tags": []
   },
   "outputs": [
    {
     "data": {
      "text/plain": [
       "(164378, 28)"
      ]
     },
     "execution_count": 9,
     "metadata": {},
     "output_type": "execute_result"
    }
   ],
   "source": [
    "X_sm.shape"
   ]
  },
  {
   "cell_type": "code",
   "execution_count": 10,
   "id": "ffe61d98-cd75-4d6b-9f0b-e708a48b547f",
   "metadata": {
    "tags": []
   },
   "outputs": [
    {
     "data": {
      "text/plain": [
       "0         0\n",
       "1         0\n",
       "2         0\n",
       "3         1\n",
       "4         0\n",
       "         ..\n",
       "164373    1\n",
       "164374    1\n",
       "164375    1\n",
       "164376    1\n",
       "164377    1\n",
       "Name: RainTomorrow, Length: 164378, dtype: int64"
      ]
     },
     "execution_count": 10,
     "metadata": {},
     "output_type": "execute_result"
    }
   ],
   "source": [
    "y_sm"
   ]
  },
  {
   "cell_type": "code",
   "execution_count": 11,
   "id": "6410a87d-bcdc-446f-8f1e-31c4d16fd243",
   "metadata": {
    "tags": []
   },
   "outputs": [
    {
     "name": "stdout",
     "output_type": "stream",
     "text": [
      "Model: \"model\"\n",
      "_________________________________________________________________\n",
      " Layer (type)                Output Shape              Param #   \n",
      "=================================================================\n",
      " Input (InputLayer)          [(None, 28)]              0         \n",
      "                                                                 \n",
      " Dense_1 (Dense)             (None, 64)                1856      \n",
      "                                                                 \n",
      " Dense_2 (Dense)             (None, 32)                2080      \n",
      "                                                                 \n",
      " Dense_3 (Dense)             (None, 16)                528       \n",
      "                                                                 \n",
      " Dense_4 (Dense)             (None, 1)                 17        \n",
      "                                                                 \n",
      "=================================================================\n",
      "Total params: 4,481\n",
      "Trainable params: 4,481\n",
      "Non-trainable params: 0\n",
      "_________________________________________________________________\n"
     ]
    }
   ],
   "source": [
    "inputs = Input(shape = (28), name = 'Input') # il y a 28 variables explicatives\n",
    "\n",
    "dense1 = Dense(units = 64, activation = 'relu', name = 'Dense_1') # https://www.tensorflow.org/api_docs/python/tf/keras/activations\n",
    "dense2 = Dense(units = 32, activation = 'relu', name = 'Dense_2')\n",
    "dense3 = Dense(units = 16, activation = 'relu', name = 'Dense_3')\n",
    "dense4 = Dense(units = 1, activation = 'sigmoid', name = 'Dense_4') \n",
    "\n",
    "x = dense1(inputs)\n",
    "x = dense2(x)\n",
    "x = dense3(x)\n",
    "outputs = dense4(x)\n",
    "\n",
    "model = Model(inputs = inputs, outputs = outputs)\n",
    "\n",
    "opt = Adam(learning_rate = 0.00001)\n",
    "model.compile(loss = 'binary_crossentropy',      # https://www.tensorflow.org/api_docs/python/tf/keras/losses\n",
    "              optimizer = opt,               # https://www.tensorflow.org/api_docs/python/tf/keras/optimizers\n",
    "              metrics = ['accuracy'])          # https://www.tensorflow.org/api_docs/python/tf/keras/metrics\n",
    "model.summary()"
   ]
  },
  {
   "cell_type": "code",
   "execution_count": 12,
   "id": "2eef3411-919a-4e0f-9939-b95950a9dce3",
   "metadata": {
    "tags": []
   },
   "outputs": [
    {
     "name": "stdout",
     "output_type": "stream",
     "text": [
      "Epoch 1/100\n",
      "514/514 [==============================] - 1s 2ms/step - loss: 0.6492 - accuracy: 0.6261 - val_loss: 0.8816 - val_accuracy: 0.1225 - lr: 1.0000e-05\n",
      "Epoch 2/100\n",
      "514/514 [==============================] - 1s 1ms/step - loss: 0.6077 - accuracy: 0.6659 - val_loss: 0.8670 - val_accuracy: 0.2187 - lr: 1.0000e-05\n",
      "Epoch 3/100\n",
      "514/514 [==============================] - 1s 1ms/step - loss: 0.5729 - accuracy: 0.6985 - val_loss: 0.8420 - val_accuracy: 0.3423 - lr: 1.0000e-05\n",
      "Epoch 4/100\n",
      "514/514 [==============================] - 1s 1ms/step - loss: 0.5429 - accuracy: 0.7280 - val_loss: 0.8045 - val_accuracy: 0.4576 - lr: 1.0000e-05\n",
      "Epoch 5/100\n",
      "514/514 [==============================] - 1s 1ms/step - loss: 0.5180 - accuracy: 0.7511 - val_loss: 0.7633 - val_accuracy: 0.5453 - lr: 1.0000e-05\n",
      "Epoch 6/100\n",
      "514/514 [==============================] - 1s 1ms/step - loss: 0.4984 - accuracy: 0.7645 - val_loss: 0.7259 - val_accuracy: 0.6010 - lr: 1.0000e-05\n",
      "Epoch 7/100\n",
      "514/514 [==============================] - 1s 1ms/step - loss: 0.4839 - accuracy: 0.7717 - val_loss: 0.6966 - val_accuracy: 0.6332 - lr: 1.0000e-05\n",
      "Epoch 8/100\n",
      "514/514 [==============================] - 1s 1ms/step - loss: 0.4734 - accuracy: 0.7764 - val_loss: 0.6745 - val_accuracy: 0.6531 - lr: 1.0000e-05\n",
      "Epoch 9/100\n",
      "514/514 [==============================] - 1s 1ms/step - loss: 0.4657 - accuracy: 0.7800 - val_loss: 0.6621 - val_accuracy: 0.6630 - lr: 1.0000e-05\n",
      "Epoch 10/100\n",
      "514/514 [==============================] - 1s 1ms/step - loss: 0.4597 - accuracy: 0.7824 - val_loss: 0.6522 - val_accuracy: 0.6695 - lr: 1.0000e-05\n",
      "Epoch 11/100\n",
      "514/514 [==============================] - 1s 1ms/step - loss: 0.4548 - accuracy: 0.7846 - val_loss: 0.6420 - val_accuracy: 0.6753 - lr: 1.0000e-05\n",
      "Epoch 12/100\n",
      "514/514 [==============================] - 1s 1ms/step - loss: 0.4507 - accuracy: 0.7871 - val_loss: 0.6323 - val_accuracy: 0.6806 - lr: 1.0000e-05\n",
      "Epoch 13/100\n",
      "514/514 [==============================] - 1s 2ms/step - loss: 0.4471 - accuracy: 0.7886 - val_loss: 0.6267 - val_accuracy: 0.6841 - lr: 1.0000e-05\n",
      "Epoch 14/100\n",
      "514/514 [==============================] - 1s 1ms/step - loss: 0.4440 - accuracy: 0.7905 - val_loss: 0.6200 - val_accuracy: 0.6876 - lr: 1.0000e-05\n",
      "Epoch 15/100\n",
      "514/514 [==============================] - 1s 1ms/step - loss: 0.4412 - accuracy: 0.7921 - val_loss: 0.6213 - val_accuracy: 0.6866 - lr: 1.0000e-05\n",
      "Epoch 16/100\n",
      "514/514 [==============================] - 1s 1ms/step - loss: 0.4388 - accuracy: 0.7934 - val_loss: 0.6119 - val_accuracy: 0.6913 - lr: 1.0000e-05\n",
      "Epoch 17/100\n",
      "514/514 [==============================] - 1s 1ms/step - loss: 0.4366 - accuracy: 0.7947 - val_loss: 0.6098 - val_accuracy: 0.6918 - lr: 1.0000e-05\n",
      "Epoch 18/100\n",
      "514/514 [==============================] - 1s 1ms/step - loss: 0.4347 - accuracy: 0.7959 - val_loss: 0.6048 - val_accuracy: 0.6948 - lr: 1.0000e-05\n",
      "Epoch 19/100\n",
      "514/514 [==============================] - 1s 1ms/step - loss: 0.4329 - accuracy: 0.7969 - val_loss: 0.5984 - val_accuracy: 0.6988 - lr: 1.0000e-05\n",
      "Epoch 20/100\n",
      "514/514 [==============================] - 1s 1ms/step - loss: 0.4312 - accuracy: 0.7979 - val_loss: 0.6019 - val_accuracy: 0.6965 - lr: 1.0000e-05\n",
      "Epoch 21/100\n",
      "514/514 [==============================] - 1s 1ms/step - loss: 0.4298 - accuracy: 0.7987 - val_loss: 0.6009 - val_accuracy: 0.6970 - lr: 1.0000e-05\n",
      "Epoch 22/100\n",
      "514/514 [==============================] - 1s 1ms/step - loss: 0.4284 - accuracy: 0.7997 - val_loss: 0.5896 - val_accuracy: 0.7031 - lr: 1.0000e-05\n",
      "Epoch 23/100\n",
      "514/514 [==============================] - 1s 1ms/step - loss: 0.4271 - accuracy: 0.8004 - val_loss: 0.5946 - val_accuracy: 0.7001 - lr: 1.0000e-05\n",
      "Epoch 24/100\n",
      "514/514 [==============================] - 1s 1ms/step - loss: 0.4260 - accuracy: 0.8009 - val_loss: 0.5915 - val_accuracy: 0.7015 - lr: 1.0000e-05\n",
      "Epoch 25/100\n",
      "514/514 [==============================] - 1s 1ms/step - loss: 0.4249 - accuracy: 0.8018 - val_loss: 0.5855 - val_accuracy: 0.7048 - lr: 1.0000e-05\n",
      "Epoch 26/100\n",
      "514/514 [==============================] - 1s 1ms/step - loss: 0.4239 - accuracy: 0.8025 - val_loss: 0.5892 - val_accuracy: 0.7029 - lr: 1.0000e-05\n",
      "Epoch 27/100\n",
      "514/514 [==============================] - 1s 1ms/step - loss: 0.4229 - accuracy: 0.8035 - val_loss: 0.5830 - val_accuracy: 0.7062 - lr: 1.0000e-05\n",
      "Epoch 28/100\n",
      "514/514 [==============================] - 1s 2ms/step - loss: 0.4221 - accuracy: 0.8039 - val_loss: 0.5832 - val_accuracy: 0.7059 - lr: 1.0000e-05\n",
      "Epoch 29/100\n",
      "514/514 [==============================] - 1s 2ms/step - loss: 0.4212 - accuracy: 0.8044 - val_loss: 0.5804 - val_accuracy: 0.7070 - lr: 1.0000e-05\n",
      "Epoch 30/100\n",
      "514/514 [==============================] - 1s 2ms/step - loss: 0.4205 - accuracy: 0.8047 - val_loss: 0.5814 - val_accuracy: 0.7059 - lr: 1.0000e-05\n",
      "Epoch 31/100\n",
      "514/514 [==============================] - 1s 2ms/step - loss: 0.4197 - accuracy: 0.8053 - val_loss: 0.5817 - val_accuracy: 0.7062 - lr: 1.0000e-05\n",
      "Epoch 32/100\n",
      "514/514 [==============================] - 1s 2ms/step - loss: 0.4190 - accuracy: 0.8059 - val_loss: 0.5795 - val_accuracy: 0.7077 - lr: 1.0000e-05\n",
      "Epoch 33/100\n",
      "514/514 [==============================] - 1s 2ms/step - loss: 0.4184 - accuracy: 0.8061 - val_loss: 0.5759 - val_accuracy: 0.7092 - lr: 1.0000e-05\n",
      "Epoch 34/100\n",
      "514/514 [==============================] - 1s 2ms/step - loss: 0.4177 - accuracy: 0.8064 - val_loss: 0.5760 - val_accuracy: 0.7092 - lr: 1.0000e-05\n",
      "Epoch 35/100\n",
      "514/514 [==============================] - 1s 2ms/step - loss: 0.4171 - accuracy: 0.8067 - val_loss: 0.5731 - val_accuracy: 0.7107 - lr: 1.0000e-05\n",
      "Epoch 36/100\n",
      "514/514 [==============================] - 1s 2ms/step - loss: 0.4165 - accuracy: 0.8070 - val_loss: 0.5708 - val_accuracy: 0.7119 - lr: 1.0000e-05\n",
      "Epoch 37/100\n",
      "514/514 [==============================] - 1s 2ms/step - loss: 0.4159 - accuracy: 0.8072 - val_loss: 0.5709 - val_accuracy: 0.7117 - lr: 1.0000e-05\n",
      "Epoch 38/100\n",
      "514/514 [==============================] - 1s 2ms/step - loss: 0.4154 - accuracy: 0.8073 - val_loss: 0.5749 - val_accuracy: 0.7088 - lr: 1.0000e-05\n",
      "Epoch 39/100\n",
      "514/514 [==============================] - 1s 2ms/step - loss: 0.4149 - accuracy: 0.8077 - val_loss: 0.5703 - val_accuracy: 0.7112 - lr: 1.0000e-05\n",
      "Epoch 40/100\n",
      "514/514 [==============================] - 1s 2ms/step - loss: 0.4144 - accuracy: 0.8080 - val_loss: 0.5677 - val_accuracy: 0.7126 - lr: 1.0000e-05\n",
      "Epoch 41/100\n",
      "514/514 [==============================] - 1s 2ms/step - loss: 0.4139 - accuracy: 0.8082 - val_loss: 0.5640 - val_accuracy: 0.7150 - lr: 1.0000e-05\n",
      "Epoch 42/100\n",
      "514/514 [==============================] - 1s 2ms/step - loss: 0.4134 - accuracy: 0.8086 - val_loss: 0.5678 - val_accuracy: 0.7126 - lr: 1.0000e-05\n",
      "Epoch 43/100\n",
      "514/514 [==============================] - 1s 2ms/step - loss: 0.4130 - accuracy: 0.8087 - val_loss: 0.5706 - val_accuracy: 0.7105 - lr: 1.0000e-05\n",
      "Epoch 44/100\n",
      "492/514 [===========================>..] - ETA: 0s - loss: 0.4123 - accuracy: 0.8091\n",
      "Epoch 44: ReduceLROnPlateau reducing learning rate to 9.999999747378752e-07.\n",
      "514/514 [==============================] - 1s 2ms/step - loss: 0.4125 - accuracy: 0.8088 - val_loss: 0.5684 - val_accuracy: 0.7118 - lr: 1.0000e-05\n",
      "Epoch 45/100\n",
      "514/514 [==============================] - 1s 2ms/step - loss: 0.4122 - accuracy: 0.8091 - val_loss: 0.5673 - val_accuracy: 0.7126 - lr: 1.0000e-06\n",
      "Epoch 46/100\n",
      "489/514 [===========================>..] - ETA: 0s - loss: 0.4121 - accuracy: 0.8089Restoring model weights from the end of the best epoch: 41.\n",
      "514/514 [==============================] - 1s 2ms/step - loss: 0.4122 - accuracy: 0.8091 - val_loss: 0.5667 - val_accuracy: 0.7131 - lr: 1.0000e-06\n",
      "Epoch 46: early stopping\n"
     ]
    }
   ],
   "source": [
    "model_history = model.fit(X_sm, y_sm, epochs = 100, batch_size = 256, validation_split = 0.2, callbacks = [early_stopping, reduce_lr])"
   ]
  },
  {
   "cell_type": "code",
   "execution_count": 13,
   "id": "86c17db4-e366-4191-b924-afb93ea105a7",
   "metadata": {},
   "outputs": [
    {
     "data": {
      "image/png": "[encoded data removed]",
      "text/plain": [
       "<Figure size 1000x500 with 2 Axes>"
      ]
     },
     "metadata": {},
     "output_type": "display_data"
    }
   ],
   "source": [
    "plt.figure(figsize = (10, 5))\n",
    "plt.subplot(121)\n",
    "plt.plot(model_history.history['loss'], label = 'train loss')\n",
    "plt.plot(model_history.history['val_loss'], label = 'val loss')\n",
    "plt.xlabel('Epochs')\n",
    "plt.ylabel('Loss')\n",
    "#plt.ylim([0,1])\n",
    "plt.legend()\n",
    "\n",
    "plt.subplot(122)\n",
    "plt.plot(model_history.history['accuracy'], label = 'train accuracy')\n",
    "plt.plot(model_history.history['val_accuracy'], label = 'val accuracy')\n",
    "plt.xlabel('Epochs')\n",
    "plt.ylabel('Accuracy')\n",
    "plt.ylim([0,1])\n",
    "plt.legend()\n",
    "\n",
    "plt.show()"
   ]
  },
  {
   "cell_type": "code",
   "execution_count": 33,
   "id": "560bad55-c3e4-4bc9-8806-81fa5784df00",
   "metadata": {
    "tags": []
   },
   "outputs": [
    {
     "name": "stdout",
     "output_type": "stream",
     "text": [
      "              precision    recall  f1-score   support\n",
      "\n",
      "           0       0.91      0.87      0.89     27397\n",
      "           1       0.61      0.70      0.65      7800\n",
      "\n",
      "    accuracy                           0.83     35197\n",
      "   macro avg       0.76      0.78      0.77     35197\n",
      "weighted avg       0.84      0.83      0.84     35197\n",
      "\n",
      "[[23965  3432]\n",
      " [ 2378  5422]]\n"
     ]
    },
    {
     "name": "stderr",
     "output_type": "stream",
     "text": [
      "C:\\Users\\AlexW\\anaconda3\\envs\\TestDL\\lib\\site-packages\\sklearn\\utils\\validation.py:605: FutureWarning: is_sparse is deprecated and will be removed in a future version. Check `isinstance(dtype, pd.SparseDtype)` instead.\n",
      "  if is_sparse(pd_dtype):\n",
      "C:\\Users\\AlexW\\anaconda3\\envs\\TestDL\\lib\\site-packages\\sklearn\\utils\\validation.py:614: FutureWarning: is_sparse is deprecated and will be removed in a future version. Check `isinstance(dtype, pd.SparseDtype)` instead.\n",
      "  if is_sparse(pd_dtype) or not is_extension_array_dtype(pd_dtype):\n",
      "C:\\Users\\AlexW\\anaconda3\\envs\\TestDL\\lib\\site-packages\\sklearn\\utils\\validation.py:605: FutureWarning: is_sparse is deprecated and will be removed in a future version. Check `isinstance(dtype, pd.SparseDtype)` instead.\n",
      "  if is_sparse(pd_dtype):\n",
      "C:\\Users\\AlexW\\anaconda3\\envs\\TestDL\\lib\\site-packages\\sklearn\\utils\\validation.py:614: FutureWarning: is_sparse is deprecated and will be removed in a future version. Check `isinstance(dtype, pd.SparseDtype)` instead.\n",
      "  if is_sparse(pd_dtype) or not is_extension_array_dtype(pd_dtype):\n",
      "C:\\Users\\AlexW\\anaconda3\\envs\\TestDL\\lib\\site-packages\\sklearn\\utils\\validation.py:605: FutureWarning: is_sparse is deprecated and will be removed in a future version. Check `isinstance(dtype, pd.SparseDtype)` instead.\n",
      "  if is_sparse(pd_dtype):\n",
      "C:\\Users\\AlexW\\anaconda3\\envs\\TestDL\\lib\\site-packages\\sklearn\\utils\\validation.py:614: FutureWarning: is_sparse is deprecated and will be removed in a future version. Check `isinstance(dtype, pd.SparseDtype)` instead.\n",
      "  if is_sparse(pd_dtype) or not is_extension_array_dtype(pd_dtype):\n",
      "C:\\Users\\AlexW\\anaconda3\\envs\\TestDL\\lib\\site-packages\\sklearn\\utils\\validation.py:605: FutureWarning: is_sparse is deprecated and will be removed in a future version. Check `isinstance(dtype, pd.SparseDtype)` instead.\n",
      "  if is_sparse(pd_dtype):\n",
      "C:\\Users\\AlexW\\anaconda3\\envs\\TestDL\\lib\\site-packages\\sklearn\\utils\\validation.py:614: FutureWarning: is_sparse is deprecated and will be removed in a future version. Check `isinstance(dtype, pd.SparseDtype)` instead.\n",
      "  if is_sparse(pd_dtype) or not is_extension_array_dtype(pd_dtype):\n",
      "C:\\Users\\AlexW\\anaconda3\\envs\\TestDL\\lib\\site-packages\\sklearn\\utils\\validation.py:605: FutureWarning: is_sparse is deprecated and will be removed in a future version. Check `isinstance(dtype, pd.SparseDtype)` instead.\n",
      "  if is_sparse(pd_dtype):\n",
      "C:\\Users\\AlexW\\anaconda3\\envs\\TestDL\\lib\\site-packages\\sklearn\\utils\\validation.py:614: FutureWarning: is_sparse is deprecated and will be removed in a future version. Check `isinstance(dtype, pd.SparseDtype)` instead.\n",
      "  if is_sparse(pd_dtype) or not is_extension_array_dtype(pd_dtype):\n",
      "C:\\Users\\AlexW\\anaconda3\\envs\\TestDL\\lib\\site-packages\\sklearn\\utils\\validation.py:605: FutureWarning: is_sparse is deprecated and will be removed in a future version. Check `isinstance(dtype, pd.SparseDtype)` instead.\n",
      "  if is_sparse(pd_dtype):\n",
      "C:\\Users\\AlexW\\anaconda3\\envs\\TestDL\\lib\\site-packages\\sklearn\\utils\\validation.py:614: FutureWarning: is_sparse is deprecated and will be removed in a future version. Check `isinstance(dtype, pd.SparseDtype)` instead.\n",
      "  if is_sparse(pd_dtype) or not is_extension_array_dtype(pd_dtype):\n"
     ]
    }
   ],
   "source": [
    "test_pred = model.predict(X_test)\n",
    "y_pred_class = [round(test_pred[i, 0],0) for i in range(test_pred.shape[0]) ]\n",
    "print(classification_report(y_test_class,y_pred_class))\n",
    "print(confusion_matrix(y_test_class,y_pred_class))"
   ]
  }
 ],
 "metadata": {
  "kernelspec": {
   "display_name": "Python 3 (ipykernel)",
   "language": "python",
   "name": "python3"
  },
  "language_info": {
   "codemirror_mode": {
    "name": "ipython",
    "version": 3
   },
   "file_extension": ".py",
   "mimetype": "text/x-python",
   "name": "python",
   "nbconvert_exporter": "python",
   "pygments_lexer": "ipython3",
   "version": "3.9.18"
  }
 },
 "nbformat": 4,
 "nbformat_minor": 5
}
