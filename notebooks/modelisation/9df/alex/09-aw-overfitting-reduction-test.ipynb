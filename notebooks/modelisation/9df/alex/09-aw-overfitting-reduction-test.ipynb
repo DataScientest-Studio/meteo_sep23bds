{
 "cells": [
  {
   "cell_type": "markdown",
   "id": "9dc99d33-89e2-44f3-bce4-be89e24648f8",
   "metadata": {
    "tags": []
   },
   "source": [
    "# 05. Réduire l'overfitting"
   ]
  },
  {
   "cell_type": "markdown",
   "id": "6c8fd89b-1417-46a5-9b7a-c9d64b6d9588",
   "metadata": {},
   "source": [
    "Test sur le df Clouds, avec SMOTE et rdf otpimisé"
   ]
  },
  {
   "cell_type": "code",
   "execution_count": 7,
   "id": "6830cd1b-9bb4-4937-b626-65113c7dd759",
   "metadata": {
    "tags": []
   },
   "outputs": [],
   "source": [
    "import pandas as pd\n",
    "import numpy as np\n",
    "import matplotlib.pyplot as plt\n",
    "import seaborn as sns\n",
    "\n",
    "from sklearn import tree, ensemble, linear_model, svm, neighbors\n",
    "from sklearn.model_selection import train_test_split, GridSearchCV, cross_validate, KFold\n",
    "from sklearn.preprocessing import StandardScaler, LabelEncoder\n",
    "from sklearn.metrics import f1_score, classification_report, confusion_matrix, accuracy_score\n",
    "from sklearn.feature_selection import VarianceThreshold\n",
    "from sklearn.svm import SVC\n",
    "\n",
    "from imblearn.over_sampling import RandomOverSampler, SMOTE\n",
    "from imblearn.under_sampling import RandomUnderSampler,  ClusterCentroids\n",
    "from imblearn.metrics import classification_report_imbalanced, geometric_mean_score\n",
    "\n",
    "from joblib import dump, load # pour enregistrer et charger les modèles.\n",
    "\n",
    "from IPython.display import display_html # pour pouvoir afficher deux df côte à côte."
   ]
  },
  {
   "cell_type": "code",
   "execution_count": 3,
   "id": "bb78edcc-fbdb-43ce-a672-fad4cb280ac1",
   "metadata": {
    "tags": []
   },
   "outputs": [
    {
     "name": "stderr",
     "output_type": "stream",
     "text": [
      "C:\\Users\\AlexW\\anaconda3\\envs\\cours\\Lib\\site-packages\\sklearn\\cluster\\_kmeans.py:870: FutureWarning: The default value of `n_init` will change from 10 to 'auto' in 1.4. Set the value of `n_init` explicitly to suppress the warning\n",
      "  warnings.warn(\n",
      "C:\\Users\\AlexW\\anaconda3\\envs\\cours\\Lib\\site-packages\\sklearn\\cluster\\_kmeans.py:1382: UserWarning: KMeans is known to have a memory leak on Windows with MKL, when there are less chunks than available threads. You can avoid it by setting the environment variable OMP_NUM_THREADS=13.\n",
      "  warnings.warn(\n"
     ]
    }
   ],
   "source": [
    "# Instanciation df\n",
    "df = pd.read_csv('ready_Cloud9am_Cloud3pm.csv')\n",
    "df.drop(columns = 'Unnamed: 0', inplace = True)\n",
    "df['Date'] = pd.to_datetime(df['Date'])\n",
    "\n",
    "# Séparation data / target:\n",
    "X = df.drop(columns = ['RainTomorrow', 'Date', 'NonMesNum']).copy()\n",
    "y = df['RainTomorrow'].copy()\n",
    "\n",
    "# Séparation du jeu d'entrainement et du jeu de test:\n",
    "X_train, X_test, y_train, y_test = train_test_split(X, y, test_size = 0.25, random_state = 123)\n",
    "\n",
    "# Scale de X_train, X_test:\n",
    "scaler = StandardScaler()\n",
    "X_train = scaler.fit_transform(X_train)\n",
    "X_test = scaler.transform(X_test)\n",
    "\n",
    "# UnderSample grâce à ClusterCentroids\n",
    "cc = ClusterCentroids()\n",
    "X_cc, y_cc = cc.fit_resample(X_train, y_train)\n",
    "\n",
    "# Oversample avec SMOTE\n",
    "smote = SMOTE()\n",
    "X_sm, y_sm = smote.fit_resample(X_train, y_train)"
   ]
  },
  {
   "cell_type": "code",
   "execution_count": 4,
   "id": "b8770b2b-d4f4-448f-9e1d-559d2dcb21a2",
   "metadata": {
    "tags": []
   },
   "outputs": [],
   "source": [
    "# Chargement des grid:\n",
    "grid_logreg = load('alex_df_clouds/grid_saves/grid_logreg.joblib')\n",
    "grid_dt = load('alex_df_clouds/grid_saves/grid_dt.joblib')\n",
    "grid_rdf = load('alex_df_clouds/grid_saves/grid_rdf.joblib')\n",
    "grid_knn = load('alex_df_clouds/grid_saves/grid_knn.joblib')\n",
    "grid_svm = load('alex_df_clouds/grid_saves/grid_svm.joblib')"
   ]
  },
  {
   "cell_type": "code",
   "execution_count": 5,
   "id": "e3f76469-6e0f-498c-8410-f87779318ffc",
   "metadata": {
    "tags": []
   },
   "outputs": [],
   "source": [
    "# Définition d'un dictionnaire pour appeler dans la fonction report, avec les best params de GridSearchCV\n",
    "models = {\"logreg\" : linear_model.LogisticRegression(C = grid_logreg.best_params_['C']), \n",
    "          \"dt\"  : tree.DecisionTreeClassifier(criterion =  grid_dt.best_params_['criterion'], max_depth =  grid_dt.best_params_['max_depth']),\n",
    "          \"rdf\" : ensemble.RandomForestClassifier(n_estimators =  grid_rdf.best_params_['n_estimators'], criterion =  grid_rdf.best_params_['criterion']),\n",
    "          \"knn\" : neighbors.KNeighborsClassifier(n_neighbors =  grid_knn.best_params_['n_neighbors'], metric = grid_knn.best_params_['metric']),\n",
    "          \"svm\" : svm.SVC(kernel = grid_svm.best_params_['kernel'], C =  grid_svm.best_params_['C'], gamma =  grid_svm.best_params_['gamma'])}"
   ]
  },
  {
   "cell_type": "code",
   "execution_count": 20,
   "id": "f71ca828-bc01-4a27-a20a-4bd9138c9832",
   "metadata": {
    "tags": []
   },
   "outputs": [
    {
     "data": {
      "text/plain": [
       "0.8995637322371686"
      ]
     },
     "execution_count": 20,
     "metadata": {},
     "output_type": "execute_result"
    }
   ],
   "source": [
    "cv = KFold(n_splits = 5, random_state = 111, shuffle = True)\n",
    "clf = models['rdf']\n",
    "scores = cross_validate(clf, X_sm, y_sm, cv=cv, scoring='f1_weighted', return_estimator = True)\n",
    "#scores\n",
    "scores['test_score'].mean()"
   ]
  },
  {
   "cell_type": "code",
   "execution_count": 14,
   "id": "e7a5c2e2-f1d8-49e1-97d8-48b5631c1706",
   "metadata": {
    "tags": []
   },
   "outputs": [
    {
     "ename": "NotFittedError",
     "evalue": "This RandomForestClassifier instance is not fitted yet. Call 'fit' with appropriate arguments before using this estimator.",
     "output_type": "error",
     "traceback": [
      "\u001b[1;31m---------------------------------------------------------------------------\u001b[0m",
      "\u001b[1;31mNotFittedError\u001b[0m                            Traceback (most recent call last)",
      "Cell \u001b[1;32mIn[14], line 1\u001b[0m\n\u001b[1;32m----> 1\u001b[0m y_test_pred \u001b[38;5;241m=\u001b[39m clf\u001b[38;5;241m.\u001b[39mpredict(X_test)\n\u001b[0;32m      2\u001b[0m conf_mat \u001b[38;5;241m=\u001b[39m pd\u001b[38;5;241m.\u001b[39mcrosstab(y_test,y_test_pred, rownames \u001b[38;5;241m=\u001b[39m [\u001b[38;5;124m'\u001b[39m\u001b[38;5;124mClasses réelles\u001b[39m\u001b[38;5;124m'\u001b[39m], colnames \u001b[38;5;241m=\u001b[39m [\u001b[38;5;124m'\u001b[39m\u001b[38;5;124mClasses prédites\u001b[39m\u001b[38;5;124m'\u001b[39m])       \u001b[38;5;66;03m# Création au format df\u001b[39;00m\n\u001b[0;32m      3\u001b[0m class_rep \u001b[38;5;241m=\u001b[39m pd\u001b[38;5;241m.\u001b[39mDataFrame\u001b[38;5;241m.\u001b[39mfrom_dict(classification_report(y_test, y_test_pred, output_dict\u001b[38;5;241m=\u001b[39m\u001b[38;5;28;01mTrue\u001b[39;00m, digits \u001b[38;5;241m=\u001b[39m \u001b[38;5;241m2\u001b[39m))\u001b[38;5;241m.\u001b[39mT    \u001b[38;5;66;03m# création au format df\u001b[39;00m\n",
      "File \u001b[1;32m~\\anaconda3\\envs\\cours\\Lib\\site-packages\\sklearn\\ensemble\\_forest.py:820\u001b[0m, in \u001b[0;36mForestClassifier.predict\u001b[1;34m(self, X)\u001b[0m\n\u001b[0;32m    799\u001b[0m \u001b[38;5;28;01mdef\u001b[39;00m \u001b[38;5;21mpredict\u001b[39m(\u001b[38;5;28mself\u001b[39m, X):\n\u001b[0;32m    800\u001b[0m \u001b[38;5;250m    \u001b[39m\u001b[38;5;124;03m\"\"\"\u001b[39;00m\n\u001b[0;32m    801\u001b[0m \u001b[38;5;124;03m    Predict class for X.\u001b[39;00m\n\u001b[0;32m    802\u001b[0m \n\u001b[1;32m   (...)\u001b[0m\n\u001b[0;32m    818\u001b[0m \u001b[38;5;124;03m        The predicted classes.\u001b[39;00m\n\u001b[0;32m    819\u001b[0m \u001b[38;5;124;03m    \"\"\"\u001b[39;00m\n\u001b[1;32m--> 820\u001b[0m     proba \u001b[38;5;241m=\u001b[39m \u001b[38;5;28mself\u001b[39m\u001b[38;5;241m.\u001b[39mpredict_proba(X)\n\u001b[0;32m    822\u001b[0m     \u001b[38;5;28;01mif\u001b[39;00m \u001b[38;5;28mself\u001b[39m\u001b[38;5;241m.\u001b[39mn_outputs_ \u001b[38;5;241m==\u001b[39m \u001b[38;5;241m1\u001b[39m:\n\u001b[0;32m    823\u001b[0m         \u001b[38;5;28;01mreturn\u001b[39;00m \u001b[38;5;28mself\u001b[39m\u001b[38;5;241m.\u001b[39mclasses_\u001b[38;5;241m.\u001b[39mtake(np\u001b[38;5;241m.\u001b[39margmax(proba, axis\u001b[38;5;241m=\u001b[39m\u001b[38;5;241m1\u001b[39m), axis\u001b[38;5;241m=\u001b[39m\u001b[38;5;241m0\u001b[39m)\n",
      "File \u001b[1;32m~\\anaconda3\\envs\\cours\\Lib\\site-packages\\sklearn\\ensemble\\_forest.py:860\u001b[0m, in \u001b[0;36mForestClassifier.predict_proba\u001b[1;34m(self, X)\u001b[0m\n\u001b[0;32m    838\u001b[0m \u001b[38;5;28;01mdef\u001b[39;00m \u001b[38;5;21mpredict_proba\u001b[39m(\u001b[38;5;28mself\u001b[39m, X):\n\u001b[0;32m    839\u001b[0m \u001b[38;5;250m    \u001b[39m\u001b[38;5;124;03m\"\"\"\u001b[39;00m\n\u001b[0;32m    840\u001b[0m \u001b[38;5;124;03m    Predict class probabilities for X.\u001b[39;00m\n\u001b[0;32m    841\u001b[0m \n\u001b[1;32m   (...)\u001b[0m\n\u001b[0;32m    858\u001b[0m \u001b[38;5;124;03m        classes corresponds to that in the attribute :term:`classes_`.\u001b[39;00m\n\u001b[0;32m    859\u001b[0m \u001b[38;5;124;03m    \"\"\"\u001b[39;00m\n\u001b[1;32m--> 860\u001b[0m     check_is_fitted(\u001b[38;5;28mself\u001b[39m)\n\u001b[0;32m    861\u001b[0m     \u001b[38;5;66;03m# Check data\u001b[39;00m\n\u001b[0;32m    862\u001b[0m     X \u001b[38;5;241m=\u001b[39m \u001b[38;5;28mself\u001b[39m\u001b[38;5;241m.\u001b[39m_validate_X_predict(X)\n",
      "File \u001b[1;32m~\\anaconda3\\envs\\cours\\Lib\\site-packages\\sklearn\\utils\\validation.py:1390\u001b[0m, in \u001b[0;36mcheck_is_fitted\u001b[1;34m(estimator, attributes, msg, all_or_any)\u001b[0m\n\u001b[0;32m   1385\u001b[0m     fitted \u001b[38;5;241m=\u001b[39m [\n\u001b[0;32m   1386\u001b[0m         v \u001b[38;5;28;01mfor\u001b[39;00m v \u001b[38;5;129;01min\u001b[39;00m \u001b[38;5;28mvars\u001b[39m(estimator) \u001b[38;5;28;01mif\u001b[39;00m v\u001b[38;5;241m.\u001b[39mendswith(\u001b[38;5;124m\"\u001b[39m\u001b[38;5;124m_\u001b[39m\u001b[38;5;124m\"\u001b[39m) \u001b[38;5;129;01mand\u001b[39;00m \u001b[38;5;129;01mnot\u001b[39;00m v\u001b[38;5;241m.\u001b[39mstartswith(\u001b[38;5;124m\"\u001b[39m\u001b[38;5;124m__\u001b[39m\u001b[38;5;124m\"\u001b[39m)\n\u001b[0;32m   1387\u001b[0m     ]\n\u001b[0;32m   1389\u001b[0m \u001b[38;5;28;01mif\u001b[39;00m \u001b[38;5;129;01mnot\u001b[39;00m fitted:\n\u001b[1;32m-> 1390\u001b[0m     \u001b[38;5;28;01mraise\u001b[39;00m NotFittedError(msg \u001b[38;5;241m%\u001b[39m {\u001b[38;5;124m\"\u001b[39m\u001b[38;5;124mname\u001b[39m\u001b[38;5;124m\"\u001b[39m: \u001b[38;5;28mtype\u001b[39m(estimator)\u001b[38;5;241m.\u001b[39m\u001b[38;5;18m__name__\u001b[39m})\n",
      "\u001b[1;31mNotFittedError\u001b[0m: This RandomForestClassifier instance is not fitted yet. Call 'fit' with appropriate arguments before using this estimator."
     ]
    }
   ],
   "source": [
    "y_test_pred = clf.predict(X_test)\n",
    "conf_mat = pd.crosstab(y_test,y_test_pred, rownames = ['Classes réelles'], colnames = ['Classes prédites'])       # Création au format df\n",
    "class_rep = pd.DataFrame.from_dict(classification_report(y_test, y_test_pred, output_dict=True, digits = 2)).T    # création au format df\n",
    "    \n",
    "# Affichage de la matrice de confusion et du rapport de classification:\n",
    "df_cm = conf_mat.style.set_table_attributes(\"style='display:inline'\").set_caption('Confusion Matrix')\n",
    "df_cr = class_rep.style.set_table_attributes(\"style='display:inline'\").set_caption('Classification Report')"
   ]
  },
  {
   "cell_type": "code",
   "execution_count": null,
   "id": "bce52cfa-b9be-4274-b772-67ce2b8c55e7",
   "metadata": {},
   "outputs": [],
   "source": []
  },
  {
   "cell_type": "code",
   "execution_count": null,
   "id": "581b7b04-e3cd-42c5-99e2-bee07e6fe903",
   "metadata": {},
   "outputs": [],
   "source": []
  }
 ],
 "metadata": {
  "kernelspec": {
   "display_name": "Python 3 (ipykernel)",
   "language": "python",
   "name": "python3"
  },
  "language_info": {
   "codemirror_mode": {
    "name": "ipython",
    "version": 3
   },
   "file_extension": ".py",
   "mimetype": "text/x-python",
   "name": "python",
   "nbconvert_exporter": "python",
   "pygments_lexer": "ipython3",
   "version": "3.11.5"
  }
 },
 "nbformat": 4,
 "nbformat_minor": 5
}
