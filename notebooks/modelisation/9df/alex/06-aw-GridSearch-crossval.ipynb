{
 "cells": [
  {
   "cell_type": "markdown",
   "id": "5f1bdccb-f98c-43a7-afee-159a6ad65a68",
   "metadata": {},
   "source": [
    "# GridSearch et cross validation"
   ]
  },
  {
   "cell_type": "markdown",
   "id": "5afd4386-7052-4533-af0a-c2e7caf8ae91",
   "metadata": {
    "tags": []
   },
   "source": [
    "## 1. Intro"
   ]
  },
  {
   "cell_type": "code",
   "execution_count": 1,
   "id": "3decd3d3-3f4a-48c3-8eeb-141372adae4b",
   "metadata": {
    "tags": []
   },
   "outputs": [],
   "source": [
    "import pandas as pd\n",
    "import numpy as np\n",
    "import matplotlib.pyplot as plt\n",
    "import seaborn as sns\n",
    "\n",
    "from sklearn import tree, ensemble, linear_model, svm, neighbors\n",
    "from sklearn.model_selection import train_test_split, GridSearchCV, cross_validate, KFold\n",
    "from sklearn.preprocessing import StandardScaler, LabelEncoder\n",
    "from sklearn.metrics import f1_score, classification_report, confusion_matrix, accuracy_score\n",
    "from sklearn.feature_selection import VarianceThreshold\n",
    "from sklearn.svm import SVC\n",
    "\n",
    "from imblearn.over_sampling import RandomOverSampler, SMOTE\n",
    "from imblearn.under_sampling import RandomUnderSampler,  ClusterCentroids\n",
    "from imblearn.metrics import classification_report_imbalanced, geometric_mean_score\n",
    "\n",
    "from joblib import dump, load # pour enregistrer et charger les modèles.\n",
    "\n",
    "from IPython.display import display_html # pour pouvoir afficher deux df côte à côte."
   ]
  },
  {
   "cell_type": "code",
   "execution_count": 2,
   "id": "da6bdea6-2399-49d7-961a-adc1dce5c36a",
   "metadata": {
    "tags": []
   },
   "outputs": [
    {
     "name": "stderr",
     "output_type": "stream",
     "text": [
      "C:\\Users\\AlexW\\anaconda3\\envs\\cours\\Lib\\site-packages\\sklearn\\cluster\\_kmeans.py:870: FutureWarning: The default value of `n_init` will change from 10 to 'auto' in 1.4. Set the value of `n_init` explicitly to suppress the warning\n",
      "  warnings.warn(\n",
      "C:\\Users\\AlexW\\anaconda3\\envs\\cours\\Lib\\site-packages\\sklearn\\cluster\\_kmeans.py:1382: UserWarning: KMeans is known to have a memory leak on Windows with MKL, when there are less chunks than available threads. You can avoid it by setting the environment variable OMP_NUM_THREADS=13.\n",
      "  warnings.warn(\n"
     ]
    }
   ],
   "source": [
    "# Instanciation df\n",
    "df = pd.read_csv('../../../../data/processed/alex/ready_Cloud9am_Cloud3pm.csv')\n",
    "df.drop(columns = 'Unnamed: 0', inplace = True)\n",
    "df['Date'] = pd.to_datetime(df['Date'])\n",
    "\n",
    "# Séparation data / target:\n",
    "X = df.drop(columns = ['RainTomorrow', 'Date', 'NonMesNum']).copy()\n",
    "y = df['RainTomorrow'].copy()\n",
    "\n",
    "# Séparation du jeu d'entrainement et du jeu de test:\n",
    "X_train, X_test, y_train, y_test = train_test_split(X, y, test_size = 0.25, random_state = 123)\n",
    "\n",
    "# Scale de X_train, X_test:\n",
    "scaler = StandardScaler()\n",
    "X_train = scaler.fit_transform(X_train)\n",
    "X_test = scaler.transform(X_test)\n",
    "\n",
    "# UnderSample grâce à ClusterCentroids\n",
    "cc = ClusterCentroids()\n",
    "X_cc, y_cc = cc.fit_resample(X_train, y_train)\n",
    "\n",
    "# Oversample avec SMOTE\n",
    "smote = SMOTE()\n",
    "X_sm, y_sm = smote.fit_resample(X_train, y_train)"
   ]
  },
  {
   "cell_type": "markdown",
   "id": "6a346f37-075e-4abf-94b3-9016f5153b96",
   "metadata": {
    "jp-MarkdownHeadingCollapsed": true,
    "tags": []
   },
   "source": [
    "## 2. Essais"
   ]
  },
  {
   "cell_type": "markdown",
   "id": "e23a6d10-8951-4a48-8360-34fc1f28d11c",
   "metadata": {
    "jp-MarkdownHeadingCollapsed": true,
    "tags": []
   },
   "source": [
    "### 2.1 Fonction report"
   ]
  },
  {
   "cell_type": "code",
   "execution_count": 14,
   "id": "a5d9d875-1d8d-4fc8-8f0f-ab3d5bc335f3",
   "metadata": {
    "tags": []
   },
   "outputs": [],
   "source": [
    "def report(model, sampling, eval_train):\n",
    "\n",
    "    # Cette fonction entraine le modèle choisi sur les données X_train et y_train (qui sont ré-équilibrées en amont)\n",
    "    # et fait des prédictions sur X_test et y_test (qui elles, ne doivent pas être rééquilibrées)\n",
    "    # On affiche ensuite le rapport complet: matrice de confusion et classification report\n",
    "\n",
    "    # Définition de X_train et y_train en fonction du choix du sampling:\n",
    "    if sampling == 'SMOTE':\n",
    "        X_train = X_sm\n",
    "        y_train = y_sm\n",
    "    elif sampling == 'CC':\n",
    "        X_train = X_cc\n",
    "        y_train = y_cc\n",
    "\n",
    "    # Instanciation et entrainement du modèle:\n",
    "    clf = models[model]\n",
    "    clf.fit(X_train, y_train)\n",
    "\n",
    "    # Prédiction et évaluation:\n",
    "    if eval_train == True:\n",
    "        y_train_pred = clf.predict(X_train)\n",
    "        conf_mat = pd.crosstab(y_train,y_train_pred, rownames = ['Classes réelles'], colnames = ['Classes prédites'])       # Création au format df\n",
    "        class_rep = pd.DataFrame.from_dict(classification_report(y_train, y_train_pred, output_dict=True, digits = 2)).T    # création au format df\n",
    "    else:\n",
    "        y_test_pred = clf.predict(X_test)\n",
    "        conf_mat = pd.crosstab(y_test,y_test_pred, rownames = ['Classes réelles'], colnames = ['Classes prédites'])       # Création au format df\n",
    "        class_rep = pd.DataFrame.from_dict(classification_report(y_test, y_test_pred, output_dict=True, digits = 2)).T    # création au format df\n",
    "\n",
    "    # Affichage de la matrice de confusion et du rapport de classification:\n",
    "    df_cm = conf_mat.style.set_table_attributes(\"style='display:inline'\").set_caption('Confusion Matrix')\n",
    "    df_cr = class_rep.style.set_table_attributes(\"style='display:inline'\").set_caption('Classification Report')\n",
    "\n",
    "    #pour afficher au format txt:\n",
    "    #display_html(print(confusion_matrix(y_test, y_test_pred)) + print(classification_report(y_test, y_test_pred, output_dict=False, digits = 2)), raw=True)\n",
    "\n",
    "    # Création du titre en fonction du modèle et du ré-échantillonage choisi:\n",
    "    if sampling == 'SMOTE':\n",
    "        title = 'Rapport pour'+ ' ' + str(model) + ' ' + ' avec SMOTE'\n",
    "    elif sampling == 'CC':\n",
    "        title = 'Rapport pour'+ ' ' + str(model) + ' ' + ' avec ClusterCentroids'\n",
    "\n",
    "    # Pour afficher au format df\n",
    "    display_html(title + df_cm._repr_html_()+df_cr._repr_html_(), raw=True)\n",
    "\n",
    "    # Enregistrement des résultats:\n",
    "    acc    = class_rep['precision'][2]\n",
    "    prec_0 = class_rep['precision'][0]\n",
    "    rec_0  = class_rep['recall'][0]\n",
    "    f1_0   = class_rep['f1-score'][0]\n",
    "    prec_1 = class_rep['precision'][1]\n",
    "    rec_1  = class_rep['recall'][1]\n",
    "    f1_1   = class_rep['f1-score'][1]\n",
    "    f1_weighted_avg = class_rep['f1-score'][4]\n",
    "\n"
   ]
  },
  {
   "cell_type": "markdown",
   "id": "0e060de5-184a-4229-853e-5c48b5efd50c",
   "metadata": {
    "tags": []
   },
   "source": [
    "### 2.2 Essais"
   ]
  },
  {
   "cell_type": "markdown",
   "id": "5a5ca77f-43e0-4fd6-b9de-21630c10f7a9",
   "metadata": {
    "tags": []
   },
   "source": [
    "#### 2.2.a Dictionnaires"
   ]
  },
  {
   "cell_type": "code",
   "execution_count": 6,
   "id": "2ff2ca09-ff8a-4457-9c64-67686a981099",
   "metadata": {
    "tags": []
   },
   "outputs": [],
   "source": [
    "# Dictionnaire des modèles et zone de recherche des paramètres:\n",
    "dict_grid = {'logreg' : [ linear_model.LogisticRegression(class_weight = 'balanced'), {\"C\" : np.logspace(-3, 3, num = 7)} ],\n",
    "            'dt' : [ tree.DecisionTreeClassifier(class_weight = 'balanced'),  {\"criterion\" : ['gini', 'entropy', 'log_loss'],\n",
    "                                                                               \"max_depth\" : [5, 10, 50, 100]}],\n",
    "            'rdf' : [ ensemble.RandomForestClassifier(class_weight = 'balanced'), {\"n_estimators\" : [5, 10, 50, 100, 300],\n",
    "                                                                                   \"criterion\" :['gini', 'entropy', 'log_loss']}  ],\n",
    "            'knn' : [ neighbors.KNeighborsClassifier() , {\"n_neighbors\" : [10, 25, 50, 100],\n",
    "                                                          \"metric\" : ['minkowski', 'manhattan', 'chebyshev'],\n",
    "                                                          \"weights\": ['uniform', 'distance']}],\n",
    "            'svm' : [ svm.SVC(class_weight = 'balanced'), {\"C\" : np.logspace(-2, 2, num = 5),\n",
    "                                                           \"kernel\" :['rbf', 'poly', 'sigmoid'] ,\n",
    "                                                           \"gamma\" : np.logspace(-2, 2, num = 5)} ]}"
   ]
  },
  {
   "cell_type": "code",
   "execution_count": 10,
   "id": "14f84363-4fdb-4602-a0cf-75d0e72d3165",
   "metadata": {
    "tags": []
   },
   "outputs": [],
   "source": [
    "# Définition d'un dictionnaire pour appeler dans la fonction report, avec les best params de GridSearchCV\n",
    "models = {\"logreg\" : linear_model.LogisticRegression(C = 1),\n",
    "          \"dt\"  : tree.DecisionTreeClassifier(criterion =  'gini', max_depth =  50),\n",
    "          \"rdf\" : ensemble.RandomForestClassifier(n_estimators =  100, criterion =  'gini'),\n",
    "          \"knn\" : neighbors.KNeighborsClassifier(n_neighbors =  5, metric = 'minkowski'),\n",
    "          \"svm\" : svm.SVC(kernel = 'rbf', C =  10, gamma =  0.1)}"
   ]
  },
  {
   "cell_type": "markdown",
   "id": "b43c6df0-3580-47e3-8446-526791611505",
   "metadata": {
    "tags": []
   },
   "source": [
    "#### 2.2.b Mesures"
   ]
  },
  {
   "cell_type": "code",
   "execution_count": 12,
   "id": "6d38c406-1ee8-41fd-ab32-f27d1fcfbdef",
   "metadata": {
    "tags": []
   },
   "outputs": [
    {
     "data": {
      "text/html": [
       "Rapport pour rdf  avec SMOTE<style type=\"text/css\">\n",
       "</style>\n",
       "<table id=\"T_a5255\" style='display:inline'>\n",
       "  <caption>Confusion Matrix</caption>\n",
       "  <thead>\n",
       "    <tr>\n",
       "      <th class=\"index_name level0\" >Classes prédites</th>\n",
       "      <th id=\"T_a5255_level0_col0\" class=\"col_heading level0 col0\" >0</th>\n",
       "      <th id=\"T_a5255_level0_col1\" class=\"col_heading level0 col1\" >1</th>\n",
       "    </tr>\n",
       "    <tr>\n",
       "      <th class=\"index_name level0\" >Classes réelles</th>\n",
       "      <th class=\"blank col0\" >&nbsp;</th>\n",
       "      <th class=\"blank col1\" >&nbsp;</th>\n",
       "    </tr>\n",
       "  </thead>\n",
       "  <tbody>\n",
       "    <tr>\n",
       "      <th id=\"T_a5255_level0_row0\" class=\"row_heading level0 row0\" >0</th>\n",
       "      <td id=\"T_a5255_row0_col0\" class=\"data row0 col0\" >960</td>\n",
       "      <td id=\"T_a5255_row0_col1\" class=\"data row0 col1\" >133</td>\n",
       "    </tr>\n",
       "    <tr>\n",
       "      <th id=\"T_a5255_level0_row1\" class=\"row_heading level0 row1\" >1</th>\n",
       "      <td id=\"T_a5255_row1_col0\" class=\"data row1 col0\" >124</td>\n",
       "      <td id=\"T_a5255_row1_col1\" class=\"data row1 col1\" >273</td>\n",
       "    </tr>\n",
       "  </tbody>\n",
       "</table>\n",
       "<style type=\"text/css\">\n",
       "</style>\n",
       "<table id=\"T_5d508\" style='display:inline'>\n",
       "  <caption>Classification Report</caption>\n",
       "  <thead>\n",
       "    <tr>\n",
       "      <th class=\"blank level0\" >&nbsp;</th>\n",
       "      <th id=\"T_5d508_level0_col0\" class=\"col_heading level0 col0\" >precision</th>\n",
       "      <th id=\"T_5d508_level0_col1\" class=\"col_heading level0 col1\" >recall</th>\n",
       "      <th id=\"T_5d508_level0_col2\" class=\"col_heading level0 col2\" >f1-score</th>\n",
       "      <th id=\"T_5d508_level0_col3\" class=\"col_heading level0 col3\" >support</th>\n",
       "    </tr>\n",
       "  </thead>\n",
       "  <tbody>\n",
       "    <tr>\n",
       "      <th id=\"T_5d508_level0_row0\" class=\"row_heading level0 row0\" >0</th>\n",
       "      <td id=\"T_5d508_row0_col0\" class=\"data row0 col0\" >0.885609</td>\n",
       "      <td id=\"T_5d508_row0_col1\" class=\"data row0 col1\" >0.878317</td>\n",
       "      <td id=\"T_5d508_row0_col2\" class=\"data row0 col2\" >0.881948</td>\n",
       "      <td id=\"T_5d508_row0_col3\" class=\"data row0 col3\" >1093.000000</td>\n",
       "    </tr>\n",
       "    <tr>\n",
       "      <th id=\"T_5d508_level0_row1\" class=\"row_heading level0 row1\" >1</th>\n",
       "      <td id=\"T_5d508_row1_col0\" class=\"data row1 col0\" >0.672414</td>\n",
       "      <td id=\"T_5d508_row1_col1\" class=\"data row1 col1\" >0.687657</td>\n",
       "      <td id=\"T_5d508_row1_col2\" class=\"data row1 col2\" >0.679950</td>\n",
       "      <td id=\"T_5d508_row1_col3\" class=\"data row1 col3\" >397.000000</td>\n",
       "    </tr>\n",
       "    <tr>\n",
       "      <th id=\"T_5d508_level0_row2\" class=\"row_heading level0 row2\" >accuracy</th>\n",
       "      <td id=\"T_5d508_row2_col0\" class=\"data row2 col0\" >0.827517</td>\n",
       "      <td id=\"T_5d508_row2_col1\" class=\"data row2 col1\" >0.827517</td>\n",
       "      <td id=\"T_5d508_row2_col2\" class=\"data row2 col2\" >0.827517</td>\n",
       "      <td id=\"T_5d508_row2_col3\" class=\"data row2 col3\" >0.827517</td>\n",
       "    </tr>\n",
       "    <tr>\n",
       "      <th id=\"T_5d508_level0_row3\" class=\"row_heading level0 row3\" >macro avg</th>\n",
       "      <td id=\"T_5d508_row3_col0\" class=\"data row3 col0\" >0.779011</td>\n",
       "      <td id=\"T_5d508_row3_col1\" class=\"data row3 col1\" >0.782987</td>\n",
       "      <td id=\"T_5d508_row3_col2\" class=\"data row3 col2\" >0.780949</td>\n",
       "      <td id=\"T_5d508_row3_col3\" class=\"data row3 col3\" >1490.000000</td>\n",
       "    </tr>\n",
       "    <tr>\n",
       "      <th id=\"T_5d508_level0_row4\" class=\"row_heading level0 row4\" >weighted avg</th>\n",
       "      <td id=\"T_5d508_row4_col0\" class=\"data row4 col0\" >0.828805</td>\n",
       "      <td id=\"T_5d508_row4_col1\" class=\"data row4 col1\" >0.827517</td>\n",
       "      <td id=\"T_5d508_row4_col2\" class=\"data row4 col2\" >0.828127</td>\n",
       "      <td id=\"T_5d508_row4_col3\" class=\"data row4 col3\" >1490.000000</td>\n",
       "    </tr>\n",
       "  </tbody>\n",
       "</table>\n"
      ]
     },
     "metadata": {},
     "output_type": "display_data"
    }
   ],
   "source": [
    "report('rdf', 'SMOTE')"
   ]
  },
  {
   "cell_type": "code",
   "execution_count": 15,
   "id": "2dc1dadb-ddfe-41cb-9fa5-3d3f8a9b42c4",
   "metadata": {
    "tags": []
   },
   "outputs": [
    {
     "data": {
      "text/html": [
       "Rapport pour rdf  avec SMOTE<style type=\"text/css\">\n",
       "</style>\n",
       "<table id=\"T_fdea7\" style='display:inline'>\n",
       "  <caption>Confusion Matrix</caption>\n",
       "  <thead>\n",
       "    <tr>\n",
       "      <th class=\"index_name level0\" >Classes prédites</th>\n",
       "      <th id=\"T_fdea7_level0_col0\" class=\"col_heading level0 col0\" >0</th>\n",
       "      <th id=\"T_fdea7_level0_col1\" class=\"col_heading level0 col1\" >1</th>\n",
       "    </tr>\n",
       "    <tr>\n",
       "      <th class=\"index_name level0\" >Classes réelles</th>\n",
       "      <th class=\"blank col0\" >&nbsp;</th>\n",
       "      <th class=\"blank col1\" >&nbsp;</th>\n",
       "    </tr>\n",
       "  </thead>\n",
       "  <tbody>\n",
       "    <tr>\n",
       "      <th id=\"T_fdea7_level0_row0\" class=\"row_heading level0 row0\" >0</th>\n",
       "      <td id=\"T_fdea7_row0_col0\" class=\"data row0 col0\" >3291</td>\n",
       "      <td id=\"T_fdea7_row0_col1\" class=\"data row0 col1\" >0</td>\n",
       "    </tr>\n",
       "    <tr>\n",
       "      <th id=\"T_fdea7_level0_row1\" class=\"row_heading level0 row1\" >1</th>\n",
       "      <td id=\"T_fdea7_row1_col0\" class=\"data row1 col0\" >0</td>\n",
       "      <td id=\"T_fdea7_row1_col1\" class=\"data row1 col1\" >3291</td>\n",
       "    </tr>\n",
       "  </tbody>\n",
       "</table>\n",
       "<style type=\"text/css\">\n",
       "</style>\n",
       "<table id=\"T_c27e4\" style='display:inline'>\n",
       "  <caption>Classification Report</caption>\n",
       "  <thead>\n",
       "    <tr>\n",
       "      <th class=\"blank level0\" >&nbsp;</th>\n",
       "      <th id=\"T_c27e4_level0_col0\" class=\"col_heading level0 col0\" >precision</th>\n",
       "      <th id=\"T_c27e4_level0_col1\" class=\"col_heading level0 col1\" >recall</th>\n",
       "      <th id=\"T_c27e4_level0_col2\" class=\"col_heading level0 col2\" >f1-score</th>\n",
       "      <th id=\"T_c27e4_level0_col3\" class=\"col_heading level0 col3\" >support</th>\n",
       "    </tr>\n",
       "  </thead>\n",
       "  <tbody>\n",
       "    <tr>\n",
       "      <th id=\"T_c27e4_level0_row0\" class=\"row_heading level0 row0\" >0</th>\n",
       "      <td id=\"T_c27e4_row0_col0\" class=\"data row0 col0\" >1.000000</td>\n",
       "      <td id=\"T_c27e4_row0_col1\" class=\"data row0 col1\" >1.000000</td>\n",
       "      <td id=\"T_c27e4_row0_col2\" class=\"data row0 col2\" >1.000000</td>\n",
       "      <td id=\"T_c27e4_row0_col3\" class=\"data row0 col3\" >3291.000000</td>\n",
       "    </tr>\n",
       "    <tr>\n",
       "      <th id=\"T_c27e4_level0_row1\" class=\"row_heading level0 row1\" >1</th>\n",
       "      <td id=\"T_c27e4_row1_col0\" class=\"data row1 col0\" >1.000000</td>\n",
       "      <td id=\"T_c27e4_row1_col1\" class=\"data row1 col1\" >1.000000</td>\n",
       "      <td id=\"T_c27e4_row1_col2\" class=\"data row1 col2\" >1.000000</td>\n",
       "      <td id=\"T_c27e4_row1_col3\" class=\"data row1 col3\" >3291.000000</td>\n",
       "    </tr>\n",
       "    <tr>\n",
       "      <th id=\"T_c27e4_level0_row2\" class=\"row_heading level0 row2\" >accuracy</th>\n",
       "      <td id=\"T_c27e4_row2_col0\" class=\"data row2 col0\" >1.000000</td>\n",
       "      <td id=\"T_c27e4_row2_col1\" class=\"data row2 col1\" >1.000000</td>\n",
       "      <td id=\"T_c27e4_row2_col2\" class=\"data row2 col2\" >1.000000</td>\n",
       "      <td id=\"T_c27e4_row2_col3\" class=\"data row2 col3\" >1.000000</td>\n",
       "    </tr>\n",
       "    <tr>\n",
       "      <th id=\"T_c27e4_level0_row3\" class=\"row_heading level0 row3\" >macro avg</th>\n",
       "      <td id=\"T_c27e4_row3_col0\" class=\"data row3 col0\" >1.000000</td>\n",
       "      <td id=\"T_c27e4_row3_col1\" class=\"data row3 col1\" >1.000000</td>\n",
       "      <td id=\"T_c27e4_row3_col2\" class=\"data row3 col2\" >1.000000</td>\n",
       "      <td id=\"T_c27e4_row3_col3\" class=\"data row3 col3\" >6582.000000</td>\n",
       "    </tr>\n",
       "    <tr>\n",
       "      <th id=\"T_c27e4_level0_row4\" class=\"row_heading level0 row4\" >weighted avg</th>\n",
       "      <td id=\"T_c27e4_row4_col0\" class=\"data row4 col0\" >1.000000</td>\n",
       "      <td id=\"T_c27e4_row4_col1\" class=\"data row4 col1\" >1.000000</td>\n",
       "      <td id=\"T_c27e4_row4_col2\" class=\"data row4 col2\" >1.000000</td>\n",
       "      <td id=\"T_c27e4_row4_col3\" class=\"data row4 col3\" >6582.000000</td>\n",
       "    </tr>\n",
       "  </tbody>\n",
       "</table>\n"
      ]
     },
     "metadata": {},
     "output_type": "display_data"
    }
   ],
   "source": [
    "report('rdf', 'SMOTE', eval_train = True)"
   ]
  },
  {
   "cell_type": "markdown",
   "id": "c52e4051-2bda-486f-80af-5534ec27b624",
   "metadata": {},
   "source": [
    "## 3. Essais à la main"
   ]
  },
  {
   "cell_type": "code",
   "execution_count": 35,
   "id": "07904cd5-956e-4c41-a206-c9f4c0c0e836",
   "metadata": {
    "tags": []
   },
   "outputs": [],
   "source": [
    "clf_lr = linear_model.LogisticRegression(max_iter = 1000)\n",
    "params_lr = {'solver': ['liblinear', 'lbfgs'], 'C': [10**(i) for i in range(-1, 1)]}\n",
    "\n",
    "gridcv = GridSearchCV(estimator = clf_lr, param_grid = params_lr, scoring='f1_weighted', cv=3)"
   ]
  },
  {
   "cell_type": "code",
   "execution_count": 36,
   "id": "954639bc-d8b5-4bb5-9aa8-a85aab8c7d87",
   "metadata": {
    "tags": []
   },
   "outputs": [
    {
     "data": {
      "text/html": [
       "<style>#sk-container-id-4 {color: black;background-color: white;}#sk-container-id-4 pre{padding: 0;}#sk-container-id-4 div.sk-toggleable {background-color: white;}#sk-container-id-4 label.sk-toggleable__label {cursor: pointer;display: block;width: 100%;margin-bottom: 0;padding: 0.3em;box-sizing: border-box;text-align: center;}#sk-container-id-4 label.sk-toggleable__label-arrow:before {content: \"▸\";float: left;margin-right: 0.25em;color: #696969;}#sk-container-id-4 label.sk-toggleable__label-arrow:hover:before {color: black;}#sk-container-id-4 div.sk-estimator:hover label.sk-toggleable__label-arrow:before {color: black;}#sk-container-id-4 div.sk-toggleable__content {max-height: 0;max-width: 0;overflow: hidden;text-align: left;background-color: #f0f8ff;}#sk-container-id-4 div.sk-toggleable__content pre {margin: 0.2em;color: black;border-radius: 0.25em;background-color: #f0f8ff;}#sk-container-id-4 input.sk-toggleable__control:checked~div.sk-toggleable__content {max-height: 200px;max-width: 100%;overflow: auto;}#sk-container-id-4 input.sk-toggleable__control:checked~label.sk-toggleable__label-arrow:before {content: \"▾\";}#sk-container-id-4 div.sk-estimator input.sk-toggleable__control:checked~label.sk-toggleable__label {background-color: #d4ebff;}#sk-container-id-4 div.sk-label input.sk-toggleable__control:checked~label.sk-toggleable__label {background-color: #d4ebff;}#sk-container-id-4 input.sk-hidden--visually {border: 0;clip: rect(1px 1px 1px 1px);clip: rect(1px, 1px, 1px, 1px);height: 1px;margin: -1px;overflow: hidden;padding: 0;position: absolute;width: 1px;}#sk-container-id-4 div.sk-estimator {font-family: monospace;background-color: #f0f8ff;border: 1px dotted black;border-radius: 0.25em;box-sizing: border-box;margin-bottom: 0.5em;}#sk-container-id-4 div.sk-estimator:hover {background-color: #d4ebff;}#sk-container-id-4 div.sk-parallel-item::after {content: \"\";width: 100%;border-bottom: 1px solid gray;flex-grow: 1;}#sk-container-id-4 div.sk-label:hover label.sk-toggleable__label {background-color: #d4ebff;}#sk-container-id-4 div.sk-serial::before {content: \"\";position: absolute;border-left: 1px solid gray;box-sizing: border-box;top: 0;bottom: 0;left: 50%;z-index: 0;}#sk-container-id-4 div.sk-serial {display: flex;flex-direction: column;align-items: center;background-color: white;padding-right: 0.2em;padding-left: 0.2em;position: relative;}#sk-container-id-4 div.sk-item {position: relative;z-index: 1;}#sk-container-id-4 div.sk-parallel {display: flex;align-items: stretch;justify-content: center;background-color: white;position: relative;}#sk-container-id-4 div.sk-item::before, #sk-container-id-4 div.sk-parallel-item::before {content: \"\";position: absolute;border-left: 1px solid gray;box-sizing: border-box;top: 0;bottom: 0;left: 50%;z-index: -1;}#sk-container-id-4 div.sk-parallel-item {display: flex;flex-direction: column;z-index: 1;position: relative;background-color: white;}#sk-container-id-4 div.sk-parallel-item:first-child::after {align-self: flex-end;width: 50%;}#sk-container-id-4 div.sk-parallel-item:last-child::after {align-self: flex-start;width: 50%;}#sk-container-id-4 div.sk-parallel-item:only-child::after {width: 0;}#sk-container-id-4 div.sk-dashed-wrapped {border: 1px dashed gray;margin: 0 0.4em 0.5em 0.4em;box-sizing: border-box;padding-bottom: 0.4em;background-color: white;}#sk-container-id-4 div.sk-label label {font-family: monospace;font-weight: bold;display: inline-block;line-height: 1.2em;}#sk-container-id-4 div.sk-label-container {text-align: center;}#sk-container-id-4 div.sk-container {/* jupyter's `normalize.less` sets `[hidden] { display: none; }` but bootstrap.min.css set `[hidden] { display: none !important; }` so we also need the `!important` here to be able to override the default hidden behavior on the sphinx rendered scikit-learn.org. See: https://github.com/scikit-learn/scikit-learn/issues/21755 */display: inline-block !important;position: relative;}#sk-container-id-4 div.sk-text-repr-fallback {display: none;}</style><div id=\"sk-container-id-4\" class=\"sk-top-container\"><div class=\"sk-text-repr-fallback\"><pre>GridSearchCV(cv=3, estimator=LogisticRegression(max_iter=1000),\n",
       "             param_grid={&#x27;C&#x27;: [0.1, 1], &#x27;solver&#x27;: [&#x27;liblinear&#x27;, &#x27;lbfgs&#x27;]},\n",
       "             scoring=&#x27;f1_weighted&#x27;)</pre><b>In a Jupyter environment, please rerun this cell to show the HTML representation or trust the notebook. <br />On GitHub, the HTML representation is unable to render, please try loading this page with nbviewer.org.</b></div><div class=\"sk-container\" hidden><div class=\"sk-item sk-dashed-wrapped\"><div class=\"sk-label-container\"><div class=\"sk-label sk-toggleable\"><input class=\"sk-toggleable__control sk-hidden--visually\" id=\"sk-estimator-id-10\" type=\"checkbox\" ><label for=\"sk-estimator-id-10\" class=\"sk-toggleable__label sk-toggleable__label-arrow\">GridSearchCV</label><div class=\"sk-toggleable__content\"><pre>GridSearchCV(cv=3, estimator=LogisticRegression(max_iter=1000),\n",
       "             param_grid={&#x27;C&#x27;: [0.1, 1], &#x27;solver&#x27;: [&#x27;liblinear&#x27;, &#x27;lbfgs&#x27;]},\n",
       "             scoring=&#x27;f1_weighted&#x27;)</pre></div></div></div><div class=\"sk-parallel\"><div class=\"sk-parallel-item\"><div class=\"sk-item\"><div class=\"sk-label-container\"><div class=\"sk-label sk-toggleable\"><input class=\"sk-toggleable__control sk-hidden--visually\" id=\"sk-estimator-id-11\" type=\"checkbox\" ><label for=\"sk-estimator-id-11\" class=\"sk-toggleable__label sk-toggleable__label-arrow\">estimator: LogisticRegression</label><div class=\"sk-toggleable__content\"><pre>LogisticRegression(max_iter=1000)</pre></div></div></div><div class=\"sk-serial\"><div class=\"sk-item\"><div class=\"sk-estimator sk-toggleable\"><input class=\"sk-toggleable__control sk-hidden--visually\" id=\"sk-estimator-id-12\" type=\"checkbox\" ><label for=\"sk-estimator-id-12\" class=\"sk-toggleable__label sk-toggleable__label-arrow\">LogisticRegression</label><div class=\"sk-toggleable__content\"><pre>LogisticRegression(max_iter=1000)</pre></div></div></div></div></div></div></div></div></div></div>"
      ],
      "text/plain": [
       "GridSearchCV(cv=3, estimator=LogisticRegression(max_iter=1000),\n",
       "             param_grid={'C': [0.1, 1], 'solver': ['liblinear', 'lbfgs']},\n",
       "             scoring='f1_weighted')"
      ]
     },
     "execution_count": 36,
     "metadata": {},
     "output_type": "execute_result"
    }
   ],
   "source": [
    "gridcv.fit(X_train, y_train)"
   ]
  },
  {
   "cell_type": "code",
   "execution_count": 37,
   "id": "1b635150-d163-4cce-a438-fc7822c92074",
   "metadata": {
    "tags": []
   },
   "outputs": [
    {
     "data": {
      "text/plain": [
       "{'C': 0.1, 'solver': 'liblinear'}"
      ]
     },
     "execution_count": 37,
     "metadata": {},
     "output_type": "execute_result"
    }
   ],
   "source": [
    "gridcv.best_params_"
   ]
  },
  {
   "cell_type": "code",
   "execution_count": 38,
   "id": "e9eec9f2-3fd8-43d9-bf57-5effa92ab62a",
   "metadata": {
    "tags": []
   },
   "outputs": [
    {
     "data": {
      "text/html": [
       "<div>\n",
       "<style scoped>\n",
       "    .dataframe tbody tr th:only-of-type {\n",
       "        vertical-align: middle;\n",
       "    }\n",
       "\n",
       "    .dataframe tbody tr th {\n",
       "        vertical-align: top;\n",
       "    }\n",
       "\n",
       "    .dataframe thead th {\n",
       "        text-align: right;\n",
       "    }\n",
       "</style>\n",
       "<table border=\"1\" class=\"dataframe\">\n",
       "  <thead>\n",
       "    <tr style=\"text-align: right;\">\n",
       "      <th></th>\n",
       "      <th>params</th>\n",
       "      <th>mean_test_score</th>\n",
       "      <th>std_test_score</th>\n",
       "    </tr>\n",
       "  </thead>\n",
       "  <tbody>\n",
       "    <tr>\n",
       "      <th>0</th>\n",
       "      <td>{'C': 0.1, 'solver': 'liblinear'}</td>\n",
       "      <td>0.855450</td>\n",
       "      <td>0.005583</td>\n",
       "    </tr>\n",
       "    <tr>\n",
       "      <th>1</th>\n",
       "      <td>{'C': 0.1, 'solver': 'lbfgs'}</td>\n",
       "      <td>0.854406</td>\n",
       "      <td>0.004543</td>\n",
       "    </tr>\n",
       "    <tr>\n",
       "      <th>2</th>\n",
       "      <td>{'C': 1, 'solver': 'liblinear'}</td>\n",
       "      <td>0.853739</td>\n",
       "      <td>0.005737</td>\n",
       "    </tr>\n",
       "    <tr>\n",
       "      <th>3</th>\n",
       "      <td>{'C': 1, 'solver': 'lbfgs'}</td>\n",
       "      <td>0.853739</td>\n",
       "      <td>0.005737</td>\n",
       "    </tr>\n",
       "  </tbody>\n",
       "</table>\n",
       "</div>"
      ],
      "text/plain": [
       "                              params  mean_test_score  std_test_score\n",
       "0  {'C': 0.1, 'solver': 'liblinear'}         0.855450        0.005583\n",
       "1      {'C': 0.1, 'solver': 'lbfgs'}         0.854406        0.004543\n",
       "2    {'C': 1, 'solver': 'liblinear'}         0.853739        0.005737\n",
       "3        {'C': 1, 'solver': 'lbfgs'}         0.853739        0.005737"
      ]
     },
     "execution_count": 38,
     "metadata": {},
     "output_type": "execute_result"
    }
   ],
   "source": [
    "pd.DataFrame(gridcv.cv_results_)[['params', 'mean_test_score', 'std_test_score']]"
   ]
  },
  {
   "cell_type": "code",
   "execution_count": null,
   "id": "55ef096e-ce47-4a57-ad63-e0837c03b1d1",
   "metadata": {},
   "outputs": [],
   "source": []
  },
  {
   "cell_type": "code",
   "execution_count": null,
   "id": "4ed423f0-7d17-4a32-a615-bcc0a5ebce8e",
   "metadata": {},
   "outputs": [],
   "source": []
  },
  {
   "cell_type": "code",
   "execution_count": null,
   "id": "3604dc78-6b67-4836-b09e-06c8c8cb512a",
   "metadata": {},
   "outputs": [],
   "source": []
  }
 ],
 "metadata": {
  "kernelspec": {
   "display_name": "Python 3 (ipykernel)",
   "language": "python",
   "name": "python3"
  },
  "language_info": {
   "codemirror_mode": {
    "name": "ipython",
    "version": 3
   },
   "file_extension": ".py",
   "mimetype": "text/x-python",
   "name": "python",
   "nbconvert_exporter": "python",
   "pygments_lexer": "ipython3",
   "version": "3.11.5"
  }
 },
 "nbformat": 4,
 "nbformat_minor": 5
}
