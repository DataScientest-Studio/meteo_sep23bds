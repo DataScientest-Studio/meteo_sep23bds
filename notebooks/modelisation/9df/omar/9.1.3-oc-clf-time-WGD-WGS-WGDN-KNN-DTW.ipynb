{
 "cells": [
  {
   "cell_type": "markdown",
   "metadata": {},
   "source": [
    "# **Classification** des **séries temporelles** avec `sktime`"
   ]
  },
  {
   "cell_type": "markdown",
   "metadata": {},
   "source": [
    "## Métadonnées"
   ]
  },
  {
   "cell_type": "markdown",
   "metadata": {},
   "source": [
    "- **Expérience nº :** 9.1.3\n",
    "- **Date :** 16/11/2023\n",
    "- **Heure :** 15:59\n",
    "- **Données :** `ready_WindGustDir_WindGustSpeed_WindGustDirNum.csv`\n",
    "- **Tri :** index chronologique\n",
    "- **Découpage :** `TimeSeriesSplit`\n",
    "- **Mise à l'échelle :** `StandardScaler`\n",
    "- **Rééquilibrage :** non\n",
    "- **Conversion :** `numpyfy`\n",
    "- **Algorithme :** KNN + DTW"
   ]
  },
  {
   "cell_type": "markdown",
   "metadata": {},
   "source": [
    "## Sommaire"
   ]
  },
  {
   "cell_type": "markdown",
   "metadata": {},
   "source": [
    "1. Initialisation\n",
    "2. Découpage\n",
    "3. Mise à l'échelle\n",
    "4. Conversion\n",
    "5. Modélisation\n",
    "6. Évaluation"
   ]
  },
  {
   "cell_type": "markdown",
   "metadata": {},
   "source": [
    "## 1. Initialisation"
   ]
  },
  {
   "cell_type": "code",
   "execution_count": 1,
   "metadata": {},
   "outputs": [],
   "source": [
    "# Importation des bibliothèques et modules nécessaires au fonctionnement de ce notebook\n",
    "\n",
    "import pandas as pd\n",
    "import numpy as np\n",
    "\n",
    "from sklearn.metrics import classification_report"
   ]
  },
  {
   "cell_type": "code",
   "execution_count": 2,
   "metadata": {},
   "outputs": [],
   "source": [
    "# Importation du jeu de données et enregistrement dans le DataFrame `df`\n",
    "\n",
    "df = pd.read_csv(\"../../../../data/processed/omar/ready_WindGustDir_WindGustSpeed_WindGustDirNum.csv\", index_col = 1).sort_index()\n",
    "df = df.drop(columns = \"Unnamed: 0\")"
   ]
  },
  {
   "cell_type": "code",
   "execution_count": 3,
   "metadata": {},
   "outputs": [
    {
     "data": {
      "text/html": [
       "<div>\n",
       "<style scoped>\n",
       "    .dataframe tbody tr th:only-of-type {\n",
       "        vertical-align: middle;\n",
       "    }\n",
       "\n",
       "    .dataframe tbody tr th {\n",
       "        vertical-align: top;\n",
       "    }\n",
       "\n",
       "    .dataframe thead th {\n",
       "        text-align: right;\n",
       "    }\n",
       "</style>\n",
       "<table border=\"1\" class=\"dataframe\">\n",
       "  <thead>\n",
       "    <tr style=\"text-align: right;\">\n",
       "      <th></th>\n",
       "      <th>MinTemp</th>\n",
       "      <th>MaxTemp</th>\n",
       "      <th>Rainfall</th>\n",
       "      <th>Evaporation</th>\n",
       "      <th>Sunshine</th>\n",
       "      <th>WindSpeed9am</th>\n",
       "      <th>WindSpeed3pm</th>\n",
       "      <th>Humidity9am</th>\n",
       "      <th>Humidity3pm</th>\n",
       "      <th>Pressure9am</th>\n",
       "      <th>...</th>\n",
       "      <th>RainTomorrow</th>\n",
       "      <th>year</th>\n",
       "      <th>month</th>\n",
       "      <th>day</th>\n",
       "      <th>LocationNum</th>\n",
       "      <th>WindDir9amNum</th>\n",
       "      <th>WindDir3pmNum</th>\n",
       "      <th>Latitude</th>\n",
       "      <th>Longitude</th>\n",
       "      <th>CodeRegionNum</th>\n",
       "    </tr>\n",
       "    <tr>\n",
       "      <th>Date</th>\n",
       "      <th></th>\n",
       "      <th></th>\n",
       "      <th></th>\n",
       "      <th></th>\n",
       "      <th></th>\n",
       "      <th></th>\n",
       "      <th></th>\n",
       "      <th></th>\n",
       "      <th></th>\n",
       "      <th></th>\n",
       "      <th></th>\n",
       "      <th></th>\n",
       "      <th></th>\n",
       "      <th></th>\n",
       "      <th></th>\n",
       "      <th></th>\n",
       "      <th></th>\n",
       "      <th></th>\n",
       "      <th></th>\n",
       "      <th></th>\n",
       "      <th></th>\n",
       "    </tr>\n",
       "  </thead>\n",
       "  <tbody>\n",
       "    <tr>\n",
       "      <th>2008-12-01</th>\n",
       "      <td>13.3</td>\n",
       "      <td>18.5</td>\n",
       "      <td>0.0</td>\n",
       "      <td>3.8</td>\n",
       "      <td>8.9</td>\n",
       "      <td>4.0</td>\n",
       "      <td>17.0</td>\n",
       "      <td>82.0</td>\n",
       "      <td>63.0</td>\n",
       "      <td>1017.9</td>\n",
       "      <td>...</td>\n",
       "      <td>0</td>\n",
       "      <td>2008</td>\n",
       "      <td>12</td>\n",
       "      <td>1</td>\n",
       "      <td>36</td>\n",
       "      <td>1.963495</td>\n",
       "      <td>3.926991</td>\n",
       "      <td>-35.024782</td>\n",
       "      <td>117.883608</td>\n",
       "      <td>5</td>\n",
       "    </tr>\n",
       "    <tr>\n",
       "      <th>2008-12-02</th>\n",
       "      <td>14.7</td>\n",
       "      <td>21.0</td>\n",
       "      <td>0.0</td>\n",
       "      <td>5.4</td>\n",
       "      <td>9.1</td>\n",
       "      <td>6.0</td>\n",
       "      <td>17.0</td>\n",
       "      <td>64.0</td>\n",
       "      <td>71.0</td>\n",
       "      <td>1012.8</td>\n",
       "      <td>...</td>\n",
       "      <td>0</td>\n",
       "      <td>2008</td>\n",
       "      <td>12</td>\n",
       "      <td>2</td>\n",
       "      <td>36</td>\n",
       "      <td>0.785398</td>\n",
       "      <td>5.890486</td>\n",
       "      <td>-35.024782</td>\n",
       "      <td>117.883608</td>\n",
       "      <td>5</td>\n",
       "    </tr>\n",
       "    <tr>\n",
       "      <th>2008-12-03</th>\n",
       "      <td>16.5</td>\n",
       "      <td>24.0</td>\n",
       "      <td>0.2</td>\n",
       "      <td>4.8</td>\n",
       "      <td>10.0</td>\n",
       "      <td>19.0</td>\n",
       "      <td>24.0</td>\n",
       "      <td>36.0</td>\n",
       "      <td>73.0</td>\n",
       "      <td>999.8</td>\n",
       "      <td>...</td>\n",
       "      <td>1</td>\n",
       "      <td>2008</td>\n",
       "      <td>12</td>\n",
       "      <td>3</td>\n",
       "      <td>36</td>\n",
       "      <td>0.392699</td>\n",
       "      <td>3.534292</td>\n",
       "      <td>-35.024782</td>\n",
       "      <td>117.883608</td>\n",
       "      <td>5</td>\n",
       "    </tr>\n",
       "    <tr>\n",
       "      <th>2008-12-04</th>\n",
       "      <td>14.1</td>\n",
       "      <td>20.6</td>\n",
       "      <td>7.8</td>\n",
       "      <td>7.0</td>\n",
       "      <td>7.2</td>\n",
       "      <td>13.0</td>\n",
       "      <td>41.0</td>\n",
       "      <td>69.0</td>\n",
       "      <td>81.0</td>\n",
       "      <td>1006.7</td>\n",
       "      <td>...</td>\n",
       "      <td>0</td>\n",
       "      <td>2008</td>\n",
       "      <td>12</td>\n",
       "      <td>4</td>\n",
       "      <td>36</td>\n",
       "      <td>1.570796</td>\n",
       "      <td>3.534292</td>\n",
       "      <td>-35.024782</td>\n",
       "      <td>117.883608</td>\n",
       "      <td>5</td>\n",
       "    </tr>\n",
       "    <tr>\n",
       "      <th>2008-12-05</th>\n",
       "      <td>13.0</td>\n",
       "      <td>17.8</td>\n",
       "      <td>0.0</td>\n",
       "      <td>3.6</td>\n",
       "      <td>4.9</td>\n",
       "      <td>13.0</td>\n",
       "      <td>19.0</td>\n",
       "      <td>73.0</td>\n",
       "      <td>63.0</td>\n",
       "      <td>1015.3</td>\n",
       "      <td>...</td>\n",
       "      <td>0</td>\n",
       "      <td>2008</td>\n",
       "      <td>12</td>\n",
       "      <td>5</td>\n",
       "      <td>36</td>\n",
       "      <td>3.926991</td>\n",
       "      <td>3.926991</td>\n",
       "      <td>-35.024782</td>\n",
       "      <td>117.883608</td>\n",
       "      <td>5</td>\n",
       "    </tr>\n",
       "  </tbody>\n",
       "</table>\n",
       "<p>5 rows × 26 columns</p>\n",
       "</div>"
      ],
      "text/plain": [
       "            MinTemp  MaxTemp  Rainfall  Evaporation  Sunshine  WindSpeed9am  \\\n",
       "Date                                                                          \n",
       "2008-12-01     13.3     18.5       0.0          3.8       8.9           4.0   \n",
       "2008-12-02     14.7     21.0       0.0          5.4       9.1           6.0   \n",
       "2008-12-03     16.5     24.0       0.2          4.8      10.0          19.0   \n",
       "2008-12-04     14.1     20.6       7.8          7.0       7.2          13.0   \n",
       "2008-12-05     13.0     17.8       0.0          3.6       4.9          13.0   \n",
       "\n",
       "            WindSpeed3pm  Humidity9am  Humidity3pm  Pressure9am  ...  \\\n",
       "Date                                                             ...   \n",
       "2008-12-01          17.0         82.0         63.0       1017.9  ...   \n",
       "2008-12-02          17.0         64.0         71.0       1012.8  ...   \n",
       "2008-12-03          24.0         36.0         73.0        999.8  ...   \n",
       "2008-12-04          41.0         69.0         81.0       1006.7  ...   \n",
       "2008-12-05          19.0         73.0         63.0       1015.3  ...   \n",
       "\n",
       "            RainTomorrow  year  month  day  LocationNum  WindDir9amNum  \\\n",
       "Date                                                                     \n",
       "2008-12-01             0  2008     12    1           36       1.963495   \n",
       "2008-12-02             0  2008     12    2           36       0.785398   \n",
       "2008-12-03             1  2008     12    3           36       0.392699   \n",
       "2008-12-04             0  2008     12    4           36       1.570796   \n",
       "2008-12-05             0  2008     12    5           36       3.926991   \n",
       "\n",
       "            WindDir3pmNum   Latitude   Longitude  CodeRegionNum  \n",
       "Date                                                             \n",
       "2008-12-01       3.926991 -35.024782  117.883608              5  \n",
       "2008-12-02       5.890486 -35.024782  117.883608              5  \n",
       "2008-12-03       3.534292 -35.024782  117.883608              5  \n",
       "2008-12-04       3.534292 -35.024782  117.883608              5  \n",
       "2008-12-05       3.926991 -35.024782  117.883608              5  \n",
       "\n",
       "[5 rows x 26 columns]"
      ]
     },
     "execution_count": 3,
     "metadata": {},
     "output_type": "execute_result"
    }
   ],
   "source": [
    "# Inspection de la structure de `df`\n",
    "\n",
    "df.head()"
   ]
  },
  {
   "cell_type": "code",
   "execution_count": 4,
   "metadata": {},
   "outputs": [
    {
     "name": "stdout",
     "output_type": "stream",
     "text": [
      "<class 'pandas.core.frame.DataFrame'>\n",
      "Index: 2996 entries, 2008-12-01 to 2017-06-25\n",
      "Data columns (total 26 columns):\n",
      " #   Column         Non-Null Count  Dtype  \n",
      "---  ------         --------------  -----  \n",
      " 0   MinTemp        2996 non-null   float64\n",
      " 1   MaxTemp        2996 non-null   float64\n",
      " 2   Rainfall       2996 non-null   float64\n",
      " 3   Evaporation    2996 non-null   float64\n",
      " 4   Sunshine       2996 non-null   float64\n",
      " 5   WindSpeed9am   2996 non-null   float64\n",
      " 6   WindSpeed3pm   2996 non-null   float64\n",
      " 7   Humidity9am    2996 non-null   float64\n",
      " 8   Humidity3pm    2996 non-null   float64\n",
      " 9   Pressure9am    2996 non-null   float64\n",
      " 10  Pressure3pm    2996 non-null   float64\n",
      " 11  Cloud9am       2996 non-null   float64\n",
      " 12  Cloud3pm       2996 non-null   float64\n",
      " 13  Temp9am        2996 non-null   float64\n",
      " 14  Temp3pm        2996 non-null   float64\n",
      " 15  RainToday      2996 non-null   int64  \n",
      " 16  RainTomorrow   2996 non-null   int64  \n",
      " 17  year           2996 non-null   int64  \n",
      " 18  month          2996 non-null   int64  \n",
      " 19  day            2996 non-null   int64  \n",
      " 20  LocationNum    2996 non-null   int64  \n",
      " 21  WindDir9amNum  2996 non-null   float64\n",
      " 22  WindDir3pmNum  2996 non-null   float64\n",
      " 23  Latitude       2996 non-null   float64\n",
      " 24  Longitude      2996 non-null   float64\n",
      " 25  CodeRegionNum  2996 non-null   int64  \n",
      "dtypes: float64(19), int64(7)\n",
      "memory usage: 632.0+ KB\n"
     ]
    }
   ],
   "source": [
    "# Inspection de la structure de `df`\n",
    "\n",
    "df.info()"
   ]
  },
  {
   "cell_type": "markdown",
   "metadata": {},
   "source": [
    "## 2. Découpage"
   ]
  },
  {
   "cell_type": "code",
   "execution_count": 5,
   "metadata": {},
   "outputs": [],
   "source": [
    "# Découpage de `df` sur l'axe des colonnes : séparation des variables explicatives (`data`) et cible (`target`)\n",
    "\n",
    "data = df.drop(columns = \"RainTomorrow\")\n",
    "target = df[\"RainTomorrow\"]"
   ]
  },
  {
   "cell_type": "code",
   "execution_count": 6,
   "metadata": {},
   "outputs": [],
   "source": [
    "# Découpage de `data` et de `target` sur l'axe des lignes : séparation des jeux d'entraînement (`*_train`) et de test (`*_test`) avec le splitter `TimeSeriesSplit`\n",
    "\n",
    "from sklearn.model_selection import TimeSeriesSplit\n",
    "\n",
    "tss = TimeSeriesSplit(n_splits = 5) ## Nous fixons le paramètre `n_splits` à 5 afin d'avoir une répartition de 80 / 20 entre les jeux d'entraînement et de test, respectivement.\n",
    "\n",
    "for train_index, test_index in tss.split(data):\n",
    "    X_train, X_test = data.iloc[train_index, :], data.iloc[test_index,:]\n",
    "    y_train, y_test = target.iloc[train_index], target.iloc[test_index]"
   ]
  },
  {
   "cell_type": "markdown",
   "metadata": {},
   "source": [
    "## 3. Mise à l'échelle"
   ]
  },
  {
   "cell_type": "code",
   "execution_count": 7,
   "metadata": {},
   "outputs": [],
   "source": [
    "# Mise à l'échelle obligatoire de `X_train` et de `X_test` pour assurer que le classificateur KNN fonctionne correctement\n",
    "\n",
    "# Effectuée après la séparation des jeux d'entraînement et de test pour éviter que des informations concernant le second fuitent vers le premier\n",
    "\n",
    "from sklearn.preprocessing import StandardScaler\n",
    "\n",
    "scaler = StandardScaler()\n",
    "X_train = scaler.fit_transform(X_train)\n",
    "X_test = scaler.transform(X_test)"
   ]
  },
  {
   "cell_type": "markdown",
   "metadata": {},
   "source": [
    "## 4. Conversion"
   ]
  },
  {
   "cell_type": "code",
   "execution_count": 8,
   "metadata": {},
   "outputs": [],
   "source": [
    "# Importation de la fonction artisanale `numpyfy`\n",
    "\n",
    "from numpyfy import numpyfy"
   ]
  },
  {
   "cell_type": "code",
   "execution_count": 9,
   "metadata": {},
   "outputs": [],
   "source": [
    "# Application de la fonction `numpyfy` aux 4 jeux de données issus du découpage effectué par le splitter `TimeSeriesSplit` afin de les convertir en arrays et ainsi les rendre compatibles avec `sktime`\n",
    "\n",
    "X_train, X_test, y_train, y_test = numpyfy(X_train, X_test, y_train, y_test,\n",
    "                                           X_to_numpy = False)"
   ]
  },
  {
   "cell_type": "markdown",
   "metadata": {},
   "source": [
    "## 5. Modélisation"
   ]
  },
  {
   "cell_type": "code",
   "execution_count": 10,
   "metadata": {},
   "outputs": [],
   "source": [
    "# Importation de la classe `KNeighborsTimeSeriesClassifier`\n",
    "\n",
    "from sktime.classification.distance_based import KNeighborsTimeSeriesClassifier"
   ]
  },
  {
   "cell_type": "code",
   "execution_count": 11,
   "metadata": {},
   "outputs": [],
   "source": [
    "# Instanciation d'un modèle classificateur avec `n_neighbors = 1` et `distance = \"dtw\"`\n",
    "\n",
    "clf_knn_ts = KNeighborsTimeSeriesClassifier(n_neighbors = 1, distance = \"dtw\")"
   ]
  },
  {
   "cell_type": "code",
   "execution_count": 12,
   "metadata": {},
   "outputs": [
    {
     "data": {
      "text/plain": [
       "{'algorithm': 'brute',\n",
       " 'distance': 'dtw',\n",
       " 'distance_mtype': None,\n",
       " 'distance_params': None,\n",
       " 'leaf_size': 30,\n",
       " 'n_jobs': None,\n",
       " 'n_neighbors': 1,\n",
       " 'pass_train_distances': False,\n",
       " 'weights': 'uniform'}"
      ]
     },
     "execution_count": 12,
     "metadata": {},
     "output_type": "execute_result"
    }
   ],
   "source": [
    "# Récupération des paramètres initiaux\n",
    "\n",
    "clf_knn_ts.get_params()"
   ]
  },
  {
   "cell_type": "code",
   "execution_count": 13,
   "metadata": {},
   "outputs": [
    {
     "data": {
      "text/html": [
       "<style>#sk-81c6a985-fb3c-443d-8405-30394ab0c0a4 {color: black;background-color: white;}#sk-81c6a985-fb3c-443d-8405-30394ab0c0a4 pre{padding: 0;}#sk-81c6a985-fb3c-443d-8405-30394ab0c0a4 div.sk-toggleable {background-color: white;}#sk-81c6a985-fb3c-443d-8405-30394ab0c0a4 label.sk-toggleable__label {cursor: pointer;display: block;width: 100%;margin-bottom: 0;padding: 0.3em;box-sizing: border-box;text-align: center;}#sk-81c6a985-fb3c-443d-8405-30394ab0c0a4 label.sk-toggleable__label-arrow:before {content: \"▸\";float: left;margin-right: 0.25em;color: #696969;}#sk-81c6a985-fb3c-443d-8405-30394ab0c0a4 label.sk-toggleable__label-arrow:hover:before {color: black;}#sk-81c6a985-fb3c-443d-8405-30394ab0c0a4 div.sk-estimator:hover label.sk-toggleable__label-arrow:before {color: black;}#sk-81c6a985-fb3c-443d-8405-30394ab0c0a4 div.sk-toggleable__content {max-height: 0;max-width: 0;overflow: hidden;text-align: left;background-color: #f0f8ff;}#sk-81c6a985-fb3c-443d-8405-30394ab0c0a4 div.sk-toggleable__content pre {margin: 0.2em;color: black;border-radius: 0.25em;background-color: #f0f8ff;}#sk-81c6a985-fb3c-443d-8405-30394ab0c0a4 input.sk-toggleable__control:checked~div.sk-toggleable__content {max-height: 200px;max-width: 100%;overflow: auto;}#sk-81c6a985-fb3c-443d-8405-30394ab0c0a4 input.sk-toggleable__control:checked~label.sk-toggleable__label-arrow:before {content: \"▾\";}#sk-81c6a985-fb3c-443d-8405-30394ab0c0a4 div.sk-estimator input.sk-toggleable__control:checked~label.sk-toggleable__label {background-color: #d4ebff;}#sk-81c6a985-fb3c-443d-8405-30394ab0c0a4 div.sk-label input.sk-toggleable__control:checked~label.sk-toggleable__label {background-color: #d4ebff;}#sk-81c6a985-fb3c-443d-8405-30394ab0c0a4 input.sk-hidden--visually {border: 0;clip: rect(1px 1px 1px 1px);clip: rect(1px, 1px, 1px, 1px);height: 1px;margin: -1px;overflow: hidden;padding: 0;position: absolute;width: 1px;}#sk-81c6a985-fb3c-443d-8405-30394ab0c0a4 div.sk-estimator {font-family: monospace;background-color: #f0f8ff;border: 1px dotted black;border-radius: 0.25em;box-sizing: border-box;margin-bottom: 0.5em;}#sk-81c6a985-fb3c-443d-8405-30394ab0c0a4 div.sk-estimator:hover {background-color: #d4ebff;}#sk-81c6a985-fb3c-443d-8405-30394ab0c0a4 div.sk-parallel-item::after {content: \"\";width: 100%;border-bottom: 1px solid gray;flex-grow: 1;}#sk-81c6a985-fb3c-443d-8405-30394ab0c0a4 div.sk-label:hover label.sk-toggleable__label {background-color: #d4ebff;}#sk-81c6a985-fb3c-443d-8405-30394ab0c0a4 div.sk-serial::before {content: \"\";position: absolute;border-left: 1px solid gray;box-sizing: border-box;top: 2em;bottom: 0;left: 50%;}#sk-81c6a985-fb3c-443d-8405-30394ab0c0a4 div.sk-serial {display: flex;flex-direction: column;align-items: center;background-color: white;padding-right: 0.2em;padding-left: 0.2em;}#sk-81c6a985-fb3c-443d-8405-30394ab0c0a4 div.sk-item {z-index: 1;}#sk-81c6a985-fb3c-443d-8405-30394ab0c0a4 div.sk-parallel {display: flex;align-items: stretch;justify-content: center;background-color: white;}#sk-81c6a985-fb3c-443d-8405-30394ab0c0a4 div.sk-parallel::before {content: \"\";position: absolute;border-left: 1px solid gray;box-sizing: border-box;top: 2em;bottom: 0;left: 50%;}#sk-81c6a985-fb3c-443d-8405-30394ab0c0a4 div.sk-parallel-item {display: flex;flex-direction: column;position: relative;background-color: white;}#sk-81c6a985-fb3c-443d-8405-30394ab0c0a4 div.sk-parallel-item:first-child::after {align-self: flex-end;width: 50%;}#sk-81c6a985-fb3c-443d-8405-30394ab0c0a4 div.sk-parallel-item:last-child::after {align-self: flex-start;width: 50%;}#sk-81c6a985-fb3c-443d-8405-30394ab0c0a4 div.sk-parallel-item:only-child::after {width: 0;}#sk-81c6a985-fb3c-443d-8405-30394ab0c0a4 div.sk-dashed-wrapped {border: 1px dashed gray;margin: 0 0.4em 0.5em 0.4em;box-sizing: border-box;padding-bottom: 0.4em;background-color: white;position: relative;}#sk-81c6a985-fb3c-443d-8405-30394ab0c0a4 div.sk-label label {font-family: monospace;font-weight: bold;background-color: white;display: inline-block;line-height: 1.2em;}#sk-81c6a985-fb3c-443d-8405-30394ab0c0a4 div.sk-label-container {position: relative;z-index: 2;text-align: center;}#sk-81c6a985-fb3c-443d-8405-30394ab0c0a4 div.sk-container {/* jupyter's `normalize.less` sets `[hidden] { display: none; }` but bootstrap.min.css set `[hidden] { display: none !important; }` so we also need the `!important` here to be able to override the default hidden behavior on the sphinx rendered scikit-learn.org. See: https://github.com/scikit-learn/scikit-learn/issues/21755 */display: inline-block !important;position: relative;}#sk-81c6a985-fb3c-443d-8405-30394ab0c0a4 div.sk-text-repr-fallback {display: none;}</style><div id='sk-81c6a985-fb3c-443d-8405-30394ab0c0a4' class=\"sk-top-container\"><div class=\"sk-text-repr-fallback\"><pre>KNeighborsTimeSeriesClassifier()</pre><b>Please rerun this cell to show the HTML repr or trust the notebook.</b></div><div class=\"sk-container\" hidden><div class='sk-item'><div class=\"sk-estimator sk-toggleable\"><input class=\"sk-toggleable__control sk-hidden--visually\" id=UUID('484c83c0-1afd-4606-aed5-46101e8e73c6') type=\"checkbox\" checked><label for=UUID('484c83c0-1afd-4606-aed5-46101e8e73c6') class='sk-toggleable__label sk-toggleable__label-arrow'>KNeighborsTimeSeriesClassifier</label><div class=\"sk-toggleable__content\"><pre>KNeighborsTimeSeriesClassifier()</pre></div></div></div></div></div>"
      ],
      "text/plain": [
       "KNeighborsTimeSeriesClassifier()"
      ]
     },
     "execution_count": 13,
     "metadata": {},
     "output_type": "execute_result"
    }
   ],
   "source": [
    "# Entraînement du modèle\n",
    "\n",
    "clf_knn_ts.fit(X_train, y_train)"
   ]
  },
  {
   "cell_type": "code",
   "execution_count": 14,
   "metadata": {},
   "outputs": [
    {
     "data": {
      "text/plain": [
       "{'classes': array([0, 1]),\n",
       " 'fit_time': 14,\n",
       " 'knn_estimator': KNeighborsClassifier(algorithm='brute', metric='precomputed', n_neighbors=1),\n",
       " 'n_classes': 2,\n",
       " 'knn_estimator__classes': array([0, 1]),\n",
       " 'knn_estimator__effective_metric': 'precomputed',\n",
       " 'knn_estimator__effective_metric_params': {},\n",
       " 'knn_estimator__n_features_in': 2497,\n",
       " 'knn_estimator__n_samples_fit': 2497,\n",
       " 'knn_estimator__outputs_2d': False}"
      ]
     },
     "execution_count": 14,
     "metadata": {},
     "output_type": "execute_result"
    }
   ],
   "source": [
    "# Récupération des paramètres ajustés\n",
    "\n",
    "clf_knn_ts.get_fitted_params()"
   ]
  },
  {
   "cell_type": "code",
   "execution_count": 15,
   "metadata": {},
   "outputs": [],
   "source": [
    "# Réalisation des prédictions\n",
    "\n",
    "y_pred = clf_knn_ts.predict(X_test)"
   ]
  },
  {
   "cell_type": "markdown",
   "metadata": {},
   "source": [
    "## 6. Évaluation"
   ]
  },
  {
   "cell_type": "code",
   "execution_count": 16,
   "metadata": {},
   "outputs": [
    {
     "data": {
      "text/html": [
       "<div>\n",
       "<style scoped>\n",
       "    .dataframe tbody tr th:only-of-type {\n",
       "        vertical-align: middle;\n",
       "    }\n",
       "\n",
       "    .dataframe tbody tr th {\n",
       "        vertical-align: top;\n",
       "    }\n",
       "\n",
       "    .dataframe thead th {\n",
       "        text-align: right;\n",
       "    }\n",
       "</style>\n",
       "<table border=\"1\" class=\"dataframe\">\n",
       "  <thead>\n",
       "    <tr style=\"text-align: right;\">\n",
       "      <th>Classe prédite</th>\n",
       "      <th>0</th>\n",
       "      <th>1</th>\n",
       "    </tr>\n",
       "    <tr>\n",
       "      <th>Classe réelle</th>\n",
       "      <th></th>\n",
       "      <th></th>\n",
       "    </tr>\n",
       "  </thead>\n",
       "  <tbody>\n",
       "    <tr>\n",
       "      <th>0</th>\n",
       "      <td>272</td>\n",
       "      <td>72</td>\n",
       "    </tr>\n",
       "    <tr>\n",
       "      <th>1</th>\n",
       "      <td>74</td>\n",
       "      <td>81</td>\n",
       "    </tr>\n",
       "  </tbody>\n",
       "</table>\n",
       "</div>"
      ],
      "text/plain": [
       "Classe prédite    0   1\n",
       "Classe réelle          \n",
       "0               272  72\n",
       "1                74  81"
      ]
     },
     "execution_count": 16,
     "metadata": {},
     "output_type": "execute_result"
    }
   ],
   "source": [
    "# Élaboration de la matrice de confusion\n",
    "\n",
    "pd.crosstab(y_test, y_pred, rownames = [\"Classe réelle\"], colnames = [\"Classe prédite\"])"
   ]
  },
  {
   "cell_type": "code",
   "execution_count": 17,
   "metadata": {},
   "outputs": [
    {
     "name": "stdout",
     "output_type": "stream",
     "text": [
      "              precision    recall  f1-score   support\n",
      "\n",
      "           0       0.79      0.79      0.79       344\n",
      "           1       0.53      0.52      0.53       155\n",
      "\n",
      "    accuracy                           0.71       499\n",
      "   macro avg       0.66      0.66      0.66       499\n",
      "weighted avg       0.71      0.71      0.71       499\n",
      "\n"
     ]
    }
   ],
   "source": [
    "# Élaboration du rapport de classification\n",
    "\n",
    "print(classification_report(y_test, y_pred))"
   ]
  }
 ],
 "metadata": {
  "kernelspec": {
   "display_name": "datascientest_project",
   "language": "python",
   "name": "python3"
  },
  "language_info": {
   "codemirror_mode": {
    "name": "ipython",
    "version": 3
   },
   "file_extension": ".py",
   "mimetype": "text/x-python",
   "name": "python",
   "nbconvert_exporter": "python",
   "pygments_lexer": "ipython3",
   "version": "3.11.5"
  }
 },
 "nbformat": 4,
 "nbformat_minor": 2
}
