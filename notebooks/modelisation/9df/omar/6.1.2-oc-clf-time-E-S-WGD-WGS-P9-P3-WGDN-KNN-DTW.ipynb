{
 "cells": [
  {
   "cell_type": "markdown",
   "metadata": {},
   "source": [
    "# **Classification** des **séries temporelles** avec `sktime`"
   ]
  },
  {
   "cell_type": "markdown",
   "metadata": {},
   "source": [
    "## Métadonnées"
   ]
  },
  {
   "cell_type": "markdown",
   "metadata": {},
   "source": [
    "- **Expérience nº :** 6.1.2\n",
    "- **Date :** 11/11/2023\n",
    "- **Heure :** 12:22\n",
    "- **Données :** `ready_Evaporation_Sunshine_WindGustDir_WindGustSpeed_Pressure9am_Pressure3pm_WindGustDirNum.csv`\n",
    "- **Tri :** index chronologique\n",
    "- **Découpage :** `TimeSeriesSplit`\n",
    "- **Mise à l'échelle :** non\n",
    "- **Rééquilibrage :** non\n",
    "- **Conversion :** `numpyfy`\n",
    "- **Algorithme :** KNN + DTW"
   ]
  },
  {
   "cell_type": "markdown",
   "metadata": {},
   "source": [
    "## Sommaire"
   ]
  },
  {
   "cell_type": "markdown",
   "metadata": {},
   "source": [
    "1. Initialisation\n",
    "2. Découpage\n",
    "3. Conversion\n",
    "4. Modélisation\n",
    "5. Évaluation"
   ]
  },
  {
   "cell_type": "markdown",
   "metadata": {},
   "source": [
    "## 1. Initialisation"
   ]
  },
  {
   "cell_type": "code",
   "execution_count": 1,
   "metadata": {},
   "outputs": [],
   "source": [
    "# Importation des bibliothèques et modules nécessaires au fonctionnement de ce notebook\n",
    "\n",
    "import pandas as pd\n",
    "import numpy as np\n",
    "\n",
    "from sklearn.metrics import classification_report"
   ]
  },
  {
   "cell_type": "code",
   "execution_count": 2,
   "metadata": {},
   "outputs": [],
   "source": [
    "# Importation du jeu de données et enregistrement dans le DataFrame `df`\n",
    "\n",
    "df = pd.read_csv(\"../../../../data/processed/alex/ready_Evaporation_Sunshine_WindGustDir_WindGustSpeed_Pressure9am_Pressure3pm_WindGustDirNum.csv\", index_col = 1).sort_index()\n",
    "df = df.drop(columns = \"Unnamed: 0\")"
   ]
  },
  {
   "cell_type": "code",
   "execution_count": 3,
   "metadata": {},
   "outputs": [
    {
     "data": {
      "text/html": [
       "<div>\n",
       "<style scoped>\n",
       "    .dataframe tbody tr th:only-of-type {\n",
       "        vertical-align: middle;\n",
       "    }\n",
       "\n",
       "    .dataframe tbody tr th {\n",
       "        vertical-align: top;\n",
       "    }\n",
       "\n",
       "    .dataframe thead th {\n",
       "        text-align: right;\n",
       "    }\n",
       "</style>\n",
       "<table border=\"1\" class=\"dataframe\">\n",
       "  <thead>\n",
       "    <tr style=\"text-align: right;\">\n",
       "      <th></th>\n",
       "      <th>MinTemp</th>\n",
       "      <th>MaxTemp</th>\n",
       "      <th>Rainfall</th>\n",
       "      <th>WindSpeed9am</th>\n",
       "      <th>WindSpeed3pm</th>\n",
       "      <th>Humidity9am</th>\n",
       "      <th>Humidity3pm</th>\n",
       "      <th>Cloud9am</th>\n",
       "      <th>Cloud3pm</th>\n",
       "      <th>Temp9am</th>\n",
       "      <th>...</th>\n",
       "      <th>year</th>\n",
       "      <th>month</th>\n",
       "      <th>day</th>\n",
       "      <th>LocationNum</th>\n",
       "      <th>WindDir9amNum</th>\n",
       "      <th>WindDir3pmNum</th>\n",
       "      <th>Latitude</th>\n",
       "      <th>Longitude</th>\n",
       "      <th>CodeRegionNum</th>\n",
       "      <th>NonMesNum</th>\n",
       "    </tr>\n",
       "    <tr>\n",
       "      <th>Date</th>\n",
       "      <th></th>\n",
       "      <th></th>\n",
       "      <th></th>\n",
       "      <th></th>\n",
       "      <th></th>\n",
       "      <th></th>\n",
       "      <th></th>\n",
       "      <th></th>\n",
       "      <th></th>\n",
       "      <th></th>\n",
       "      <th></th>\n",
       "      <th></th>\n",
       "      <th></th>\n",
       "      <th></th>\n",
       "      <th></th>\n",
       "      <th></th>\n",
       "      <th></th>\n",
       "      <th></th>\n",
       "      <th></th>\n",
       "      <th></th>\n",
       "      <th></th>\n",
       "    </tr>\n",
       "  </thead>\n",
       "  <tbody>\n",
       "    <tr>\n",
       "      <th>2008-12-01</th>\n",
       "      <td>13.200000</td>\n",
       "      <td>24.083742</td>\n",
       "      <td>0.0</td>\n",
       "      <td>6.000000</td>\n",
       "      <td>19.000000</td>\n",
       "      <td>50.000000</td>\n",
       "      <td>24.000000</td>\n",
       "      <td>3.0</td>\n",
       "      <td>4.0</td>\n",
       "      <td>21.800000</td>\n",
       "      <td>...</td>\n",
       "      <td>2008</td>\n",
       "      <td>12</td>\n",
       "      <td>1</td>\n",
       "      <td>5</td>\n",
       "      <td>2.356194</td>\n",
       "      <td>2.356194</td>\n",
       "      <td>-32.919295</td>\n",
       "      <td>151.779535</td>\n",
       "      <td>0</td>\n",
       "      <td>3</td>\n",
       "    </tr>\n",
       "    <tr>\n",
       "      <th>2008-12-02</th>\n",
       "      <td>13.738447</td>\n",
       "      <td>32.200000</td>\n",
       "      <td>0.0</td>\n",
       "      <td>5.986227</td>\n",
       "      <td>19.000000</td>\n",
       "      <td>74.014791</td>\n",
       "      <td>59.000000</td>\n",
       "      <td>4.0</td>\n",
       "      <td>0.0</td>\n",
       "      <td>18.101224</td>\n",
       "      <td>...</td>\n",
       "      <td>2008</td>\n",
       "      <td>12</td>\n",
       "      <td>2</td>\n",
       "      <td>5</td>\n",
       "      <td>3.068698</td>\n",
       "      <td>0.785398</td>\n",
       "      <td>-32.919295</td>\n",
       "      <td>151.779535</td>\n",
       "      <td>0</td>\n",
       "      <td>3</td>\n",
       "    </tr>\n",
       "    <tr>\n",
       "      <th>2008-12-03</th>\n",
       "      <td>16.200000</td>\n",
       "      <td>32.200000</td>\n",
       "      <td>0.0</td>\n",
       "      <td>2.000000</td>\n",
       "      <td>2.000000</td>\n",
       "      <td>74.000000</td>\n",
       "      <td>26.000000</td>\n",
       "      <td>4.0</td>\n",
       "      <td>4.0</td>\n",
       "      <td>22.200000</td>\n",
       "      <td>...</td>\n",
       "      <td>2008</td>\n",
       "      <td>12</td>\n",
       "      <td>3</td>\n",
       "      <td>5</td>\n",
       "      <td>1.570796</td>\n",
       "      <td>5.497787</td>\n",
       "      <td>-32.919295</td>\n",
       "      <td>151.779535</td>\n",
       "      <td>0</td>\n",
       "      <td>3</td>\n",
       "    </tr>\n",
       "    <tr>\n",
       "      <th>2008-12-04</th>\n",
       "      <td>19.200000</td>\n",
       "      <td>24.000000</td>\n",
       "      <td>0.0</td>\n",
       "      <td>22.000000</td>\n",
       "      <td>22.000000</td>\n",
       "      <td>66.000000</td>\n",
       "      <td>61.000000</td>\n",
       "      <td>7.0</td>\n",
       "      <td>5.0</td>\n",
       "      <td>20.400000</td>\n",
       "      <td>...</td>\n",
       "      <td>2008</td>\n",
       "      <td>12</td>\n",
       "      <td>4</td>\n",
       "      <td>5</td>\n",
       "      <td>5.497787</td>\n",
       "      <td>5.497787</td>\n",
       "      <td>-32.919295</td>\n",
       "      <td>151.779535</td>\n",
       "      <td>0</td>\n",
       "      <td>3</td>\n",
       "    </tr>\n",
       "    <tr>\n",
       "      <th>2008-12-05</th>\n",
       "      <td>18.800000</td>\n",
       "      <td>30.200000</td>\n",
       "      <td>0.0</td>\n",
       "      <td>4.000000</td>\n",
       "      <td>10.614458</td>\n",
       "      <td>85.000000</td>\n",
       "      <td>57.328215</td>\n",
       "      <td>8.0</td>\n",
       "      <td>4.0</td>\n",
       "      <td>20.000000</td>\n",
       "      <td>...</td>\n",
       "      <td>2008</td>\n",
       "      <td>12</td>\n",
       "      <td>5</td>\n",
       "      <td>5</td>\n",
       "      <td>0.785398</td>\n",
       "      <td>4.021947</td>\n",
       "      <td>-32.919295</td>\n",
       "      <td>151.779535</td>\n",
       "      <td>0</td>\n",
       "      <td>3</td>\n",
       "    </tr>\n",
       "  </tbody>\n",
       "</table>\n",
       "<p>5 rows × 23 columns</p>\n",
       "</div>"
      ],
      "text/plain": [
       "              MinTemp    MaxTemp  Rainfall  WindSpeed9am  WindSpeed3pm  \\\n",
       "Date                                                                     \n",
       "2008-12-01  13.200000  24.083742       0.0      6.000000     19.000000   \n",
       "2008-12-02  13.738447  32.200000       0.0      5.986227     19.000000   \n",
       "2008-12-03  16.200000  32.200000       0.0      2.000000      2.000000   \n",
       "2008-12-04  19.200000  24.000000       0.0     22.000000     22.000000   \n",
       "2008-12-05  18.800000  30.200000       0.0      4.000000     10.614458   \n",
       "\n",
       "            Humidity9am  Humidity3pm  Cloud9am  Cloud3pm    Temp9am  ...  \\\n",
       "Date                                                                 ...   \n",
       "2008-12-01    50.000000    24.000000       3.0       4.0  21.800000  ...   \n",
       "2008-12-02    74.014791    59.000000       4.0       0.0  18.101224  ...   \n",
       "2008-12-03    74.000000    26.000000       4.0       4.0  22.200000  ...   \n",
       "2008-12-04    66.000000    61.000000       7.0       5.0  20.400000  ...   \n",
       "2008-12-05    85.000000    57.328215       8.0       4.0  20.000000  ...   \n",
       "\n",
       "            year  month  day  LocationNum  WindDir9amNum  WindDir3pmNum  \\\n",
       "Date                                                                      \n",
       "2008-12-01  2008     12    1            5       2.356194       2.356194   \n",
       "2008-12-02  2008     12    2            5       3.068698       0.785398   \n",
       "2008-12-03  2008     12    3            5       1.570796       5.497787   \n",
       "2008-12-04  2008     12    4            5       5.497787       5.497787   \n",
       "2008-12-05  2008     12    5            5       0.785398       4.021947   \n",
       "\n",
       "             Latitude   Longitude  CodeRegionNum  NonMesNum  \n",
       "Date                                                         \n",
       "2008-12-01 -32.919295  151.779535              0          3  \n",
       "2008-12-02 -32.919295  151.779535              0          3  \n",
       "2008-12-03 -32.919295  151.779535              0          3  \n",
       "2008-12-04 -32.919295  151.779535              0          3  \n",
       "2008-12-05 -32.919295  151.779535              0          3  \n",
       "\n",
       "[5 rows x 23 columns]"
      ]
     },
     "execution_count": 3,
     "metadata": {},
     "output_type": "execute_result"
    }
   ],
   "source": [
    "# Inspection de la structure de `df`\n",
    "\n",
    "df.head()"
   ]
  },
  {
   "cell_type": "code",
   "execution_count": 4,
   "metadata": {},
   "outputs": [
    {
     "name": "stdout",
     "output_type": "stream",
     "text": [
      "<class 'pandas.core.frame.DataFrame'>\n",
      "Index: 2929 entries, 2008-12-01 to 2017-06-24\n",
      "Data columns (total 23 columns):\n",
      " #   Column         Non-Null Count  Dtype  \n",
      "---  ------         --------------  -----  \n",
      " 0   MinTemp        2929 non-null   float64\n",
      " 1   MaxTemp        2929 non-null   float64\n",
      " 2   Rainfall       2929 non-null   float64\n",
      " 3   WindSpeed9am   2929 non-null   float64\n",
      " 4   WindSpeed3pm   2929 non-null   float64\n",
      " 5   Humidity9am    2929 non-null   float64\n",
      " 6   Humidity3pm    2929 non-null   float64\n",
      " 7   Cloud9am       2929 non-null   float64\n",
      " 8   Cloud3pm       2929 non-null   float64\n",
      " 9   Temp9am        2929 non-null   float64\n",
      " 10  Temp3pm        2929 non-null   float64\n",
      " 11  RainToday      2929 non-null   int64  \n",
      " 12  RainTomorrow   2929 non-null   int64  \n",
      " 13  year           2929 non-null   int64  \n",
      " 14  month          2929 non-null   int64  \n",
      " 15  day            2929 non-null   int64  \n",
      " 16  LocationNum    2929 non-null   int64  \n",
      " 17  WindDir9amNum  2929 non-null   float64\n",
      " 18  WindDir3pmNum  2929 non-null   float64\n",
      " 19  Latitude       2929 non-null   float64\n",
      " 20  Longitude      2929 non-null   float64\n",
      " 21  CodeRegionNum  2929 non-null   int64  \n",
      " 22  NonMesNum      2929 non-null   int64  \n",
      "dtypes: float64(15), int64(8)\n",
      "memory usage: 549.2+ KB\n"
     ]
    }
   ],
   "source": [
    "# Inspection de la structure de `df`\n",
    "\n",
    "df.info()"
   ]
  },
  {
   "cell_type": "markdown",
   "metadata": {},
   "source": [
    "## 2. Découpage"
   ]
  },
  {
   "cell_type": "code",
   "execution_count": 5,
   "metadata": {},
   "outputs": [],
   "source": [
    "# Découpage de `df` sur l'axe des colonnes : séparation des variables explicatives (`data`) et cible (`target`)\n",
    "\n",
    "data = df.drop(columns = \"RainTomorrow\")\n",
    "target = df[\"RainTomorrow\"]"
   ]
  },
  {
   "cell_type": "code",
   "execution_count": 6,
   "metadata": {},
   "outputs": [],
   "source": [
    "# Découpage de `data` et de `target` sur l'axe des lignes : séparation des jeux d'entraînement (`*_train`) et de test (`*_test`) avec le splitter `TimeSeriesSplit`\n",
    "\n",
    "from sklearn.model_selection import TimeSeriesSplit\n",
    "\n",
    "tss = TimeSeriesSplit(n_splits = 5) ## Nous fixons le paramètre `n_splits` à 5 afin d'avoir une répartition de 80 / 20 entre les jeux d'entraînement et de test, respectivement.\n",
    "\n",
    "for train_index, test_index in tss.split(data):\n",
    "    X_train, X_test = data.iloc[train_index, :], data.iloc[test_index,:]\n",
    "    y_train, y_test = target.iloc[train_index], target.iloc[test_index]"
   ]
  },
  {
   "cell_type": "markdown",
   "metadata": {},
   "source": [
    "## 3. Conversion"
   ]
  },
  {
   "cell_type": "code",
   "execution_count": 7,
   "metadata": {},
   "outputs": [],
   "source": [
    "# Importation de la fonction artisanale `numpyfy`\n",
    "\n",
    "from numpyfy import numpyfy"
   ]
  },
  {
   "cell_type": "code",
   "execution_count": 8,
   "metadata": {},
   "outputs": [],
   "source": [
    "# Application de la fonction `numpyfy` aux 4 jeux de données issus du découpage effectué par le splitter `TimeSeriesSplit` afin de les convertir en arrays et ainsi les rendre compatibles avec `sktime`\n",
    "\n",
    "X_train, X_test, y_train, y_test = numpyfy(X_train, X_test, y_train, y_test)"
   ]
  },
  {
   "cell_type": "markdown",
   "metadata": {},
   "source": [
    "## 4. Modélisation"
   ]
  },
  {
   "cell_type": "code",
   "execution_count": 9,
   "metadata": {},
   "outputs": [],
   "source": [
    "# Importation de la classe `KNeighborsTimeSeriesClassifier`\n",
    "\n",
    "from sktime.classification.distance_based import KNeighborsTimeSeriesClassifier"
   ]
  },
  {
   "cell_type": "code",
   "execution_count": 10,
   "metadata": {},
   "outputs": [],
   "source": [
    "# Instanciation d'un modèle classificateur avec `n_neighbors = 1` et `distance = \"dtw\"`\n",
    "\n",
    "clf_knn_ts = KNeighborsTimeSeriesClassifier(n_neighbors = 1, distance = \"dtw\")"
   ]
  },
  {
   "cell_type": "code",
   "execution_count": 11,
   "metadata": {},
   "outputs": [
    {
     "data": {
      "text/plain": [
       "{'algorithm': 'brute',\n",
       " 'distance': 'dtw',\n",
       " 'distance_mtype': None,\n",
       " 'distance_params': None,\n",
       " 'leaf_size': 30,\n",
       " 'n_jobs': None,\n",
       " 'n_neighbors': 1,\n",
       " 'pass_train_distances': False,\n",
       " 'weights': 'uniform'}"
      ]
     },
     "execution_count": 11,
     "metadata": {},
     "output_type": "execute_result"
    }
   ],
   "source": [
    "# Récupération des paramètres initiaux\n",
    "\n",
    "clf_knn_ts.get_params()"
   ]
  },
  {
   "cell_type": "code",
   "execution_count": 12,
   "metadata": {},
   "outputs": [
    {
     "data": {
      "text/html": [
       "<style>#sk-999d2fe1-4a04-4a6d-8dcd-e3ef05dc1e31 {color: black;background-color: white;}#sk-999d2fe1-4a04-4a6d-8dcd-e3ef05dc1e31 pre{padding: 0;}#sk-999d2fe1-4a04-4a6d-8dcd-e3ef05dc1e31 div.sk-toggleable {background-color: white;}#sk-999d2fe1-4a04-4a6d-8dcd-e3ef05dc1e31 label.sk-toggleable__label {cursor: pointer;display: block;width: 100%;margin-bottom: 0;padding: 0.3em;box-sizing: border-box;text-align: center;}#sk-999d2fe1-4a04-4a6d-8dcd-e3ef05dc1e31 label.sk-toggleable__label-arrow:before {content: \"▸\";float: left;margin-right: 0.25em;color: #696969;}#sk-999d2fe1-4a04-4a6d-8dcd-e3ef05dc1e31 label.sk-toggleable__label-arrow:hover:before {color: black;}#sk-999d2fe1-4a04-4a6d-8dcd-e3ef05dc1e31 div.sk-estimator:hover label.sk-toggleable__label-arrow:before {color: black;}#sk-999d2fe1-4a04-4a6d-8dcd-e3ef05dc1e31 div.sk-toggleable__content {max-height: 0;max-width: 0;overflow: hidden;text-align: left;background-color: #f0f8ff;}#sk-999d2fe1-4a04-4a6d-8dcd-e3ef05dc1e31 div.sk-toggleable__content pre {margin: 0.2em;color: black;border-radius: 0.25em;background-color: #f0f8ff;}#sk-999d2fe1-4a04-4a6d-8dcd-e3ef05dc1e31 input.sk-toggleable__control:checked~div.sk-toggleable__content {max-height: 200px;max-width: 100%;overflow: auto;}#sk-999d2fe1-4a04-4a6d-8dcd-e3ef05dc1e31 input.sk-toggleable__control:checked~label.sk-toggleable__label-arrow:before {content: \"▾\";}#sk-999d2fe1-4a04-4a6d-8dcd-e3ef05dc1e31 div.sk-estimator input.sk-toggleable__control:checked~label.sk-toggleable__label {background-color: #d4ebff;}#sk-999d2fe1-4a04-4a6d-8dcd-e3ef05dc1e31 div.sk-label input.sk-toggleable__control:checked~label.sk-toggleable__label {background-color: #d4ebff;}#sk-999d2fe1-4a04-4a6d-8dcd-e3ef05dc1e31 input.sk-hidden--visually {border: 0;clip: rect(1px 1px 1px 1px);clip: rect(1px, 1px, 1px, 1px);height: 1px;margin: -1px;overflow: hidden;padding: 0;position: absolute;width: 1px;}#sk-999d2fe1-4a04-4a6d-8dcd-e3ef05dc1e31 div.sk-estimator {font-family: monospace;background-color: #f0f8ff;border: 1px dotted black;border-radius: 0.25em;box-sizing: border-box;margin-bottom: 0.5em;}#sk-999d2fe1-4a04-4a6d-8dcd-e3ef05dc1e31 div.sk-estimator:hover {background-color: #d4ebff;}#sk-999d2fe1-4a04-4a6d-8dcd-e3ef05dc1e31 div.sk-parallel-item::after {content: \"\";width: 100%;border-bottom: 1px solid gray;flex-grow: 1;}#sk-999d2fe1-4a04-4a6d-8dcd-e3ef05dc1e31 div.sk-label:hover label.sk-toggleable__label {background-color: #d4ebff;}#sk-999d2fe1-4a04-4a6d-8dcd-e3ef05dc1e31 div.sk-serial::before {content: \"\";position: absolute;border-left: 1px solid gray;box-sizing: border-box;top: 2em;bottom: 0;left: 50%;}#sk-999d2fe1-4a04-4a6d-8dcd-e3ef05dc1e31 div.sk-serial {display: flex;flex-direction: column;align-items: center;background-color: white;padding-right: 0.2em;padding-left: 0.2em;}#sk-999d2fe1-4a04-4a6d-8dcd-e3ef05dc1e31 div.sk-item {z-index: 1;}#sk-999d2fe1-4a04-4a6d-8dcd-e3ef05dc1e31 div.sk-parallel {display: flex;align-items: stretch;justify-content: center;background-color: white;}#sk-999d2fe1-4a04-4a6d-8dcd-e3ef05dc1e31 div.sk-parallel::before {content: \"\";position: absolute;border-left: 1px solid gray;box-sizing: border-box;top: 2em;bottom: 0;left: 50%;}#sk-999d2fe1-4a04-4a6d-8dcd-e3ef05dc1e31 div.sk-parallel-item {display: flex;flex-direction: column;position: relative;background-color: white;}#sk-999d2fe1-4a04-4a6d-8dcd-e3ef05dc1e31 div.sk-parallel-item:first-child::after {align-self: flex-end;width: 50%;}#sk-999d2fe1-4a04-4a6d-8dcd-e3ef05dc1e31 div.sk-parallel-item:last-child::after {align-self: flex-start;width: 50%;}#sk-999d2fe1-4a04-4a6d-8dcd-e3ef05dc1e31 div.sk-parallel-item:only-child::after {width: 0;}#sk-999d2fe1-4a04-4a6d-8dcd-e3ef05dc1e31 div.sk-dashed-wrapped {border: 1px dashed gray;margin: 0 0.4em 0.5em 0.4em;box-sizing: border-box;padding-bottom: 0.4em;background-color: white;position: relative;}#sk-999d2fe1-4a04-4a6d-8dcd-e3ef05dc1e31 div.sk-label label {font-family: monospace;font-weight: bold;background-color: white;display: inline-block;line-height: 1.2em;}#sk-999d2fe1-4a04-4a6d-8dcd-e3ef05dc1e31 div.sk-label-container {position: relative;z-index: 2;text-align: center;}#sk-999d2fe1-4a04-4a6d-8dcd-e3ef05dc1e31 div.sk-container {/* jupyter's `normalize.less` sets `[hidden] { display: none; }` but bootstrap.min.css set `[hidden] { display: none !important; }` so we also need the `!important` here to be able to override the default hidden behavior on the sphinx rendered scikit-learn.org. See: https://github.com/scikit-learn/scikit-learn/issues/21755 */display: inline-block !important;position: relative;}#sk-999d2fe1-4a04-4a6d-8dcd-e3ef05dc1e31 div.sk-text-repr-fallback {display: none;}</style><div id='sk-999d2fe1-4a04-4a6d-8dcd-e3ef05dc1e31' class=\"sk-top-container\"><div class=\"sk-text-repr-fallback\"><pre>KNeighborsTimeSeriesClassifier()</pre><b>Please rerun this cell to show the HTML repr or trust the notebook.</b></div><div class=\"sk-container\" hidden><div class='sk-item'><div class=\"sk-estimator sk-toggleable\"><input class=\"sk-toggleable__control sk-hidden--visually\" id=UUID('0231395a-e347-4ff9-b93a-cade04c403b6') type=\"checkbox\" checked><label for=UUID('0231395a-e347-4ff9-b93a-cade04c403b6') class='sk-toggleable__label sk-toggleable__label-arrow'>KNeighborsTimeSeriesClassifier</label><div class=\"sk-toggleable__content\"><pre>KNeighborsTimeSeriesClassifier()</pre></div></div></div></div></div>"
      ],
      "text/plain": [
       "KNeighborsTimeSeriesClassifier()"
      ]
     },
     "execution_count": 12,
     "metadata": {},
     "output_type": "execute_result"
    }
   ],
   "source": [
    "# Entraînement du modèle\n",
    "\n",
    "clf_knn_ts.fit(X_train, y_train)"
   ]
  },
  {
   "cell_type": "code",
   "execution_count": 13,
   "metadata": {},
   "outputs": [
    {
     "data": {
      "text/plain": [
       "{'classes': array([0, 1]),\n",
       " 'fit_time': 22,\n",
       " 'knn_estimator': KNeighborsClassifier(algorithm='brute', metric='precomputed', n_neighbors=1),\n",
       " 'n_classes': 2,\n",
       " 'knn_estimator__classes': array([0, 1]),\n",
       " 'knn_estimator__effective_metric': 'precomputed',\n",
       " 'knn_estimator__effective_metric_params': {},\n",
       " 'knn_estimator__n_features_in': 2441,\n",
       " 'knn_estimator__n_samples_fit': 2441,\n",
       " 'knn_estimator__outputs_2d': False}"
      ]
     },
     "execution_count": 13,
     "metadata": {},
     "output_type": "execute_result"
    }
   ],
   "source": [
    "# Récupération des paramètres ajustés\n",
    "\n",
    "clf_knn_ts.get_fitted_params()"
   ]
  },
  {
   "cell_type": "code",
   "execution_count": 14,
   "metadata": {},
   "outputs": [],
   "source": [
    "# Réalisation des prédictions\n",
    "\n",
    "y_pred = clf_knn_ts.predict(X_test)"
   ]
  },
  {
   "cell_type": "markdown",
   "metadata": {},
   "source": [
    "## 5. Évaluation"
   ]
  },
  {
   "cell_type": "code",
   "execution_count": 15,
   "metadata": {},
   "outputs": [
    {
     "data": {
      "text/html": [
       "<div>\n",
       "<style scoped>\n",
       "    .dataframe tbody tr th:only-of-type {\n",
       "        vertical-align: middle;\n",
       "    }\n",
       "\n",
       "    .dataframe tbody tr th {\n",
       "        vertical-align: top;\n",
       "    }\n",
       "\n",
       "    .dataframe thead th {\n",
       "        text-align: right;\n",
       "    }\n",
       "</style>\n",
       "<table border=\"1\" class=\"dataframe\">\n",
       "  <thead>\n",
       "    <tr style=\"text-align: right;\">\n",
       "      <th>Classe prédite</th>\n",
       "      <th>0</th>\n",
       "      <th>1</th>\n",
       "    </tr>\n",
       "    <tr>\n",
       "      <th>Classe réelle</th>\n",
       "      <th></th>\n",
       "      <th></th>\n",
       "    </tr>\n",
       "  </thead>\n",
       "  <tbody>\n",
       "    <tr>\n",
       "      <th>0</th>\n",
       "      <td>281</td>\n",
       "      <td>95</td>\n",
       "    </tr>\n",
       "    <tr>\n",
       "      <th>1</th>\n",
       "      <td>64</td>\n",
       "      <td>48</td>\n",
       "    </tr>\n",
       "  </tbody>\n",
       "</table>\n",
       "</div>"
      ],
      "text/plain": [
       "Classe prédite    0   1\n",
       "Classe réelle          \n",
       "0               281  95\n",
       "1                64  48"
      ]
     },
     "execution_count": 15,
     "metadata": {},
     "output_type": "execute_result"
    }
   ],
   "source": [
    "# Élaboration de la matrice de confusion\n",
    "\n",
    "pd.crosstab(y_test, y_pred, rownames = [\"Classe réelle\"], colnames = [\"Classe prédite\"])"
   ]
  },
  {
   "cell_type": "code",
   "execution_count": 16,
   "metadata": {},
   "outputs": [
    {
     "name": "stdout",
     "output_type": "stream",
     "text": [
      "              precision    recall  f1-score   support\n",
      "\n",
      "           0       0.81      0.75      0.78       376\n",
      "           1       0.34      0.43      0.38       112\n",
      "\n",
      "    accuracy                           0.67       488\n",
      "   macro avg       0.58      0.59      0.58       488\n",
      "weighted avg       0.70      0.67      0.69       488\n",
      "\n"
     ]
    }
   ],
   "source": [
    "# Élaboration du rapport de classification\n",
    "\n",
    "print(classification_report(y_test, y_pred))"
   ]
  }
 ],
 "metadata": {
  "kernelspec": {
   "display_name": "datascientest_project",
   "language": "python",
   "name": "python3"
  },
  "language_info": {
   "codemirror_mode": {
    "name": "ipython",
    "version": 3
   },
   "file_extension": ".py",
   "mimetype": "text/x-python",
   "name": "python",
   "nbconvert_exporter": "python",
   "pygments_lexer": "ipython3",
   "version": "3.11.5"
  }
 },
 "nbformat": 4,
 "nbformat_minor": 2
}
