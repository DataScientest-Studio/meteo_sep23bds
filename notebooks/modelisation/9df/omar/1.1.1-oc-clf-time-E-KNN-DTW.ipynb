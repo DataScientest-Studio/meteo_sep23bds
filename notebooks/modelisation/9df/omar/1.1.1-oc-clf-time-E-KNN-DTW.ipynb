{
 "cells": [
  {
   "cell_type": "markdown",
   "metadata": {},
   "source": [
    "# **Classification** des **séries temporelles** avec `sktime`"
   ]
  },
  {
   "cell_type": "markdown",
   "metadata": {},
   "source": [
    "## Métadonnées"
   ]
  },
  {
   "cell_type": "markdown",
   "metadata": {},
   "source": [
    "- **Expérience nº :** 1.1.1\n",
    "- **Date :** 05/11/2023\n",
    "- **Heure :** 00:36\n",
    "- **Données :** `ready_Evaporation.csv`\n",
    "- **Tri :** par défaut\n",
    "- **Découpage :** `TimeSeriesSplit`\n",
    "- **Mise à l'échelle :** non\n",
    "- **Rééquilibrage :** non\n",
    "- **Conversion :** `numpyfy`\n",
    "- **Algorithme :** KNN + DTW"
   ]
  },
  {
   "cell_type": "markdown",
   "metadata": {},
   "source": [
    "## Sommaire"
   ]
  },
  {
   "cell_type": "markdown",
   "metadata": {},
   "source": [
    "1. Initialisation\n",
    "2. Découpage\n",
    "3. Conversion\n",
    "4. Modélisation\n",
    "5. Évaluation"
   ]
  },
  {
   "cell_type": "markdown",
   "metadata": {},
   "source": [
    "## 1. Initialisation"
   ]
  },
  {
   "cell_type": "code",
   "execution_count": 1,
   "metadata": {},
   "outputs": [],
   "source": [
    "# Importation des bibliothèques et modules nécessaires au fonctionnement de ce notebook\n",
    "\n",
    "import pandas as pd\n",
    "import numpy as np\n",
    "\n",
    "from sklearn.metrics import classification_report"
   ]
  },
  {
   "cell_type": "code",
   "execution_count": 2,
   "metadata": {},
   "outputs": [],
   "source": [
    "# Importation du jeu de données et enregistrement dans le DataFrame `df`\n",
    "\n",
    "df = pd.read_csv(\"../../../data/9df/Omar/ready_Evaporation.csv\", index_col = 1)\n",
    "df = df.drop(columns = \"Unnamed: 0\")"
   ]
  },
  {
   "cell_type": "code",
   "execution_count": 3,
   "metadata": {},
   "outputs": [
    {
     "data": {
      "text/html": [
       "<div>\n",
       "<style scoped>\n",
       "    .dataframe tbody tr th:only-of-type {\n",
       "        vertical-align: middle;\n",
       "    }\n",
       "\n",
       "    .dataframe tbody tr th {\n",
       "        vertical-align: top;\n",
       "    }\n",
       "\n",
       "    .dataframe thead th {\n",
       "        text-align: right;\n",
       "    }\n",
       "</style>\n",
       "<table border=\"1\" class=\"dataframe\">\n",
       "  <thead>\n",
       "    <tr style=\"text-align: right;\">\n",
       "      <th></th>\n",
       "      <th>MinTemp</th>\n",
       "      <th>MaxTemp</th>\n",
       "      <th>Rainfall</th>\n",
       "      <th>Sunshine</th>\n",
       "      <th>WindGustSpeed</th>\n",
       "      <th>WindSpeed9am</th>\n",
       "      <th>WindSpeed3pm</th>\n",
       "      <th>Humidity9am</th>\n",
       "      <th>Humidity3pm</th>\n",
       "      <th>Pressure9am</th>\n",
       "      <th>...</th>\n",
       "      <th>year</th>\n",
       "      <th>month</th>\n",
       "      <th>day</th>\n",
       "      <th>LocationNum</th>\n",
       "      <th>WindGustDirNum</th>\n",
       "      <th>WindDir9amNum</th>\n",
       "      <th>WindDir3pmNum</th>\n",
       "      <th>Latitude</th>\n",
       "      <th>Longitude</th>\n",
       "      <th>CodeRegionNum</th>\n",
       "    </tr>\n",
       "    <tr>\n",
       "      <th>Date</th>\n",
       "      <th></th>\n",
       "      <th></th>\n",
       "      <th></th>\n",
       "      <th></th>\n",
       "      <th></th>\n",
       "      <th></th>\n",
       "      <th></th>\n",
       "      <th></th>\n",
       "      <th></th>\n",
       "      <th></th>\n",
       "      <th></th>\n",
       "      <th></th>\n",
       "      <th></th>\n",
       "      <th></th>\n",
       "      <th></th>\n",
       "      <th></th>\n",
       "      <th></th>\n",
       "      <th></th>\n",
       "      <th></th>\n",
       "      <th></th>\n",
       "      <th></th>\n",
       "    </tr>\n",
       "  </thead>\n",
       "  <tbody>\n",
       "    <tr>\n",
       "      <th>2009-01-01</th>\n",
       "      <td>18.800000</td>\n",
       "      <td>38.4</td>\n",
       "      <td>0.0</td>\n",
       "      <td>13.1</td>\n",
       "      <td>50.000000</td>\n",
       "      <td>22.0</td>\n",
       "      <td>13.0</td>\n",
       "      <td>46.0</td>\n",
       "      <td>20.0</td>\n",
       "      <td>1010.4</td>\n",
       "      <td>...</td>\n",
       "      <td>2009</td>\n",
       "      <td>1</td>\n",
       "      <td>1</td>\n",
       "      <td>38</td>\n",
       "      <td>0.000000</td>\n",
       "      <td>5.890486</td>\n",
       "      <td>5.497787</td>\n",
       "      <td>-31.667778</td>\n",
       "      <td>116.015</td>\n",
       "      <td>5</td>\n",
       "    </tr>\n",
       "    <tr>\n",
       "      <th>2009-01-02</th>\n",
       "      <td>22.000000</td>\n",
       "      <td>39.1</td>\n",
       "      <td>0.0</td>\n",
       "      <td>13.2</td>\n",
       "      <td>52.000000</td>\n",
       "      <td>4.0</td>\n",
       "      <td>31.0</td>\n",
       "      <td>38.0</td>\n",
       "      <td>23.0</td>\n",
       "      <td>1008.3</td>\n",
       "      <td>...</td>\n",
       "      <td>2009</td>\n",
       "      <td>1</td>\n",
       "      <td>2</td>\n",
       "      <td>38</td>\n",
       "      <td>0.000000</td>\n",
       "      <td>2.356194</td>\n",
       "      <td>3.926991</td>\n",
       "      <td>-31.667778</td>\n",
       "      <td>116.015</td>\n",
       "      <td>5</td>\n",
       "    </tr>\n",
       "    <tr>\n",
       "      <th>2009-01-03</th>\n",
       "      <td>15.900000</td>\n",
       "      <td>35.6</td>\n",
       "      <td>0.0</td>\n",
       "      <td>12.7</td>\n",
       "      <td>43.473477</td>\n",
       "      <td>13.0</td>\n",
       "      <td>28.0</td>\n",
       "      <td>58.0</td>\n",
       "      <td>29.0</td>\n",
       "      <td>1012.1</td>\n",
       "      <td>...</td>\n",
       "      <td>2009</td>\n",
       "      <td>1</td>\n",
       "      <td>3</td>\n",
       "      <td>38</td>\n",
       "      <td>2.896869</td>\n",
       "      <td>9.424778</td>\n",
       "      <td>4.319690</td>\n",
       "      <td>-31.667778</td>\n",
       "      <td>116.015</td>\n",
       "      <td>5</td>\n",
       "    </tr>\n",
       "    <tr>\n",
       "      <th>2009-01-04</th>\n",
       "      <td>12.456393</td>\n",
       "      <td>37.0</td>\n",
       "      <td>0.0</td>\n",
       "      <td>13.3</td>\n",
       "      <td>43.000000</td>\n",
       "      <td>24.0</td>\n",
       "      <td>20.0</td>\n",
       "      <td>45.0</td>\n",
       "      <td>19.0</td>\n",
       "      <td>1016.6</td>\n",
       "      <td>...</td>\n",
       "      <td>2009</td>\n",
       "      <td>1</td>\n",
       "      <td>4</td>\n",
       "      <td>38</td>\n",
       "      <td>5.497787</td>\n",
       "      <td>5.497787</td>\n",
       "      <td>5.890486</td>\n",
       "      <td>-31.667778</td>\n",
       "      <td>116.015</td>\n",
       "      <td>5</td>\n",
       "    </tr>\n",
       "    <tr>\n",
       "      <th>2009-01-05</th>\n",
       "      <td>21.800000</td>\n",
       "      <td>38.6</td>\n",
       "      <td>0.0</td>\n",
       "      <td>13.2</td>\n",
       "      <td>59.000000</td>\n",
       "      <td>15.0</td>\n",
       "      <td>15.0</td>\n",
       "      <td>35.0</td>\n",
       "      <td>15.0</td>\n",
       "      <td>1014.1</td>\n",
       "      <td>...</td>\n",
       "      <td>2009</td>\n",
       "      <td>1</td>\n",
       "      <td>5</td>\n",
       "      <td>38</td>\n",
       "      <td>0.000000</td>\n",
       "      <td>5.890486</td>\n",
       "      <td>5.105088</td>\n",
       "      <td>-31.667778</td>\n",
       "      <td>116.015</td>\n",
       "      <td>5</td>\n",
       "    </tr>\n",
       "  </tbody>\n",
       "</table>\n",
       "<p>5 rows × 27 columns</p>\n",
       "</div>"
      ],
      "text/plain": [
       "              MinTemp  MaxTemp  Rainfall  Sunshine  WindGustSpeed  \\\n",
       "Date                                                                \n",
       "2009-01-01  18.800000     38.4       0.0      13.1      50.000000   \n",
       "2009-01-02  22.000000     39.1       0.0      13.2      52.000000   \n",
       "2009-01-03  15.900000     35.6       0.0      12.7      43.473477   \n",
       "2009-01-04  12.456393     37.0       0.0      13.3      43.000000   \n",
       "2009-01-05  21.800000     38.6       0.0      13.2      59.000000   \n",
       "\n",
       "            WindSpeed9am  WindSpeed3pm  Humidity9am  Humidity3pm  Pressure9am  \\\n",
       "Date                                                                            \n",
       "2009-01-01          22.0          13.0         46.0         20.0       1010.4   \n",
       "2009-01-02           4.0          31.0         38.0         23.0       1008.3   \n",
       "2009-01-03          13.0          28.0         58.0         29.0       1012.1   \n",
       "2009-01-04          24.0          20.0         45.0         19.0       1016.6   \n",
       "2009-01-05          15.0          15.0         35.0         15.0       1014.1   \n",
       "\n",
       "            ...  year  month  day  LocationNum  WindGustDirNum  WindDir9amNum  \\\n",
       "Date        ...                                                                 \n",
       "2009-01-01  ...  2009      1    1           38        0.000000       5.890486   \n",
       "2009-01-02  ...  2009      1    2           38        0.000000       2.356194   \n",
       "2009-01-03  ...  2009      1    3           38        2.896869       9.424778   \n",
       "2009-01-04  ...  2009      1    4           38        5.497787       5.497787   \n",
       "2009-01-05  ...  2009      1    5           38        0.000000       5.890486   \n",
       "\n",
       "            WindDir3pmNum   Latitude  Longitude  CodeRegionNum  \n",
       "Date                                                            \n",
       "2009-01-01       5.497787 -31.667778    116.015              5  \n",
       "2009-01-02       3.926991 -31.667778    116.015              5  \n",
       "2009-01-03       4.319690 -31.667778    116.015              5  \n",
       "2009-01-04       5.890486 -31.667778    116.015              5  \n",
       "2009-01-05       5.105088 -31.667778    116.015              5  \n",
       "\n",
       "[5 rows x 27 columns]"
      ]
     },
     "execution_count": 3,
     "metadata": {},
     "output_type": "execute_result"
    }
   ],
   "source": [
    "# Inspection de la structure de `df`\n",
    "\n",
    "df.head()"
   ]
  },
  {
   "cell_type": "code",
   "execution_count": 4,
   "metadata": {},
   "outputs": [
    {
     "name": "stdout",
     "output_type": "stream",
     "text": [
      "<class 'pandas.core.frame.DataFrame'>\n",
      "Index: 2646 entries, 2009-01-01 to 2017-06-25\n",
      "Data columns (total 27 columns):\n",
      " #   Column          Non-Null Count  Dtype  \n",
      "---  ------          --------------  -----  \n",
      " 0   MinTemp         2646 non-null   float64\n",
      " 1   MaxTemp         2646 non-null   float64\n",
      " 2   Rainfall        2646 non-null   float64\n",
      " 3   Sunshine        2646 non-null   float64\n",
      " 4   WindGustSpeed   2646 non-null   float64\n",
      " 5   WindSpeed9am    2646 non-null   float64\n",
      " 6   WindSpeed3pm    2646 non-null   float64\n",
      " 7   Humidity9am     2646 non-null   float64\n",
      " 8   Humidity3pm     2646 non-null   float64\n",
      " 9   Pressure9am     2646 non-null   float64\n",
      " 10  Pressure3pm     2646 non-null   float64\n",
      " 11  Cloud9am        2646 non-null   float64\n",
      " 12  Cloud3pm        2646 non-null   float64\n",
      " 13  Temp9am         2646 non-null   float64\n",
      " 14  Temp3pm         2646 non-null   float64\n",
      " 15  RainToday       2646 non-null   int64  \n",
      " 16  RainTomorrow    2646 non-null   int64  \n",
      " 17  year            2646 non-null   int64  \n",
      " 18  month           2646 non-null   int64  \n",
      " 19  day             2646 non-null   int64  \n",
      " 20  LocationNum     2646 non-null   int64  \n",
      " 21  WindGustDirNum  2646 non-null   float64\n",
      " 22  WindDir9amNum   2646 non-null   float64\n",
      " 23  WindDir3pmNum   2646 non-null   float64\n",
      " 24  Latitude        2646 non-null   float64\n",
      " 25  Longitude       2646 non-null   float64\n",
      " 26  CodeRegionNum   2646 non-null   int64  \n",
      "dtypes: float64(20), int64(7)\n",
      "memory usage: 578.8+ KB\n"
     ]
    }
   ],
   "source": [
    "# Inspection de la structure de `df`\n",
    "\n",
    "df.info()"
   ]
  },
  {
   "cell_type": "markdown",
   "metadata": {},
   "source": [
    "## 2. Découpage"
   ]
  },
  {
   "cell_type": "code",
   "execution_count": 5,
   "metadata": {},
   "outputs": [],
   "source": [
    "# Découpage de `df` sur l'axe des colonnes : séparation des variables explicatives (`data`) et cible (`target`)\n",
    "\n",
    "data = df.drop(columns = \"RainTomorrow\")\n",
    "target = df[\"RainTomorrow\"]"
   ]
  },
  {
   "cell_type": "code",
   "execution_count": 6,
   "metadata": {},
   "outputs": [],
   "source": [
    "# Découpage de `data` et de `target` sur l'axe des lignes : séparation des jeux d'entraînement (`*_train`) et de test (`*_test`) avec le splitter `TimeSeriesSplit`\n",
    "\n",
    "from sklearn.model_selection import TimeSeriesSplit\n",
    "\n",
    "tss = TimeSeriesSplit(n_splits = 5) ## Nous fixons le paramètre `n_splits` à 5 afin d'avoir une répartition de 80 / 20 entre les jeux d'entraînement et de test, respectivement.\n",
    "\n",
    "for train_index, test_index in tss.split(data):\n",
    "    X_train, X_test = data.iloc[train_index, :], data.iloc[test_index,:]\n",
    "    y_train, y_test = target.iloc[train_index], target.iloc[test_index]"
   ]
  },
  {
   "cell_type": "markdown",
   "metadata": {},
   "source": [
    "`TimeSeriesSplit` est une variation de l'itérateur de validation croisée `KFold` de `scikit-learn`, adaptée aux séries temporelles.\n",
    "\n",
    "Bien que ces objets soient principalement destinés au découpage des données lors d'un processus de validation croisée, ils peuvent également être appliqués au jeu d'origine pour créer les jeux d'entraînement et de test. D'ailleurs, l'itérateur `train_test_split`, qui est habituellement utilisé à cette étape, n'est autre qu'un _wrapper_ autour de l'itérateur `ShuffleSplit`.\n",
    "\n",
    "Contrairement aux autres itérateurs, `TimeSeriesSplit` génère des jeux d'entraînement successifs qui sont des surensembles (« supersets ») de ceux qui les précèdent. Traduit dans le cadre temporel, cela indique que les jeux d'entraînement sont systématiquement plus anciens que les jeux de test, ce qui permet de prendre en compte la particularité structurelle des séries temporelles.\n",
    "\n",
    "![image.png](https://scikit-learn.org/stable/_images/sphx_glr_plot_cv_indices_013.png)\n",
    "\n",
    "Référence : https://scikit-learn.org/stable/modules/cross_validation.html#time-series-split"
   ]
  },
  {
   "cell_type": "markdown",
   "metadata": {},
   "source": [
    "## 3. Conversion"
   ]
  },
  {
   "cell_type": "code",
   "execution_count": 7,
   "metadata": {},
   "outputs": [],
   "source": [
    "# Importation de la fonction artisanale `numpyfy`\n",
    "\n",
    "from numpyfy import numpyfy"
   ]
  },
  {
   "cell_type": "code",
   "execution_count": 8,
   "metadata": {},
   "outputs": [],
   "source": [
    "# Application de la fonction `numpyfy` aux 4 jeux de données issus du découpage effectué par le splitter `TimeSeriesSplit` afin de les convertir en arrays et ainsi les rendre compatibles avec `sktime`\n",
    "\n",
    "X_train, X_test, y_train, y_test = numpyfy(X_train, X_test, y_train, y_test)"
   ]
  },
  {
   "cell_type": "markdown",
   "metadata": {},
   "source": [
    "## 4. Modélisation"
   ]
  },
  {
   "cell_type": "code",
   "execution_count": 9,
   "metadata": {},
   "outputs": [],
   "source": [
    "# Importation de la classe `KNeighborsTimeSeriesClassifier`\n",
    "\n",
    "from sktime.classification.distance_based import KNeighborsTimeSeriesClassifier"
   ]
  },
  {
   "cell_type": "code",
   "execution_count": 10,
   "metadata": {},
   "outputs": [],
   "source": [
    "# Instanciation d'un modèle classificateur avec `n_neighbors = 1` et `distance = \"dtw\"`\n",
    "\n",
    "clf_knn_ts = KNeighborsTimeSeriesClassifier(n_neighbors = 1, distance = \"dtw\")"
   ]
  },
  {
   "cell_type": "code",
   "execution_count": 11,
   "metadata": {},
   "outputs": [
    {
     "data": {
      "text/plain": [
       "{'algorithm': 'brute',\n",
       " 'distance': 'dtw',\n",
       " 'distance_mtype': None,\n",
       " 'distance_params': None,\n",
       " 'leaf_size': 30,\n",
       " 'n_jobs': None,\n",
       " 'n_neighbors': 1,\n",
       " 'pass_train_distances': False,\n",
       " 'weights': 'uniform'}"
      ]
     },
     "execution_count": 11,
     "metadata": {},
     "output_type": "execute_result"
    }
   ],
   "source": [
    "# Récupération des paramètres initiaux\n",
    "\n",
    "clf_knn_ts.get_params()"
   ]
  },
  {
   "cell_type": "code",
   "execution_count": 12,
   "metadata": {},
   "outputs": [
    {
     "data": {
      "text/html": [
       "<style>#sk-774bd56e-8815-4137-9cb7-c2e1647e89d2 {color: black;background-color: white;}#sk-774bd56e-8815-4137-9cb7-c2e1647e89d2 pre{padding: 0;}#sk-774bd56e-8815-4137-9cb7-c2e1647e89d2 div.sk-toggleable {background-color: white;}#sk-774bd56e-8815-4137-9cb7-c2e1647e89d2 label.sk-toggleable__label {cursor: pointer;display: block;width: 100%;margin-bottom: 0;padding: 0.3em;box-sizing: border-box;text-align: center;}#sk-774bd56e-8815-4137-9cb7-c2e1647e89d2 label.sk-toggleable__label-arrow:before {content: \"▸\";float: left;margin-right: 0.25em;color: #696969;}#sk-774bd56e-8815-4137-9cb7-c2e1647e89d2 label.sk-toggleable__label-arrow:hover:before {color: black;}#sk-774bd56e-8815-4137-9cb7-c2e1647e89d2 div.sk-estimator:hover label.sk-toggleable__label-arrow:before {color: black;}#sk-774bd56e-8815-4137-9cb7-c2e1647e89d2 div.sk-toggleable__content {max-height: 0;max-width: 0;overflow: hidden;text-align: left;background-color: #f0f8ff;}#sk-774bd56e-8815-4137-9cb7-c2e1647e89d2 div.sk-toggleable__content pre {margin: 0.2em;color: black;border-radius: 0.25em;background-color: #f0f8ff;}#sk-774bd56e-8815-4137-9cb7-c2e1647e89d2 input.sk-toggleable__control:checked~div.sk-toggleable__content {max-height: 200px;max-width: 100%;overflow: auto;}#sk-774bd56e-8815-4137-9cb7-c2e1647e89d2 input.sk-toggleable__control:checked~label.sk-toggleable__label-arrow:before {content: \"▾\";}#sk-774bd56e-8815-4137-9cb7-c2e1647e89d2 div.sk-estimator input.sk-toggleable__control:checked~label.sk-toggleable__label {background-color: #d4ebff;}#sk-774bd56e-8815-4137-9cb7-c2e1647e89d2 div.sk-label input.sk-toggleable__control:checked~label.sk-toggleable__label {background-color: #d4ebff;}#sk-774bd56e-8815-4137-9cb7-c2e1647e89d2 input.sk-hidden--visually {border: 0;clip: rect(1px 1px 1px 1px);clip: rect(1px, 1px, 1px, 1px);height: 1px;margin: -1px;overflow: hidden;padding: 0;position: absolute;width: 1px;}#sk-774bd56e-8815-4137-9cb7-c2e1647e89d2 div.sk-estimator {font-family: monospace;background-color: #f0f8ff;border: 1px dotted black;border-radius: 0.25em;box-sizing: border-box;margin-bottom: 0.5em;}#sk-774bd56e-8815-4137-9cb7-c2e1647e89d2 div.sk-estimator:hover {background-color: #d4ebff;}#sk-774bd56e-8815-4137-9cb7-c2e1647e89d2 div.sk-parallel-item::after {content: \"\";width: 100%;border-bottom: 1px solid gray;flex-grow: 1;}#sk-774bd56e-8815-4137-9cb7-c2e1647e89d2 div.sk-label:hover label.sk-toggleable__label {background-color: #d4ebff;}#sk-774bd56e-8815-4137-9cb7-c2e1647e89d2 div.sk-serial::before {content: \"\";position: absolute;border-left: 1px solid gray;box-sizing: border-box;top: 2em;bottom: 0;left: 50%;}#sk-774bd56e-8815-4137-9cb7-c2e1647e89d2 div.sk-serial {display: flex;flex-direction: column;align-items: center;background-color: white;padding-right: 0.2em;padding-left: 0.2em;}#sk-774bd56e-8815-4137-9cb7-c2e1647e89d2 div.sk-item {z-index: 1;}#sk-774bd56e-8815-4137-9cb7-c2e1647e89d2 div.sk-parallel {display: flex;align-items: stretch;justify-content: center;background-color: white;}#sk-774bd56e-8815-4137-9cb7-c2e1647e89d2 div.sk-parallel::before {content: \"\";position: absolute;border-left: 1px solid gray;box-sizing: border-box;top: 2em;bottom: 0;left: 50%;}#sk-774bd56e-8815-4137-9cb7-c2e1647e89d2 div.sk-parallel-item {display: flex;flex-direction: column;position: relative;background-color: white;}#sk-774bd56e-8815-4137-9cb7-c2e1647e89d2 div.sk-parallel-item:first-child::after {align-self: flex-end;width: 50%;}#sk-774bd56e-8815-4137-9cb7-c2e1647e89d2 div.sk-parallel-item:last-child::after {align-self: flex-start;width: 50%;}#sk-774bd56e-8815-4137-9cb7-c2e1647e89d2 div.sk-parallel-item:only-child::after {width: 0;}#sk-774bd56e-8815-4137-9cb7-c2e1647e89d2 div.sk-dashed-wrapped {border: 1px dashed gray;margin: 0 0.4em 0.5em 0.4em;box-sizing: border-box;padding-bottom: 0.4em;background-color: white;position: relative;}#sk-774bd56e-8815-4137-9cb7-c2e1647e89d2 div.sk-label label {font-family: monospace;font-weight: bold;background-color: white;display: inline-block;line-height: 1.2em;}#sk-774bd56e-8815-4137-9cb7-c2e1647e89d2 div.sk-label-container {position: relative;z-index: 2;text-align: center;}#sk-774bd56e-8815-4137-9cb7-c2e1647e89d2 div.sk-container {/* jupyter's `normalize.less` sets `[hidden] { display: none; }` but bootstrap.min.css set `[hidden] { display: none !important; }` so we also need the `!important` here to be able to override the default hidden behavior on the sphinx rendered scikit-learn.org. See: https://github.com/scikit-learn/scikit-learn/issues/21755 */display: inline-block !important;position: relative;}#sk-774bd56e-8815-4137-9cb7-c2e1647e89d2 div.sk-text-repr-fallback {display: none;}</style><div id='sk-774bd56e-8815-4137-9cb7-c2e1647e89d2' class=\"sk-top-container\"><div class=\"sk-text-repr-fallback\"><pre>KNeighborsTimeSeriesClassifier()</pre><b>Please rerun this cell to show the HTML repr or trust the notebook.</b></div><div class=\"sk-container\" hidden><div class='sk-item'><div class=\"sk-estimator sk-toggleable\"><input class=\"sk-toggleable__control sk-hidden--visually\" id=UUID('16c81d16-b7ad-4b69-b1e2-7a1be187de06') type=\"checkbox\" checked><label for=UUID('16c81d16-b7ad-4b69-b1e2-7a1be187de06') class='sk-toggleable__label sk-toggleable__label-arrow'>KNeighborsTimeSeriesClassifier</label><div class=\"sk-toggleable__content\"><pre>KNeighborsTimeSeriesClassifier()</pre></div></div></div></div></div>"
      ],
      "text/plain": [
       "KNeighborsTimeSeriesClassifier()"
      ]
     },
     "execution_count": 12,
     "metadata": {},
     "output_type": "execute_result"
    }
   ],
   "source": [
    "# Entraînement du modèle\n",
    "\n",
    "clf_knn_ts.fit(X_train, y_train)"
   ]
  },
  {
   "cell_type": "code",
   "execution_count": 13,
   "metadata": {},
   "outputs": [
    {
     "data": {
      "text/plain": [
       "{'classes': array([0, 1]),\n",
       " 'fit_time': 18,\n",
       " 'knn_estimator': KNeighborsClassifier(algorithm='brute', metric='precomputed', n_neighbors=1),\n",
       " 'n_classes': 2,\n",
       " 'knn_estimator__classes': array([0, 1]),\n",
       " 'knn_estimator__effective_metric': 'precomputed',\n",
       " 'knn_estimator__effective_metric_params': {},\n",
       " 'knn_estimator__n_features_in': 2205,\n",
       " 'knn_estimator__n_samples_fit': 2205,\n",
       " 'knn_estimator__outputs_2d': False}"
      ]
     },
     "execution_count": 13,
     "metadata": {},
     "output_type": "execute_result"
    }
   ],
   "source": [
    "# Récupération des paramètres ajustés\n",
    "\n",
    "clf_knn_ts.get_fitted_params()"
   ]
  },
  {
   "cell_type": "code",
   "execution_count": 14,
   "metadata": {},
   "outputs": [],
   "source": [
    "# Réalisation des prédictions\n",
    "\n",
    "y_pred = clf_knn_ts.predict(X_test)"
   ]
  },
  {
   "cell_type": "markdown",
   "metadata": {},
   "source": [
    "## 5. Évaluation"
   ]
  },
  {
   "cell_type": "code",
   "execution_count": 15,
   "metadata": {},
   "outputs": [
    {
     "data": {
      "text/html": [
       "<div>\n",
       "<style scoped>\n",
       "    .dataframe tbody tr th:only-of-type {\n",
       "        vertical-align: middle;\n",
       "    }\n",
       "\n",
       "    .dataframe tbody tr th {\n",
       "        vertical-align: top;\n",
       "    }\n",
       "\n",
       "    .dataframe thead th {\n",
       "        text-align: right;\n",
       "    }\n",
       "</style>\n",
       "<table border=\"1\" class=\"dataframe\">\n",
       "  <thead>\n",
       "    <tr style=\"text-align: right;\">\n",
       "      <th>Classe prédite</th>\n",
       "      <th>0</th>\n",
       "      <th>1</th>\n",
       "    </tr>\n",
       "    <tr>\n",
       "      <th>Classe réelle</th>\n",
       "      <th></th>\n",
       "      <th></th>\n",
       "    </tr>\n",
       "  </thead>\n",
       "  <tbody>\n",
       "    <tr>\n",
       "      <th>0</th>\n",
       "      <td>314</td>\n",
       "      <td>32</td>\n",
       "    </tr>\n",
       "    <tr>\n",
       "      <th>1</th>\n",
       "      <td>36</td>\n",
       "      <td>59</td>\n",
       "    </tr>\n",
       "  </tbody>\n",
       "</table>\n",
       "</div>"
      ],
      "text/plain": [
       "Classe prédite    0   1\n",
       "Classe réelle          \n",
       "0               314  32\n",
       "1                36  59"
      ]
     },
     "execution_count": 15,
     "metadata": {},
     "output_type": "execute_result"
    }
   ],
   "source": [
    "# Élaboration de la matrice de confusion\n",
    "\n",
    "pd.crosstab(y_test, y_pred, rownames = [\"Classe réelle\"], colnames = [\"Classe prédite\"])"
   ]
  },
  {
   "cell_type": "code",
   "execution_count": 16,
   "metadata": {},
   "outputs": [
    {
     "name": "stdout",
     "output_type": "stream",
     "text": [
      "              precision    recall  f1-score   support\n",
      "\n",
      "           0       0.90      0.91      0.90       346\n",
      "           1       0.65      0.62      0.63        95\n",
      "\n",
      "    accuracy                           0.85       441\n",
      "   macro avg       0.77      0.76      0.77       441\n",
      "weighted avg       0.84      0.85      0.84       441\n",
      "\n"
     ]
    }
   ],
   "source": [
    "# Élaboration du rapport de classification\n",
    "\n",
    "print(classification_report(y_test, y_pred))"
   ]
  }
 ],
 "metadata": {
  "kernelspec": {
   "display_name": "datascientest_project",
   "language": "python",
   "name": "python3"
  },
  "language_info": {
   "codemirror_mode": {
    "name": "ipython",
    "version": 3
   },
   "file_extension": ".py",
   "mimetype": "text/x-python",
   "name": "python",
   "nbconvert_exporter": "python",
   "pygments_lexer": "ipython3",
   "version": "3.11.5"
  }
 },
 "nbformat": 4,
 "nbformat_minor": 2
}
