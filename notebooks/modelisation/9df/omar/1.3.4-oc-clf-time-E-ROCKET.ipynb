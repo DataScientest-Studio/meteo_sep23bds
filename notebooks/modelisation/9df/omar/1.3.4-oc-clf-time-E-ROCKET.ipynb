{
 "cells": [
  {
   "cell_type": "markdown",
   "metadata": {},
   "source": [
    "# **Classification** des **séries temporelles** avec `sktime`"
   ]
  },
  {
   "cell_type": "markdown",
   "metadata": {},
   "source": [
    "## Métadonnées"
   ]
  },
  {
   "cell_type": "markdown",
   "metadata": {},
   "source": [
    "- **Expérience nº :** 1.3.4\n",
    "- **Date :** 15/11/2023\n",
    "- **Heure :** 23:26\n",
    "- **Données :** `ready_Evaporation.csv`\n",
    "- **Tri :** index chronologique\n",
    "- **Découpage :** `TimeSeriesSplit`\n",
    "- **Mise à l'échelle :** non\n",
    "- **Rééquilibrage :** non\n",
    "- **Conversion :** `to_sktime_dataset`\n",
    "- **Algorithme :** ROCKET"
   ]
  },
  {
   "cell_type": "markdown",
   "metadata": {},
   "source": [
    "## Sommaire"
   ]
  },
  {
   "cell_type": "markdown",
   "metadata": {},
   "source": [
    "1. Initialisation\n",
    "2. Découpage\n",
    "3. Conversion\n",
    "4. Modélisation\n",
    "5. Évaluation"
   ]
  },
  {
   "cell_type": "markdown",
   "metadata": {},
   "source": [
    "## 1. Initialisation"
   ]
  },
  {
   "cell_type": "code",
   "execution_count": 1,
   "metadata": {},
   "outputs": [],
   "source": [
    "# Importation des bibliothèques et modules nécessaires au fonctionnement de ce notebook\n",
    "\n",
    "import pandas as pd\n",
    "import numpy as np\n",
    "\n",
    "from sklearn.metrics import classification_report"
   ]
  },
  {
   "cell_type": "code",
   "execution_count": 2,
   "metadata": {},
   "outputs": [],
   "source": [
    "# Importation du jeu de données et enregistrement dans le DataFrame `df`\n",
    "\n",
    "df = pd.read_csv(\"../../../data/9df/Omar/ready_Evaporation.csv\", index_col = 1).sort_index()\n",
    "df = df.drop(columns = \"Unnamed: 0\")"
   ]
  },
  {
   "cell_type": "code",
   "execution_count": 3,
   "metadata": {},
   "outputs": [
    {
     "data": {
      "text/html": [
       "<div>\n",
       "<style scoped>\n",
       "    .dataframe tbody tr th:only-of-type {\n",
       "        vertical-align: middle;\n",
       "    }\n",
       "\n",
       "    .dataframe tbody tr th {\n",
       "        vertical-align: top;\n",
       "    }\n",
       "\n",
       "    .dataframe thead th {\n",
       "        text-align: right;\n",
       "    }\n",
       "</style>\n",
       "<table border=\"1\" class=\"dataframe\">\n",
       "  <thead>\n",
       "    <tr style=\"text-align: right;\">\n",
       "      <th></th>\n",
       "      <th>MinTemp</th>\n",
       "      <th>MaxTemp</th>\n",
       "      <th>Rainfall</th>\n",
       "      <th>Sunshine</th>\n",
       "      <th>WindGustSpeed</th>\n",
       "      <th>WindSpeed9am</th>\n",
       "      <th>WindSpeed3pm</th>\n",
       "      <th>Humidity9am</th>\n",
       "      <th>Humidity3pm</th>\n",
       "      <th>Pressure9am</th>\n",
       "      <th>...</th>\n",
       "      <th>year</th>\n",
       "      <th>month</th>\n",
       "      <th>day</th>\n",
       "      <th>LocationNum</th>\n",
       "      <th>WindGustDirNum</th>\n",
       "      <th>WindDir9amNum</th>\n",
       "      <th>WindDir3pmNum</th>\n",
       "      <th>Latitude</th>\n",
       "      <th>Longitude</th>\n",
       "      <th>CodeRegionNum</th>\n",
       "    </tr>\n",
       "    <tr>\n",
       "      <th>Date</th>\n",
       "      <th></th>\n",
       "      <th></th>\n",
       "      <th></th>\n",
       "      <th></th>\n",
       "      <th></th>\n",
       "      <th></th>\n",
       "      <th></th>\n",
       "      <th></th>\n",
       "      <th></th>\n",
       "      <th></th>\n",
       "      <th></th>\n",
       "      <th></th>\n",
       "      <th></th>\n",
       "      <th></th>\n",
       "      <th></th>\n",
       "      <th></th>\n",
       "      <th></th>\n",
       "      <th></th>\n",
       "      <th></th>\n",
       "      <th></th>\n",
       "      <th></th>\n",
       "    </tr>\n",
       "  </thead>\n",
       "  <tbody>\n",
       "    <tr>\n",
       "      <th>2009-01-01</th>\n",
       "      <td>18.800000</td>\n",
       "      <td>38.4</td>\n",
       "      <td>0.0</td>\n",
       "      <td>13.1</td>\n",
       "      <td>50.000000</td>\n",
       "      <td>22.0</td>\n",
       "      <td>13.0</td>\n",
       "      <td>46.0</td>\n",
       "      <td>20.0</td>\n",
       "      <td>1010.4</td>\n",
       "      <td>...</td>\n",
       "      <td>2009</td>\n",
       "      <td>1</td>\n",
       "      <td>1</td>\n",
       "      <td>38</td>\n",
       "      <td>0.000000</td>\n",
       "      <td>5.890486</td>\n",
       "      <td>5.497787</td>\n",
       "      <td>-31.667778</td>\n",
       "      <td>116.015</td>\n",
       "      <td>5</td>\n",
       "    </tr>\n",
       "    <tr>\n",
       "      <th>2009-01-02</th>\n",
       "      <td>22.000000</td>\n",
       "      <td>39.1</td>\n",
       "      <td>0.0</td>\n",
       "      <td>13.2</td>\n",
       "      <td>52.000000</td>\n",
       "      <td>4.0</td>\n",
       "      <td>31.0</td>\n",
       "      <td>38.0</td>\n",
       "      <td>23.0</td>\n",
       "      <td>1008.3</td>\n",
       "      <td>...</td>\n",
       "      <td>2009</td>\n",
       "      <td>1</td>\n",
       "      <td>2</td>\n",
       "      <td>38</td>\n",
       "      <td>0.000000</td>\n",
       "      <td>2.356194</td>\n",
       "      <td>3.926991</td>\n",
       "      <td>-31.667778</td>\n",
       "      <td>116.015</td>\n",
       "      <td>5</td>\n",
       "    </tr>\n",
       "    <tr>\n",
       "      <th>2009-01-03</th>\n",
       "      <td>15.900000</td>\n",
       "      <td>35.6</td>\n",
       "      <td>0.0</td>\n",
       "      <td>12.7</td>\n",
       "      <td>43.473477</td>\n",
       "      <td>13.0</td>\n",
       "      <td>28.0</td>\n",
       "      <td>58.0</td>\n",
       "      <td>29.0</td>\n",
       "      <td>1012.1</td>\n",
       "      <td>...</td>\n",
       "      <td>2009</td>\n",
       "      <td>1</td>\n",
       "      <td>3</td>\n",
       "      <td>38</td>\n",
       "      <td>2.896869</td>\n",
       "      <td>9.424778</td>\n",
       "      <td>4.319690</td>\n",
       "      <td>-31.667778</td>\n",
       "      <td>116.015</td>\n",
       "      <td>5</td>\n",
       "    </tr>\n",
       "    <tr>\n",
       "      <th>2009-01-04</th>\n",
       "      <td>12.456393</td>\n",
       "      <td>37.0</td>\n",
       "      <td>0.0</td>\n",
       "      <td>13.3</td>\n",
       "      <td>43.000000</td>\n",
       "      <td>24.0</td>\n",
       "      <td>20.0</td>\n",
       "      <td>45.0</td>\n",
       "      <td>19.0</td>\n",
       "      <td>1016.6</td>\n",
       "      <td>...</td>\n",
       "      <td>2009</td>\n",
       "      <td>1</td>\n",
       "      <td>4</td>\n",
       "      <td>38</td>\n",
       "      <td>5.497787</td>\n",
       "      <td>5.497787</td>\n",
       "      <td>5.890486</td>\n",
       "      <td>-31.667778</td>\n",
       "      <td>116.015</td>\n",
       "      <td>5</td>\n",
       "    </tr>\n",
       "    <tr>\n",
       "      <th>2009-01-05</th>\n",
       "      <td>21.800000</td>\n",
       "      <td>38.6</td>\n",
       "      <td>0.0</td>\n",
       "      <td>13.2</td>\n",
       "      <td>59.000000</td>\n",
       "      <td>15.0</td>\n",
       "      <td>15.0</td>\n",
       "      <td>35.0</td>\n",
       "      <td>15.0</td>\n",
       "      <td>1014.1</td>\n",
       "      <td>...</td>\n",
       "      <td>2009</td>\n",
       "      <td>1</td>\n",
       "      <td>5</td>\n",
       "      <td>38</td>\n",
       "      <td>0.000000</td>\n",
       "      <td>5.890486</td>\n",
       "      <td>5.105088</td>\n",
       "      <td>-31.667778</td>\n",
       "      <td>116.015</td>\n",
       "      <td>5</td>\n",
       "    </tr>\n",
       "  </tbody>\n",
       "</table>\n",
       "<p>5 rows × 27 columns</p>\n",
       "</div>"
      ],
      "text/plain": [
       "              MinTemp  MaxTemp  Rainfall  Sunshine  WindGustSpeed  \\\n",
       "Date                                                                \n",
       "2009-01-01  18.800000     38.4       0.0      13.1      50.000000   \n",
       "2009-01-02  22.000000     39.1       0.0      13.2      52.000000   \n",
       "2009-01-03  15.900000     35.6       0.0      12.7      43.473477   \n",
       "2009-01-04  12.456393     37.0       0.0      13.3      43.000000   \n",
       "2009-01-05  21.800000     38.6       0.0      13.2      59.000000   \n",
       "\n",
       "            WindSpeed9am  WindSpeed3pm  Humidity9am  Humidity3pm  Pressure9am  \\\n",
       "Date                                                                            \n",
       "2009-01-01          22.0          13.0         46.0         20.0       1010.4   \n",
       "2009-01-02           4.0          31.0         38.0         23.0       1008.3   \n",
       "2009-01-03          13.0          28.0         58.0         29.0       1012.1   \n",
       "2009-01-04          24.0          20.0         45.0         19.0       1016.6   \n",
       "2009-01-05          15.0          15.0         35.0         15.0       1014.1   \n",
       "\n",
       "            ...  year  month  day  LocationNum  WindGustDirNum  WindDir9amNum  \\\n",
       "Date        ...                                                                 \n",
       "2009-01-01  ...  2009      1    1           38        0.000000       5.890486   \n",
       "2009-01-02  ...  2009      1    2           38        0.000000       2.356194   \n",
       "2009-01-03  ...  2009      1    3           38        2.896869       9.424778   \n",
       "2009-01-04  ...  2009      1    4           38        5.497787       5.497787   \n",
       "2009-01-05  ...  2009      1    5           38        0.000000       5.890486   \n",
       "\n",
       "            WindDir3pmNum   Latitude  Longitude  CodeRegionNum  \n",
       "Date                                                            \n",
       "2009-01-01       5.497787 -31.667778    116.015              5  \n",
       "2009-01-02       3.926991 -31.667778    116.015              5  \n",
       "2009-01-03       4.319690 -31.667778    116.015              5  \n",
       "2009-01-04       5.890486 -31.667778    116.015              5  \n",
       "2009-01-05       5.105088 -31.667778    116.015              5  \n",
       "\n",
       "[5 rows x 27 columns]"
      ]
     },
     "execution_count": 3,
     "metadata": {},
     "output_type": "execute_result"
    }
   ],
   "source": [
    "# Inspection de la structure de `df`\n",
    "\n",
    "df.head()"
   ]
  },
  {
   "cell_type": "code",
   "execution_count": 4,
   "metadata": {},
   "outputs": [
    {
     "name": "stdout",
     "output_type": "stream",
     "text": [
      "<class 'pandas.core.frame.DataFrame'>\n",
      "Index: 2646 entries, 2009-01-01 to 2017-06-25\n",
      "Data columns (total 27 columns):\n",
      " #   Column          Non-Null Count  Dtype  \n",
      "---  ------          --------------  -----  \n",
      " 0   MinTemp         2646 non-null   float64\n",
      " 1   MaxTemp         2646 non-null   float64\n",
      " 2   Rainfall        2646 non-null   float64\n",
      " 3   Sunshine        2646 non-null   float64\n",
      " 4   WindGustSpeed   2646 non-null   float64\n",
      " 5   WindSpeed9am    2646 non-null   float64\n",
      " 6   WindSpeed3pm    2646 non-null   float64\n",
      " 7   Humidity9am     2646 non-null   float64\n",
      " 8   Humidity3pm     2646 non-null   float64\n",
      " 9   Pressure9am     2646 non-null   float64\n",
      " 10  Pressure3pm     2646 non-null   float64\n",
      " 11  Cloud9am        2646 non-null   float64\n",
      " 12  Cloud3pm        2646 non-null   float64\n",
      " 13  Temp9am         2646 non-null   float64\n",
      " 14  Temp3pm         2646 non-null   float64\n",
      " 15  RainToday       2646 non-null   int64  \n",
      " 16  RainTomorrow    2646 non-null   int64  \n",
      " 17  year            2646 non-null   int64  \n",
      " 18  month           2646 non-null   int64  \n",
      " 19  day             2646 non-null   int64  \n",
      " 20  LocationNum     2646 non-null   int64  \n",
      " 21  WindGustDirNum  2646 non-null   float64\n",
      " 22  WindDir9amNum   2646 non-null   float64\n",
      " 23  WindDir3pmNum   2646 non-null   float64\n",
      " 24  Latitude        2646 non-null   float64\n",
      " 25  Longitude       2646 non-null   float64\n",
      " 26  CodeRegionNum   2646 non-null   int64  \n",
      "dtypes: float64(20), int64(7)\n",
      "memory usage: 578.8+ KB\n"
     ]
    }
   ],
   "source": [
    "# Inspection de la structure de `df`\n",
    "\n",
    "df.info()"
   ]
  },
  {
   "cell_type": "markdown",
   "metadata": {},
   "source": [
    "## 2. Découpage"
   ]
  },
  {
   "cell_type": "code",
   "execution_count": 5,
   "metadata": {},
   "outputs": [],
   "source": [
    "# Découpage de `df` sur l'axe des colonnes : séparation des variables explicatives (`data`) et cible (`target`)\n",
    "\n",
    "data = df.drop(columns = \"RainTomorrow\")\n",
    "target = df[\"RainTomorrow\"]"
   ]
  },
  {
   "cell_type": "code",
   "execution_count": 6,
   "metadata": {},
   "outputs": [],
   "source": [
    "# Découpage de `data` et de `target` sur l'axe des lignes : séparation des jeux d'entraînement (`*_train`) et de test (`*_test`) avec le splitter `TimeSeriesSplit`\n",
    "\n",
    "from sklearn.model_selection import TimeSeriesSplit\n",
    "\n",
    "tss = TimeSeriesSplit(n_splits = 5) ## Nous fixons le paramètre `n_splits` à 5 afin d'avoir une répartition de 80 / 20 entre les jeux d'entraînement et de test, respectivement.\n",
    "\n",
    "for train_index, test_index in tss.split(data):\n",
    "    X_train, X_test = data.iloc[train_index, :], data.iloc[test_index,:]\n",
    "    y_train, y_test = target.iloc[train_index], target.iloc[test_index]"
   ]
  },
  {
   "cell_type": "markdown",
   "metadata": {},
   "source": [
    "## 3. Conversion"
   ]
  },
  {
   "cell_type": "code",
   "execution_count": 7,
   "metadata": {},
   "outputs": [],
   "source": [
    "# Conversion des jeux `X_train` et `X_test` au format `sktime` avec la fonction `to_sktime_dataset` de la bibliothèque `tslearn`\n",
    "\n",
    "from tslearn.utils import to_sktime_dataset\n",
    "\n",
    "X_train = to_sktime_dataset(X_train)\n",
    "X_test = to_sktime_dataset(X_test)"
   ]
  },
  {
   "cell_type": "markdown",
   "metadata": {},
   "source": [
    "`tslearn` est un autre _package_ Python qui fournit des outils d'apprentissage automatique pour l'analyse de séries temporelles (réf. 1).\n",
    "\n",
    "Il propose, dans son module `utils`, la fonction `to_sktime_dataset`, qui permet de convertir un jeu de données vers un format de scitype `\"Panel\"` et de mtype `\"nested_univ\"`.\n",
    "\n",
    "Ce format fait partie de ceux admis par `sktime` (réf. 2, § 1.2, § 3.2.2) et correspond notamment à celui du jeu de données dans sa démonstration de ROCKET (réf. 3).\n",
    "\n",
    "Références :\n",
    "1. https://tslearn.readthedocs.io/en/stable/index.html\n",
    "2. https://www.sktime.net/en/stable/examples/AA_datatypes_and_datasets.html\n",
    "3. https://www.sktime.net/en/latest/examples/transformation/rocket.html"
   ]
  },
  {
   "cell_type": "code",
   "execution_count": 8,
   "metadata": {},
   "outputs": [
    {
     "data": {
      "text/html": [
       "<div>\n",
       "<style scoped>\n",
       "    .dataframe tbody tr th:only-of-type {\n",
       "        vertical-align: middle;\n",
       "    }\n",
       "\n",
       "    .dataframe tbody tr th {\n",
       "        vertical-align: top;\n",
       "    }\n",
       "\n",
       "    .dataframe thead th {\n",
       "        text-align: right;\n",
       "    }\n",
       "</style>\n",
       "<table border=\"1\" class=\"dataframe\">\n",
       "  <thead>\n",
       "    <tr style=\"text-align: right;\">\n",
       "      <th></th>\n",
       "      <th>dim_0</th>\n",
       "    </tr>\n",
       "  </thead>\n",
       "  <tbody>\n",
       "    <tr>\n",
       "      <th>0</th>\n",
       "      <td>0       18.800000\n",
       "1       38.400000\n",
       "2        0...</td>\n",
       "    </tr>\n",
       "    <tr>\n",
       "      <th>1</th>\n",
       "      <td>0       22.000000\n",
       "1       39.100000\n",
       "2        0...</td>\n",
       "    </tr>\n",
       "    <tr>\n",
       "      <th>2</th>\n",
       "      <td>0       15.900000\n",
       "1       35.600000\n",
       "2        0...</td>\n",
       "    </tr>\n",
       "    <tr>\n",
       "      <th>3</th>\n",
       "      <td>0       12.456393\n",
       "1       37.000000\n",
       "2        0...</td>\n",
       "    </tr>\n",
       "    <tr>\n",
       "      <th>4</th>\n",
       "      <td>0       21.800000\n",
       "1       38.600000\n",
       "2        0...</td>\n",
       "    </tr>\n",
       "  </tbody>\n",
       "</table>\n",
       "</div>"
      ],
      "text/plain": [
       "                                               dim_0\n",
       "0  0       18.800000\n",
       "1       38.400000\n",
       "2        0...\n",
       "1  0       22.000000\n",
       "1       39.100000\n",
       "2        0...\n",
       "2  0       15.900000\n",
       "1       35.600000\n",
       "2        0...\n",
       "3  0       12.456393\n",
       "1       37.000000\n",
       "2        0...\n",
       "4  0       21.800000\n",
       "1       38.600000\n",
       "2        0..."
      ]
     },
     "execution_count": 8,
     "metadata": {},
     "output_type": "execute_result"
    }
   ],
   "source": [
    "X_train.head()"
   ]
  },
  {
   "cell_type": "markdown",
   "metadata": {},
   "source": [
    "Cette conversion nécessite le changement de paradigme suivant :\n",
    "- Chaque date (ligne) est considérée comme une INSTANCE (un échantillon).\n",
    "- Pour chaque instance, toutes les VARIABLES EXPLICATIVES sont concaténées en une seule (`dim_0`).\n",
    "- Chaque concaténation est considérée comme une série de POINTS TEMPORELS, disposés _horizontalement_.\n",
    "\n",
    "Cette formulation n'est pas intuitive : en effet, il est plus naturel de définir une série temporelle _verticalement_, en suivant l'index chronologique.\n",
    "\n",
    "Elle est néanmoins utile car elle permet d'adapter le jeu de données à la méthode ROCKET.\n",
    "\n",
    "Elle s'inspire de l'analyse des images en tant que séries temporelles par le déroulement de leur contour sur un hypothétique axe temporel, permettant par la suite d'y appliquer des méthodes réservées aux séries temporelles :\n",
    "\n",
    "![image.png](https://www.sktime.net/en/v0.20.0/_images/from-shapes-to-time-series.png)"
   ]
  },
  {
   "cell_type": "markdown",
   "metadata": {},
   "source": [
    "## 4. Modélisation"
   ]
  },
  {
   "cell_type": "code",
   "execution_count": 8,
   "metadata": {},
   "outputs": [],
   "source": [
    "# Instanciation d'un transformateur ROCKET\n",
    "\n",
    "from sktime.transformations.panel.rocket import Rocket\n",
    "\n",
    "rocket = Rocket()"
   ]
  },
  {
   "cell_type": "code",
   "execution_count": 9,
   "metadata": {},
   "outputs": [
    {
     "data": {
      "text/plain": [
       "{'n_jobs': 1, 'normalise': True, 'num_kernels': 10000, 'random_state': None}"
      ]
     },
     "execution_count": 9,
     "metadata": {},
     "output_type": "execute_result"
    }
   ],
   "source": [
    "# Récupération des paramètres initiaux du transformateur ROCKET\n",
    "\n",
    "rocket.get_params()"
   ]
  },
  {
   "cell_type": "code",
   "execution_count": 10,
   "metadata": {},
   "outputs": [
    {
     "name": "stderr",
     "output_type": "stream",
     "text": [
      "OMP: Info #276: omp_set_nested routine deprecated, please use omp_set_max_active_levels instead.\n"
     ]
    },
    {
     "data": {
      "text/html": [
       "<style>#sk-466ef9a2-d6b6-4d28-a8f4-97b678a0894a {color: black;background-color: white;}#sk-466ef9a2-d6b6-4d28-a8f4-97b678a0894a pre{padding: 0;}#sk-466ef9a2-d6b6-4d28-a8f4-97b678a0894a div.sk-toggleable {background-color: white;}#sk-466ef9a2-d6b6-4d28-a8f4-97b678a0894a label.sk-toggleable__label {cursor: pointer;display: block;width: 100%;margin-bottom: 0;padding: 0.3em;box-sizing: border-box;text-align: center;}#sk-466ef9a2-d6b6-4d28-a8f4-97b678a0894a label.sk-toggleable__label-arrow:before {content: \"▸\";float: left;margin-right: 0.25em;color: #696969;}#sk-466ef9a2-d6b6-4d28-a8f4-97b678a0894a label.sk-toggleable__label-arrow:hover:before {color: black;}#sk-466ef9a2-d6b6-4d28-a8f4-97b678a0894a div.sk-estimator:hover label.sk-toggleable__label-arrow:before {color: black;}#sk-466ef9a2-d6b6-4d28-a8f4-97b678a0894a div.sk-toggleable__content {max-height: 0;max-width: 0;overflow: hidden;text-align: left;background-color: #f0f8ff;}#sk-466ef9a2-d6b6-4d28-a8f4-97b678a0894a div.sk-toggleable__content pre {margin: 0.2em;color: black;border-radius: 0.25em;background-color: #f0f8ff;}#sk-466ef9a2-d6b6-4d28-a8f4-97b678a0894a input.sk-toggleable__control:checked~div.sk-toggleable__content {max-height: 200px;max-width: 100%;overflow: auto;}#sk-466ef9a2-d6b6-4d28-a8f4-97b678a0894a input.sk-toggleable__control:checked~label.sk-toggleable__label-arrow:before {content: \"▾\";}#sk-466ef9a2-d6b6-4d28-a8f4-97b678a0894a div.sk-estimator input.sk-toggleable__control:checked~label.sk-toggleable__label {background-color: #d4ebff;}#sk-466ef9a2-d6b6-4d28-a8f4-97b678a0894a div.sk-label input.sk-toggleable__control:checked~label.sk-toggleable__label {background-color: #d4ebff;}#sk-466ef9a2-d6b6-4d28-a8f4-97b678a0894a input.sk-hidden--visually {border: 0;clip: rect(1px 1px 1px 1px);clip: rect(1px, 1px, 1px, 1px);height: 1px;margin: -1px;overflow: hidden;padding: 0;position: absolute;width: 1px;}#sk-466ef9a2-d6b6-4d28-a8f4-97b678a0894a div.sk-estimator {font-family: monospace;background-color: #f0f8ff;border: 1px dotted black;border-radius: 0.25em;box-sizing: border-box;margin-bottom: 0.5em;}#sk-466ef9a2-d6b6-4d28-a8f4-97b678a0894a div.sk-estimator:hover {background-color: #d4ebff;}#sk-466ef9a2-d6b6-4d28-a8f4-97b678a0894a div.sk-parallel-item::after {content: \"\";width: 100%;border-bottom: 1px solid gray;flex-grow: 1;}#sk-466ef9a2-d6b6-4d28-a8f4-97b678a0894a div.sk-label:hover label.sk-toggleable__label {background-color: #d4ebff;}#sk-466ef9a2-d6b6-4d28-a8f4-97b678a0894a div.sk-serial::before {content: \"\";position: absolute;border-left: 1px solid gray;box-sizing: border-box;top: 2em;bottom: 0;left: 50%;}#sk-466ef9a2-d6b6-4d28-a8f4-97b678a0894a div.sk-serial {display: flex;flex-direction: column;align-items: center;background-color: white;padding-right: 0.2em;padding-left: 0.2em;}#sk-466ef9a2-d6b6-4d28-a8f4-97b678a0894a div.sk-item {z-index: 1;}#sk-466ef9a2-d6b6-4d28-a8f4-97b678a0894a div.sk-parallel {display: flex;align-items: stretch;justify-content: center;background-color: white;}#sk-466ef9a2-d6b6-4d28-a8f4-97b678a0894a div.sk-parallel::before {content: \"\";position: absolute;border-left: 1px solid gray;box-sizing: border-box;top: 2em;bottom: 0;left: 50%;}#sk-466ef9a2-d6b6-4d28-a8f4-97b678a0894a div.sk-parallel-item {display: flex;flex-direction: column;position: relative;background-color: white;}#sk-466ef9a2-d6b6-4d28-a8f4-97b678a0894a div.sk-parallel-item:first-child::after {align-self: flex-end;width: 50%;}#sk-466ef9a2-d6b6-4d28-a8f4-97b678a0894a div.sk-parallel-item:last-child::after {align-self: flex-start;width: 50%;}#sk-466ef9a2-d6b6-4d28-a8f4-97b678a0894a div.sk-parallel-item:only-child::after {width: 0;}#sk-466ef9a2-d6b6-4d28-a8f4-97b678a0894a div.sk-dashed-wrapped {border: 1px dashed gray;margin: 0 0.4em 0.5em 0.4em;box-sizing: border-box;padding-bottom: 0.4em;background-color: white;position: relative;}#sk-466ef9a2-d6b6-4d28-a8f4-97b678a0894a div.sk-label label {font-family: monospace;font-weight: bold;background-color: white;display: inline-block;line-height: 1.2em;}#sk-466ef9a2-d6b6-4d28-a8f4-97b678a0894a div.sk-label-container {position: relative;z-index: 2;text-align: center;}#sk-466ef9a2-d6b6-4d28-a8f4-97b678a0894a div.sk-container {/* jupyter's `normalize.less` sets `[hidden] { display: none; }` but bootstrap.min.css set `[hidden] { display: none !important; }` so we also need the `!important` here to be able to override the default hidden behavior on the sphinx rendered scikit-learn.org. See: https://github.com/scikit-learn/scikit-learn/issues/21755 */display: inline-block !important;position: relative;}#sk-466ef9a2-d6b6-4d28-a8f4-97b678a0894a div.sk-text-repr-fallback {display: none;}</style><div id='sk-466ef9a2-d6b6-4d28-a8f4-97b678a0894a' class=\"sk-top-container\"><div class=\"sk-text-repr-fallback\"><pre>Rocket()</pre><b>Please rerun this cell to show the HTML repr or trust the notebook.</b></div><div class=\"sk-container\" hidden><div class='sk-item'><div class=\"sk-estimator sk-toggleable\"><input class=\"sk-toggleable__control sk-hidden--visually\" id=UUID('b27766e3-1f3b-4250-9061-dda73bb11b19') type=\"checkbox\" checked><label for=UUID('b27766e3-1f3b-4250-9061-dda73bb11b19') class='sk-toggleable__label sk-toggleable__label-arrow'>Rocket</label><div class=\"sk-toggleable__content\"><pre>Rocket()</pre></div></div></div></div></div>"
      ],
      "text/plain": [
       "Rocket()"
      ]
     },
     "execution_count": 10,
     "metadata": {},
     "output_type": "execute_result"
    }
   ],
   "source": [
    "# Ajustement du transformateur ROCKET au jeu d'entraînement\n",
    "\n",
    "rocket.fit(X_train)"
   ]
  },
  {
   "cell_type": "code",
   "execution_count": 11,
   "metadata": {},
   "outputs": [
    {
     "data": {
      "text/plain": [
       "{}"
      ]
     },
     "execution_count": 11,
     "metadata": {},
     "output_type": "execute_result"
    }
   ],
   "source": [
    "# Récupération des paramètres ajustés du transformateur ROCKET\n",
    "\n",
    "rocket.get_fitted_params()"
   ]
  },
  {
   "cell_type": "code",
   "execution_count": 12,
   "metadata": {},
   "outputs": [],
   "source": [
    "# Application du transformateur ROCKET au jeu d'entraînement\n",
    "\n",
    "X_train_transform = rocket.transform(X_train)"
   ]
  },
  {
   "cell_type": "code",
   "execution_count": 13,
   "metadata": {},
   "outputs": [],
   "source": [
    "# Instanciation d'un modèle classificateur linéaire\n",
    "\n",
    "from sklearn.linear_model import RidgeClassifierCV\n",
    "\n",
    "clf_rocket_ridge = RidgeClassifierCV(alphas = np.logspace(-3, 3, 10)) ## Pour ce paramétrage initial, nous suivons l'exemple fourni par `sktime`, qui fixe 10 alphas, de -3 à 3, à équidistance sur l'échelle logarithmique."
   ]
  },
  {
   "cell_type": "code",
   "execution_count": 14,
   "metadata": {},
   "outputs": [
    {
     "data": {
      "text/plain": [
       "{'alphas': array([1.00000000e-03, 4.64158883e-03, 2.15443469e-02, 1.00000000e-01,\n",
       "        4.64158883e-01, 2.15443469e+00, 1.00000000e+01, 4.64158883e+01,\n",
       "        2.15443469e+02, 1.00000000e+03]),\n",
       " 'class_weight': None,\n",
       " 'cv': None,\n",
       " 'fit_intercept': True,\n",
       " 'scoring': None,\n",
       " 'store_cv_values': False}"
      ]
     },
     "execution_count": 14,
     "metadata": {},
     "output_type": "execute_result"
    }
   ],
   "source": [
    "# Récupération des paramètres initiaux du modèle\n",
    "\n",
    "clf_rocket_ridge.get_params()"
   ]
  },
  {
   "cell_type": "code",
   "execution_count": 15,
   "metadata": {},
   "outputs": [
    {
     "data": {
      "text/html": [
       "<style>#sk-container-id-1 {color: black;background-color: white;}#sk-container-id-1 pre{padding: 0;}#sk-container-id-1 div.sk-toggleable {background-color: white;}#sk-container-id-1 label.sk-toggleable__label {cursor: pointer;display: block;width: 100%;margin-bottom: 0;padding: 0.3em;box-sizing: border-box;text-align: center;}#sk-container-id-1 label.sk-toggleable__label-arrow:before {content: \"▸\";float: left;margin-right: 0.25em;color: #696969;}#sk-container-id-1 label.sk-toggleable__label-arrow:hover:before {color: black;}#sk-container-id-1 div.sk-estimator:hover label.sk-toggleable__label-arrow:before {color: black;}#sk-container-id-1 div.sk-toggleable__content {max-height: 0;max-width: 0;overflow: hidden;text-align: left;background-color: #f0f8ff;}#sk-container-id-1 div.sk-toggleable__content pre {margin: 0.2em;color: black;border-radius: 0.25em;background-color: #f0f8ff;}#sk-container-id-1 input.sk-toggleable__control:checked~div.sk-toggleable__content {max-height: 200px;max-width: 100%;overflow: auto;}#sk-container-id-1 input.sk-toggleable__control:checked~label.sk-toggleable__label-arrow:before {content: \"▾\";}#sk-container-id-1 div.sk-estimator input.sk-toggleable__control:checked~label.sk-toggleable__label {background-color: #d4ebff;}#sk-container-id-1 div.sk-label input.sk-toggleable__control:checked~label.sk-toggleable__label {background-color: #d4ebff;}#sk-container-id-1 input.sk-hidden--visually {border: 0;clip: rect(1px 1px 1px 1px);clip: rect(1px, 1px, 1px, 1px);height: 1px;margin: -1px;overflow: hidden;padding: 0;position: absolute;width: 1px;}#sk-container-id-1 div.sk-estimator {font-family: monospace;background-color: #f0f8ff;border: 1px dotted black;border-radius: 0.25em;box-sizing: border-box;margin-bottom: 0.5em;}#sk-container-id-1 div.sk-estimator:hover {background-color: #d4ebff;}#sk-container-id-1 div.sk-parallel-item::after {content: \"\";width: 100%;border-bottom: 1px solid gray;flex-grow: 1;}#sk-container-id-1 div.sk-label:hover label.sk-toggleable__label {background-color: #d4ebff;}#sk-container-id-1 div.sk-serial::before {content: \"\";position: absolute;border-left: 1px solid gray;box-sizing: border-box;top: 0;bottom: 0;left: 50%;z-index: 0;}#sk-container-id-1 div.sk-serial {display: flex;flex-direction: column;align-items: center;background-color: white;padding-right: 0.2em;padding-left: 0.2em;position: relative;}#sk-container-id-1 div.sk-item {position: relative;z-index: 1;}#sk-container-id-1 div.sk-parallel {display: flex;align-items: stretch;justify-content: center;background-color: white;position: relative;}#sk-container-id-1 div.sk-item::before, #sk-container-id-1 div.sk-parallel-item::before {content: \"\";position: absolute;border-left: 1px solid gray;box-sizing: border-box;top: 0;bottom: 0;left: 50%;z-index: -1;}#sk-container-id-1 div.sk-parallel-item {display: flex;flex-direction: column;z-index: 1;position: relative;background-color: white;}#sk-container-id-1 div.sk-parallel-item:first-child::after {align-self: flex-end;width: 50%;}#sk-container-id-1 div.sk-parallel-item:last-child::after {align-self: flex-start;width: 50%;}#sk-container-id-1 div.sk-parallel-item:only-child::after {width: 0;}#sk-container-id-1 div.sk-dashed-wrapped {border: 1px dashed gray;margin: 0 0.4em 0.5em 0.4em;box-sizing: border-box;padding-bottom: 0.4em;background-color: white;}#sk-container-id-1 div.sk-label label {font-family: monospace;font-weight: bold;display: inline-block;line-height: 1.2em;}#sk-container-id-1 div.sk-label-container {text-align: center;}#sk-container-id-1 div.sk-container {/* jupyter's `normalize.less` sets `[hidden] { display: none; }` but bootstrap.min.css set `[hidden] { display: none !important; }` so we also need the `!important` here to be able to override the default hidden behavior on the sphinx rendered scikit-learn.org. See: https://github.com/scikit-learn/scikit-learn/issues/21755 */display: inline-block !important;position: relative;}#sk-container-id-1 div.sk-text-repr-fallback {display: none;}</style><div id=\"sk-container-id-1\" class=\"sk-top-container\"><div class=\"sk-text-repr-fallback\"><pre>RidgeClassifierCV(alphas=array([1.00000000e-03, 4.64158883e-03, 2.15443469e-02, 1.00000000e-01,\n",
       "       4.64158883e-01, 2.15443469e+00, 1.00000000e+01, 4.64158883e+01,\n",
       "       2.15443469e+02, 1.00000000e+03]))</pre><b>In a Jupyter environment, please rerun this cell to show the HTML representation or trust the notebook. <br />On GitHub, the HTML representation is unable to render, please try loading this page with nbviewer.org.</b></div><div class=\"sk-container\" hidden><div class=\"sk-item\"><div class=\"sk-estimator sk-toggleable\"><input class=\"sk-toggleable__control sk-hidden--visually\" id=\"sk-estimator-id-1\" type=\"checkbox\" checked><label for=\"sk-estimator-id-1\" class=\"sk-toggleable__label sk-toggleable__label-arrow\">RidgeClassifierCV</label><div class=\"sk-toggleable__content\"><pre>RidgeClassifierCV(alphas=array([1.00000000e-03, 4.64158883e-03, 2.15443469e-02, 1.00000000e-01,\n",
       "       4.64158883e-01, 2.15443469e+00, 1.00000000e+01, 4.64158883e+01,\n",
       "       2.15443469e+02, 1.00000000e+03]))</pre></div></div></div></div></div>"
      ],
      "text/plain": [
       "RidgeClassifierCV(alphas=array([1.00000000e-03, 4.64158883e-03, 2.15443469e-02, 1.00000000e-01,\n",
       "       4.64158883e-01, 2.15443469e+00, 1.00000000e+01, 4.64158883e+01,\n",
       "       2.15443469e+02, 1.00000000e+03]))"
      ]
     },
     "execution_count": 15,
     "metadata": {},
     "output_type": "execute_result"
    }
   ],
   "source": [
    "# Entraînement du modèle\n",
    "\n",
    "clf_rocket_ridge.fit(X_train_transform, y_train)"
   ]
  },
  {
   "cell_type": "code",
   "execution_count": 16,
   "metadata": {},
   "outputs": [
    {
     "data": {
      "text/plain": [
       "{'alphas': array([1.00000000e-03, 4.64158883e-03, 2.15443469e-02, 1.00000000e-01,\n",
       "        4.64158883e-01, 2.15443469e+00, 1.00000000e+01, 4.64158883e+01,\n",
       "        2.15443469e+02, 1.00000000e+03]),\n",
       " 'class_weight': None,\n",
       " 'cv': None,\n",
       " 'fit_intercept': True,\n",
       " 'scoring': None,\n",
       " 'store_cv_values': False}"
      ]
     },
     "execution_count": 16,
     "metadata": {},
     "output_type": "execute_result"
    }
   ],
   "source": [
    "# Récupération des paramètres ajustés du modèle\n",
    "\n",
    "clf_rocket_ridge.get_params()"
   ]
  },
  {
   "cell_type": "code",
   "execution_count": 17,
   "metadata": {},
   "outputs": [],
   "source": [
    "# Application du transformateur ROCKET au jeu de test\n",
    "\n",
    "X_test_transform = rocket.transform(X_test)"
   ]
  },
  {
   "cell_type": "code",
   "execution_count": 18,
   "metadata": {},
   "outputs": [],
   "source": [
    "# Réalisation des prédictions\n",
    "\n",
    "y_pred = clf_rocket_ridge.predict(X_test_transform)"
   ]
  },
  {
   "cell_type": "markdown",
   "metadata": {},
   "source": [
    "## 5. Évaluation"
   ]
  },
  {
   "cell_type": "code",
   "execution_count": 19,
   "metadata": {},
   "outputs": [
    {
     "data": {
      "text/html": [
       "<div>\n",
       "<style scoped>\n",
       "    .dataframe tbody tr th:only-of-type {\n",
       "        vertical-align: middle;\n",
       "    }\n",
       "\n",
       "    .dataframe tbody tr th {\n",
       "        vertical-align: top;\n",
       "    }\n",
       "\n",
       "    .dataframe thead th {\n",
       "        text-align: right;\n",
       "    }\n",
       "</style>\n",
       "<table border=\"1\" class=\"dataframe\">\n",
       "  <thead>\n",
       "    <tr style=\"text-align: right;\">\n",
       "      <th>Classe prédite</th>\n",
       "      <th>0</th>\n",
       "      <th>1</th>\n",
       "    </tr>\n",
       "    <tr>\n",
       "      <th>Classe réelle</th>\n",
       "      <th></th>\n",
       "      <th></th>\n",
       "    </tr>\n",
       "  </thead>\n",
       "  <tbody>\n",
       "    <tr>\n",
       "      <th>0</th>\n",
       "      <td>326</td>\n",
       "      <td>20</td>\n",
       "    </tr>\n",
       "    <tr>\n",
       "      <th>1</th>\n",
       "      <td>30</td>\n",
       "      <td>65</td>\n",
       "    </tr>\n",
       "  </tbody>\n",
       "</table>\n",
       "</div>"
      ],
      "text/plain": [
       "Classe prédite    0   1\n",
       "Classe réelle          \n",
       "0               326  20\n",
       "1                30  65"
      ]
     },
     "execution_count": 19,
     "metadata": {},
     "output_type": "execute_result"
    }
   ],
   "source": [
    "# Élaboration de la matrice de confusion\n",
    "\n",
    "pd.crosstab(y_test, y_pred, rownames = [\"Classe réelle\"], colnames = [\"Classe prédite\"])"
   ]
  },
  {
   "cell_type": "code",
   "execution_count": 20,
   "metadata": {},
   "outputs": [
    {
     "name": "stdout",
     "output_type": "stream",
     "text": [
      "              precision    recall  f1-score   support\n",
      "\n",
      "           0       0.92      0.94      0.93       346\n",
      "           1       0.76      0.68      0.72        95\n",
      "\n",
      "    accuracy                           0.89       441\n",
      "   macro avg       0.84      0.81      0.83       441\n",
      "weighted avg       0.88      0.89      0.88       441\n",
      "\n"
     ]
    }
   ],
   "source": [
    "# Élaboration du rapport de classification\n",
    "\n",
    "print(classification_report(y_test, y_pred))"
   ]
  }
 ],
 "metadata": {
  "kernelspec": {
   "display_name": "datascientest_project",
   "language": "python",
   "name": "python3"
  },
  "language_info": {
   "codemirror_mode": {
    "name": "ipython",
    "version": 3
   },
   "file_extension": ".py",
   "mimetype": "text/x-python",
   "name": "python",
   "nbconvert_exporter": "python",
   "pygments_lexer": "ipython3",
   "version": "3.11.5"
  }
 },
 "nbformat": 4,
 "nbformat_minor": 2
}
