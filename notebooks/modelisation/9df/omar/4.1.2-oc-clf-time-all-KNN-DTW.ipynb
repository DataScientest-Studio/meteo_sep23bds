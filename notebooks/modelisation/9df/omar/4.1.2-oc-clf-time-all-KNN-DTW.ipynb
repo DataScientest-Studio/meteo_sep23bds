{
 "cells": [
  {
   "cell_type": "markdown",
   "metadata": {},
   "source": [
    "# **Classification** des **séries temporelles** avec `sktime`"
   ]
  },
  {
   "cell_type": "markdown",
   "metadata": {},
   "source": [
    "## Métadonnées"
   ]
  },
  {
   "cell_type": "markdown",
   "metadata": {},
   "source": [
    "- **Expérience nº :** 4.1.2\n",
    "- **Date :** 11/11/2023\n",
    "- **Heure :** 11:00\n",
    "- **Données :** `ready_all.csv`\n",
    "- **Tri :** index chronologique\n",
    "- **Découpage :** `TimeSeriesSplit`\n",
    "- **Mise à l'échelle :** non\n",
    "- **Rééquilibrage :** non\n",
    "- **Conversion :** `numpyfy`\n",
    "- **Algorithme :** KNN + DTW"
   ]
  },
  {
   "cell_type": "markdown",
   "metadata": {},
   "source": [
    "## Sommaire"
   ]
  },
  {
   "cell_type": "markdown",
   "metadata": {},
   "source": [
    "1. Initialisation\n",
    "2. Découpage\n",
    "3. Conversion\n",
    "4. Modélisation\n",
    "5. Évaluation"
   ]
  },
  {
   "cell_type": "markdown",
   "metadata": {},
   "source": [
    "## 1. Initialisation"
   ]
  },
  {
   "cell_type": "code",
   "execution_count": 1,
   "metadata": {},
   "outputs": [],
   "source": [
    "# Importation des bibliothèques et modules nécessaires au fonctionnement de ce notebook\n",
    "\n",
    "import pandas as pd\n",
    "import numpy as np\n",
    "\n",
    "from sklearn.metrics import classification_report"
   ]
  },
  {
   "cell_type": "code",
   "execution_count": 2,
   "metadata": {},
   "outputs": [],
   "source": [
    "# Importation du jeu de données et enregistrement dans le DataFrame `df`\n",
    "\n",
    "df = pd.read_csv(\"../../../../data/processed/alex/ready_all.csv\", index_col = 1).sort_index()\n",
    "df = df.drop(columns = \"Unnamed: 0\")"
   ]
  },
  {
   "cell_type": "code",
   "execution_count": 3,
   "metadata": {},
   "outputs": [
    {
     "data": {
      "text/html": [
       "<div>\n",
       "<style scoped>\n",
       "    .dataframe tbody tr th:only-of-type {\n",
       "        vertical-align: middle;\n",
       "    }\n",
       "\n",
       "    .dataframe tbody tr th {\n",
       "        vertical-align: top;\n",
       "    }\n",
       "\n",
       "    .dataframe thead th {\n",
       "        text-align: right;\n",
       "    }\n",
       "</style>\n",
       "<table border=\"1\" class=\"dataframe\">\n",
       "  <thead>\n",
       "    <tr style=\"text-align: right;\">\n",
       "      <th></th>\n",
       "      <th>MinTemp</th>\n",
       "      <th>MaxTemp</th>\n",
       "      <th>Rainfall</th>\n",
       "      <th>Evaporation</th>\n",
       "      <th>Sunshine</th>\n",
       "      <th>WindGustSpeed</th>\n",
       "      <th>WindSpeed9am</th>\n",
       "      <th>WindSpeed3pm</th>\n",
       "      <th>Humidity9am</th>\n",
       "      <th>Humidity3pm</th>\n",
       "      <th>...</th>\n",
       "      <th>month</th>\n",
       "      <th>day</th>\n",
       "      <th>LocationNum</th>\n",
       "      <th>WindGustDirNum</th>\n",
       "      <th>WindDir9amNum</th>\n",
       "      <th>WindDir3pmNum</th>\n",
       "      <th>Latitude</th>\n",
       "      <th>Longitude</th>\n",
       "      <th>CodeRegionNum</th>\n",
       "      <th>NonMesNum</th>\n",
       "    </tr>\n",
       "    <tr>\n",
       "      <th>Date</th>\n",
       "      <th></th>\n",
       "      <th></th>\n",
       "      <th></th>\n",
       "      <th></th>\n",
       "      <th></th>\n",
       "      <th></th>\n",
       "      <th></th>\n",
       "      <th></th>\n",
       "      <th></th>\n",
       "      <th></th>\n",
       "      <th></th>\n",
       "      <th></th>\n",
       "      <th></th>\n",
       "      <th></th>\n",
       "      <th></th>\n",
       "      <th></th>\n",
       "      <th></th>\n",
       "      <th></th>\n",
       "      <th></th>\n",
       "      <th></th>\n",
       "      <th></th>\n",
       "    </tr>\n",
       "  </thead>\n",
       "  <tbody>\n",
       "    <tr>\n",
       "      <th>2007-11-01</th>\n",
       "      <td>8.0</td>\n",
       "      <td>24.3</td>\n",
       "      <td>0.0</td>\n",
       "      <td>3.4</td>\n",
       "      <td>6.3</td>\n",
       "      <td>30.0</td>\n",
       "      <td>6.0</td>\n",
       "      <td>20.0</td>\n",
       "      <td>68.0</td>\n",
       "      <td>29.0</td>\n",
       "      <td>...</td>\n",
       "      <td>11</td>\n",
       "      <td>1</td>\n",
       "      <td>15</td>\n",
       "      <td>2.356194</td>\n",
       "      <td>3.926991</td>\n",
       "      <td>2.356194</td>\n",
       "      <td>-35.297591</td>\n",
       "      <td>149.101268</td>\n",
       "      <td>1</td>\n",
       "      <td>2</td>\n",
       "    </tr>\n",
       "    <tr>\n",
       "      <th>2007-11-02</th>\n",
       "      <td>14.0</td>\n",
       "      <td>26.9</td>\n",
       "      <td>3.6</td>\n",
       "      <td>4.4</td>\n",
       "      <td>9.7</td>\n",
       "      <td>39.0</td>\n",
       "      <td>4.0</td>\n",
       "      <td>17.0</td>\n",
       "      <td>80.0</td>\n",
       "      <td>36.0</td>\n",
       "      <td>...</td>\n",
       "      <td>11</td>\n",
       "      <td>2</td>\n",
       "      <td>15</td>\n",
       "      <td>0.392699</td>\n",
       "      <td>0.000000</td>\n",
       "      <td>3.141593</td>\n",
       "      <td>-35.297591</td>\n",
       "      <td>149.101268</td>\n",
       "      <td>1</td>\n",
       "      <td>2</td>\n",
       "    </tr>\n",
       "    <tr>\n",
       "      <th>2007-11-03</th>\n",
       "      <td>13.7</td>\n",
       "      <td>23.4</td>\n",
       "      <td>3.6</td>\n",
       "      <td>5.8</td>\n",
       "      <td>3.3</td>\n",
       "      <td>85.0</td>\n",
       "      <td>6.0</td>\n",
       "      <td>6.0</td>\n",
       "      <td>82.0</td>\n",
       "      <td>69.0</td>\n",
       "      <td>...</td>\n",
       "      <td>11</td>\n",
       "      <td>3</td>\n",
       "      <td>15</td>\n",
       "      <td>2.356194</td>\n",
       "      <td>1.570796</td>\n",
       "      <td>1.178097</td>\n",
       "      <td>-35.297591</td>\n",
       "      <td>149.101268</td>\n",
       "      <td>1</td>\n",
       "      <td>2</td>\n",
       "    </tr>\n",
       "    <tr>\n",
       "      <th>2007-11-04</th>\n",
       "      <td>13.3</td>\n",
       "      <td>15.5</td>\n",
       "      <td>39.8</td>\n",
       "      <td>7.2</td>\n",
       "      <td>9.1</td>\n",
       "      <td>54.0</td>\n",
       "      <td>30.0</td>\n",
       "      <td>24.0</td>\n",
       "      <td>62.0</td>\n",
       "      <td>56.0</td>\n",
       "      <td>...</td>\n",
       "      <td>11</td>\n",
       "      <td>4</td>\n",
       "      <td>15</td>\n",
       "      <td>2.356194</td>\n",
       "      <td>2.748894</td>\n",
       "      <td>3.141593</td>\n",
       "      <td>-35.297591</td>\n",
       "      <td>149.101268</td>\n",
       "      <td>1</td>\n",
       "      <td>2</td>\n",
       "    </tr>\n",
       "    <tr>\n",
       "      <th>2007-11-05</th>\n",
       "      <td>7.6</td>\n",
       "      <td>16.1</td>\n",
       "      <td>2.8</td>\n",
       "      <td>5.6</td>\n",
       "      <td>10.6</td>\n",
       "      <td>50.0</td>\n",
       "      <td>20.0</td>\n",
       "      <td>28.0</td>\n",
       "      <td>68.0</td>\n",
       "      <td>49.0</td>\n",
       "      <td>...</td>\n",
       "      <td>11</td>\n",
       "      <td>5</td>\n",
       "      <td>15</td>\n",
       "      <td>5.105088</td>\n",
       "      <td>5.105088</td>\n",
       "      <td>5.890486</td>\n",
       "      <td>-35.297591</td>\n",
       "      <td>149.101268</td>\n",
       "      <td>1</td>\n",
       "      <td>2</td>\n",
       "    </tr>\n",
       "  </tbody>\n",
       "</table>\n",
       "<p>5 rows × 29 columns</p>\n",
       "</div>"
      ],
      "text/plain": [
       "            MinTemp  MaxTemp  Rainfall  Evaporation  Sunshine  WindGustSpeed  \\\n",
       "Date                                                                           \n",
       "2007-11-01      8.0     24.3       0.0          3.4       6.3           30.0   \n",
       "2007-11-02     14.0     26.9       3.6          4.4       9.7           39.0   \n",
       "2007-11-03     13.7     23.4       3.6          5.8       3.3           85.0   \n",
       "2007-11-04     13.3     15.5      39.8          7.2       9.1           54.0   \n",
       "2007-11-05      7.6     16.1       2.8          5.6      10.6           50.0   \n",
       "\n",
       "            WindSpeed9am  WindSpeed3pm  Humidity9am  Humidity3pm  ...  month  \\\n",
       "Date                                                              ...          \n",
       "2007-11-01           6.0          20.0         68.0         29.0  ...     11   \n",
       "2007-11-02           4.0          17.0         80.0         36.0  ...     11   \n",
       "2007-11-03           6.0           6.0         82.0         69.0  ...     11   \n",
       "2007-11-04          30.0          24.0         62.0         56.0  ...     11   \n",
       "2007-11-05          20.0          28.0         68.0         49.0  ...     11   \n",
       "\n",
       "            day  LocationNum  WindGustDirNum  WindDir9amNum  WindDir3pmNum  \\\n",
       "Date                                                                         \n",
       "2007-11-01    1           15        2.356194       3.926991       2.356194   \n",
       "2007-11-02    2           15        0.392699       0.000000       3.141593   \n",
       "2007-11-03    3           15        2.356194       1.570796       1.178097   \n",
       "2007-11-04    4           15        2.356194       2.748894       3.141593   \n",
       "2007-11-05    5           15        5.105088       5.105088       5.890486   \n",
       "\n",
       "             Latitude   Longitude  CodeRegionNum  NonMesNum  \n",
       "Date                                                         \n",
       "2007-11-01 -35.297591  149.101268              1          2  \n",
       "2007-11-02 -35.297591  149.101268              1          2  \n",
       "2007-11-03 -35.297591  149.101268              1          2  \n",
       "2007-11-04 -35.297591  149.101268              1          2  \n",
       "2007-11-05 -35.297591  149.101268              1          2  \n",
       "\n",
       "[5 rows x 29 columns]"
      ]
     },
     "execution_count": 3,
     "metadata": {},
     "output_type": "execute_result"
    }
   ],
   "source": [
    "# Inspection de la structure de `df`\n",
    "\n",
    "df.head()"
   ]
  },
  {
   "cell_type": "code",
   "execution_count": 4,
   "metadata": {},
   "outputs": [
    {
     "name": "stdout",
     "output_type": "stream",
     "text": [
      "<class 'pandas.core.frame.DataFrame'>\n",
      "Index: 77728 entries, 2007-11-01 to 2017-06-25\n",
      "Data columns (total 29 columns):\n",
      " #   Column          Non-Null Count  Dtype  \n",
      "---  ------          --------------  -----  \n",
      " 0   MinTemp         77728 non-null  float64\n",
      " 1   MaxTemp         77728 non-null  float64\n",
      " 2   Rainfall        77728 non-null  float64\n",
      " 3   Evaporation     77728 non-null  float64\n",
      " 4   Sunshine        77728 non-null  float64\n",
      " 5   WindGustSpeed   77728 non-null  float64\n",
      " 6   WindSpeed9am    77728 non-null  float64\n",
      " 7   WindSpeed3pm    77728 non-null  float64\n",
      " 8   Humidity9am     77728 non-null  float64\n",
      " 9   Humidity3pm     77728 non-null  float64\n",
      " 10  Pressure9am     77728 non-null  float64\n",
      " 11  Pressure3pm     77728 non-null  float64\n",
      " 12  Cloud9am        77728 non-null  float64\n",
      " 13  Cloud3pm        77728 non-null  float64\n",
      " 14  Temp9am         77728 non-null  float64\n",
      " 15  Temp3pm         77728 non-null  float64\n",
      " 16  RainToday       77728 non-null  int64  \n",
      " 17  RainTomorrow    77728 non-null  int64  \n",
      " 18  year            77728 non-null  int64  \n",
      " 19  month           77728 non-null  int64  \n",
      " 20  day             77728 non-null  int64  \n",
      " 21  LocationNum     77728 non-null  int64  \n",
      " 22  WindGustDirNum  77728 non-null  float64\n",
      " 23  WindDir9amNum   77728 non-null  float64\n",
      " 24  WindDir3pmNum   77728 non-null  float64\n",
      " 25  Latitude        77728 non-null  float64\n",
      " 26  Longitude       77728 non-null  float64\n",
      " 27  CodeRegionNum   77728 non-null  int64  \n",
      " 28  NonMesNum       77728 non-null  int64  \n",
      "dtypes: float64(21), int64(8)\n",
      "memory usage: 17.8+ MB\n"
     ]
    }
   ],
   "source": [
    "# Inspection de la structure de `df`\n",
    "\n",
    "df.info()"
   ]
  },
  {
   "cell_type": "markdown",
   "metadata": {},
   "source": [
    "## 2. Découpage"
   ]
  },
  {
   "cell_type": "code",
   "execution_count": 5,
   "metadata": {},
   "outputs": [],
   "source": [
    "# Découpage de `df` sur l'axe des colonnes : séparation des variables explicatives (`data`) et cible (`target`)\n",
    "\n",
    "data = df.drop(columns = \"RainTomorrow\")\n",
    "target = df[\"RainTomorrow\"]"
   ]
  },
  {
   "cell_type": "code",
   "execution_count": 6,
   "metadata": {},
   "outputs": [],
   "source": [
    "# Découpage de `data` et de `target` sur l'axe des lignes : séparation des jeux d'entraînement (`*_train`) et de test (`*_test`) avec le splitter `TimeSeriesSplit`\n",
    "\n",
    "from sklearn.model_selection import TimeSeriesSplit\n",
    "\n",
    "tss = TimeSeriesSplit(n_splits = 5) ## Nous fixons le paramètre `n_splits` à 5 afin d'avoir une répartition de 80 / 20 entre les jeux d'entraînement et de test, respectivement.\n",
    "\n",
    "for train_index, test_index in tss.split(data):\n",
    "    X_train, X_test = data.iloc[train_index, :], data.iloc[test_index,:]\n",
    "    y_train, y_test = target.iloc[train_index], target.iloc[test_index]"
   ]
  },
  {
   "cell_type": "markdown",
   "metadata": {},
   "source": [
    "## 3. Conversion"
   ]
  },
  {
   "cell_type": "code",
   "execution_count": 7,
   "metadata": {},
   "outputs": [],
   "source": [
    "# Importation de la fonction artisanale `numpyfy`\n",
    "\n",
    "from numpyfy import numpyfy"
   ]
  },
  {
   "cell_type": "code",
   "execution_count": 8,
   "metadata": {},
   "outputs": [],
   "source": [
    "# Application de la fonction `numpyfy` aux 4 jeux de données issus du découpage effectué par le splitter `TimeSeriesSplit` afin de les convertir en arrays et ainsi les rendre compatibles avec `sktime`\n",
    "\n",
    "X_train, X_test, y_train, y_test = numpyfy(X_train, X_test, y_train, y_test)"
   ]
  },
  {
   "cell_type": "markdown",
   "metadata": {},
   "source": [
    "## 4. Modélisation"
   ]
  },
  {
   "cell_type": "code",
   "execution_count": 9,
   "metadata": {},
   "outputs": [],
   "source": [
    "# Importation de la classe `KNeighborsTimeSeriesClassifier`\n",
    "\n",
    "from sktime.classification.distance_based import KNeighborsTimeSeriesClassifier"
   ]
  },
  {
   "cell_type": "code",
   "execution_count": 10,
   "metadata": {},
   "outputs": [],
   "source": [
    "# Instanciation d'un modèle classificateur avec `n_neighbors = 1` et `distance = \"dtw\"`\n",
    "\n",
    "clf_knn_ts = KNeighborsTimeSeriesClassifier(n_neighbors = 1, distance = \"dtw\")"
   ]
  },
  {
   "cell_type": "code",
   "execution_count": 11,
   "metadata": {},
   "outputs": [
    {
     "data": {
      "text/plain": [
       "{'algorithm': 'brute',\n",
       " 'distance': 'dtw',\n",
       " 'distance_mtype': None,\n",
       " 'distance_params': None,\n",
       " 'leaf_size': 30,\n",
       " 'n_jobs': None,\n",
       " 'n_neighbors': 1,\n",
       " 'pass_train_distances': False,\n",
       " 'weights': 'uniform'}"
      ]
     },
     "execution_count": 11,
     "metadata": {},
     "output_type": "execute_result"
    }
   ],
   "source": [
    "# Récupération des paramètres initiaux\n",
    "\n",
    "clf_knn_ts.get_params()"
   ]
  },
  {
   "cell_type": "code",
   "execution_count": 12,
   "metadata": {},
   "outputs": [
    {
     "data": {
      "text/html": [
       "<style>#sk-f688ed11-3d49-498a-9130-0c1fb0c0c543 {color: black;background-color: white;}#sk-f688ed11-3d49-498a-9130-0c1fb0c0c543 pre{padding: 0;}#sk-f688ed11-3d49-498a-9130-0c1fb0c0c543 div.sk-toggleable {background-color: white;}#sk-f688ed11-3d49-498a-9130-0c1fb0c0c543 label.sk-toggleable__label {cursor: pointer;display: block;width: 100%;margin-bottom: 0;padding: 0.3em;box-sizing: border-box;text-align: center;}#sk-f688ed11-3d49-498a-9130-0c1fb0c0c543 label.sk-toggleable__label-arrow:before {content: \"▸\";float: left;margin-right: 0.25em;color: #696969;}#sk-f688ed11-3d49-498a-9130-0c1fb0c0c543 label.sk-toggleable__label-arrow:hover:before {color: black;}#sk-f688ed11-3d49-498a-9130-0c1fb0c0c543 div.sk-estimator:hover label.sk-toggleable__label-arrow:before {color: black;}#sk-f688ed11-3d49-498a-9130-0c1fb0c0c543 div.sk-toggleable__content {max-height: 0;max-width: 0;overflow: hidden;text-align: left;background-color: #f0f8ff;}#sk-f688ed11-3d49-498a-9130-0c1fb0c0c543 div.sk-toggleable__content pre {margin: 0.2em;color: black;border-radius: 0.25em;background-color: #f0f8ff;}#sk-f688ed11-3d49-498a-9130-0c1fb0c0c543 input.sk-toggleable__control:checked~div.sk-toggleable__content {max-height: 200px;max-width: 100%;overflow: auto;}#sk-f688ed11-3d49-498a-9130-0c1fb0c0c543 input.sk-toggleable__control:checked~label.sk-toggleable__label-arrow:before {content: \"▾\";}#sk-f688ed11-3d49-498a-9130-0c1fb0c0c543 div.sk-estimator input.sk-toggleable__control:checked~label.sk-toggleable__label {background-color: #d4ebff;}#sk-f688ed11-3d49-498a-9130-0c1fb0c0c543 div.sk-label input.sk-toggleable__control:checked~label.sk-toggleable__label {background-color: #d4ebff;}#sk-f688ed11-3d49-498a-9130-0c1fb0c0c543 input.sk-hidden--visually {border: 0;clip: rect(1px 1px 1px 1px);clip: rect(1px, 1px, 1px, 1px);height: 1px;margin: -1px;overflow: hidden;padding: 0;position: absolute;width: 1px;}#sk-f688ed11-3d49-498a-9130-0c1fb0c0c543 div.sk-estimator {font-family: monospace;background-color: #f0f8ff;border: 1px dotted black;border-radius: 0.25em;box-sizing: border-box;margin-bottom: 0.5em;}#sk-f688ed11-3d49-498a-9130-0c1fb0c0c543 div.sk-estimator:hover {background-color: #d4ebff;}#sk-f688ed11-3d49-498a-9130-0c1fb0c0c543 div.sk-parallel-item::after {content: \"\";width: 100%;border-bottom: 1px solid gray;flex-grow: 1;}#sk-f688ed11-3d49-498a-9130-0c1fb0c0c543 div.sk-label:hover label.sk-toggleable__label {background-color: #d4ebff;}#sk-f688ed11-3d49-498a-9130-0c1fb0c0c543 div.sk-serial::before {content: \"\";position: absolute;border-left: 1px solid gray;box-sizing: border-box;top: 2em;bottom: 0;left: 50%;}#sk-f688ed11-3d49-498a-9130-0c1fb0c0c543 div.sk-serial {display: flex;flex-direction: column;align-items: center;background-color: white;padding-right: 0.2em;padding-left: 0.2em;}#sk-f688ed11-3d49-498a-9130-0c1fb0c0c543 div.sk-item {z-index: 1;}#sk-f688ed11-3d49-498a-9130-0c1fb0c0c543 div.sk-parallel {display: flex;align-items: stretch;justify-content: center;background-color: white;}#sk-f688ed11-3d49-498a-9130-0c1fb0c0c543 div.sk-parallel::before {content: \"\";position: absolute;border-left: 1px solid gray;box-sizing: border-box;top: 2em;bottom: 0;left: 50%;}#sk-f688ed11-3d49-498a-9130-0c1fb0c0c543 div.sk-parallel-item {display: flex;flex-direction: column;position: relative;background-color: white;}#sk-f688ed11-3d49-498a-9130-0c1fb0c0c543 div.sk-parallel-item:first-child::after {align-self: flex-end;width: 50%;}#sk-f688ed11-3d49-498a-9130-0c1fb0c0c543 div.sk-parallel-item:last-child::after {align-self: flex-start;width: 50%;}#sk-f688ed11-3d49-498a-9130-0c1fb0c0c543 div.sk-parallel-item:only-child::after {width: 0;}#sk-f688ed11-3d49-498a-9130-0c1fb0c0c543 div.sk-dashed-wrapped {border: 1px dashed gray;margin: 0 0.4em 0.5em 0.4em;box-sizing: border-box;padding-bottom: 0.4em;background-color: white;position: relative;}#sk-f688ed11-3d49-498a-9130-0c1fb0c0c543 div.sk-label label {font-family: monospace;font-weight: bold;background-color: white;display: inline-block;line-height: 1.2em;}#sk-f688ed11-3d49-498a-9130-0c1fb0c0c543 div.sk-label-container {position: relative;z-index: 2;text-align: center;}#sk-f688ed11-3d49-498a-9130-0c1fb0c0c543 div.sk-container {/* jupyter's `normalize.less` sets `[hidden] { display: none; }` but bootstrap.min.css set `[hidden] { display: none !important; }` so we also need the `!important` here to be able to override the default hidden behavior on the sphinx rendered scikit-learn.org. See: https://github.com/scikit-learn/scikit-learn/issues/21755 */display: inline-block !important;position: relative;}#sk-f688ed11-3d49-498a-9130-0c1fb0c0c543 div.sk-text-repr-fallback {display: none;}</style><div id='sk-f688ed11-3d49-498a-9130-0c1fb0c0c543' class=\"sk-top-container\"><div class=\"sk-text-repr-fallback\"><pre>KNeighborsTimeSeriesClassifier()</pre><b>Please rerun this cell to show the HTML repr or trust the notebook.</b></div><div class=\"sk-container\" hidden><div class='sk-item'><div class=\"sk-estimator sk-toggleable\"><input class=\"sk-toggleable__control sk-hidden--visually\" id=UUID('fd72b923-c481-4f15-88ef-d6fa01a081d5') type=\"checkbox\" checked><label for=UUID('fd72b923-c481-4f15-88ef-d6fa01a081d5') class='sk-toggleable__label sk-toggleable__label-arrow'>KNeighborsTimeSeriesClassifier</label><div class=\"sk-toggleable__content\"><pre>KNeighborsTimeSeriesClassifier()</pre></div></div></div></div></div>"
      ],
      "text/plain": [
       "KNeighborsTimeSeriesClassifier()"
      ]
     },
     "execution_count": 12,
     "metadata": {},
     "output_type": "execute_result"
    }
   ],
   "source": [
    "# Entraînement du modèle\n",
    "\n",
    "clf_knn_ts.fit(X_train, y_train)"
   ]
  },
  {
   "cell_type": "code",
   "execution_count": 13,
   "metadata": {},
   "outputs": [
    {
     "data": {
      "text/plain": [
       "{'classes': array([0, 1]),\n",
       " 'fit_time': 28138,\n",
       " 'knn_estimator': KNeighborsClassifier(algorithm='brute', metric='precomputed', n_neighbors=1),\n",
       " 'n_classes': 2,\n",
       " 'knn_estimator__classes': array([0, 1]),\n",
       " 'knn_estimator__effective_metric': 'precomputed',\n",
       " 'knn_estimator__effective_metric_params': {},\n",
       " 'knn_estimator__n_features_in': 64774,\n",
       " 'knn_estimator__n_samples_fit': 64774,\n",
       " 'knn_estimator__outputs_2d': False}"
      ]
     },
     "execution_count": 13,
     "metadata": {},
     "output_type": "execute_result"
    }
   ],
   "source": [
    "# Récupération des paramètres ajustés\n",
    "\n",
    "clf_knn_ts.get_fitted_params()"
   ]
  },
  {
   "cell_type": "code",
   "execution_count": 14,
   "metadata": {},
   "outputs": [],
   "source": [
    "# Réalisation des prédictions\n",
    "\n",
    "y_pred = clf_knn_ts.predict(X_test)"
   ]
  },
  {
   "cell_type": "markdown",
   "metadata": {},
   "source": [
    "## 5. Évaluation"
   ]
  },
  {
   "cell_type": "code",
   "execution_count": 15,
   "metadata": {},
   "outputs": [
    {
     "data": {
      "text/html": [
       "<div>\n",
       "<style scoped>\n",
       "    .dataframe tbody tr th:only-of-type {\n",
       "        vertical-align: middle;\n",
       "    }\n",
       "\n",
       "    .dataframe tbody tr th {\n",
       "        vertical-align: top;\n",
       "    }\n",
       "\n",
       "    .dataframe thead th {\n",
       "        text-align: right;\n",
       "    }\n",
       "</style>\n",
       "<table border=\"1\" class=\"dataframe\">\n",
       "  <thead>\n",
       "    <tr style=\"text-align: right;\">\n",
       "      <th>Classe prédite</th>\n",
       "      <th>0</th>\n",
       "      <th>1</th>\n",
       "    </tr>\n",
       "    <tr>\n",
       "      <th>Classe réelle</th>\n",
       "      <th></th>\n",
       "      <th></th>\n",
       "    </tr>\n",
       "  </thead>\n",
       "  <tbody>\n",
       "    <tr>\n",
       "      <th>0</th>\n",
       "      <td>8741</td>\n",
       "      <td>1302</td>\n",
       "    </tr>\n",
       "    <tr>\n",
       "      <th>1</th>\n",
       "      <td>1353</td>\n",
       "      <td>1558</td>\n",
       "    </tr>\n",
       "  </tbody>\n",
       "</table>\n",
       "</div>"
      ],
      "text/plain": [
       "Classe prédite     0     1\n",
       "Classe réelle             \n",
       "0               8741  1302\n",
       "1               1353  1558"
      ]
     },
     "execution_count": 15,
     "metadata": {},
     "output_type": "execute_result"
    }
   ],
   "source": [
    "# Élaboration de la matrice de confusion\n",
    "\n",
    "pd.crosstab(y_test, y_pred, rownames = [\"Classe réelle\"], colnames = [\"Classe prédite\"])"
   ]
  },
  {
   "cell_type": "code",
   "execution_count": 16,
   "metadata": {},
   "outputs": [
    {
     "name": "stdout",
     "output_type": "stream",
     "text": [
      "              precision    recall  f1-score   support\n",
      "\n",
      "           0       0.87      0.87      0.87     10043\n",
      "           1       0.54      0.54      0.54      2911\n",
      "\n",
      "    accuracy                           0.80     12954\n",
      "   macro avg       0.71      0.70      0.70     12954\n",
      "weighted avg       0.79      0.80      0.79     12954\n",
      "\n"
     ]
    }
   ],
   "source": [
    "# Élaboration du rapport de classification\n",
    "\n",
    "print(classification_report(y_test, y_pred))"
   ]
  }
 ],
 "metadata": {
  "kernelspec": {
   "display_name": "datascientest_project",
   "language": "python",
   "name": "python3"
  },
  "language_info": {
   "codemirror_mode": {
    "name": "ipython",
    "version": 3
   },
   "file_extension": ".py",
   "mimetype": "text/x-python",
   "name": "python",
   "nbconvert_exporter": "python",
   "pygments_lexer": "ipython3",
   "version": "3.11.5"
  }
 },
 "nbformat": 4,
 "nbformat_minor": 2
}
