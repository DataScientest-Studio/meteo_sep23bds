{
 "cells": [
  {
   "cell_type": "code",
   "execution_count": 1,
   "id": "35c0903e-791b-44d8-a768-a642116a7b3c",
   "metadata": {
    "tags": []
   },
   "outputs": [
    {
     "data": {
      "text/html": [
       "<div>\n",
       "<style scoped>\n",
       "    .dataframe tbody tr th:only-of-type {\n",
       "        vertical-align: middle;\n",
       "    }\n",
       "\n",
       "    .dataframe tbody tr th {\n",
       "        vertical-align: top;\n",
       "    }\n",
       "\n",
       "    .dataframe thead th {\n",
       "        text-align: right;\n",
       "    }\n",
       "</style>\n",
       "<table border=\"1\" class=\"dataframe\">\n",
       "  <thead>\n",
       "    <tr style=\"text-align: right;\">\n",
       "      <th></th>\n",
       "      <th>Date</th>\n",
       "      <th>Location</th>\n",
       "      <th>MinTemp</th>\n",
       "      <th>MaxTemp</th>\n",
       "      <th>Rainfall</th>\n",
       "      <th>Evaporation</th>\n",
       "      <th>Sunshine</th>\n",
       "      <th>WindGustDir</th>\n",
       "      <th>WindGustSpeed</th>\n",
       "      <th>WindDir9am</th>\n",
       "      <th>...</th>\n",
       "      <th>Humidity9am</th>\n",
       "      <th>Humidity3pm</th>\n",
       "      <th>Pressure9am</th>\n",
       "      <th>Pressure3pm</th>\n",
       "      <th>Cloud9am</th>\n",
       "      <th>Cloud3pm</th>\n",
       "      <th>Temp9am</th>\n",
       "      <th>Temp3pm</th>\n",
       "      <th>RainToday</th>\n",
       "      <th>RainTomorrow</th>\n",
       "    </tr>\n",
       "  </thead>\n",
       "  <tbody>\n",
       "    <tr>\n",
       "      <th>0</th>\n",
       "      <td>2008-12-01</td>\n",
       "      <td>Albury</td>\n",
       "      <td>13.4</td>\n",
       "      <td>22.9</td>\n",
       "      <td>0.6</td>\n",
       "      <td>NaN</td>\n",
       "      <td>NaN</td>\n",
       "      <td>W</td>\n",
       "      <td>44.0</td>\n",
       "      <td>W</td>\n",
       "      <td>...</td>\n",
       "      <td>71.0</td>\n",
       "      <td>22.0</td>\n",
       "      <td>1007.7</td>\n",
       "      <td>1007.1</td>\n",
       "      <td>8.0</td>\n",
       "      <td>NaN</td>\n",
       "      <td>16.9</td>\n",
       "      <td>21.8</td>\n",
       "      <td>No</td>\n",
       "      <td>No</td>\n",
       "    </tr>\n",
       "    <tr>\n",
       "      <th>1</th>\n",
       "      <td>2008-12-02</td>\n",
       "      <td>Albury</td>\n",
       "      <td>7.4</td>\n",
       "      <td>25.1</td>\n",
       "      <td>0.0</td>\n",
       "      <td>NaN</td>\n",
       "      <td>NaN</td>\n",
       "      <td>WNW</td>\n",
       "      <td>44.0</td>\n",
       "      <td>NNW</td>\n",
       "      <td>...</td>\n",
       "      <td>44.0</td>\n",
       "      <td>25.0</td>\n",
       "      <td>1010.6</td>\n",
       "      <td>1007.8</td>\n",
       "      <td>NaN</td>\n",
       "      <td>NaN</td>\n",
       "      <td>17.2</td>\n",
       "      <td>24.3</td>\n",
       "      <td>No</td>\n",
       "      <td>No</td>\n",
       "    </tr>\n",
       "    <tr>\n",
       "      <th>2</th>\n",
       "      <td>2008-12-03</td>\n",
       "      <td>Albury</td>\n",
       "      <td>12.9</td>\n",
       "      <td>25.7</td>\n",
       "      <td>0.0</td>\n",
       "      <td>NaN</td>\n",
       "      <td>NaN</td>\n",
       "      <td>WSW</td>\n",
       "      <td>46.0</td>\n",
       "      <td>W</td>\n",
       "      <td>...</td>\n",
       "      <td>38.0</td>\n",
       "      <td>30.0</td>\n",
       "      <td>1007.6</td>\n",
       "      <td>1008.7</td>\n",
       "      <td>NaN</td>\n",
       "      <td>2.0</td>\n",
       "      <td>21.0</td>\n",
       "      <td>23.2</td>\n",
       "      <td>No</td>\n",
       "      <td>No</td>\n",
       "    </tr>\n",
       "    <tr>\n",
       "      <th>3</th>\n",
       "      <td>2008-12-04</td>\n",
       "      <td>Albury</td>\n",
       "      <td>9.2</td>\n",
       "      <td>28.0</td>\n",
       "      <td>0.0</td>\n",
       "      <td>NaN</td>\n",
       "      <td>NaN</td>\n",
       "      <td>NE</td>\n",
       "      <td>24.0</td>\n",
       "      <td>SE</td>\n",
       "      <td>...</td>\n",
       "      <td>45.0</td>\n",
       "      <td>16.0</td>\n",
       "      <td>1017.6</td>\n",
       "      <td>1012.8</td>\n",
       "      <td>NaN</td>\n",
       "      <td>NaN</td>\n",
       "      <td>18.1</td>\n",
       "      <td>26.5</td>\n",
       "      <td>No</td>\n",
       "      <td>No</td>\n",
       "    </tr>\n",
       "    <tr>\n",
       "      <th>4</th>\n",
       "      <td>2008-12-05</td>\n",
       "      <td>Albury</td>\n",
       "      <td>17.5</td>\n",
       "      <td>32.3</td>\n",
       "      <td>1.0</td>\n",
       "      <td>NaN</td>\n",
       "      <td>NaN</td>\n",
       "      <td>W</td>\n",
       "      <td>41.0</td>\n",
       "      <td>ENE</td>\n",
       "      <td>...</td>\n",
       "      <td>82.0</td>\n",
       "      <td>33.0</td>\n",
       "      <td>1010.8</td>\n",
       "      <td>1006.0</td>\n",
       "      <td>7.0</td>\n",
       "      <td>8.0</td>\n",
       "      <td>17.8</td>\n",
       "      <td>29.7</td>\n",
       "      <td>No</td>\n",
       "      <td>No</td>\n",
       "    </tr>\n",
       "  </tbody>\n",
       "</table>\n",
       "<p>5 rows × 23 columns</p>\n",
       "</div>"
      ],
      "text/plain": [
       "         Date Location  MinTemp  MaxTemp  Rainfall  Evaporation  Sunshine  \\\n",
       "0  2008-12-01   Albury     13.4     22.9       0.6          NaN       NaN   \n",
       "1  2008-12-02   Albury      7.4     25.1       0.0          NaN       NaN   \n",
       "2  2008-12-03   Albury     12.9     25.7       0.0          NaN       NaN   \n",
       "3  2008-12-04   Albury      9.2     28.0       0.0          NaN       NaN   \n",
       "4  2008-12-05   Albury     17.5     32.3       1.0          NaN       NaN   \n",
       "\n",
       "  WindGustDir  WindGustSpeed WindDir9am  ... Humidity9am  Humidity3pm  \\\n",
       "0           W           44.0          W  ...        71.0         22.0   \n",
       "1         WNW           44.0        NNW  ...        44.0         25.0   \n",
       "2         WSW           46.0          W  ...        38.0         30.0   \n",
       "3          NE           24.0         SE  ...        45.0         16.0   \n",
       "4           W           41.0        ENE  ...        82.0         33.0   \n",
       "\n",
       "   Pressure9am  Pressure3pm  Cloud9am  Cloud3pm  Temp9am  Temp3pm  RainToday  \\\n",
       "0       1007.7       1007.1       8.0       NaN     16.9     21.8         No   \n",
       "1       1010.6       1007.8       NaN       NaN     17.2     24.3         No   \n",
       "2       1007.6       1008.7       NaN       2.0     21.0     23.2         No   \n",
       "3       1017.6       1012.8       NaN       NaN     18.1     26.5         No   \n",
       "4       1010.8       1006.0       7.0       8.0     17.8     29.7         No   \n",
       "\n",
       "   RainTomorrow  \n",
       "0            No  \n",
       "1            No  \n",
       "2            No  \n",
       "3            No  \n",
       "4            No  \n",
       "\n",
       "[5 rows x 23 columns]"
      ]
     },
     "execution_count": 1,
     "metadata": {},
     "output_type": "execute_result"
    }
   ],
   "source": [
    "import pandas as pd\n",
    "import numpy as np\n",
    "import seaborn as sns\n",
    "import matplotlib.pyplot as plt\n",
    "\n",
    "df = pd.read_csv(\"../data/weatherAUS.csv\") \n",
    "df.head()"
   ]
  },
  {
   "cell_type": "markdown",
   "id": "8e9fd5b1-128d-4bf4-89f0-c308b925207c",
   "metadata": {
    "jp-MarkdownHeadingCollapsed": true,
    "tags": []
   },
   "source": [
    "## Tests autour de la station Albury: détecter les nan"
   ]
  },
  {
   "cell_type": "code",
   "execution_count": 2,
   "id": "bfdc9b13-d7fa-4012-b04c-c3b4b82f1d93",
   "metadata": {
    "collapsed": true,
    "jupyter": {
     "outputs_hidden": true
    },
    "tags": []
   },
   "outputs": [
    {
     "data": {
      "text/html": [
       "<div>\n",
       "<style scoped>\n",
       "    .dataframe tbody tr th:only-of-type {\n",
       "        vertical-align: middle;\n",
       "    }\n",
       "\n",
       "    .dataframe tbody tr th {\n",
       "        vertical-align: top;\n",
       "    }\n",
       "\n",
       "    .dataframe thead th {\n",
       "        text-align: right;\n",
       "    }\n",
       "</style>\n",
       "<table border=\"1\" class=\"dataframe\">\n",
       "  <thead>\n",
       "    <tr style=\"text-align: right;\">\n",
       "      <th></th>\n",
       "      <th>Date</th>\n",
       "      <th>Location</th>\n",
       "      <th>MinTemp</th>\n",
       "      <th>MaxTemp</th>\n",
       "      <th>Rainfall</th>\n",
       "      <th>Evaporation</th>\n",
       "      <th>Sunshine</th>\n",
       "      <th>WindGustDir</th>\n",
       "      <th>WindGustSpeed</th>\n",
       "      <th>WindDir9am</th>\n",
       "      <th>...</th>\n",
       "      <th>Humidity9am</th>\n",
       "      <th>Humidity3pm</th>\n",
       "      <th>Pressure9am</th>\n",
       "      <th>Pressure3pm</th>\n",
       "      <th>Cloud9am</th>\n",
       "      <th>Cloud3pm</th>\n",
       "      <th>Temp9am</th>\n",
       "      <th>Temp3pm</th>\n",
       "      <th>RainToday</th>\n",
       "      <th>RainTomorrow</th>\n",
       "    </tr>\n",
       "  </thead>\n",
       "  <tbody>\n",
       "    <tr>\n",
       "      <th>0</th>\n",
       "      <td>2008-12-01</td>\n",
       "      <td>Albury</td>\n",
       "      <td>13.4</td>\n",
       "      <td>22.9</td>\n",
       "      <td>0.6</td>\n",
       "      <td>NaN</td>\n",
       "      <td>NaN</td>\n",
       "      <td>W</td>\n",
       "      <td>44.0</td>\n",
       "      <td>W</td>\n",
       "      <td>...</td>\n",
       "      <td>71.0</td>\n",
       "      <td>22.0</td>\n",
       "      <td>1007.7</td>\n",
       "      <td>1007.1</td>\n",
       "      <td>8.0</td>\n",
       "      <td>NaN</td>\n",
       "      <td>16.9</td>\n",
       "      <td>21.8</td>\n",
       "      <td>No</td>\n",
       "      <td>No</td>\n",
       "    </tr>\n",
       "    <tr>\n",
       "      <th>1</th>\n",
       "      <td>2008-12-02</td>\n",
       "      <td>Albury</td>\n",
       "      <td>7.4</td>\n",
       "      <td>25.1</td>\n",
       "      <td>0.0</td>\n",
       "      <td>NaN</td>\n",
       "      <td>NaN</td>\n",
       "      <td>WNW</td>\n",
       "      <td>44.0</td>\n",
       "      <td>NNW</td>\n",
       "      <td>...</td>\n",
       "      <td>44.0</td>\n",
       "      <td>25.0</td>\n",
       "      <td>1010.6</td>\n",
       "      <td>1007.8</td>\n",
       "      <td>NaN</td>\n",
       "      <td>NaN</td>\n",
       "      <td>17.2</td>\n",
       "      <td>24.3</td>\n",
       "      <td>No</td>\n",
       "      <td>No</td>\n",
       "    </tr>\n",
       "    <tr>\n",
       "      <th>2</th>\n",
       "      <td>2008-12-03</td>\n",
       "      <td>Albury</td>\n",
       "      <td>12.9</td>\n",
       "      <td>25.7</td>\n",
       "      <td>0.0</td>\n",
       "      <td>NaN</td>\n",
       "      <td>NaN</td>\n",
       "      <td>WSW</td>\n",
       "      <td>46.0</td>\n",
       "      <td>W</td>\n",
       "      <td>...</td>\n",
       "      <td>38.0</td>\n",
       "      <td>30.0</td>\n",
       "      <td>1007.6</td>\n",
       "      <td>1008.7</td>\n",
       "      <td>NaN</td>\n",
       "      <td>2.0</td>\n",
       "      <td>21.0</td>\n",
       "      <td>23.2</td>\n",
       "      <td>No</td>\n",
       "      <td>No</td>\n",
       "    </tr>\n",
       "    <tr>\n",
       "      <th>3</th>\n",
       "      <td>2008-12-04</td>\n",
       "      <td>Albury</td>\n",
       "      <td>9.2</td>\n",
       "      <td>28.0</td>\n",
       "      <td>0.0</td>\n",
       "      <td>NaN</td>\n",
       "      <td>NaN</td>\n",
       "      <td>NE</td>\n",
       "      <td>24.0</td>\n",
       "      <td>SE</td>\n",
       "      <td>...</td>\n",
       "      <td>45.0</td>\n",
       "      <td>16.0</td>\n",
       "      <td>1017.6</td>\n",
       "      <td>1012.8</td>\n",
       "      <td>NaN</td>\n",
       "      <td>NaN</td>\n",
       "      <td>18.1</td>\n",
       "      <td>26.5</td>\n",
       "      <td>No</td>\n",
       "      <td>No</td>\n",
       "    </tr>\n",
       "    <tr>\n",
       "      <th>4</th>\n",
       "      <td>2008-12-05</td>\n",
       "      <td>Albury</td>\n",
       "      <td>17.5</td>\n",
       "      <td>32.3</td>\n",
       "      <td>1.0</td>\n",
       "      <td>NaN</td>\n",
       "      <td>NaN</td>\n",
       "      <td>W</td>\n",
       "      <td>41.0</td>\n",
       "      <td>ENE</td>\n",
       "      <td>...</td>\n",
       "      <td>82.0</td>\n",
       "      <td>33.0</td>\n",
       "      <td>1010.8</td>\n",
       "      <td>1006.0</td>\n",
       "      <td>7.0</td>\n",
       "      <td>8.0</td>\n",
       "      <td>17.8</td>\n",
       "      <td>29.7</td>\n",
       "      <td>No</td>\n",
       "      <td>No</td>\n",
       "    </tr>\n",
       "  </tbody>\n",
       "</table>\n",
       "<p>5 rows × 23 columns</p>\n",
       "</div>"
      ],
      "text/plain": [
       "         Date Location  MinTemp  MaxTemp  Rainfall  Evaporation  Sunshine  \\\n",
       "0  2008-12-01   Albury     13.4     22.9       0.6          NaN       NaN   \n",
       "1  2008-12-02   Albury      7.4     25.1       0.0          NaN       NaN   \n",
       "2  2008-12-03   Albury     12.9     25.7       0.0          NaN       NaN   \n",
       "3  2008-12-04   Albury      9.2     28.0       0.0          NaN       NaN   \n",
       "4  2008-12-05   Albury     17.5     32.3       1.0          NaN       NaN   \n",
       "\n",
       "  WindGustDir  WindGustSpeed WindDir9am  ... Humidity9am  Humidity3pm  \\\n",
       "0           W           44.0          W  ...        71.0         22.0   \n",
       "1         WNW           44.0        NNW  ...        44.0         25.0   \n",
       "2         WSW           46.0          W  ...        38.0         30.0   \n",
       "3          NE           24.0         SE  ...        45.0         16.0   \n",
       "4           W           41.0        ENE  ...        82.0         33.0   \n",
       "\n",
       "   Pressure9am  Pressure3pm  Cloud9am  Cloud3pm  Temp9am  Temp3pm  RainToday  \\\n",
       "0       1007.7       1007.1       8.0       NaN     16.9     21.8         No   \n",
       "1       1010.6       1007.8       NaN       NaN     17.2     24.3         No   \n",
       "2       1007.6       1008.7       NaN       2.0     21.0     23.2         No   \n",
       "3       1017.6       1012.8       NaN       NaN     18.1     26.5         No   \n",
       "4       1010.8       1006.0       7.0       8.0     17.8     29.7         No   \n",
       "\n",
       "   RainTomorrow  \n",
       "0            No  \n",
       "1            No  \n",
       "2            No  \n",
       "3            No  \n",
       "4            No  \n",
       "\n",
       "[5 rows x 23 columns]"
      ]
     },
     "execution_count": 2,
     "metadata": {},
     "output_type": "execute_result"
    }
   ],
   "source": [
    "############ Création d'un df pour la station 'Albury'\n",
    "\n",
    "albury = df.loc[df['Location'] == 'Albury']\n",
    "albury.head()"
   ]
  },
  {
   "cell_type": "code",
   "execution_count": 3,
   "id": "e56cdc32-f184-4821-ad56-0d4bd6038f08",
   "metadata": {
    "collapsed": true,
    "jupyter": {
     "outputs_hidden": true
    },
    "tags": []
   },
   "outputs": [
    {
     "name": "stdout",
     "output_type": "stream",
     "text": [
      "<class 'pandas.core.frame.DataFrame'>\n",
      "Index: 3040 entries, 0 to 3039\n",
      "Data columns (total 23 columns):\n",
      " #   Column         Non-Null Count  Dtype  \n",
      "---  ------         --------------  -----  \n",
      " 0   Date           3040 non-null   object \n",
      " 1   Location       3040 non-null   object \n",
      " 2   MinTemp        3029 non-null   float64\n",
      " 3   MaxTemp        3029 non-null   float64\n",
      " 4   Rainfall       3011 non-null   float64\n",
      " 5   Evaporation    0 non-null      float64\n",
      " 6   Sunshine       0 non-null      float64\n",
      " 7   WindGustDir    3008 non-null   object \n",
      " 8   WindGustSpeed  3008 non-null   float64\n",
      " 9   WindDir9am     2515 non-null   object \n",
      " 10  WindDir3pm     2994 non-null   object \n",
      " 11  WindSpeed9am   3031 non-null   float64\n",
      " 12  WindSpeed3pm   3029 non-null   float64\n",
      " 13  Humidity9am    3031 non-null   float64\n",
      " 14  Humidity3pm    3032 non-null   float64\n",
      " 15  Pressure9am    3035 non-null   float64\n",
      " 16  Pressure3pm    3032 non-null   float64\n",
      " 17  Cloud9am       1289 non-null   float64\n",
      " 18  Cloud3pm       1427 non-null   float64\n",
      " 19  Temp9am        3031 non-null   float64\n",
      " 20  Temp3pm        3032 non-null   float64\n",
      " 21  RainToday      3011 non-null   object \n",
      " 22  RainTomorrow   3011 non-null   object \n",
      "dtypes: float64(16), object(7)\n",
      "memory usage: 570.0+ KB\n"
     ]
    }
   ],
   "source": [
    "albury.info()"
   ]
  },
  {
   "cell_type": "code",
   "execution_count": 4,
   "id": "bb958d46-d7d4-442a-9943-0172ce1bde6d",
   "metadata": {
    "tags": []
   },
   "outputs": [
    {
     "name": "stdout",
     "output_type": "stream",
     "text": [
      "                0      1\n",
      "0            Date    0.0\n",
      "1        Location    0.0\n",
      "2         MinTemp    0.4\n",
      "3         MaxTemp    0.4\n",
      "4        Rainfall    1.0\n",
      "5     Evaporation  100.0\n",
      "6        Sunshine  100.0\n",
      "7     WindGustDir    1.1\n",
      "8   WindGustSpeed    1.1\n",
      "9      WindDir9am   17.3\n",
      "10     WindDir3pm    1.5\n",
      "11   WindSpeed9am    0.3\n",
      "12   WindSpeed3pm    0.4\n",
      "13    Humidity9am    0.3\n",
      "14    Humidity3pm    0.3\n",
      "15    Pressure9am    0.2\n",
      "16    Pressure3pm    0.3\n",
      "17       Cloud9am   57.6\n",
      "18       Cloud3pm   53.1\n",
      "19        Temp9am    0.3\n",
      "20        Temp3pm    0.3\n",
      "21      RainToday    1.0\n",
      "22   RainTomorrow    1.0\n"
     ]
    }
   ],
   "source": [
    "nan_rate = []\n",
    "for col in albury.columns:\n",
    "    nan_rate.append([col,round(albury[col].isna().sum()/albury.shape[0]*100, 1) ])\n",
    "print(pd.DataFrame(nan_rate))\n",
    "####### Conclusion: Albury ne mesure pas du tout l'évaporation ni l'ensoleillement. Il reste pourtant des nan dedans."
   ]
  },
  {
   "cell_type": "code",
   "execution_count": 5,
   "id": "6b5df745-d1ee-4602-8a0d-087af6f671fa",
   "metadata": {},
   "outputs": [],
   "source": [
    "########### Comment trouver les grandeurs mesurées par chaque station?"
   ]
  },
  {
   "cell_type": "code",
   "execution_count": 6,
   "id": "3c14c355-f2e7-4f34-8ce2-7c68012f0723",
   "metadata": {
    "tags": []
   },
   "outputs": [],
   "source": [
    "albury_measures = []\n",
    "for i in range(len(albury['MaxTemp'].unique())):\n",
    "    albury_measures.append(albury['MaxTemp'].unique()[i] == ' nan')\n",
    "\n",
    "# Je ne comprends pas pourquoi cela ne fonctionne pas: Le nan est à l'iloc 184, et pourtant la boucle ne le détecte pas. Voir le code en dessous."
   ]
  },
  {
   "cell_type": "code",
   "execution_count": 7,
   "id": "0226d6b4",
   "metadata": {},
   "outputs": [
    {
     "data": {
      "text/plain": [
       "array([False])"
      ]
     },
     "execution_count": 7,
     "metadata": {},
     "output_type": "execute_result"
    }
   ],
   "source": [
    "# OC : je regarde albury_measures\n",
    "\n",
    "np.unique(albury_measures)\n",
    "\n",
    "# OC : en effet, la liste albury_measures ne contient que des valeurs False"
   ]
  },
  {
   "cell_type": "code",
   "execution_count": 8,
   "id": "a739c2d6-014b-46f7-99ff-cf16dd79a1ef",
   "metadata": {
    "tags": []
   },
   "outputs": [
    {
     "data": {
      "text/plain": [
       "array([22.9, 25.1, 25.7, 28. , 32.3, 29.7, 25. , 26.7, 31.9, 30.1, 30.4,\n",
       "       21.7, 18.6, 21. , 24.6, 27.7, 20.9, 22.5, 25.6, 29.3, 33. , 31.8,\n",
       "       30.9, 32.4, 33.9, 32.7, 27.2, 24.2, 24.4, 26.5, 23.9, 28.8, 34.6,\n",
       "       35.8, 37.9, 38.9, 28.3, 28.4, 30.8, 32. , 34.7, 37.7, 43. , 32.2,\n",
       "       36.6, 39.9, 38.1, 34. , 35.2, 30.6, 34.3, 38.4, 38.2, 40.7, 41.5,\n",
       "       42.9, 42.7, 43.1, 38.3, 36.9, 41.2, 42.2, 44.8, 40.2, 31.2, 27.3,\n",
       "       21.6, 29. , 29.2, 31.3, 31.1, 29.1, 31.7, 33.2, 29.6, 32.6, 34.5,\n",
       "       30.3, 22.1, 22. , 24. , 27.9, 30.2, 30.5, 25.8, 27. , 19.7, 21.9,\n",
       "       25.3, 33.5, 33.6, 30. , 31.6, 22.3, 29.8, 27.6, 28.9, 29.9, 32.1,\n",
       "       28.1, 21.4, 24.9, 25.4, 20. , 23.4, 22.7, 16.2, 15.8, 12.9, 11.5,\n",
       "       14.5, 12.2, 16.5, 17. , 19.2, 18.9, 19.1, 18.8, 19.3, 18.4, 19. ,\n",
       "       20.5, 19.5, 17.7, 18.5, 15.1, 16.3, 16.6, 16.4, 15.6, 19.8, 21.1,\n",
       "       20.3, 18.1, 15.7, 16.8, 17.1, 14.3, 13.4, 17.4, 16.1, 10.5, 11.6,\n",
       "       12. ,  8.8,  9.6,  8.2, 12.4, 14.9, 15.9, 14.7, 15.3, 17.3, 15.5,\n",
       "       14.1, 13.7, 11.9, 12.3, 13.3, 13.2, 12.1, 12.5, 13.8, 15. , 13.5,\n",
       "       13.1, 11. , 12.6, 14.4,  9.8, 12.7, 13.9, 14.8, 15.2, 17.5, 13.6,\n",
       "       12.8, 16.7, 17.9, 11.1, 14.2, 20.7, 16.9, 17.6,  nan, 24.7, 17.8,\n",
       "       17.2, 20.4, 20.6, 20.2, 18.2, 18.7, 23.3, 26.6, 27.1, 23.1, 24.1,\n",
       "       26.8, 26.9, 24.3, 23.2, 33.4, 36. , 35.1, 32.8, 35.4, 36.3, 39.7,\n",
       "       23.6, 32.9, 26.2, 26.4, 31.5, 27.5, 30.7, 27.4, 22.6, 38.6, 40.3,\n",
       "       33.7, 35.9, 36.8, 33.8, 36.4, 39.8, 42.4, 25.2, 37.3, 41.8, 34.4,\n",
       "       36.5, 35.6, 26.1, 35. , 28.5, 31. , 26.3, 25.5, 22.4, 28.6, 31.4,\n",
       "       28.7, 24.8, 19.9, 23.5, 25.9, 23. , 10.2, 14. ,  8.4,  8.3,  9.4,\n",
       "       10.9, 10.3, 10.8, 14.6, 15.4, 10. , 10.1, 11.8, 16. , 10.4, 13. ,\n",
       "       11.7, 10.7, 19.6, 20.1, 20.8, 23.7, 18. , 21.8, 22.2, 24.5, 29.4,\n",
       "       21.2, 32.5, 28.2, 21.5, 22.8, 11.2, 19.4, 18.3,  9.2,  9.3, 21.3,\n",
       "       23.8, 26. , 27.8, 33.1, 34.9, 36.1, 36.2, 35.3, 35.5,  9.7, 10.6,\n",
       "       11.3, 11.4, 36.7, 37.4, 43.4, 42. , 40.4, 39.2, 38.8, 37. , 35.7,\n",
       "       37.1, 29.5, 37.6, 40.5, 39. , 43.6, 42.6, 34.2, 33.3, 40.6, 41.7,\n",
       "       41.6, 41.1, 40.1,  8.7, 39.6, 34.1,  9.9,  8.6,  9.1,  6.8,  9.5,\n",
       "        9. , 37.2, 34.8, 40. , 38. , 39.5, 40.9, 38.5,  7.5, 39.3, 42.5,\n",
       "       43.7, 37.8])"
      ]
     },
     "execution_count": 8,
     "metadata": {},
     "output_type": "execute_result"
    }
   ],
   "source": [
    "albury['MaxTemp'].unique()"
   ]
  },
  {
   "cell_type": "code",
   "execution_count": 9,
   "id": "e17fe3c3-06a1-4a2a-80d5-5a871d876313",
   "metadata": {
    "tags": []
   },
   "outputs": [
    {
     "data": {
      "text/plain": [
       "nan"
      ]
     },
     "execution_count": 9,
     "metadata": {},
     "output_type": "execute_result"
    }
   ],
   "source": [
    "albury['MaxTemp'].unique()[184]"
   ]
  },
  {
   "cell_type": "code",
   "execution_count": 10,
   "id": "0df282e8",
   "metadata": {},
   "outputs": [
    {
     "data": {
      "text/plain": [
       "numpy.float64"
      ]
     },
     "execution_count": 10,
     "metadata": {},
     "output_type": "execute_result"
    }
   ],
   "source": [
    "# OC : je regarde le type de nan\n",
    "\n",
    "type(albury['MaxTemp'].unique()[184])\n",
    "\n",
    "# OC : c'est un float et non un string !"
   ]
  },
  {
   "cell_type": "code",
   "execution_count": 11,
   "id": "ea61b16a-3a21-43a9-97f9-a6d41bed5171",
   "metadata": {
    "tags": []
   },
   "outputs": [
    {
     "data": {
      "text/plain": [
       "False"
      ]
     },
     "execution_count": 11,
     "metadata": {},
     "output_type": "execute_result"
    }
   ],
   "source": [
    "albury['MaxTemp'].unique()[184] == ' nan'\n",
    "# Je ne comprends pas pourquoi ce test ne fonctionne pas. J'ai essayé avec et sans accent devant le 'nan', ça renvoie toujours 'False'."
   ]
  },
  {
   "cell_type": "code",
   "execution_count": 12,
   "id": "1165843c",
   "metadata": {},
   "outputs": [
    {
     "data": {
      "text/plain": [
       "True"
      ]
     },
     "execution_count": 12,
     "metadata": {},
     "output_type": "execute_result"
    }
   ],
   "source": [
    "# OC : j'essaie un autre test\n",
    "\n",
    "np.isnan(albury['MaxTemp'].unique()[184])\n",
    "\n",
    "# OC : ça marche !! réf. : https://numpy.org/doc/stable/reference/generated/numpy.isnan.html"
   ]
  },
  {
   "cell_type": "code",
   "execution_count": 13,
   "id": "f7c56c46",
   "metadata": {},
   "outputs": [],
   "source": [
    "# OC : j'essaie de construire albury_measures avec cette nouvelle info\n",
    "\n",
    "albury_measures = []\n",
    "for i in range(len(albury['MaxTemp'].unique())):\n",
    "    albury_measures.append(np.isnan(albury['MaxTemp'].unique()[i]))"
   ]
  },
  {
   "cell_type": "code",
   "execution_count": 14,
   "id": "9a002587",
   "metadata": {},
   "outputs": [
    {
     "data": {
      "text/plain": [
       "array([False,  True])"
      ]
     },
     "execution_count": 14,
     "metadata": {},
     "output_type": "execute_result"
    }
   ],
   "source": [
    "# OC : j'affiche les valeurs uniques de albury_measures\n",
    "\n",
    "np.unique(albury_measures)\n",
    "\n",
    "# OC : ça marche !!"
   ]
  },
  {
   "cell_type": "code",
   "execution_count": 15,
   "id": "b629e5d0-f8b4-46e0-b669-f99e9c3c3986",
   "metadata": {},
   "outputs": [],
   "source": [
    "# Autre idée: on part de nan_rate"
   ]
  },
  {
   "cell_type": "code",
   "execution_count": 16,
   "id": "8cebf6c7-a9f5-42e2-bb5b-078249f4e13b",
   "metadata": {
    "tags": []
   },
   "outputs": [
    {
     "name": "stdout",
     "output_type": "stream",
     "text": [
      "          Measure  nan_rate\n",
      "0            Date       0.0\n",
      "1        Location       0.0\n",
      "2         MinTemp       0.4\n",
      "3         MaxTemp       0.4\n",
      "4        Rainfall       1.0\n",
      "5     Evaporation     100.0\n",
      "6        Sunshine     100.0\n",
      "7     WindGustDir       1.1\n",
      "8   WindGustSpeed       1.1\n",
      "9      WindDir9am      17.3\n",
      "10     WindDir3pm       1.5\n",
      "11   WindSpeed9am       0.3\n",
      "12   WindSpeed3pm       0.4\n",
      "13    Humidity9am       0.3\n",
      "14    Humidity3pm       0.3\n",
      "15    Pressure9am       0.2\n",
      "16    Pressure3pm       0.3\n",
      "17       Cloud9am      57.6\n",
      "18       Cloud3pm      53.1\n",
      "19        Temp9am       0.3\n",
      "20        Temp3pm       0.3\n",
      "21      RainToday       1.0\n",
      "22   RainTomorrow       1.0\n"
     ]
    }
   ],
   "source": [
    "nan_rate = []\n",
    "for col in albury.columns:\n",
    "    nan_rate.append([col,round(albury[col].isna().sum()/albury.shape[0]*100, 1) ])\n",
    "print(pd.DataFrame(nan_rate, columns = ['Measure', 'nan_rate']))"
   ]
  },
  {
   "cell_type": "code",
   "execution_count": 17,
   "id": "308dcc64-5b98-48fe-acd6-3bf517e1d29d",
   "metadata": {
    "tags": []
   },
   "outputs": [
    {
     "name": "stdout",
     "output_type": "stream",
     "text": [
      "['Date', 'Location', 'MinTemp', 'MaxTemp', 'Rainfall', 'WindGustDir', 'WindGustSpeed', 'WindDir9am', 'WindDir3pm', 'WindSpeed9am', 'WindSpeed3pm', 'Humidity9am', 'Humidity3pm', 'Pressure9am', 'Pressure3pm', 'Cloud9am', 'Cloud3pm', 'Temp9am', 'Temp3pm', 'RainToday', 'RainTomorrow']\n",
      "['Evaporation', 'Sunshine']\n"
     ]
    }
   ],
   "source": [
    "########## Ce bloc permet de faire deux listes: une contenant les grandeurs mesurées par la station ('measures') et l'autre les grandeurs non mesurées ('non_measures').\n",
    "## IL faut au préalable avoir crée un df spécifique de la station avec par ex : albury = df.loc[df['Location'] == 'Albury']\n",
    "measures = []\n",
    "non_measures = []\n",
    "for col in albury.columns:\n",
    "    if albury[col].isna().sum()/albury.shape[0] != 1:\n",
    "        measures.append(col)\n",
    "    else:\n",
    "        non_measures.append(col)\n",
    "print(measures)\n",
    "print(non_measures)\n",
    "\n",
    "#### Remarque 13/10 16h: aussi bien plutôt que de calculer des taux de nan, \n",
    "#il suffit de trouver les colonnes en faisant un test dans albury.info() pour trouver les colonnes qui contiennent 0 non-null."
   ]
  },
  {
   "cell_type": "code",
   "execution_count": 18,
   "id": "9f401095-c143-454e-a166-506e459200af",
   "metadata": {},
   "outputs": [],
   "source": [
    "##### On a réussi à faire ç apour Albury. Maintenant on essaie de l'automatiser pour toutes les stations."
   ]
  },
  {
   "cell_type": "markdown",
   "id": "687e7028-f22c-493e-80c2-364ad0afeb13",
   "metadata": {
    "jp-MarkdownHeadingCollapsed": true,
    "tags": []
   },
   "source": [
    "## Automatisation de la recherche des grandeurs non mesurées"
   ]
  },
  {
   "cell_type": "code",
   "execution_count": 19,
   "id": "dde4fb68-1535-488d-8e76-4f8f255a07e1",
   "metadata": {
    "tags": []
   },
   "outputs": [
    {
     "data": {
      "text/plain": [
       "{'Albury': ['Evaporation', 'Sunshine'],\n",
       " 'BadgerysCreek': ['Evaporation', 'Sunshine', 'Cloud9am', 'Cloud3pm'],\n",
       " 'Cobar': [],\n",
       " 'CoffsHarbour': [],\n",
       " 'Moree': [],\n",
       " 'Newcastle': ['Evaporation',\n",
       "  'Sunshine',\n",
       "  'WindGustDir',\n",
       "  'WindGustSpeed',\n",
       "  'Pressure9am',\n",
       "  'Pressure3pm'],\n",
       " 'NorahHead': ['Evaporation', 'Sunshine', 'Cloud9am', 'Cloud3pm'],\n",
       " 'NorfolkIsland': [],\n",
       " 'Penrith': ['Evaporation',\n",
       "  'Sunshine',\n",
       "  'Pressure9am',\n",
       "  'Pressure3pm',\n",
       "  'Cloud9am',\n",
       "  'Cloud3pm'],\n",
       " 'Richmond': ['Sunshine'],\n",
       " 'Sydney': [],\n",
       " 'SydneyAirport': [],\n",
       " 'WaggaWagga': [],\n",
       " 'Williamtown': [],\n",
       " 'Wollongong': ['Evaporation', 'Sunshine'],\n",
       " 'Canberra': [],\n",
       " 'Tuggeranong': ['Evaporation', 'Sunshine', 'Cloud9am', 'Cloud3pm'],\n",
       " 'MountGinini': ['Evaporation',\n",
       "  'Sunshine',\n",
       "  'Pressure9am',\n",
       "  'Pressure3pm',\n",
       "  'Cloud9am',\n",
       "  'Cloud3pm'],\n",
       " 'Ballarat': ['Evaporation', 'Sunshine'],\n",
       " 'Bendigo': ['Sunshine'],\n",
       " 'Sale': [],\n",
       " 'MelbourneAirport': [],\n",
       " 'Melbourne': [],\n",
       " 'Mildura': [],\n",
       " 'Nhil': ['Evaporation', 'Sunshine', 'Cloud9am', 'Cloud3pm'],\n",
       " 'Portland': [],\n",
       " 'Watsonia': [],\n",
       " 'Dartmoor': ['Cloud9am', 'Cloud3pm'],\n",
       " 'Brisbane': [],\n",
       " 'Cairns': [],\n",
       " 'GoldCoast': ['Evaporation', 'Sunshine', 'Cloud9am', 'Cloud3pm'],\n",
       " 'Townsville': [],\n",
       " 'Adelaide': ['Cloud9am', 'Cloud3pm'],\n",
       " 'MountGambier': [],\n",
       " 'Nuriootpa': [],\n",
       " 'Woomera': [],\n",
       " 'Albany': ['WindGustDir', 'WindGustSpeed'],\n",
       " 'Witchcliffe': ['Evaporation', 'Sunshine', 'Cloud9am', 'Cloud3pm'],\n",
       " 'PearceRAAF': ['Evaporation'],\n",
       " 'PerthAirport': [],\n",
       " 'Perth': [],\n",
       " 'SalmonGums': ['Evaporation',\n",
       "  'Sunshine',\n",
       "  'Pressure9am',\n",
       "  'Pressure3pm',\n",
       "  'Cloud9am',\n",
       "  'Cloud3pm'],\n",
       " 'Walpole': ['Evaporation', 'Sunshine', 'Cloud9am', 'Cloud3pm'],\n",
       " 'Hobart': [],\n",
       " 'Launceston': ['Sunshine'],\n",
       " 'AliceSprings': [],\n",
       " 'Darwin': [],\n",
       " 'Katherine': ['Sunshine'],\n",
       " 'Uluru': ['Evaporation', 'Sunshine']}"
      ]
     },
     "execution_count": 19,
     "metadata": {},
     "output_type": "execute_result"
    }
   ],
   "source": [
    "#### Ce bloc réutilise le précedent pour le généraliser et renvoyer station par station les grandeurs non mesurées:\n",
    "dict = {}\n",
    "for i in range(df['Location'].unique().shape[0]):  # df['Location'].unique().shape[0]: le nombre de stations\n",
    "    measures = []\n",
    "    non_measures = []\n",
    "    station_df = df.loc[df['Location'] == df['Location'].unique()[i]] #création d'un df pour une station\n",
    "    for col in station_df.columns:\n",
    "        if station_df[col].isna().sum()/station_df.shape[0] != 1: # si le pourcentage de nan est différent de 1\n",
    "            measures.append(col) # on ajoute la grandeur mesurée à 'measures\n",
    "        else:\n",
    "            non_measures.append(col) # sinon, on l'ajoute à 'non_measures'\n",
    "    dict[df['Location'].unique()[i]] = non_measures\n",
    "    #print(df['Location'].unique()[i], \":\",  non_measures) # on affiche la liste des grandeurs non mesurées station par station.\n",
    "dict"
   ]
  },
  {
   "cell_type": "code",
   "execution_count": 20,
   "id": "e7f4af0e-c73d-44f3-b991-4764c1a247b2",
   "metadata": {
    "tags": []
   },
   "outputs": [
    {
     "name": "stdout",
     "output_type": "stream",
     "text": [
      "Il y a 9 modalités différentes.\n"
     ]
    },
    {
     "data": {
      "text/plain": [
       "[['Evaporation', 'Sunshine'],\n",
       " ['Evaporation', 'Sunshine', 'Cloud9am', 'Cloud3pm'],\n",
       " [],\n",
       " ['Evaporation',\n",
       "  'Sunshine',\n",
       "  'WindGustDir',\n",
       "  'WindGustSpeed',\n",
       "  'Pressure9am',\n",
       "  'Pressure3pm'],\n",
       " ['Evaporation',\n",
       "  'Sunshine',\n",
       "  'Pressure9am',\n",
       "  'Pressure3pm',\n",
       "  'Cloud9am',\n",
       "  'Cloud3pm'],\n",
       " ['Sunshine'],\n",
       " ['Cloud9am', 'Cloud3pm'],\n",
       " ['WindGustDir', 'WindGustSpeed'],\n",
       " ['Evaporation']]"
      ]
     },
     "execution_count": 20,
     "metadata": {},
     "output_type": "execute_result"
    }
   ],
   "source": [
    "## J'aimerai bien avoir l'inverse: la liste des différentes modalités uniques de mesures non effectuées, et la correspondance avec les stations.\n",
    "### On va déjà faire la liste des différentes modalités de non-mesures:\n",
    "modalites = []\n",
    "for station in dict:\n",
    "    if dict[station] not in modalites:\n",
    "        modalites.append(dict[station])\n",
    "\n",
    "print(\"Il y a\", len(modalites), \"modalités différentes.\")\n",
    "modalites"
   ]
  },
  {
   "cell_type": "code",
   "execution_count": 21,
   "id": "82706210-da85-4757-83cf-4886f7f51b74",
   "metadata": {
    "tags": []
   },
   "outputs": [
    {
     "data": {
      "text/plain": [
       "{'Evaporation_Sunshine': ['Albury', 'Wollongong', 'Ballarat', 'Uluru'],\n",
       " 'Evaporation_Sunshine_Cloud9am_Cloud3pm': ['BadgerysCreek',\n",
       "  'NorahHead',\n",
       "  'Tuggeranong',\n",
       "  'Nhil',\n",
       "  'GoldCoast',\n",
       "  'Witchcliffe',\n",
       "  'Walpole'],\n",
       " '': ['Cobar',\n",
       "  'CoffsHarbour',\n",
       "  'Moree',\n",
       "  'NorfolkIsland',\n",
       "  'Sydney',\n",
       "  'SydneyAirport',\n",
       "  'WaggaWagga',\n",
       "  'Williamtown',\n",
       "  'Canberra',\n",
       "  'Sale',\n",
       "  'MelbourneAirport',\n",
       "  'Melbourne',\n",
       "  'Mildura',\n",
       "  'Portland',\n",
       "  'Watsonia',\n",
       "  'Brisbane',\n",
       "  'Cairns',\n",
       "  'Townsville',\n",
       "  'MountGambier',\n",
       "  'Nuriootpa',\n",
       "  'Woomera',\n",
       "  'PerthAirport',\n",
       "  'Perth',\n",
       "  'Hobart',\n",
       "  'AliceSprings',\n",
       "  'Darwin'],\n",
       " 'Evaporation_Sunshine_WindGustDir_WindGustSpeed_Pressure9am_Pressure3pm': ['Newcastle'],\n",
       " 'Evaporation_Sunshine_Pressure9am_Pressure3pm_Cloud9am_Cloud3pm': ['Penrith',\n",
       "  'MountGinini',\n",
       "  'SalmonGums'],\n",
       " 'Sunshine': ['Richmond', 'Bendigo', 'Launceston', 'Katherine'],\n",
       " 'Cloud9am_Cloud3pm': ['Dartmoor', 'Adelaide'],\n",
       " 'WindGustDir_WindGustSpeed': ['Albany'],\n",
       " 'Evaporation': ['PearceRAAF']}"
      ]
     },
     "execution_count": 21,
     "metadata": {},
     "output_type": "execute_result"
    }
   ],
   "source": [
    "dict_reverse = {}\n",
    "for i, mod in zip(range(len(modalites)), modalites):\n",
    "    liste_stations = []\n",
    "    for station in dict:\n",
    "        if dict[station] == mod:\n",
    "            liste_stations.append(station)\n",
    "    dict_reverse[\"_\".join(modalites[i])] = liste_stations # J'ai appris qu'un dictionnaire ne peut pas prendre de liste en guise de clé. \n",
    "                                                          #J'ai décidé de concaténer le nom des colonnes non mesurées avec un \"_\"       \n",
    "    #print(mod, \":\", liste_stations)           \n",
    "dict_reverse"
   ]
  },
  {
   "cell_type": "code",
   "execution_count": 22,
   "id": "6e40b426-94dd-4545-8ed8-4d28875060a1",
   "metadata": {
    "tags": []
   },
   "outputs": [
    {
     "data": {
      "text/plain": [
       "['Albury', 'Wollongong', 'Ballarat', 'Uluru']"
      ]
     },
     "execution_count": 22,
     "metadata": {},
     "output_type": "execute_result"
    }
   ],
   "source": [
    "# Si on veut toutes les stations qui ne mesurent pas l'évaporation et l'ensoleillement uniquement, on fait:\n",
    "dict_reverse['Evaporation_Sunshine']"
   ]
  },
  {
   "cell_type": "code",
   "execution_count": 23,
   "id": "d8917164-0ed0-4f18-bda9-dc6425132fb8",
   "metadata": {
    "tags": []
   },
   "outputs": [
    {
     "data": {
      "text/plain": [
       "['Richmond', 'Bendigo', 'Launceston', 'Katherine']"
      ]
     },
     "execution_count": 23,
     "metadata": {},
     "output_type": "execute_result"
    }
   ],
   "source": [
    "dict_reverse['Sunshine']"
   ]
  },
  {
   "cell_type": "code",
   "execution_count": 24,
   "id": "1acf42d0-5bb9-4774-ba66-807b5a9c4f5e",
   "metadata": {
    "tags": []
   },
   "outputs": [
    {
     "data": {
      "text/plain": [
       "['Newcastle']"
      ]
     },
     "execution_count": 24,
     "metadata": {},
     "output_type": "execute_result"
    }
   ],
   "source": [
    "dict_reverse['Evaporation_Sunshine_WindGustDir_WindGustSpeed_Pressure9am_Pressure3pm']"
   ]
  },
  {
   "cell_type": "code",
   "execution_count": 25,
   "id": "2e2f0fd6-7f72-468b-85ea-ba6031bdd059",
   "metadata": {},
   "outputs": [],
   "source": [
    "##### Ca marche! #####"
   ]
  },
  {
   "cell_type": "code",
   "execution_count": 26,
   "id": "cc1872f2-877a-470a-bed9-3d411d2113b3",
   "metadata": {},
   "outputs": [
    {
     "data": {
      "text/plain": [
       "['Cobar',\n",
       " 'CoffsHarbour',\n",
       " 'Moree',\n",
       " 'NorfolkIsland',\n",
       " 'Sydney',\n",
       " 'SydneyAirport',\n",
       " 'WaggaWagga',\n",
       " 'Williamtown',\n",
       " 'Canberra',\n",
       " 'Sale',\n",
       " 'MelbourneAirport',\n",
       " 'Melbourne',\n",
       " 'Mildura',\n",
       " 'Portland',\n",
       " 'Watsonia',\n",
       " 'Brisbane',\n",
       " 'Cairns',\n",
       " 'Townsville',\n",
       " 'MountGambier',\n",
       " 'Nuriootpa',\n",
       " 'Woomera',\n",
       " 'PerthAirport',\n",
       " 'Perth',\n",
       " 'Hobart',\n",
       " 'AliceSprings',\n",
       " 'Darwin']"
      ]
     },
     "execution_count": 26,
     "metadata": {},
     "output_type": "execute_result"
    }
   ],
   "source": [
    "dict_reverse[''] # Les stations qui mesurent tout."
   ]
  },
  {
   "cell_type": "markdown",
   "id": "00074637-7a79-4fac-b7d5-bf33cb44f100",
   "metadata": {
    "tags": []
   },
   "source": [
    "## Comment enlever les colonnes non mesurées d'un dataframe station?"
   ]
  },
  {
   "cell_type": "markdown",
   "id": "8f05f37c-4313-4284-a517-0ba44fce4b6b",
   "metadata": {
    "jp-MarkdownHeadingCollapsed": true,
    "tags": []
   },
   "source": [
    "### L'exemple d'Albury"
   ]
  },
  {
   "cell_type": "code",
   "execution_count": 27,
   "id": "c2364b4e-3cbd-4370-b8e0-1cedd2c262cd",
   "metadata": {
    "tags": []
   },
   "outputs": [
    {
     "data": {
      "text/plain": [
       "['Evaporation', 'Sunshine']"
      ]
     },
     "execution_count": 27,
     "metadata": {},
     "output_type": "execute_result"
    }
   ],
   "source": [
    "albury = df.loc[df['Location'] == 'Albury']\n",
    "\n",
    "# Quelles sont les grandeurs non mesurées par la station Albury? On utilise le dictionnaire dict (qu'il faudrait renommer avec un meilleur nom...)\n",
    "dict['Albury']\n"
   ]
  },
  {
   "cell_type": "code",
   "execution_count": 28,
   "id": "06d561bd-c0e1-42b6-baf2-980f33221e5a",
   "metadata": {
    "tags": []
   },
   "outputs": [
    {
     "name": "stderr",
     "output_type": "stream",
     "text": [
      "/var/folders/dr/y62ysxxx6r9_rqfr8l68lm080000gn/T/ipykernel_12585/2650491140.py:2: SettingWithCopyWarning: \n",
      "A value is trying to be set on a copy of a slice from a DataFrame\n",
      "\n",
      "See the caveats in the documentation: https://pandas.pydata.org/pandas-docs/stable/user_guide/indexing.html#returning-a-view-versus-a-copy\n",
      "  albury.drop(columns = dict['Albury'], inplace = True)\n"
     ]
    }
   ],
   "source": [
    "# On enlève ces colonnes:\n",
    "albury.drop(columns = dict['Albury'], inplace = True)\n",
    "# J'ai un message SettingWithCopyWarning que je ne comprends pas: j'ai travaillé totue la journée avec ces commandes dans un autre .ipynb sans que ce message n'apparaisse."
   ]
  },
  {
   "cell_type": "code",
   "execution_count": 29,
   "id": "1a07cff8-d495-4423-9869-abce1ff3f782",
   "metadata": {
    "tags": []
   },
   "outputs": [
    {
     "name": "stdout",
     "output_type": "stream",
     "text": [
      "<class 'pandas.core.frame.DataFrame'>\n",
      "Index: 3040 entries, 0 to 3039\n",
      "Data columns (total 21 columns):\n",
      " #   Column         Non-Null Count  Dtype  \n",
      "---  ------         --------------  -----  \n",
      " 0   Date           3040 non-null   object \n",
      " 1   Location       3040 non-null   object \n",
      " 2   MinTemp        3029 non-null   float64\n",
      " 3   MaxTemp        3029 non-null   float64\n",
      " 4   Rainfall       3011 non-null   float64\n",
      " 5   WindGustDir    3008 non-null   object \n",
      " 6   WindGustSpeed  3008 non-null   float64\n",
      " 7   WindDir9am     2515 non-null   object \n",
      " 8   WindDir3pm     2994 non-null   object \n",
      " 9   WindSpeed9am   3031 non-null   float64\n",
      " 10  WindSpeed3pm   3029 non-null   float64\n",
      " 11  Humidity9am    3031 non-null   float64\n",
      " 12  Humidity3pm    3032 non-null   float64\n",
      " 13  Pressure9am    3035 non-null   float64\n",
      " 14  Pressure3pm    3032 non-null   float64\n",
      " 15  Cloud9am       1289 non-null   float64\n",
      " 16  Cloud3pm       1427 non-null   float64\n",
      " 17  Temp9am        3031 non-null   float64\n",
      " 18  Temp3pm        3032 non-null   float64\n",
      " 19  RainToday      3011 non-null   object \n",
      " 20  RainTomorrow   3011 non-null   object \n",
      "dtypes: float64(14), object(7)\n",
      "memory usage: 522.5+ KB\n"
     ]
    }
   ],
   "source": [
    "##### On vérifie que les colonnes ont bien été enlevées.\n",
    "albury.info()"
   ]
  },
  {
   "cell_type": "code",
   "execution_count": 30,
   "id": "4f5947c7-7b55-441e-81b5-d78900984028",
   "metadata": {
    "tags": []
   },
   "outputs": [
    {
     "name": "stdout",
     "output_type": "stream",
     "text": [
      "Il y a  6.54 % de nan dans les grandeurs mesurées par Albury.\n"
     ]
    }
   ],
   "source": [
    "print(\"Il y a \", round(albury.isna().sum().sum()/(albury.shape[0]*albury.shape[1])*100, 2), \"% de nan dans les grandeurs mesurées par Albury.\")"
   ]
  },
  {
   "cell_type": "code",
   "execution_count": 31,
   "id": "8e793527-1980-4efc-af79-494e1a274649",
   "metadata": {
    "tags": []
   },
   "outputs": [],
   "source": [
    "#for station in df['Location'].unique():\n",
    "    #stat = df.loc[df['Location'] == station].drop(columns = dict[station], inplace = True)\n",
    "    #print(\"Il y a \", round(stat.isna().sum().sum()/(stat.shape[0]*stat.shape[1])*100, 2), \"% de nan dans les grandeurs mesurées par\")\n",
    "   \n",
    "\n",
    "    "
   ]
  },
  {
   "cell_type": "code",
   "execution_count": 32,
   "id": "f1db37fb-8e4e-49a9-80a0-6a0ef4512b19",
   "metadata": {},
   "outputs": [
    {
     "name": "stderr",
     "output_type": "stream",
     "text": [
      "/var/folders/dr/y62ysxxx6r9_rqfr8l68lm080000gn/T/ipykernel_12585/2870614221.py:1: SettingWithCopyWarning: \n",
      "A value is trying to be set on a copy of a slice from a DataFrame\n",
      "\n",
      "See the caveats in the documentation: https://pandas.pydata.org/pandas-docs/stable/user_guide/indexing.html#returning-a-view-versus-a-copy\n",
      "  station = df.loc[df['Location'] == station].drop(columns = dict[station], inplace = True)\n"
     ]
    }
   ],
   "source": [
    "station = df.loc[df['Location'] == station].drop(columns = dict[station], inplace = True)"
   ]
  },
  {
   "cell_type": "code",
   "execution_count": null,
   "id": "79c3d9cd-ca2b-4fa9-a957-44ccb9347e4b",
   "metadata": {},
   "outputs": [],
   "source": []
  },
  {
   "cell_type": "code",
   "execution_count": null,
   "id": "95163c1a-1810-461f-be51-7e5d5990d733",
   "metadata": {},
   "outputs": [],
   "source": []
  },
  {
   "cell_type": "markdown",
   "id": "7225a9ad-044c-435c-9eb6-1638dd08c984",
   "metadata": {},
   "source": [
    "## Calculer le % de nan par station et par mesure"
   ]
  },
  {
   "cell_type": "code",
   "execution_count": 33,
   "id": "0110a4e5-a308-407b-89bf-6a363b664632",
   "metadata": {
    "tags": []
   },
   "outputs": [
    {
     "name": "stdout",
     "output_type": "stream",
     "text": [
      "                0      1\n",
      "0            Date    0.0\n",
      "1        Location    0.0\n",
      "2         MinTemp    0.4\n",
      "3         MaxTemp    0.4\n",
      "4        Rainfall    1.0\n",
      "5     Evaporation  100.0\n",
      "6        Sunshine  100.0\n",
      "7     WindGustDir    1.1\n",
      "8   WindGustSpeed    1.1\n",
      "9      WindDir9am   17.3\n",
      "10     WindDir3pm    1.5\n",
      "11   WindSpeed9am    0.3\n",
      "12   WindSpeed3pm    0.4\n",
      "13    Humidity9am    0.3\n",
      "14    Humidity3pm    0.3\n",
      "15    Pressure9am    0.2\n",
      "16    Pressure3pm    0.3\n",
      "17       Cloud9am   57.6\n",
      "18       Cloud3pm   53.1\n",
      "19        Temp9am    0.3\n",
      "20        Temp3pm    0.3\n",
      "21      RainToday    1.0\n",
      "22   RainTomorrow    1.0\n"
     ]
    }
   ],
   "source": [
    "#on par de nan_rate\n",
    "albury = df.loc[df['Location'] == 'Albury']\n",
    "nan_rate = []\n",
    "for col in albury.columns:\n",
    "    nan_rate.append([col,round(albury[col].isna().sum()/albury.shape[0]*100, 1) ])\n",
    "print(pd.DataFrame(nan_rate))"
   ]
  },
  {
   "cell_type": "code",
   "execution_count": 34,
   "id": "32885e18-9288-43ef-b33f-1936e3ac2305",
   "metadata": {
    "tags": []
   },
   "outputs": [
    {
     "data": {
      "text/plain": [
       "0.3618421052631579"
      ]
     },
     "execution_count": 34,
     "metadata": {},
     "output_type": "execute_result"
    }
   ],
   "source": [
    "albury['MinTemp'].isna().sum()/albury['MinTemp'].shape[0]*100"
   ]
  },
  {
   "cell_type": "code",
   "execution_count": 35,
   "id": "c66b1e66-e2ad-4174-b5fc-0c9d1c2a9532",
   "metadata": {
    "tags": []
   },
   "outputs": [],
   "source": [
    "def nan_rate_count(col):\n",
    "    nr = round(col.isna().sum()/col.shape[0]*100, 2)\n",
    "    return nr"
   ]
  },
  {
   "cell_type": "code",
   "execution_count": 36,
   "id": "2a09ee97-36ce-4810-8920-83d98882abb1",
   "metadata": {
    "tags": []
   },
   "outputs": [
    {
     "data": {
      "text/plain": [
       "0.36"
      ]
     },
     "execution_count": 36,
     "metadata": {},
     "output_type": "execute_result"
    }
   ],
   "source": [
    "nan_rate_count(albury['MinTemp'])"
   ]
  },
  {
   "cell_type": "code",
   "execution_count": 37,
   "id": "4e0fdd97-c47c-4a39-9afa-517537ef0977",
   "metadata": {
    "collapsed": true,
    "jupyter": {
     "outputs_hidden": true
    },
    "tags": []
   },
   "outputs": [
    {
     "data": {
      "text/html": [
       "<div>\n",
       "<style scoped>\n",
       "    .dataframe tbody tr th:only-of-type {\n",
       "        vertical-align: middle;\n",
       "    }\n",
       "\n",
       "    .dataframe tbody tr th {\n",
       "        vertical-align: top;\n",
       "    }\n",
       "\n",
       "    .dataframe thead th {\n",
       "        text-align: right;\n",
       "    }\n",
       "</style>\n",
       "<table border=\"1\" class=\"dataframe\">\n",
       "  <thead>\n",
       "    <tr style=\"text-align: right;\">\n",
       "      <th></th>\n",
       "      <th>MinTemp</th>\n",
       "    </tr>\n",
       "    <tr>\n",
       "      <th>Location</th>\n",
       "      <th></th>\n",
       "    </tr>\n",
       "  </thead>\n",
       "  <tbody>\n",
       "    <tr>\n",
       "      <th>Adelaide</th>\n",
       "      <td>0.06</td>\n",
       "    </tr>\n",
       "    <tr>\n",
       "      <th>Albany</th>\n",
       "      <td>2.07</td>\n",
       "    </tr>\n",
       "    <tr>\n",
       "      <th>Albury</th>\n",
       "      <td>0.36</td>\n",
       "    </tr>\n",
       "    <tr>\n",
       "      <th>AliceSprings</th>\n",
       "      <td>0.03</td>\n",
       "    </tr>\n",
       "    <tr>\n",
       "      <th>BadgerysCreek</th>\n",
       "      <td>1.20</td>\n",
       "    </tr>\n",
       "    <tr>\n",
       "      <th>Ballarat</th>\n",
       "      <td>0.03</td>\n",
       "    </tr>\n",
       "    <tr>\n",
       "      <th>Bendigo</th>\n",
       "      <td>0.07</td>\n",
       "    </tr>\n",
       "    <tr>\n",
       "      <th>Brisbane</th>\n",
       "      <td>0.28</td>\n",
       "    </tr>\n",
       "    <tr>\n",
       "      <th>Cairns</th>\n",
       "      <td>0.03</td>\n",
       "    </tr>\n",
       "    <tr>\n",
       "      <th>Canberra</th>\n",
       "      <td>0.17</td>\n",
       "    </tr>\n",
       "    <tr>\n",
       "      <th>Cobar</th>\n",
       "      <td>0.20</td>\n",
       "    </tr>\n",
       "    <tr>\n",
       "      <th>CoffsHarbour</th>\n",
       "      <td>0.50</td>\n",
       "    </tr>\n",
       "    <tr>\n",
       "      <th>Dartmoor</th>\n",
       "      <td>2.29</td>\n",
       "    </tr>\n",
       "    <tr>\n",
       "      <th>Darwin</th>\n",
       "      <td>0.03</td>\n",
       "    </tr>\n",
       "    <tr>\n",
       "      <th>GoldCoast</th>\n",
       "      <td>0.10</td>\n",
       "    </tr>\n",
       "    <tr>\n",
       "      <th>Hobart</th>\n",
       "      <td>0.00</td>\n",
       "    </tr>\n",
       "    <tr>\n",
       "      <th>Katherine</th>\n",
       "      <td>3.11</td>\n",
       "    </tr>\n",
       "    <tr>\n",
       "      <th>Launceston</th>\n",
       "      <td>0.20</td>\n",
       "    </tr>\n",
       "    <tr>\n",
       "      <th>Melbourne</th>\n",
       "      <td>15.03</td>\n",
       "    </tr>\n",
       "    <tr>\n",
       "      <th>MelbourneAirport</th>\n",
       "      <td>0.00</td>\n",
       "    </tr>\n",
       "    <tr>\n",
       "      <th>Mildura</th>\n",
       "      <td>0.00</td>\n",
       "    </tr>\n",
       "    <tr>\n",
       "      <th>Moree</th>\n",
       "      <td>0.07</td>\n",
       "    </tr>\n",
       "    <tr>\n",
       "      <th>MountGambier</th>\n",
       "      <td>0.07</td>\n",
       "    </tr>\n",
       "    <tr>\n",
       "      <th>MountGinini</th>\n",
       "      <td>2.99</td>\n",
       "    </tr>\n",
       "    <tr>\n",
       "      <th>Newcastle</th>\n",
       "      <td>11.39</td>\n",
       "    </tr>\n",
       "    <tr>\n",
       "      <th>Nhil</th>\n",
       "      <td>0.32</td>\n",
       "    </tr>\n",
       "    <tr>\n",
       "      <th>NorahHead</th>\n",
       "      <td>1.00</td>\n",
       "    </tr>\n",
       "    <tr>\n",
       "      <th>NorfolkIsland</th>\n",
       "      <td>0.03</td>\n",
       "    </tr>\n",
       "    <tr>\n",
       "      <th>Nuriootpa</th>\n",
       "      <td>0.37</td>\n",
       "    </tr>\n",
       "    <tr>\n",
       "      <th>PearceRAAF</th>\n",
       "      <td>0.73</td>\n",
       "    </tr>\n",
       "    <tr>\n",
       "      <th>Penrith</th>\n",
       "      <td>0.92</td>\n",
       "    </tr>\n",
       "    <tr>\n",
       "      <th>Perth</th>\n",
       "      <td>0.00</td>\n",
       "    </tr>\n",
       "    <tr>\n",
       "      <th>PerthAirport</th>\n",
       "      <td>0.00</td>\n",
       "    </tr>\n",
       "    <tr>\n",
       "      <th>Portland</th>\n",
       "      <td>0.30</td>\n",
       "    </tr>\n",
       "    <tr>\n",
       "      <th>Richmond</th>\n",
       "      <td>0.66</td>\n",
       "    </tr>\n",
       "    <tr>\n",
       "      <th>Sale</th>\n",
       "      <td>0.03</td>\n",
       "    </tr>\n",
       "    <tr>\n",
       "      <th>SalmonGums</th>\n",
       "      <td>1.37</td>\n",
       "    </tr>\n",
       "    <tr>\n",
       "      <th>Sydney</th>\n",
       "      <td>0.12</td>\n",
       "    </tr>\n",
       "    <tr>\n",
       "      <th>SydneyAirport</th>\n",
       "      <td>0.03</td>\n",
       "    </tr>\n",
       "    <tr>\n",
       "      <th>Townsville</th>\n",
       "      <td>0.07</td>\n",
       "    </tr>\n",
       "    <tr>\n",
       "      <th>Tuggeranong</th>\n",
       "      <td>0.03</td>\n",
       "    </tr>\n",
       "    <tr>\n",
       "      <th>Uluru</th>\n",
       "      <td>2.22</td>\n",
       "    </tr>\n",
       "    <tr>\n",
       "      <th>WaggaWagga</th>\n",
       "      <td>0.00</td>\n",
       "    </tr>\n",
       "    <tr>\n",
       "      <th>Walpole</th>\n",
       "      <td>1.16</td>\n",
       "    </tr>\n",
       "    <tr>\n",
       "      <th>Watsonia</th>\n",
       "      <td>0.23</td>\n",
       "    </tr>\n",
       "    <tr>\n",
       "      <th>Williamtown</th>\n",
       "      <td>0.07</td>\n",
       "    </tr>\n",
       "    <tr>\n",
       "      <th>Witchcliffe</th>\n",
       "      <td>0.30</td>\n",
       "    </tr>\n",
       "    <tr>\n",
       "      <th>Wollongong</th>\n",
       "      <td>0.49</td>\n",
       "    </tr>\n",
       "    <tr>\n",
       "      <th>Woomera</th>\n",
       "      <td>0.13</td>\n",
       "    </tr>\n",
       "  </tbody>\n",
       "</table>\n",
       "</div>"
      ],
      "text/plain": [
       "                  MinTemp\n",
       "Location                 \n",
       "Adelaide             0.06\n",
       "Albany               2.07\n",
       "Albury               0.36\n",
       "AliceSprings         0.03\n",
       "BadgerysCreek        1.20\n",
       "Ballarat             0.03\n",
       "Bendigo              0.07\n",
       "Brisbane             0.28\n",
       "Cairns               0.03\n",
       "Canberra             0.17\n",
       "Cobar                0.20\n",
       "CoffsHarbour         0.50\n",
       "Dartmoor             2.29\n",
       "Darwin               0.03\n",
       "GoldCoast            0.10\n",
       "Hobart               0.00\n",
       "Katherine            3.11\n",
       "Launceston           0.20\n",
       "Melbourne           15.03\n",
       "MelbourneAirport     0.00\n",
       "Mildura              0.00\n",
       "Moree                0.07\n",
       "MountGambier         0.07\n",
       "MountGinini          2.99\n",
       "Newcastle           11.39\n",
       "Nhil                 0.32\n",
       "NorahHead            1.00\n",
       "NorfolkIsland        0.03\n",
       "Nuriootpa            0.37\n",
       "PearceRAAF           0.73\n",
       "Penrith              0.92\n",
       "Perth                0.00\n",
       "PerthAirport         0.00\n",
       "Portland             0.30\n",
       "Richmond             0.66\n",
       "Sale                 0.03\n",
       "SalmonGums           1.37\n",
       "Sydney               0.12\n",
       "SydneyAirport        0.03\n",
       "Townsville           0.07\n",
       "Tuggeranong          0.03\n",
       "Uluru                2.22\n",
       "WaggaWagga           0.00\n",
       "Walpole              1.16\n",
       "Watsonia             0.23\n",
       "Williamtown          0.07\n",
       "Witchcliffe          0.30\n",
       "Wollongong           0.49\n",
       "Woomera              0.13"
      ]
     },
     "execution_count": 37,
     "metadata": {},
     "output_type": "execute_result"
    }
   ],
   "source": [
    "### Esayons à partir d'un groupbby\n",
    "functions ={'MinTemp':nan_rate_count}\n",
    "df.groupby('Location').agg(functions)"
   ]
  },
  {
   "cell_type": "code",
   "execution_count": 38,
   "id": "fb34a7bb-c036-44e3-88b6-02f624b7d843",
   "metadata": {
    "tags": []
   },
   "outputs": [],
   "source": [
    "## Il faut créer le dictionnaire de functions de manière récurrente\n",
    "fonctions={}\n",
    "for col in df.columns:\n",
    "    fonctions[col] = nan_rate_count\n",
    "nan_map = df.groupby('Location').agg(fonctions)\n",
    "# Parfait!!! ca marche!!"
   ]
  },
  {
   "cell_type": "code",
   "execution_count": 39,
   "id": "96a32491-85d6-4e00-9c01-a31dff6976e5",
   "metadata": {
    "tags": []
   },
   "outputs": [
    {
     "data": {
      "image/png": "[encoded data removed]",
      "text/plain": [
       "<Figure size 2000x1000 with 2 Axes>"
      ]
     },
     "metadata": {},
     "output_type": "display_data"
    }
   ],
   "source": [
    "plt.figure(figsize = (20,10))\n",
    "ax = sns.heatmap(nan_map.T, annot = False, cmap = \"RdYlGn_r\", square = True, linewidth = 1, annot_kws={\"size\":6}, fmt=\".0f\", cbar_kws = {\"label\": \"Percentage\"})\n",
    "\n",
    "## Mise en forme\n",
    "plt.title(\"Taux de NaN\", fontweight = \"bold\", fontsize = 16)\n",
    "plt.xlabel(\"Variable\", fontweight = \"bold\")\n",
    "plt.ylabel(\"Location\", fontweight = \"bold\")\n",
    "plt.xticks(rotation = 70)\n",
    "cbar_axes = ax.figure.axes[-1].yaxis.label.set_weight(\"bold\");"
   ]
  },
  {
   "cell_type": "code",
   "execution_count": null,
   "id": "04ba78b4-2dd1-43fb-bd0a-6b1b665fa1d5",
   "metadata": {},
   "outputs": [],
   "source": []
  }
 ],
 "metadata": {
  "kernelspec": {
   "display_name": "Python 3 (ipykernel)",
   "language": "python",
   "name": "python3"
  },
  "language_info": {
   "codemirror_mode": {
    "name": "ipython",
    "version": 3
   },
   "file_extension": ".py",
   "mimetype": "text/x-python",
   "name": "python",
   "nbconvert_exporter": "python",
   "pygments_lexer": "ipython3",
   "version": "3.11.5"
  }
 },
 "nbformat": 4,
 "nbformat_minor": 5
}
