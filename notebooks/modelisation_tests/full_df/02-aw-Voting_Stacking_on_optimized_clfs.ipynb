{
 "cells": [
  {
   "cell_type": "markdown",
   "id": "47906682-d7d8-4ced-b225-97e67a6732b5",
   "metadata": {},
   "source": [
    "# Voting et Stacking"
   ]
  },
  {
   "cell_type": "code",
   "execution_count": 26,
   "id": "900a9c03-4a8b-4e4e-9513-aadea30fda2a",
   "metadata": {
    "tags": []
   },
   "outputs": [],
   "source": [
    "import pandas as pd\n",
    "import numpy as np\n",
    "import matplotlib.pyplot as plt\n",
    "import seaborn as sns\n",
    "\n",
    "sns.set_theme(style = \"darkgrid\", palette = \"colorblind\")\n",
    "\n",
    "from sklearn import tree, ensemble, linear_model, svm, neighbors\n",
    "from sklearn.model_selection import train_test_split, GridSearchCV, KFold, cross_validate\n",
    "from sklearn.preprocessing import StandardScaler, LabelEncoder\n",
    "from sklearn.metrics import f1_score, classification_report, confusion_matrix, accuracy_score, roc_curve, auc\n",
    "from sklearn.feature_selection import VarianceThreshold\n",
    "from sklearn.svm import SVC\n",
    "from sklearn.ensemble import VotingClassifier, StackingClassifier\n",
    "from sklearn.neighbors import NearestNeighbors\n",
    "\n",
    "from imblearn.over_sampling import RandomOverSampler, SMOTE\n",
    "from imblearn.under_sampling import RandomUnderSampler,  ClusterCentroids\n",
    "from imblearn.metrics import classification_report_imbalanced, geometric_mean_score\n",
    "\n",
    "from joblib import dump, load # pour enregistrer et charger les modèles.\n",
    "\n",
    "from IPython.display import display_html # pour pouvoir afficher deux df côte à côte.\n",
    "\n",
    "n_coeurs = 4 # spécifie le nombre de coeurs utilisés sur le processeur par les fonctions qui le permettent (logreg, rdf, knn ici)"
   ]
  },
  {
   "cell_type": "markdown",
   "id": "d40947d5-9524-4c2d-ac90-002b69449e03",
   "metadata": {
    "tags": []
   },
   "source": [
    "## 1.Préparation des données et chargement des modèles"
   ]
  },
  {
   "cell_type": "code",
   "execution_count": 4,
   "id": "f0227a7d-b01c-4d0d-9368-26d03a6a66b1",
   "metadata": {
    "tags": []
   },
   "outputs": [
    {
     "name": "stderr",
     "output_type": "stream",
     "text": [
      "C:\\Users\\AlexW\\anaconda3\\envs\\projet_meteo\\Lib\\site-packages\\imblearn\\over_sampling\\_smote\\base.py:336: FutureWarning: The parameter `n_jobs` has been deprecated in 0.10 and will be removed in 0.12. You can pass an nearest neighbors estimator where `n_jobs` is already set instead.\n",
      "  warnings.warn(\n"
     ]
    },
    {
     "name": "stdout",
     "output_type": "stream",
     "text": [
      "Classes échantillon SMOTE : {0: 82189, 1: 82189}\n"
     ]
    }
   ],
   "source": [
    "# Instanciation df \n",
    "df = pd.read_csv('../../data/processed/model_weatherAUS.csv')\n",
    "df.drop(columns = 'Unnamed: 0', inplace = True)\n",
    "df['Date'] = pd.to_datetime(df['Date'])\n",
    "\n",
    "###### Proportions initiales target:\n",
    "#RainTomorrow\n",
    "#0    0.778382\n",
    "#1    0.221618\n",
    "\n",
    "# Séparation data / target:\n",
    "X = df.drop(columns = ['RainTomorrow', 'Date']).copy()\n",
    "y = df['RainTomorrow'].copy()\n",
    "\n",
    "# Séparation du jeu d'entrainement et du jeu de test:\n",
    "X_train, X_test, y_train, y_test = train_test_split(X, y, test_size = 0.25, random_state = 123, stratify = y) \n",
    "# stratify = y assure que la proportion initiale de y se retrouve à l'identique dans les deux échantillons de train et test,\n",
    "# mais ne permet pas de ré-équilibrer les classes!\n",
    "\n",
    "# Scale de X_train, X_test:\n",
    "scaler = StandardScaler()\n",
    "X_train = scaler.fit_transform(X_train)\n",
    "X_test = scaler.transform(X_test)\n",
    "\n",
    "# Oversample avec SMOTE: pour pouvoir spécifier n_jobs, il faut désormais le faire en instanciant en amont un nearest neighbors compatible, ici NearestNeighbors\n",
    "nn_smote = NearestNeighbors(n_neighbors = 5, n_jobs = n_coeurs)\n",
    "smote = SMOTE(random_state = 12, k_neighbors = nn_smote)\n",
    "X_sm, y_sm = smote.fit_resample(X_train, y_train)\n",
    "\n",
    "print('Classes échantillon SMOTE :', dict(pd.Series(y_sm).value_counts()))"
   ]
  },
  {
   "cell_type": "code",
   "execution_count": 5,
   "id": "f34bc9ad-3e8d-4be9-8fdc-c4115d007cc1",
   "metadata": {
    "tags": []
   },
   "outputs": [],
   "source": [
    "# Chargement des grid: ADRESSE A MODIFIER EN FONCTION DU DF\n",
    "grid_logreg = load('saves/grid_saves/grid_logreg.joblib')\n",
    "grid_dt = load('saves/grid_saves/grid_dt.joblib')\n",
    "grid_rdf = load('saves/grid_saves/grid_rdf.joblib')\n",
    "grid_knn = load('saves/grid_saves/grid_knn.joblib')\n",
    "\n",
    "# Chargement des modèles: ADRESSE A MODIFIER EN FONCTION DU DF\n",
    "logreg = load('saves/model_saves/save_logreg.joblib')\n",
    "dt = load('saves/model_saves/save_dt.joblib')\n",
    "rdf = load('saves/model_saves/save_rdf.joblib')\n",
    "knn = load('saves/model_saves/save_knn.joblib')"
   ]
  },
  {
   "cell_type": "markdown",
   "id": "3cf10388-c94d-40f6-ad27-e2896b846517",
   "metadata": {},
   "source": [
    "## 2. Voting"
   ]
  },
  {
   "cell_type": "markdown",
   "id": "d8bc3536-c1f4-410d-bd0e-b72180b0470d",
   "metadata": {},
   "source": [
    "J'ai fait par ailleurs un essai avec un voting direct et les versions par défaut des classifieurs, on retrouve le même résultat quasiment.\n",
    "Idem en ajoutant svm.\n",
    "Ici on travaille avec les meilleurs estimateurs trouvés précédemment."
   ]
  },
  {
   "cell_type": "code",
   "execution_count": 31,
   "id": "f240af25-2c8f-40ab-b922-2786b9250322",
   "metadata": {
    "tags": []
   },
   "outputs": [
    {
     "data": {
      "text/plain": [
       "['saves/model_saves/save_vclf_hard.joblib']"
      ]
     },
     "execution_count": 31,
     "metadata": {},
     "output_type": "execute_result"
    }
   ],
   "source": [
    "vclf_hard = VotingClassifier(estimators = [('logreg', logreg), ('dt', dt), ('rdf', rdf), ('knn', knn)], voting = 'hard')\n",
    "vclf_hard.fit(X_train, y_train)\n",
    "dump(vclf_hard, 'saves/model_saves/save_vclf_hard.joblib')"
   ]
  },
  {
   "cell_type": "markdown",
   "id": "eb6092eb-d8fd-41a7-a9e8-c674095f5a0d",
   "metadata": {},
   "source": [
    "### 2.1 Evaluation sur test"
   ]
  },
  {
   "cell_type": "code",
   "execution_count": 32,
   "id": "60222730-c12b-4ec2-a745-3672f83ad6a1",
   "metadata": {
    "tags": []
   },
   "outputs": [],
   "source": [
    "vclf_hard = load('saves/model_saves/save_vclf_hard.joblib')"
   ]
  },
  {
   "cell_type": "code",
   "execution_count": 34,
   "id": "9d6a4b03-97d1-4465-84fe-74098f63a8ab",
   "metadata": {
    "tags": []
   },
   "outputs": [
    {
     "data": {
      "text/html": [
       "<div>\n",
       "<style scoped>\n",
       "    .dataframe tbody tr th:only-of-type {\n",
       "        vertical-align: middle;\n",
       "    }\n",
       "\n",
       "    .dataframe tbody tr th {\n",
       "        vertical-align: top;\n",
       "    }\n",
       "\n",
       "    .dataframe thead th {\n",
       "        text-align: right;\n",
       "    }\n",
       "</style>\n",
       "<table border=\"1\" class=\"dataframe\">\n",
       "  <thead>\n",
       "    <tr style=\"text-align: right;\">\n",
       "      <th>Classes prédites</th>\n",
       "      <th>0</th>\n",
       "      <th>1</th>\n",
       "    </tr>\n",
       "    <tr>\n",
       "      <th>Classes réelles</th>\n",
       "      <th></th>\n",
       "      <th></th>\n",
       "    </tr>\n",
       "  </thead>\n",
       "  <tbody>\n",
       "    <tr>\n",
       "      <th>0</th>\n",
       "      <td>26590</td>\n",
       "      <td>807</td>\n",
       "    </tr>\n",
       "    <tr>\n",
       "      <th>1</th>\n",
       "      <td>4261</td>\n",
       "      <td>3539</td>\n",
       "    </tr>\n",
       "  </tbody>\n",
       "</table>\n",
       "</div>"
      ],
      "text/plain": [
       "Classes prédites      0     1\n",
       "Classes réelles              \n",
       "0                 26590   807\n",
       "1                  4261  3539"
      ]
     },
     "execution_count": 34,
     "metadata": {},
     "output_type": "execute_result"
    }
   ],
   "source": [
    "y_test_pred = vclf_hard.predict(X_test)\n",
    "cm = pd.crosstab(y_test,y_test_pred, rownames = ['Classes réelles'], colnames = ['Classes prédites'])\n",
    "cm"
   ]
  },
  {
   "cell_type": "code",
   "execution_count": 35,
   "id": "2dd35861-62f6-4dcc-a389-9316b8c70acc",
   "metadata": {
    "tags": []
   },
   "outputs": [
    {
     "name": "stdout",
     "output_type": "stream",
     "text": [
      "              precision    recall  f1-score   support\n",
      "\n",
      "           0       0.86      0.97      0.91     27397\n",
      "           1       0.81      0.45      0.58      7800\n",
      "\n",
      "    accuracy                           0.86     35197\n",
      "   macro avg       0.84      0.71      0.75     35197\n",
      "weighted avg       0.85      0.86      0.84     35197\n",
      "\n"
     ]
    }
   ],
   "source": [
    "print(classification_report(y_test, y_test_pred,  digits = 2))"
   ]
  },
  {
   "cell_type": "markdown",
   "id": "2d911375-107c-42a9-9f9d-f4e06c42f5a1",
   "metadata": {
    "tags": []
   },
   "source": [
    "C'est le meilleur résultat obtenu jusqu'à présent.  \n",
    "On ne peut pas chercher de meilleur seuil quand on utilise le voting 'hard'."
   ]
  },
  {
   "cell_type": "markdown",
   "id": "f41c77c6-115f-47dc-88e8-e0abe4a1f8ae",
   "metadata": {
    "jp-MarkdownHeadingCollapsed": true,
    "tags": []
   },
   "source": [
    "### 2.2 Evaluation sur train"
   ]
  },
  {
   "cell_type": "code",
   "execution_count": 21,
   "id": "a7e57c10-9977-432d-90cf-1cb054932e43",
   "metadata": {
    "tags": []
   },
   "outputs": [
    {
     "data": {
      "text/html": [
       "<div>\n",
       "<style scoped>\n",
       "    .dataframe tbody tr th:only-of-type {\n",
       "        vertical-align: middle;\n",
       "    }\n",
       "\n",
       "    .dataframe tbody tr th {\n",
       "        vertical-align: top;\n",
       "    }\n",
       "\n",
       "    .dataframe thead th {\n",
       "        text-align: right;\n",
       "    }\n",
       "</style>\n",
       "<table border=\"1\" class=\"dataframe\">\n",
       "  <thead>\n",
       "    <tr style=\"text-align: right;\">\n",
       "      <th>Classes prédites</th>\n",
       "      <th>0</th>\n",
       "      <th>1</th>\n",
       "    </tr>\n",
       "    <tr>\n",
       "      <th>Classes réelles</th>\n",
       "      <th></th>\n",
       "      <th></th>\n",
       "    </tr>\n",
       "  </thead>\n",
       "  <tbody>\n",
       "    <tr>\n",
       "      <th>0</th>\n",
       "      <td>82189</td>\n",
       "      <td>0</td>\n",
       "    </tr>\n",
       "    <tr>\n",
       "      <th>1</th>\n",
       "      <td>9380</td>\n",
       "      <td>14021</td>\n",
       "    </tr>\n",
       "  </tbody>\n",
       "</table>\n",
       "</div>"
      ],
      "text/plain": [
       "Classes prédites      0      1\n",
       "Classes réelles               \n",
       "0                 82189      0\n",
       "1                  9380  14021"
      ]
     },
     "execution_count": 21,
     "metadata": {},
     "output_type": "execute_result"
    }
   ],
   "source": [
    "y_train_pred = vclf.predict(X_train)\n",
    "cm = pd.crosstab(y_train,y_train_pred, rownames = ['Classes réelles'], colnames = ['Classes prédites'])\n",
    "cm"
   ]
  },
  {
   "cell_type": "code",
   "execution_count": 22,
   "id": "87ee4d02-559e-49bd-958a-f53e158f6d0c",
   "metadata": {
    "tags": []
   },
   "outputs": [
    {
     "name": "stdout",
     "output_type": "stream",
     "text": [
      "              precision    recall  f1-score   support\n",
      "\n",
      "           0       0.90      1.00      0.95     82189\n",
      "           1       1.00      0.60      0.75     23401\n",
      "\n",
      "    accuracy                           0.91    105590\n",
      "   macro avg       0.95      0.80      0.85    105590\n",
      "weighted avg       0.92      0.91      0.90    105590\n",
      "\n"
     ]
    }
   ],
   "source": [
    "print(classification_report(y_train, y_train_pred,  digits = 2))"
   ]
  },
  {
   "cell_type": "markdown",
   "id": "1db84c96-06f0-4711-8579-06ed961de5a6",
   "metadata": {},
   "source": [
    "Il y a clairement overfitting."
   ]
  },
  {
   "cell_type": "markdown",
   "id": "46f90f09-22b4-4c5f-bf47-4e5290c0a294",
   "metadata": {
    "tags": []
   },
   "source": [
    "### 2.3 Voting Soft"
   ]
  },
  {
   "cell_type": "code",
   "execution_count": 42,
   "id": "90698423-f544-4ce6-9108-19a45484e608",
   "metadata": {
    "tags": []
   },
   "outputs": [
    {
     "data": {
      "text/html": [
       "<div>\n",
       "<style scoped>\n",
       "    .dataframe tbody tr th:only-of-type {\n",
       "        vertical-align: middle;\n",
       "    }\n",
       "\n",
       "    .dataframe tbody tr th {\n",
       "        vertical-align: top;\n",
       "    }\n",
       "\n",
       "    .dataframe thead th {\n",
       "        text-align: right;\n",
       "    }\n",
       "</style>\n",
       "<table border=\"1\" class=\"dataframe\">\n",
       "  <thead>\n",
       "    <tr style=\"text-align: right;\">\n",
       "      <th>Classes prédites</th>\n",
       "      <th>0</th>\n",
       "      <th>1</th>\n",
       "    </tr>\n",
       "    <tr>\n",
       "      <th>Classes réelles</th>\n",
       "      <th></th>\n",
       "      <th></th>\n",
       "    </tr>\n",
       "  </thead>\n",
       "  <tbody>\n",
       "    <tr>\n",
       "      <th>0</th>\n",
       "      <td>25932</td>\n",
       "      <td>1465</td>\n",
       "    </tr>\n",
       "    <tr>\n",
       "      <th>1</th>\n",
       "      <td>3613</td>\n",
       "      <td>4187</td>\n",
       "    </tr>\n",
       "  </tbody>\n",
       "</table>\n",
       "</div>"
      ],
      "text/plain": [
       "Classes prédites      0     1\n",
       "Classes réelles              \n",
       "0                 25932  1465\n",
       "1                  3613  4187"
      ]
     },
     "execution_count": 42,
     "metadata": {},
     "output_type": "execute_result"
    }
   ],
   "source": [
    "vclf_soft = VotingClassifier(estimators = [('logreg', logreg), ('dt', dt), ('rdf', rdf), ('knn', knn)], voting = 'soft')\n",
    "\n",
    "vclf_soft.fit(X_train, y_train)\n",
    "\n",
    "y_test_pred = vclf_soft.predict(X_test)\n",
    "cm = pd.crosstab(y_test,y_test_pred, rownames = ['Classes réelles'], colnames = ['Classes prédites'])\n",
    "cm\n"
   ]
  },
  {
   "cell_type": "code",
   "execution_count": 43,
   "id": "15aa1269-49f7-41b8-92ea-01d5bc2d3a11",
   "metadata": {
    "tags": []
   },
   "outputs": [
    {
     "data": {
      "text/plain": [
       "['saves/model_saves/save_vclf_soft.joblib']"
      ]
     },
     "execution_count": 43,
     "metadata": {},
     "output_type": "execute_result"
    }
   ],
   "source": [
    "dump(vclf_soft, 'saves/model_saves/save_vclf_soft.joblib')"
   ]
  },
  {
   "cell_type": "code",
   "execution_count": 44,
   "id": "bbc0d6a6-4a10-46b1-a7f9-fcc87b215fbd",
   "metadata": {
    "tags": []
   },
   "outputs": [],
   "source": [
    "vclf_soft = load('saves/model_saves/save_vclf_soft.joblib')"
   ]
  },
  {
   "cell_type": "code",
   "execution_count": 45,
   "id": "5d5a7331-a796-43e2-a4d6-88aa2a26a5a4",
   "metadata": {
    "tags": []
   },
   "outputs": [
    {
     "name": "stdout",
     "output_type": "stream",
     "text": [
      "              precision    recall  f1-score   support\n",
      "\n",
      "           0       0.88      0.95      0.91     27397\n",
      "           1       0.74      0.54      0.62      7800\n",
      "\n",
      "    accuracy                           0.86     35197\n",
      "   macro avg       0.81      0.74      0.77     35197\n",
      "weighted avg       0.85      0.86      0.85     35197\n",
      "\n"
     ]
    }
   ],
   "source": [
    "print(classification_report(y_test, y_test_pred,  digits = 2))"
   ]
  },
  {
   "cell_type": "markdown",
   "id": "6bccfcc0-43f5-4132-b0b8-f38ba6b75f0f",
   "metadata": {},
   "source": [
    "Je préfère la version 'hard', qui donne une meilleure précision sur la classe positive (82% contre 74% ici)"
   ]
  },
  {
   "cell_type": "code",
   "execution_count": 46,
   "id": "ca0f134a-20a4-45aa-8eed-9b4e6fcbe5a4",
   "metadata": {
    "tags": []
   },
   "outputs": [
    {
     "data": {
      "image/png": "[encoded data removed]",
      "text/plain": [
       "<Figure size 700x700 with 1 Axes>"
      ]
     },
     "metadata": {},
     "output_type": "display_data"
    },
    {
     "name": "stdout",
     "output_type": "stream",
     "text": [
      "Report Voting Soft \n",
      "               precision    recall  f1-score   support\n",
      "\n",
      "           0       0.82      1.00      0.90     27397\n",
      "           1       0.94      0.22      0.36      7800\n",
      "\n",
      "    accuracy                           0.82     35197\n",
      "   macro avg       0.88      0.61      0.63     35197\n",
      "weighted avg       0.84      0.82      0.78     35197\n",
      "\n",
      "[[27281   116]\n",
      " [ 6089  1711]]\n"
     ]
    }
   ],
   "source": [
    "vclf_soft = load('saves/model_saves/save_vclf_soft.joblib')\n",
    "# On fait la prediction sur test:\n",
    "preds = vclf_soft.predict_proba(X_test)\n",
    "\n",
    "################################ On cherche le meilleur seuil:\n",
    "# Création des arrays fpr, tpr et seuils:\n",
    "fpr, tpr, seuils = roc_curve(y_test, preds[:, 1], pos_label = 1) # on choisit pred[:, 1] pour prendre parmi les deux probas celle qui correspond à la classe positive.\n",
    "\n",
    "# Pour calculer l'aire sous la courbe ROC:\n",
    "roc_auc = auc(x = fpr, y = tpr)\n",
    "\n",
    "# Comment trouver le meilleur seuil?\n",
    "dist = 1\n",
    "for (x, y, s) in zip(fpr, tpr, seuils):\n",
    "    dist1 = np.square(x**2 + (y-1)**2) \n",
    "    if dist1 < dist:\n",
    "        dist = dist1\n",
    "        seuil_best = 1 - s # pourquoi dois-je faire ça?\n",
    "        fpr_best = x\n",
    "        tpr_best = y\n",
    "        \n",
    "#print(\"Meilleur seuil:\", seuil_best, \"meilleur fpr:\", fpr_best, \"meilleur tpr:\", tpr_best)\n",
    "\n",
    "# Tracé de ROC:\n",
    "plt.figure(figsize = (7, 7))\n",
    "plt.axis('equal')\n",
    "\n",
    "plt.scatter(fpr_best, tpr_best, s = 60, c = 'red', marker = '*', alpha = 1, label = \"Meilleur seuil = %0.3f\" % seuil_best)\n",
    "plt.plot(fpr, tpr, c = 'orange', label = 'Modèle clf (auc = %0.2f)' % roc_auc)\n",
    "plt.plot(fpr, fpr, 'b--', label = 'Aléatoire (auc = 0.5)')\n",
    "\n",
    "plt.title('Courbe ROC Voting Soft')\n",
    "plt.xlabel('Taux de faux positifs :fpr')\n",
    "plt.ylabel('Taux de vrais positifs :tpr')\n",
    "plt.legend()\n",
    "\n",
    "plt.show()\n",
    "\n",
    "################### On applique le meilleur seuil:\n",
    "y_pred = pd.Series(np.where(preds[:, 1] > seuil_best, 1, 0))\n",
    "\n",
    "print(\"Report Voting Soft\", \"\\n\", classification_report(y_test, y_pred,  digits = 2))\n",
    "print(confusion_matrix(y_test, y_pred))"
   ]
  },
  {
   "cell_type": "markdown",
   "id": "243b4362-56c2-48c6-9435-289857689246",
   "metadata": {},
   "source": [
    "Bilan: on obtient une très bonne précision, sur les deux classes à la fois: les signaux sont très propres.  \n",
    "Par contre, le recall sur la classe positive est très mauvais, comme attendu."
   ]
  },
  {
   "cell_type": "code",
   "execution_count": null,
   "id": "75b85ce8-db58-4e45-9706-c8c701094760",
   "metadata": {},
   "outputs": [],
   "source": []
  },
  {
   "cell_type": "code",
   "execution_count": null,
   "id": "450e30ec-a659-41bc-80e4-bf2419285d01",
   "metadata": {},
   "outputs": [],
   "source": []
  },
  {
   "cell_type": "markdown",
   "id": "bbfc2288-8185-4699-a1a2-8d9299d84b98",
   "metadata": {
    "tags": []
   },
   "source": [
    "## 3. Stacking"
   ]
  },
  {
   "cell_type": "code",
   "execution_count": 6,
   "id": "9877155b-ab63-4559-ada4-a36a8db18a68",
   "metadata": {},
   "outputs": [],
   "source": [
    "sclf = StackingClassifier(estimators = [('logreg', logreg), ('dt', dt), ('rdf', rdf), ('knn', knn)], final_estimator = logreg, n_jobs = n_coeurs)"
   ]
  },
  {
   "cell_type": "code",
   "execution_count": 8,
   "id": "2e1075d4-e725-406e-acdc-9ece61d6d66b",
   "metadata": {},
   "outputs": [
    {
     "data": {
      "text/html": [
       "<style>#sk-container-id-2 {color: black;background-color: white;}#sk-container-id-2 pre{padding: 0;}#sk-container-id-2 div.sk-toggleable {background-color: white;}#sk-container-id-2 label.sk-toggleable__label {cursor: pointer;display: block;width: 100%;margin-bottom: 0;padding: 0.3em;box-sizing: border-box;text-align: center;}#sk-container-id-2 label.sk-toggleable__label-arrow:before {content: \"▸\";float: left;margin-right: 0.25em;color: #696969;}#sk-container-id-2 label.sk-toggleable__label-arrow:hover:before {color: black;}#sk-container-id-2 div.sk-estimator:hover label.sk-toggleable__label-arrow:before {color: black;}#sk-container-id-2 div.sk-toggleable__content {max-height: 0;max-width: 0;overflow: hidden;text-align: left;background-color: #f0f8ff;}#sk-container-id-2 div.sk-toggleable__content pre {margin: 0.2em;color: black;border-radius: 0.25em;background-color: #f0f8ff;}#sk-container-id-2 input.sk-toggleable__control:checked~div.sk-toggleable__content {max-height: 200px;max-width: 100%;overflow: auto;}#sk-container-id-2 input.sk-toggleable__control:checked~label.sk-toggleable__label-arrow:before {content: \"▾\";}#sk-container-id-2 div.sk-estimator input.sk-toggleable__control:checked~label.sk-toggleable__label {background-color: #d4ebff;}#sk-container-id-2 div.sk-label input.sk-toggleable__control:checked~label.sk-toggleable__label {background-color: #d4ebff;}#sk-container-id-2 input.sk-hidden--visually {border: 0;clip: rect(1px 1px 1px 1px);clip: rect(1px, 1px, 1px, 1px);height: 1px;margin: -1px;overflow: hidden;padding: 0;position: absolute;width: 1px;}#sk-container-id-2 div.sk-estimator {font-family: monospace;background-color: #f0f8ff;border: 1px dotted black;border-radius: 0.25em;box-sizing: border-box;margin-bottom: 0.5em;}#sk-container-id-2 div.sk-estimator:hover {background-color: #d4ebff;}#sk-container-id-2 div.sk-parallel-item::after {content: \"\";width: 100%;border-bottom: 1px solid gray;flex-grow: 1;}#sk-container-id-2 div.sk-label:hover label.sk-toggleable__label {background-color: #d4ebff;}#sk-container-id-2 div.sk-serial::before {content: \"\";position: absolute;border-left: 1px solid gray;box-sizing: border-box;top: 0;bottom: 0;left: 50%;z-index: 0;}#sk-container-id-2 div.sk-serial {display: flex;flex-direction: column;align-items: center;background-color: white;padding-right: 0.2em;padding-left: 0.2em;position: relative;}#sk-container-id-2 div.sk-item {position: relative;z-index: 1;}#sk-container-id-2 div.sk-parallel {display: flex;align-items: stretch;justify-content: center;background-color: white;position: relative;}#sk-container-id-2 div.sk-item::before, #sk-container-id-2 div.sk-parallel-item::before {content: \"\";position: absolute;border-left: 1px solid gray;box-sizing: border-box;top: 0;bottom: 0;left: 50%;z-index: -1;}#sk-container-id-2 div.sk-parallel-item {display: flex;flex-direction: column;z-index: 1;position: relative;background-color: white;}#sk-container-id-2 div.sk-parallel-item:first-child::after {align-self: flex-end;width: 50%;}#sk-container-id-2 div.sk-parallel-item:last-child::after {align-self: flex-start;width: 50%;}#sk-container-id-2 div.sk-parallel-item:only-child::after {width: 0;}#sk-container-id-2 div.sk-dashed-wrapped {border: 1px dashed gray;margin: 0 0.4em 0.5em 0.4em;box-sizing: border-box;padding-bottom: 0.4em;background-color: white;}#sk-container-id-2 div.sk-label label {font-family: monospace;font-weight: bold;display: inline-block;line-height: 1.2em;}#sk-container-id-2 div.sk-label-container {text-align: center;}#sk-container-id-2 div.sk-container {/* jupyter's `normalize.less` sets `[hidden] { display: none; }` but bootstrap.min.css set `[hidden] { display: none !important; }` so we also need the `!important` here to be able to override the default hidden behavior on the sphinx rendered scikit-learn.org. See: https://github.com/scikit-learn/scikit-learn/issues/21755 */display: inline-block !important;position: relative;}#sk-container-id-2 div.sk-text-repr-fallback {display: none;}</style><div id=\"sk-container-id-2\" class=\"sk-top-container\"><div class=\"sk-text-repr-fallback\"><pre>StackingClassifier(estimators=[(&#x27;logreg&#x27;, LogisticRegression(C=0.01, n_jobs=4)),\n",
       "                               (&#x27;dt&#x27;,\n",
       "                                DecisionTreeClassifier(criterion=&#x27;entropy&#x27;,\n",
       "                                                       max_depth=100)),\n",
       "                               (&#x27;rdf&#x27;,\n",
       "                                RandomForestClassifier(criterion=&#x27;entropy&#x27;,\n",
       "                                                       n_estimators=300,\n",
       "                                                       n_jobs=4)),\n",
       "                               (&#x27;knn&#x27;,\n",
       "                                KNeighborsClassifier(metric=&#x27;manhattan&#x27;,\n",
       "                                                     n_jobs=4,\n",
       "                                                     n_neighbors=10))],\n",
       "                   final_estimator=LogisticRegression(C=0.01, n_jobs=4),\n",
       "                   n_jobs=4)</pre><b>In a Jupyter environment, please rerun this cell to show the HTML representation or trust the notebook. <br />On GitHub, the HTML representation is unable to render, please try loading this page with nbviewer.org.</b></div><div class=\"sk-container\" hidden><div class=\"sk-item sk-dashed-wrapped\"><div class=\"sk-label-container\"><div class=\"sk-label sk-toggleable\"><input class=\"sk-toggleable__control sk-hidden--visually\" id=\"sk-estimator-id-7\" type=\"checkbox\" ><label for=\"sk-estimator-id-7\" class=\"sk-toggleable__label sk-toggleable__label-arrow\">StackingClassifier</label><div class=\"sk-toggleable__content\"><pre>StackingClassifier(estimators=[(&#x27;logreg&#x27;, LogisticRegression(C=0.01, n_jobs=4)),\n",
       "                               (&#x27;dt&#x27;,\n",
       "                                DecisionTreeClassifier(criterion=&#x27;entropy&#x27;,\n",
       "                                                       max_depth=100)),\n",
       "                               (&#x27;rdf&#x27;,\n",
       "                                RandomForestClassifier(criterion=&#x27;entropy&#x27;,\n",
       "                                                       n_estimators=300,\n",
       "                                                       n_jobs=4)),\n",
       "                               (&#x27;knn&#x27;,\n",
       "                                KNeighborsClassifier(metric=&#x27;manhattan&#x27;,\n",
       "                                                     n_jobs=4,\n",
       "                                                     n_neighbors=10))],\n",
       "                   final_estimator=LogisticRegression(C=0.01, n_jobs=4),\n",
       "                   n_jobs=4)</pre></div></div></div><div class=\"sk-serial\"><div class=\"sk-item\"><div class=\"sk-parallel\"><div class=\"sk-parallel-item\"><div class=\"sk-item\"><div class=\"sk-label-container\"><div class=\"sk-label sk-toggleable\"><label>logreg</label></div></div><div class=\"sk-serial\"><div class=\"sk-item\"><div class=\"sk-estimator sk-toggleable\"><input class=\"sk-toggleable__control sk-hidden--visually\" id=\"sk-estimator-id-8\" type=\"checkbox\" ><label for=\"sk-estimator-id-8\" class=\"sk-toggleable__label sk-toggleable__label-arrow\">LogisticRegression</label><div class=\"sk-toggleable__content\"><pre>LogisticRegression(C=0.01, n_jobs=4)</pre></div></div></div></div></div></div><div class=\"sk-parallel-item\"><div class=\"sk-item\"><div class=\"sk-label-container\"><div class=\"sk-label sk-toggleable\"><label>dt</label></div></div><div class=\"sk-serial\"><div class=\"sk-item\"><div class=\"sk-estimator sk-toggleable\"><input class=\"sk-toggleable__control sk-hidden--visually\" id=\"sk-estimator-id-9\" type=\"checkbox\" ><label for=\"sk-estimator-id-9\" class=\"sk-toggleable__label sk-toggleable__label-arrow\">DecisionTreeClassifier</label><div class=\"sk-toggleable__content\"><pre>DecisionTreeClassifier(criterion=&#x27;entropy&#x27;, max_depth=100)</pre></div></div></div></div></div></div><div class=\"sk-parallel-item\"><div class=\"sk-item\"><div class=\"sk-label-container\"><div class=\"sk-label sk-toggleable\"><label>rdf</label></div></div><div class=\"sk-serial\"><div class=\"sk-item\"><div class=\"sk-estimator sk-toggleable\"><input class=\"sk-toggleable__control sk-hidden--visually\" id=\"sk-estimator-id-10\" type=\"checkbox\" ><label for=\"sk-estimator-id-10\" class=\"sk-toggleable__label sk-toggleable__label-arrow\">RandomForestClassifier</label><div class=\"sk-toggleable__content\"><pre>RandomForestClassifier(criterion=&#x27;entropy&#x27;, n_estimators=300, n_jobs=4)</pre></div></div></div></div></div></div><div class=\"sk-parallel-item\"><div class=\"sk-item\"><div class=\"sk-label-container\"><div class=\"sk-label sk-toggleable\"><label>knn</label></div></div><div class=\"sk-serial\"><div class=\"sk-item\"><div class=\"sk-estimator sk-toggleable\"><input class=\"sk-toggleable__control sk-hidden--visually\" id=\"sk-estimator-id-11\" type=\"checkbox\" ><label for=\"sk-estimator-id-11\" class=\"sk-toggleable__label sk-toggleable__label-arrow\">KNeighborsClassifier</label><div class=\"sk-toggleable__content\"><pre>KNeighborsClassifier(metric=&#x27;manhattan&#x27;, n_jobs=4, n_neighbors=10)</pre></div></div></div></div></div></div></div></div><div class=\"sk-item\"><div class=\"sk-parallel\"><div class=\"sk-parallel-item\"><div class=\"sk-item\"><div class=\"sk-label-container\"><div class=\"sk-label sk-toggleable\"><label>final_estimator</label></div></div><div class=\"sk-serial\"><div class=\"sk-item\"><div class=\"sk-estimator sk-toggleable\"><input class=\"sk-toggleable__control sk-hidden--visually\" id=\"sk-estimator-id-12\" type=\"checkbox\" ><label for=\"sk-estimator-id-12\" class=\"sk-toggleable__label sk-toggleable__label-arrow\">LogisticRegression</label><div class=\"sk-toggleable__content\"><pre>LogisticRegression(C=0.01, n_jobs=4)</pre></div></div></div></div></div></div></div></div></div></div></div></div>"
      ],
      "text/plain": [
       "StackingClassifier(estimators=[('logreg', LogisticRegression(C=0.01, n_jobs=4)),\n",
       "                               ('dt',\n",
       "                                DecisionTreeClassifier(criterion='entropy',\n",
       "                                                       max_depth=100)),\n",
       "                               ('rdf',\n",
       "                                RandomForestClassifier(criterion='entropy',\n",
       "                                                       n_estimators=300,\n",
       "                                                       n_jobs=4)),\n",
       "                               ('knn',\n",
       "                                KNeighborsClassifier(metric='manhattan',\n",
       "                                                     n_jobs=4,\n",
       "                                                     n_neighbors=10))],\n",
       "                   final_estimator=LogisticRegression(C=0.01, n_jobs=4),\n",
       "                   n_jobs=4)"
      ]
     },
     "execution_count": 8,
     "metadata": {},
     "output_type": "execute_result"
    }
   ],
   "source": [
    "sclf.fit(X_train, y_train)"
   ]
  },
  {
   "cell_type": "code",
   "execution_count": 13,
   "id": "33a2bbe6-af1c-4096-9313-3e08afe81d80",
   "metadata": {
    "tags": []
   },
   "outputs": [
    {
     "data": {
      "text/plain": [
       "['saves/model_saves/save_sclf.joblib']"
      ]
     },
     "execution_count": 13,
     "metadata": {},
     "output_type": "execute_result"
    }
   ],
   "source": [
    "dump(sclf, 'saves/model_saves/save_sclf.joblib')"
   ]
  },
  {
   "cell_type": "code",
   "execution_count": 9,
   "id": "2718eca8-5b73-4288-9368-18f5e8076567",
   "metadata": {},
   "outputs": [
    {
     "data": {
      "text/html": [
       "<div>\n",
       "<style scoped>\n",
       "    .dataframe tbody tr th:only-of-type {\n",
       "        vertical-align: middle;\n",
       "    }\n",
       "\n",
       "    .dataframe tbody tr th {\n",
       "        vertical-align: top;\n",
       "    }\n",
       "\n",
       "    .dataframe thead th {\n",
       "        text-align: right;\n",
       "    }\n",
       "</style>\n",
       "<table border=\"1\" class=\"dataframe\">\n",
       "  <thead>\n",
       "    <tr style=\"text-align: right;\">\n",
       "      <th>Classes prédites</th>\n",
       "      <th>0</th>\n",
       "      <th>1</th>\n",
       "    </tr>\n",
       "    <tr>\n",
       "      <th>Classes réelles</th>\n",
       "      <th></th>\n",
       "      <th></th>\n",
       "    </tr>\n",
       "  </thead>\n",
       "  <tbody>\n",
       "    <tr>\n",
       "      <th>0</th>\n",
       "      <td>26074</td>\n",
       "      <td>1323</td>\n",
       "    </tr>\n",
       "    <tr>\n",
       "      <th>1</th>\n",
       "      <td>3445</td>\n",
       "      <td>4355</td>\n",
       "    </tr>\n",
       "  </tbody>\n",
       "</table>\n",
       "</div>"
      ],
      "text/plain": [
       "Classes prédites      0     1\n",
       "Classes réelles              \n",
       "0                 26074  1323\n",
       "1                  3445  4355"
      ]
     },
     "execution_count": 9,
     "metadata": {},
     "output_type": "execute_result"
    }
   ],
   "source": [
    "y_test_pred = sclf.predict(X_test)\n",
    "cm = pd.crosstab(y_test,y_test_pred, rownames = ['Classes réelles'], colnames = ['Classes prédites'])\n",
    "cm"
   ]
  },
  {
   "cell_type": "code",
   "execution_count": 11,
   "id": "1f0798b2-b630-4f0d-83a3-dc408f32705c",
   "metadata": {},
   "outputs": [
    {
     "name": "stdout",
     "output_type": "stream",
     "text": [
      "Report Stacking: \n",
      "               precision    recall  f1-score   support\n",
      "\n",
      "           0       0.88      0.95      0.92     27397\n",
      "           1       0.77      0.56      0.65      7800\n",
      "\n",
      "    accuracy                           0.86     35197\n",
      "   macro avg       0.83      0.76      0.78     35197\n",
      "weighted avg       0.86      0.86      0.86     35197\n",
      "\n"
     ]
    }
   ],
   "source": [
    "print(\"Report Stacking:\",\"\\n\",  classification_report(y_test, y_test_pred,  digits = 2))"
   ]
  },
  {
   "cell_type": "markdown",
   "id": "f027d655-1ce5-4238-9738-7c04d3309e1f",
   "metadata": {},
   "source": [
    "bilan: C'est un peu moins précis que Voting Best, qui garde ma préférence."
   ]
  },
  {
   "cell_type": "code",
   "execution_count": 37,
   "id": "a7a94b1b-f6a3-4953-9299-0aecdf4e7fd4",
   "metadata": {},
   "outputs": [
    {
     "data": {
      "image/png": "[encoded data removed]",
      "text/plain": [
       "<Figure size 700x700 with 1 Axes>"
      ]
     },
     "metadata": {},
     "output_type": "display_data"
    },
    {
     "name": "stdout",
     "output_type": "stream",
     "text": [
      "Report Stacking \n",
      "               precision    recall  f1-score   support\n",
      "\n",
      "           0       0.83      0.99      0.90     27397\n",
      "           1       0.91      0.29      0.44      7800\n",
      "\n",
      "    accuracy                           0.84     35197\n",
      "   macro avg       0.87      0.64      0.67     35197\n",
      "weighted avg       0.85      0.84      0.80     35197\n",
      "\n",
      "[[27168   229]\n",
      " [ 5513  2287]]\n"
     ]
    }
   ],
   "source": [
    "sclf = load('saves/model_saves/save_sclf.joblib')\n",
    "# On fait la prediction sur test:\n",
    "preds = sclf.predict_proba(X_test)\n",
    "\n",
    "################################ On cherche le meilleur seuil:\n",
    "# Création des arrays fpr, tpr et seuils:\n",
    "fpr, tpr, seuils = roc_curve(y_test, preds[:, 1], pos_label = 1) # on choisit pred[:, 1] pour prendre parmi les deux probas celle qui correspond à la classe positive.\n",
    "\n",
    "# Pour calculer l'aire sous la courbe ROC:\n",
    "roc_auc = auc(x = fpr, y = tpr)\n",
    "\n",
    "# Comment trouver le meilleur seuil?\n",
    "dist = 1\n",
    "for (x, y, s) in zip(fpr, tpr, seuils):\n",
    "    dist1 = np.square(x**2 + (y-1)**2) \n",
    "    if dist1 < dist:\n",
    "        dist = dist1\n",
    "        seuil_best = 1 - s # pourquoi dois-je faire ça?\n",
    "        fpr_best = x\n",
    "        tpr_best = y\n",
    "        \n",
    "#print(\"Meilleur seuil:\", seuil_best, \"meilleur fpr:\", fpr_best, \"meilleur tpr:\", tpr_best)\n",
    "\n",
    "# Tracé de ROC:\n",
    "plt.figure(figsize = (7, 7))\n",
    "plt.axis('equal')\n",
    "\n",
    "plt.scatter(fpr_best, tpr_best, s = 60, c = 'red', marker = '*', alpha = 1, label = \"Meilleur seuil = %0.3f\" % seuil_best)\n",
    "plt.plot(fpr, tpr, c = 'orange', label = 'Modèle clf (auc = %0.2f)' % roc_auc)\n",
    "plt.plot(fpr, fpr, 'b--', label = 'Aléatoire (auc = 0.5)')\n",
    "\n",
    "plt.title('Courbe ROC Stacking')\n",
    "plt.xlabel('Taux de faux positifs :fpr')\n",
    "plt.ylabel('Taux de vrais positifs :tpr')\n",
    "plt.legend()\n",
    "\n",
    "plt.show()\n",
    "\n",
    "################### On applique le meilleur seuil:\n",
    "y_pred = pd.Series(np.where(preds[:, 1] > seuil_best, 1, 0))\n",
    "\n",
    "print(\"Report Stacking\", \"\\n\", classification_report(y_test, y_pred,  digits = 2))\n",
    "print(confusion_matrix(y_test, y_pred))"
   ]
  },
  {
   "cell_type": "markdown",
   "id": "5c397799-581e-4518-a375-e6997f0afd45",
   "metadata": {},
   "source": [
    "Bilan: c'est un peu meilleur sur le recall de la classe positive, c'est mon meilleur modèle precision-wise jusqu'à présent (14 nov 23, 11h50), à presque égalité avec XGBoost seuillé."
   ]
  },
  {
   "cell_type": "code",
   "execution_count": null,
   "id": "1268a1a0-b3fe-4773-9e25-1632c4e891dd",
   "metadata": {},
   "outputs": [],
   "source": []
  }
 ],
 "metadata": {
  "kernelspec": {
   "display_name": "Python 3 (ipykernel)",
   "language": "python",
   "name": "python3"
  },
  "language_info": {
   "codemirror_mode": {
    "name": "ipython",
    "version": 3
   },
   "file_extension": ".py",
   "mimetype": "text/x-python",
   "name": "python",
   "nbconvert_exporter": "python",
   "pygments_lexer": "ipython3",
   "version": "3.11.5"
  }
 },
 "nbformat": 4,
 "nbformat_minor": 5
}
