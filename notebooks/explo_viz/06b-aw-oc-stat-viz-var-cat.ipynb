{
 "cells": [
  {
   "cell_type": "markdown",
   "metadata": {},
   "source": [
    "# Analyses statistiques et visualisations des variables **catégorielles**"
   ]
  },
  {
   "cell_type": "markdown",
   "metadata": {},
   "source": [
    "## Objectif"
   ]
  },
  {
   "cell_type": "markdown",
   "metadata": {},
   "source": [
    "XXX"
   ]
  },
  {
   "cell_type": "markdown",
   "metadata": {},
   "source": [
    "## Sommaire"
   ]
  },
  {
   "cell_type": "markdown",
   "metadata": {},
   "source": [
    "1. Initialisation\n",
    "2. Analyse globale\n",
    "3. Étude des variables"
   ]
  },
  {
   "cell_type": "markdown",
   "metadata": {},
   "source": [
    "## 1. Initialisation"
   ]
  },
  {
   "cell_type": "code",
   "execution_count": 1,
   "metadata": {},
   "outputs": [],
   "source": [
    "# Importation des bibliothèques et modules nécessaires au fonctionnement de ce notebook\n",
    "\n",
    "import pandas as pd\n",
    "import numpy as np\n",
    "import matplotlib.pyplot as plt\n",
    "import seaborn as sns\n",
    "import statsmodels.api as sm"
   ]
  },
  {
   "cell_type": "code",
   "execution_count": 2,
   "metadata": {},
   "outputs": [],
   "source": [
    "# Définition des paramètres esthétiques généraux\n",
    "\n",
    "%matplotlib inline\n",
    "sns.set_theme(style = \"whitegrid\", palette = \"bright\")"
   ]
  },
  {
   "cell_type": "code",
   "execution_count": 3,
   "metadata": {},
   "outputs": [],
   "source": [
    "# Importation du jeu de données et enregistrement dans le DataFrame `df`\n",
    "\n",
    "df = pd.read_csv(\"../data/raw/weatherAUS.csv\")"
   ]
  },
  {
   "cell_type": "code",
   "execution_count": 4,
   "metadata": {},
   "outputs": [
    {
     "data": {
      "text/html": [
       "<div>\n",
       "<style scoped>\n",
       "    .dataframe tbody tr th:only-of-type {\n",
       "        vertical-align: middle;\n",
       "    }\n",
       "\n",
       "    .dataframe tbody tr th {\n",
       "        vertical-align: top;\n",
       "    }\n",
       "\n",
       "    .dataframe thead th {\n",
       "        text-align: right;\n",
       "    }\n",
       "</style>\n",
       "<table border=\"1\" class=\"dataframe\">\n",
       "  <thead>\n",
       "    <tr style=\"text-align: right;\">\n",
       "      <th></th>\n",
       "      <th>Date</th>\n",
       "      <th>Location</th>\n",
       "      <th>MinTemp</th>\n",
       "      <th>MaxTemp</th>\n",
       "      <th>Rainfall</th>\n",
       "      <th>Evaporation</th>\n",
       "      <th>Sunshine</th>\n",
       "      <th>WindGustDir</th>\n",
       "      <th>WindGustSpeed</th>\n",
       "      <th>WindDir9am</th>\n",
       "      <th>...</th>\n",
       "      <th>Humidity9am</th>\n",
       "      <th>Humidity3pm</th>\n",
       "      <th>Pressure9am</th>\n",
       "      <th>Pressure3pm</th>\n",
       "      <th>Cloud9am</th>\n",
       "      <th>Cloud3pm</th>\n",
       "      <th>Temp9am</th>\n",
       "      <th>Temp3pm</th>\n",
       "      <th>RainToday</th>\n",
       "      <th>RainTomorrow</th>\n",
       "    </tr>\n",
       "  </thead>\n",
       "  <tbody>\n",
       "    <tr>\n",
       "      <th>0</th>\n",
       "      <td>2008-12-01</td>\n",
       "      <td>Albury</td>\n",
       "      <td>13.4</td>\n",
       "      <td>22.9</td>\n",
       "      <td>0.6</td>\n",
       "      <td>NaN</td>\n",
       "      <td>NaN</td>\n",
       "      <td>W</td>\n",
       "      <td>44.0</td>\n",
       "      <td>W</td>\n",
       "      <td>...</td>\n",
       "      <td>71.0</td>\n",
       "      <td>22.0</td>\n",
       "      <td>1007.7</td>\n",
       "      <td>1007.1</td>\n",
       "      <td>8.0</td>\n",
       "      <td>NaN</td>\n",
       "      <td>16.9</td>\n",
       "      <td>21.8</td>\n",
       "      <td>No</td>\n",
       "      <td>No</td>\n",
       "    </tr>\n",
       "    <tr>\n",
       "      <th>1</th>\n",
       "      <td>2008-12-02</td>\n",
       "      <td>Albury</td>\n",
       "      <td>7.4</td>\n",
       "      <td>25.1</td>\n",
       "      <td>0.0</td>\n",
       "      <td>NaN</td>\n",
       "      <td>NaN</td>\n",
       "      <td>WNW</td>\n",
       "      <td>44.0</td>\n",
       "      <td>NNW</td>\n",
       "      <td>...</td>\n",
       "      <td>44.0</td>\n",
       "      <td>25.0</td>\n",
       "      <td>1010.6</td>\n",
       "      <td>1007.8</td>\n",
       "      <td>NaN</td>\n",
       "      <td>NaN</td>\n",
       "      <td>17.2</td>\n",
       "      <td>24.3</td>\n",
       "      <td>No</td>\n",
       "      <td>No</td>\n",
       "    </tr>\n",
       "    <tr>\n",
       "      <th>2</th>\n",
       "      <td>2008-12-03</td>\n",
       "      <td>Albury</td>\n",
       "      <td>12.9</td>\n",
       "      <td>25.7</td>\n",
       "      <td>0.0</td>\n",
       "      <td>NaN</td>\n",
       "      <td>NaN</td>\n",
       "      <td>WSW</td>\n",
       "      <td>46.0</td>\n",
       "      <td>W</td>\n",
       "      <td>...</td>\n",
       "      <td>38.0</td>\n",
       "      <td>30.0</td>\n",
       "      <td>1007.6</td>\n",
       "      <td>1008.7</td>\n",
       "      <td>NaN</td>\n",
       "      <td>2.0</td>\n",
       "      <td>21.0</td>\n",
       "      <td>23.2</td>\n",
       "      <td>No</td>\n",
       "      <td>No</td>\n",
       "    </tr>\n",
       "    <tr>\n",
       "      <th>3</th>\n",
       "      <td>2008-12-04</td>\n",
       "      <td>Albury</td>\n",
       "      <td>9.2</td>\n",
       "      <td>28.0</td>\n",
       "      <td>0.0</td>\n",
       "      <td>NaN</td>\n",
       "      <td>NaN</td>\n",
       "      <td>NE</td>\n",
       "      <td>24.0</td>\n",
       "      <td>SE</td>\n",
       "      <td>...</td>\n",
       "      <td>45.0</td>\n",
       "      <td>16.0</td>\n",
       "      <td>1017.6</td>\n",
       "      <td>1012.8</td>\n",
       "      <td>NaN</td>\n",
       "      <td>NaN</td>\n",
       "      <td>18.1</td>\n",
       "      <td>26.5</td>\n",
       "      <td>No</td>\n",
       "      <td>No</td>\n",
       "    </tr>\n",
       "    <tr>\n",
       "      <th>4</th>\n",
       "      <td>2008-12-05</td>\n",
       "      <td>Albury</td>\n",
       "      <td>17.5</td>\n",
       "      <td>32.3</td>\n",
       "      <td>1.0</td>\n",
       "      <td>NaN</td>\n",
       "      <td>NaN</td>\n",
       "      <td>W</td>\n",
       "      <td>41.0</td>\n",
       "      <td>ENE</td>\n",
       "      <td>...</td>\n",
       "      <td>82.0</td>\n",
       "      <td>33.0</td>\n",
       "      <td>1010.8</td>\n",
       "      <td>1006.0</td>\n",
       "      <td>7.0</td>\n",
       "      <td>8.0</td>\n",
       "      <td>17.8</td>\n",
       "      <td>29.7</td>\n",
       "      <td>No</td>\n",
       "      <td>No</td>\n",
       "    </tr>\n",
       "  </tbody>\n",
       "</table>\n",
       "<p>5 rows × 23 columns</p>\n",
       "</div>"
      ],
      "text/plain": [
       "         Date Location  MinTemp  MaxTemp  Rainfall  Evaporation  Sunshine  \\\n",
       "0  2008-12-01   Albury     13.4     22.9       0.6          NaN       NaN   \n",
       "1  2008-12-02   Albury      7.4     25.1       0.0          NaN       NaN   \n",
       "2  2008-12-03   Albury     12.9     25.7       0.0          NaN       NaN   \n",
       "3  2008-12-04   Albury      9.2     28.0       0.0          NaN       NaN   \n",
       "4  2008-12-05   Albury     17.5     32.3       1.0          NaN       NaN   \n",
       "\n",
       "  WindGustDir  WindGustSpeed WindDir9am  ... Humidity9am  Humidity3pm  \\\n",
       "0           W           44.0          W  ...        71.0         22.0   \n",
       "1         WNW           44.0        NNW  ...        44.0         25.0   \n",
       "2         WSW           46.0          W  ...        38.0         30.0   \n",
       "3          NE           24.0         SE  ...        45.0         16.0   \n",
       "4           W           41.0        ENE  ...        82.0         33.0   \n",
       "\n",
       "   Pressure9am  Pressure3pm  Cloud9am  Cloud3pm  Temp9am  Temp3pm  RainToday  \\\n",
       "0       1007.7       1007.1       8.0       NaN     16.9     21.8         No   \n",
       "1       1010.6       1007.8       NaN       NaN     17.2     24.3         No   \n",
       "2       1007.6       1008.7       NaN       2.0     21.0     23.2         No   \n",
       "3       1017.6       1012.8       NaN       NaN     18.1     26.5         No   \n",
       "4       1010.8       1006.0       7.0       8.0     17.8     29.7         No   \n",
       "\n",
       "   RainTomorrow  \n",
       "0            No  \n",
       "1            No  \n",
       "2            No  \n",
       "3            No  \n",
       "4            No  \n",
       "\n",
       "[5 rows x 23 columns]"
      ]
     },
     "execution_count": 4,
     "metadata": {},
     "output_type": "execute_result"
    }
   ],
   "source": [
    "# Affichage des 5 premières lignes de `df`\n",
    "\n",
    "df.head()"
   ]
  },
  {
   "cell_type": "markdown",
   "metadata": {},
   "source": [
    "## 2. Analyse globale"
   ]
  },
  {
   "cell_type": "code",
   "execution_count": 5,
   "metadata": {},
   "outputs": [
    {
     "data": {
      "text/html": [
       "<div>\n",
       "<style scoped>\n",
       "    .dataframe tbody tr th:only-of-type {\n",
       "        vertical-align: middle;\n",
       "    }\n",
       "\n",
       "    .dataframe tbody tr th {\n",
       "        vertical-align: top;\n",
       "    }\n",
       "\n",
       "    .dataframe thead th {\n",
       "        text-align: right;\n",
       "    }\n",
       "</style>\n",
       "<table border=\"1\" class=\"dataframe\">\n",
       "  <thead>\n",
       "    <tr style=\"text-align: right;\">\n",
       "      <th></th>\n",
       "      <th>Date</th>\n",
       "      <th>Location</th>\n",
       "      <th>WindGustDir</th>\n",
       "      <th>WindDir9am</th>\n",
       "      <th>WindDir3pm</th>\n",
       "      <th>RainToday</th>\n",
       "      <th>RainTomorrow</th>\n",
       "    </tr>\n",
       "  </thead>\n",
       "  <tbody>\n",
       "    <tr>\n",
       "      <th>0</th>\n",
       "      <td>2008-12-01</td>\n",
       "      <td>Albury</td>\n",
       "      <td>W</td>\n",
       "      <td>W</td>\n",
       "      <td>WNW</td>\n",
       "      <td>No</td>\n",
       "      <td>No</td>\n",
       "    </tr>\n",
       "    <tr>\n",
       "      <th>1</th>\n",
       "      <td>2008-12-02</td>\n",
       "      <td>Albury</td>\n",
       "      <td>WNW</td>\n",
       "      <td>NNW</td>\n",
       "      <td>WSW</td>\n",
       "      <td>No</td>\n",
       "      <td>No</td>\n",
       "    </tr>\n",
       "    <tr>\n",
       "      <th>2</th>\n",
       "      <td>2008-12-03</td>\n",
       "      <td>Albury</td>\n",
       "      <td>WSW</td>\n",
       "      <td>W</td>\n",
       "      <td>WSW</td>\n",
       "      <td>No</td>\n",
       "      <td>No</td>\n",
       "    </tr>\n",
       "    <tr>\n",
       "      <th>3</th>\n",
       "      <td>2008-12-04</td>\n",
       "      <td>Albury</td>\n",
       "      <td>NE</td>\n",
       "      <td>SE</td>\n",
       "      <td>E</td>\n",
       "      <td>No</td>\n",
       "      <td>No</td>\n",
       "    </tr>\n",
       "    <tr>\n",
       "      <th>4</th>\n",
       "      <td>2008-12-05</td>\n",
       "      <td>Albury</td>\n",
       "      <td>W</td>\n",
       "      <td>ENE</td>\n",
       "      <td>NW</td>\n",
       "      <td>No</td>\n",
       "      <td>No</td>\n",
       "    </tr>\n",
       "  </tbody>\n",
       "</table>\n",
       "</div>"
      ],
      "text/plain": [
       "         Date Location WindGustDir WindDir9am WindDir3pm RainToday  \\\n",
       "0  2008-12-01   Albury           W          W        WNW        No   \n",
       "1  2008-12-02   Albury         WNW        NNW        WSW        No   \n",
       "2  2008-12-03   Albury         WSW          W        WSW        No   \n",
       "3  2008-12-04   Albury          NE         SE          E        No   \n",
       "4  2008-12-05   Albury           W        ENE         NW        No   \n",
       "\n",
       "  RainTomorrow  \n",
       "0           No  \n",
       "1           No  \n",
       "2           No  \n",
       "3           No  \n",
       "4           No  "
      ]
     },
     "execution_count": 5,
     "metadata": {},
     "output_type": "execute_result"
    }
   ],
   "source": [
    "# Création d'une copie de df contenant toutes les variables qualitatives:\n",
    "\n",
    "cat = df.select_dtypes(include = object).copy()\n",
    "cat.head()\n",
    "\n",
    "# Nous avons seulement 5 variables qualitatives à étudier pour décider d'un mode de gestion des nan.\n",
    "# Variables explicatives: WindGustDir, WindDir9am, WindDir3pm, RainToday\n",
    "# Variable cible: RainTomorrow"
   ]
  },
  {
   "cell_type": "code",
   "execution_count": 6,
   "metadata": {},
   "outputs": [
    {
     "name": "stdout",
     "output_type": "stream",
     "text": [
      "WindGustDir\n",
      "W      0.073372\n",
      "SE     0.069694\n",
      "N      0.068917\n",
      "SSE    0.068199\n",
      "E      0.067940\n",
      "S      0.067844\n",
      "WSW    0.067111\n",
      "SW     0.066356\n",
      "SSW    0.064647\n",
      "WNW    0.061065\n",
      "NW     0.060103\n",
      "ENE    0.059970\n",
      "ESE    0.054553\n",
      "NE     0.052785\n",
      "NNW    0.048988\n",
      "NNE    0.048456\n",
      "Name: proportion, dtype: float64\n",
      "\n",
      "WindDir9am\n",
      "N      0.087165\n",
      "SE     0.068847\n",
      "E      0.068024\n",
      "SSE    0.067549\n",
      "NW     0.064858\n",
      "S      0.064191\n",
      "W      0.062708\n",
      "SW     0.062442\n",
      "NNE    0.060262\n",
      "NNW    0.059158\n",
      "ENE    0.058090\n",
      "NE     0.056867\n",
      "ESE    0.056563\n",
      "SSW    0.056244\n",
      "WNW    0.054962\n",
      "WSW    0.052071\n",
      "Name: proportion, dtype: float64\n",
      "\n",
      "WindDir3pm\n",
      "SE     0.076739\n",
      "W      0.071584\n",
      "S      0.070282\n",
      "WSW    0.067393\n",
      "SSE    0.066550\n",
      "SW     0.066231\n",
      "N      0.062946\n",
      "WNW    0.062833\n",
      "NW     0.060964\n",
      "ESE    0.060220\n",
      "E      0.059986\n",
      "NE     0.058507\n",
      "SSW    0.057749\n",
      "NNW    0.055724\n",
      "ENE    0.055632\n",
      "NNE    0.046661\n",
      "Name: proportion, dtype: float64\n",
      "\n",
      "RainToday\n",
      "No     0.775807\n",
      "Yes    0.224193\n",
      "Name: proportion, dtype: float64\n",
      "\n",
      "RainTomorrow\n",
      "No     0.775819\n",
      "Yes    0.224181\n",
      "Name: proportion, dtype: float64\n",
      "\n"
     ]
    }
   ],
   "source": [
    "for col in cat.columns[2:] : \n",
    "    print(cat[col].value_counts(normalize = True))\n",
    "    print('')"
   ]
  },
  {
   "cell_type": "markdown",
   "metadata": {},
   "source": [
    "## 3. Étude des variables"
   ]
  },
  {
   "cell_type": "markdown",
   "metadata": {},
   "source": [
    "### `WindGustDir`"
   ]
  },
  {
   "cell_type": "code",
   "execution_count": 7,
   "metadata": {},
   "outputs": [
    {
     "name": "stderr",
     "output_type": "stream",
     "text": [
      "/Users/omarchoa/anaconda3/envs/datascientest_project/lib/python3.11/site-packages/seaborn/axisgrid.py:118: UserWarning: The figure layout has changed to tight\n",
      "  self._figure.tight_layout(*args, **kwargs)\n"
     ]
    },
    {
     "data": {
      "image/png": "[encoded data removed]",
      "text/plain": [
       "<Figure size 500x500 with 1 Axes>"
      ]
     },
     "metadata": {},
     "output_type": "display_data"
    }
   ],
   "source": [
    "sns.catplot(y = 'WindGustDir', data = cat, kind = 'count')\n",
    "#plt.yticks(rotation = 90)\n",
    "plt.show()\n",
    "\n",
    "# Bilan: quelle modalité de gestion des nan?"
   ]
  },
  {
   "cell_type": "code",
   "execution_count": 8,
   "metadata": {},
   "outputs": [
    {
     "data": {
      "text/html": [
       "<div>\n",
       "<style scoped>\n",
       "    .dataframe tbody tr th:only-of-type {\n",
       "        vertical-align: middle;\n",
       "    }\n",
       "\n",
       "    .dataframe tbody tr th {\n",
       "        vertical-align: top;\n",
       "    }\n",
       "\n",
       "    .dataframe thead th {\n",
       "        text-align: right;\n",
       "    }\n",
       "</style>\n",
       "<table border=\"1\" class=\"dataframe\">\n",
       "  <thead>\n",
       "    <tr style=\"text-align: right;\">\n",
       "      <th></th>\n",
       "      <th>WindGustDir</th>\n",
       "    </tr>\n",
       "    <tr>\n",
       "      <th>Location</th>\n",
       "      <th></th>\n",
       "    </tr>\n",
       "  </thead>\n",
       "  <tbody>\n",
       "    <tr>\n",
       "      <th>Albany</th>\n",
       "      <td>0</td>\n",
       "    </tr>\n",
       "    <tr>\n",
       "      <th>Newcastle</th>\n",
       "      <td>0</td>\n",
       "    </tr>\n",
       "  </tbody>\n",
       "</table>\n",
       "</div>"
      ],
      "text/plain": [
       "           WindGustDir\n",
       "Location              \n",
       "Albany               0\n",
       "Newcastle            0"
      ]
     },
     "execution_count": 8,
     "metadata": {},
     "output_type": "execute_result"
    }
   ],
   "source": [
    "# Recherche des stations ne mesurant pas 'WindGustDir':\n",
    "df_location_WindGustDir_counts = cat[[\"Location\", \"WindGustDir\"]].groupby(\"Location\").count() \n",
    "df_location_WindGustDir_counts[df_location_WindGustDir_counts[\"WindGustDir\"] == 0]"
   ]
  },
  {
   "cell_type": "code",
   "execution_count": 9,
   "metadata": {},
   "outputs": [
    {
     "data": {
      "text/html": [
       "<div>\n",
       "<style scoped>\n",
       "    .dataframe tbody tr th:only-of-type {\n",
       "        vertical-align: middle;\n",
       "    }\n",
       "\n",
       "    .dataframe tbody tr th {\n",
       "        vertical-align: top;\n",
       "    }\n",
       "\n",
       "    .dataframe thead th {\n",
       "        text-align: right;\n",
       "    }\n",
       "</style>\n",
       "<table border=\"1\" class=\"dataframe\">\n",
       "  <thead>\n",
       "    <tr style=\"text-align: right;\">\n",
       "      <th></th>\n",
       "      <th>WindGustDir</th>\n",
       "    </tr>\n",
       "    <tr>\n",
       "      <th>Location</th>\n",
       "      <th></th>\n",
       "    </tr>\n",
       "  </thead>\n",
       "  <tbody>\n",
       "    <tr>\n",
       "      <th>Adelaide</th>\n",
       "      <td>3167</td>\n",
       "    </tr>\n",
       "    <tr>\n",
       "      <th>Albany</th>\n",
       "      <td>0</td>\n",
       "    </tr>\n",
       "    <tr>\n",
       "      <th>Albury</th>\n",
       "      <td>3008</td>\n",
       "    </tr>\n",
       "    <tr>\n",
       "      <th>AliceSprings</th>\n",
       "      <td>2989</td>\n",
       "    </tr>\n",
       "    <tr>\n",
       "      <th>BadgerysCreek</th>\n",
       "      <td>2933</td>\n",
       "    </tr>\n",
       "    <tr>\n",
       "      <th>Ballarat</th>\n",
       "      <td>3009</td>\n",
       "    </tr>\n",
       "    <tr>\n",
       "      <th>Bendigo</th>\n",
       "      <td>2999</td>\n",
       "    </tr>\n",
       "    <tr>\n",
       "      <th>Brisbane</th>\n",
       "      <td>3152</td>\n",
       "    </tr>\n",
       "    <tr>\n",
       "      <th>Cairns</th>\n",
       "      <td>3021</td>\n",
       "    </tr>\n",
       "    <tr>\n",
       "      <th>Canberra</th>\n",
       "      <td>3097</td>\n",
       "    </tr>\n",
       "    <tr>\n",
       "      <th>Cobar</th>\n",
       "      <td>2967</td>\n",
       "    </tr>\n",
       "    <tr>\n",
       "      <th>CoffsHarbour</th>\n",
       "      <td>2650</td>\n",
       "    </tr>\n",
       "    <tr>\n",
       "      <th>Dartmoor</th>\n",
       "      <td>2940</td>\n",
       "    </tr>\n",
       "    <tr>\n",
       "      <th>Darwin</th>\n",
       "      <td>3147</td>\n",
       "    </tr>\n",
       "    <tr>\n",
       "      <th>GoldCoast</th>\n",
       "      <td>2920</td>\n",
       "    </tr>\n",
       "    <tr>\n",
       "      <th>Hobart</th>\n",
       "      <td>3170</td>\n",
       "    </tr>\n",
       "    <tr>\n",
       "      <th>Katherine</th>\n",
       "      <td>1549</td>\n",
       "    </tr>\n",
       "    <tr>\n",
       "      <th>Launceston</th>\n",
       "      <td>3006</td>\n",
       "    </tr>\n",
       "    <tr>\n",
       "      <th>Melbourne</th>\n",
       "      <td>3179</td>\n",
       "    </tr>\n",
       "    <tr>\n",
       "      <th>MelbourneAirport</th>\n",
       "      <td>2994</td>\n",
       "    </tr>\n",
       "    <tr>\n",
       "      <th>Mildura</th>\n",
       "      <td>3004</td>\n",
       "    </tr>\n",
       "    <tr>\n",
       "      <th>Moree</th>\n",
       "      <td>2931</td>\n",
       "    </tr>\n",
       "    <tr>\n",
       "      <th>MountGambier</th>\n",
       "      <td>2987</td>\n",
       "    </tr>\n",
       "    <tr>\n",
       "      <th>MountGinini</th>\n",
       "      <td>2721</td>\n",
       "    </tr>\n",
       "    <tr>\n",
       "      <th>Newcastle</th>\n",
       "      <td>0</td>\n",
       "    </tr>\n",
       "    <tr>\n",
       "      <th>Nhil</th>\n",
       "      <td>1567</td>\n",
       "    </tr>\n",
       "    <tr>\n",
       "      <th>NorahHead</th>\n",
       "      <td>2950</td>\n",
       "    </tr>\n",
       "    <tr>\n",
       "      <th>NorfolkIsland</th>\n",
       "      <td>2964</td>\n",
       "    </tr>\n",
       "    <tr>\n",
       "      <th>Nuriootpa</th>\n",
       "      <td>2960</td>\n",
       "    </tr>\n",
       "    <tr>\n",
       "      <th>PearceRAAF</th>\n",
       "      <td>2864</td>\n",
       "    </tr>\n",
       "    <tr>\n",
       "      <th>Penrith</th>\n",
       "      <td>2974</td>\n",
       "    </tr>\n",
       "    <tr>\n",
       "      <th>Perth</th>\n",
       "      <td>3188</td>\n",
       "    </tr>\n",
       "    <tr>\n",
       "      <th>PerthAirport</th>\n",
       "      <td>2963</td>\n",
       "    </tr>\n",
       "    <tr>\n",
       "      <th>Portland</th>\n",
       "      <td>2974</td>\n",
       "    </tr>\n",
       "    <tr>\n",
       "      <th>Richmond</th>\n",
       "      <td>2952</td>\n",
       "    </tr>\n",
       "    <tr>\n",
       "      <th>Sale</th>\n",
       "      <td>2868</td>\n",
       "    </tr>\n",
       "    <tr>\n",
       "      <th>SalmonGums</th>\n",
       "      <td>2917</td>\n",
       "    </tr>\n",
       "    <tr>\n",
       "      <th>Sydney</th>\n",
       "      <td>2306</td>\n",
       "    </tr>\n",
       "    <tr>\n",
       "      <th>SydneyAirport</th>\n",
       "      <td>2958</td>\n",
       "    </tr>\n",
       "    <tr>\n",
       "      <th>Townsville</th>\n",
       "      <td>3017</td>\n",
       "    </tr>\n",
       "    <tr>\n",
       "      <th>Tuggeranong</th>\n",
       "      <td>2997</td>\n",
       "    </tr>\n",
       "    <tr>\n",
       "      <th>Uluru</th>\n",
       "      <td>1524</td>\n",
       "    </tr>\n",
       "    <tr>\n",
       "      <th>WaggaWagga</th>\n",
       "      <td>2981</td>\n",
       "    </tr>\n",
       "    <tr>\n",
       "      <th>Walpole</th>\n",
       "      <td>2888</td>\n",
       "    </tr>\n",
       "    <tr>\n",
       "      <th>Watsonia</th>\n",
       "      <td>2972</td>\n",
       "    </tr>\n",
       "    <tr>\n",
       "      <th>Williamtown</th>\n",
       "      <td>2873</td>\n",
       "    </tr>\n",
       "    <tr>\n",
       "      <th>Witchcliffe</th>\n",
       "      <td>2975</td>\n",
       "    </tr>\n",
       "    <tr>\n",
       "      <th>Wollongong</th>\n",
       "      <td>2992</td>\n",
       "    </tr>\n",
       "    <tr>\n",
       "      <th>Woomera</th>\n",
       "      <td>2970</td>\n",
       "    </tr>\n",
       "  </tbody>\n",
       "</table>\n",
       "</div>"
      ],
      "text/plain": [
       "                  WindGustDir\n",
       "Location                     \n",
       "Adelaide                 3167\n",
       "Albany                      0\n",
       "Albury                   3008\n",
       "AliceSprings             2989\n",
       "BadgerysCreek            2933\n",
       "Ballarat                 3009\n",
       "Bendigo                  2999\n",
       "Brisbane                 3152\n",
       "Cairns                   3021\n",
       "Canberra                 3097\n",
       "Cobar                    2967\n",
       "CoffsHarbour             2650\n",
       "Dartmoor                 2940\n",
       "Darwin                   3147\n",
       "GoldCoast                2920\n",
       "Hobart                   3170\n",
       "Katherine                1549\n",
       "Launceston               3006\n",
       "Melbourne                3179\n",
       "MelbourneAirport         2994\n",
       "Mildura                  3004\n",
       "Moree                    2931\n",
       "MountGambier             2987\n",
       "MountGinini              2721\n",
       "Newcastle                   0\n",
       "Nhil                     1567\n",
       "NorahHead                2950\n",
       "NorfolkIsland            2964\n",
       "Nuriootpa                2960\n",
       "PearceRAAF               2864\n",
       "Penrith                  2974\n",
       "Perth                    3188\n",
       "PerthAirport             2963\n",
       "Portland                 2974\n",
       "Richmond                 2952\n",
       "Sale                     2868\n",
       "SalmonGums               2917\n",
       "Sydney                   2306\n",
       "SydneyAirport            2958\n",
       "Townsville               3017\n",
       "Tuggeranong              2997\n",
       "Uluru                    1524\n",
       "WaggaWagga               2981\n",
       "Walpole                  2888\n",
       "Watsonia                 2972\n",
       "Williamtown              2873\n",
       "Witchcliffe              2975\n",
       "Wollongong               2992\n",
       "Woomera                  2970"
      ]
     },
     "execution_count": 9,
     "metadata": {},
     "output_type": "execute_result"
    }
   ],
   "source": [
    "df_location_WindGustDir_counts"
   ]
  },
  {
   "cell_type": "code",
   "execution_count": 10,
   "metadata": {},
   "outputs": [
    {
     "ename": "NameError",
     "evalue": "name 'albury' is not defined",
     "output_type": "error",
     "traceback": [
      "\u001b[0;31m---------------------------------------------------------------------------\u001b[0m",
      "\u001b[0;31mNameError\u001b[0m                                 Traceback (most recent call last)",
      "\u001b[1;32m/Users/omarchoa/Library/CloudStorage/OneDrive-Personnel/Documents/Formation/DataScientest/GitHub/Meteo_Dataviz/dataviz_stat_quali.ipynb Cellule 19\u001b[0m line \u001b[0;36m4\n\u001b[1;32m      <a href='vscode-notebook-cell:/Users/omarchoa/Library/CloudStorage/OneDrive-Personnel/Documents/Formation/DataScientest/GitHub/Meteo_Dataviz/dataviz_stat_quali.ipynb#X13sZmlsZQ%3D%3D?line=0'>1</a>\u001b[0m \u001b[39m# OC, 26/10 : à débugger\u001b[39;00m\n\u001b[1;32m      <a href='vscode-notebook-cell:/Users/omarchoa/Library/CloudStorage/OneDrive-Personnel/Documents/Formation/DataScientest/GitHub/Meteo_Dataviz/dataviz_stat_quali.ipynb#X13sZmlsZQ%3D%3D?line=2'>3</a>\u001b[0m nan_rate \u001b[39m=\u001b[39m []\n\u001b[0;32m----> <a href='vscode-notebook-cell:/Users/omarchoa/Library/CloudStorage/OneDrive-Personnel/Documents/Formation/DataScientest/GitHub/Meteo_Dataviz/dataviz_stat_quali.ipynb#X13sZmlsZQ%3D%3D?line=3'>4</a>\u001b[0m \u001b[39mfor\u001b[39;00m col \u001b[39min\u001b[39;00m albury\u001b[39m.\u001b[39mcolumns:\n\u001b[1;32m      <a href='vscode-notebook-cell:/Users/omarchoa/Library/CloudStorage/OneDrive-Personnel/Documents/Formation/DataScientest/GitHub/Meteo_Dataviz/dataviz_stat_quali.ipynb#X13sZmlsZQ%3D%3D?line=4'>5</a>\u001b[0m     nan_rate\u001b[39m.\u001b[39mappend([col,\u001b[39mround\u001b[39m(albury[col]\u001b[39m.\u001b[39misna()\u001b[39m.\u001b[39msum()\u001b[39m/\u001b[39malbury\u001b[39m.\u001b[39mshape[\u001b[39m0\u001b[39m]\u001b[39m*\u001b[39m\u001b[39m100\u001b[39m, \u001b[39m1\u001b[39m) ])\n\u001b[1;32m      <a href='vscode-notebook-cell:/Users/omarchoa/Library/CloudStorage/OneDrive-Personnel/Documents/Formation/DataScientest/GitHub/Meteo_Dataviz/dataviz_stat_quali.ipynb#X13sZmlsZQ%3D%3D?line=5'>6</a>\u001b[0m \u001b[39mprint\u001b[39m(pd\u001b[39m.\u001b[39mDataFrame(nan_rate))\n",
      "\u001b[0;31mNameError\u001b[0m: name 'albury' is not defined"
     ]
    }
   ],
   "source": [
    "# OC, 26/10 : à débugger\n",
    "\n",
    "nan_rate = []\n",
    "for col in albury.columns:\n",
    "    nan_rate.append([col,round(albury[col].isna().sum()/albury.shape[0]*100, 1) ])\n",
    "print(pd.DataFrame(nan_rate))"
   ]
  },
  {
   "cell_type": "code",
   "execution_count": 11,
   "metadata": {},
   "outputs": [
    {
     "ename": "ValueError",
     "evalue": "Cannot pass values for both `x` and `y`",
     "output_type": "error",
     "traceback": [
      "\u001b[0;31m---------------------------------------------------------------------------\u001b[0m",
      "\u001b[0;31mValueError\u001b[0m                                Traceback (most recent call last)",
      "\u001b[1;32m/Users/omarchoa/Library/CloudStorage/OneDrive-Personnel/Documents/Formation/DataScientest/GitHub/Meteo_Dataviz/dataviz_stat_quali.ipynb Cellule 20\u001b[0m line \u001b[0;36m9\n\u001b[1;32m      <a href='vscode-notebook-cell:/Users/omarchoa/Library/CloudStorage/OneDrive-Personnel/Documents/Formation/DataScientest/GitHub/Meteo_Dataviz/dataviz_stat_quali.ipynb#X14sZmlsZQ%3D%3D?line=5'>6</a>\u001b[0m fig, ax \u001b[39m=\u001b[39m plt\u001b[39m.\u001b[39msubplots(figsize \u001b[39m=\u001b[39m (\u001b[39m12\u001b[39m, \u001b[39m8\u001b[39m))\n\u001b[1;32m      <a href='vscode-notebook-cell:/Users/omarchoa/Library/CloudStorage/OneDrive-Personnel/Documents/Formation/DataScientest/GitHub/Meteo_Dataviz/dataviz_stat_quali.ipynb#X14sZmlsZQ%3D%3D?line=7'>8</a>\u001b[0m \u001b[39m## Traçage\u001b[39;00m\n\u001b[0;32m----> <a href='vscode-notebook-cell:/Users/omarchoa/Library/CloudStorage/OneDrive-Personnel/Documents/Formation/DataScientest/GitHub/Meteo_Dataviz/dataviz_stat_quali.ipynb#X14sZmlsZQ%3D%3D?line=8'>9</a>\u001b[0m sns\u001b[39m.\u001b[39;49mcountplot(x \u001b[39m=\u001b[39;49m df[\u001b[39m\"\u001b[39;49m\u001b[39mLocation\u001b[39;49m\u001b[39m\"\u001b[39;49m]\u001b[39m.\u001b[39;49msort_values(ascending \u001b[39m=\u001b[39;49m \u001b[39mTrue\u001b[39;49;00m), \n\u001b[1;32m     <a href='vscode-notebook-cell:/Users/omarchoa/Library/CloudStorage/OneDrive-Personnel/Documents/Formation/DataScientest/GitHub/Meteo_Dataviz/dataviz_stat_quali.ipynb#X14sZmlsZQ%3D%3D?line=9'>10</a>\u001b[0m               y \u001b[39m=\u001b[39;49m df[\u001b[39m\"\u001b[39;49m\u001b[39mWindGustDir\u001b[39;49m\u001b[39m\"\u001b[39;49m], \n\u001b[1;32m     <a href='vscode-notebook-cell:/Users/omarchoa/Library/CloudStorage/OneDrive-Personnel/Documents/Formation/DataScientest/GitHub/Meteo_Dataviz/dataviz_stat_quali.ipynb#X14sZmlsZQ%3D%3D?line=10'>11</a>\u001b[0m               color \u001b[39m=\u001b[39;49m \u001b[39m\"\u001b[39;49m\u001b[39m#588157\u001b[39;49m\u001b[39m\"\u001b[39;49m, \n\u001b[1;32m     <a href='vscode-notebook-cell:/Users/omarchoa/Library/CloudStorage/OneDrive-Personnel/Documents/Formation/DataScientest/GitHub/Meteo_Dataviz/dataviz_stat_quali.ipynb#X14sZmlsZQ%3D%3D?line=11'>12</a>\u001b[0m               flierprops\u001b[39m=\u001b[39;49m{\u001b[39m\"\u001b[39;49m\u001b[39mmarker\u001b[39;49m\u001b[39m\"\u001b[39;49m: \u001b[39m\"\u001b[39;49m\u001b[39mx\u001b[39;49m\u001b[39m\"\u001b[39;49m, \n\u001b[1;32m     <a href='vscode-notebook-cell:/Users/omarchoa/Library/CloudStorage/OneDrive-Personnel/Documents/Formation/DataScientest/GitHub/Meteo_Dataviz/dataviz_stat_quali.ipynb#X14sZmlsZQ%3D%3D?line=12'>13</a>\u001b[0m                           \u001b[39m\"\u001b[39;49m\u001b[39mmarkeredgecolor\u001b[39;49m\u001b[39m\"\u001b[39;49m: \u001b[39m\"\u001b[39;49m\u001b[39m#a3b18a\u001b[39;49m\u001b[39m\"\u001b[39;49m})\n\u001b[1;32m     <a href='vscode-notebook-cell:/Users/omarchoa/Library/CloudStorage/OneDrive-Personnel/Documents/Formation/DataScientest/GitHub/Meteo_Dataviz/dataviz_stat_quali.ipynb#X14sZmlsZQ%3D%3D?line=14'>15</a>\u001b[0m \u001b[39m## Mise en forme\u001b[39;00m\n\u001b[1;32m     <a href='vscode-notebook-cell:/Users/omarchoa/Library/CloudStorage/OneDrive-Personnel/Documents/Formation/DataScientest/GitHub/Meteo_Dataviz/dataviz_stat_quali.ipynb#X14sZmlsZQ%3D%3D?line=15'>16</a>\u001b[0m plt\u001b[39m.\u001b[39mxticks(rotation \u001b[39m=\u001b[39m \u001b[39m90\u001b[39m)\n",
      "File \u001b[0;32m~/anaconda3/envs/datascientest_project/lib/python3.11/site-packages/seaborn/categorical.py:2941\u001b[0m, in \u001b[0;36mcountplot\u001b[0;34m(data, x, y, hue, order, hue_order, orient, color, palette, saturation, width, dodge, ax, **kwargs)\u001b[0m\n\u001b[1;32m   2939\u001b[0m     y \u001b[39m=\u001b[39m x\n\u001b[1;32m   2940\u001b[0m \u001b[39melif\u001b[39;00m x \u001b[39mis\u001b[39;00m \u001b[39mnot\u001b[39;00m \u001b[39mNone\u001b[39;00m \u001b[39mand\u001b[39;00m y \u001b[39mis\u001b[39;00m \u001b[39mnot\u001b[39;00m \u001b[39mNone\u001b[39;00m:\n\u001b[0;32m-> 2941\u001b[0m     \u001b[39mraise\u001b[39;00m \u001b[39mValueError\u001b[39;00m(\u001b[39m\"\u001b[39m\u001b[39mCannot pass values for both `x` and `y`\u001b[39m\u001b[39m\"\u001b[39m)\n\u001b[1;32m   2943\u001b[0m plotter \u001b[39m=\u001b[39m _CountPlotter(\n\u001b[1;32m   2944\u001b[0m     x, y, hue, data, order, hue_order,\n\u001b[1;32m   2945\u001b[0m     estimator, errorbar, n_boot, units, seed,\n\u001b[1;32m   2946\u001b[0m     orient, color, palette, saturation,\n\u001b[1;32m   2947\u001b[0m     width, errcolor, errwidth, capsize, dodge\n\u001b[1;32m   2948\u001b[0m )\n\u001b[1;32m   2950\u001b[0m plotter\u001b[39m.\u001b[39mvalue_label \u001b[39m=\u001b[39m \u001b[39m\"\u001b[39m\u001b[39mcount\u001b[39m\u001b[39m\"\u001b[39m\n",
      "\u001b[0;31mValueError\u001b[0m: Cannot pass values for both `x` and `y`"
     ]
    },
    {
     "data": {
      "image/png": "[encoded data removed]",
      "text/plain": [
       "<Figure size 1200x800 with 1 Axes>"
      ]
     },
     "metadata": {},
     "output_type": "display_data"
    }
   ],
   "source": [
    "# OC, 26/10 : à débugger\n",
    "\n",
    "# Création d'un graphique donnant le taux de nan par station pour la mesure \"WindGustDir\"\n",
    "\n",
    "## Initialisation de la toile\n",
    "fig, ax = plt.subplots(figsize = (12, 8))\n",
    "\n",
    "## Traçage\n",
    "sns.countplot(x = df[\"Location\"].sort_values(ascending = True), \n",
    "              y = df[\"WindGustDir\"], \n",
    "              color = \"#588157\", \n",
    "              flierprops={\"marker\": \"x\", \n",
    "                          \"markeredgecolor\": \"#a3b18a\"})\n",
    "\n",
    "## Mise en forme\n",
    "plt.xticks(rotation = 90)\n",
    "plt.ylim(0, 140)\n",
    "plt.ylabel(\"WindGustDir)\")\n",
    "plt.title(\"Taux de nan pour WindGustDir par station météo\", fontweight = \"bold\");\n",
    "\n",
    "### Mise en évidence des stations météo ne disposant pas de données pour « WindGustSpeed »\n",
    "for index in range(len(df_location_WindGustDir_counts)):\n",
    "    if df_location_WindGustDir_counts.iloc[index][0] == 0:\n",
    "        ax.get_xticklabels()[index].set_color(\"#dda15e\")\n",
    "        ax.get_xticklabels()[index].set_weight(\"bold\")"
   ]
  },
  {
   "cell_type": "markdown",
   "metadata": {},
   "source": [
    "### `WindDir9am`"
   ]
  },
  {
   "cell_type": "code",
   "execution_count": 12,
   "metadata": {},
   "outputs": [
    {
     "name": "stderr",
     "output_type": "stream",
     "text": [
      "/Users/omarchoa/anaconda3/envs/datascientest_project/lib/python3.11/site-packages/seaborn/axisgrid.py:118: UserWarning: The figure layout has changed to tight\n",
      "  self._figure.tight_layout(*args, **kwargs)\n"
     ]
    },
    {
     "data": {
      "image/png": "[encoded data removed]",
      "text/plain": [
       "<Figure size 500x500 with 1 Axes>"
      ]
     },
     "metadata": {},
     "output_type": "display_data"
    }
   ],
   "source": [
    "sns.catplot(y = 'WindDir9am', data = cat, kind = 'count')\n",
    "#plt.yticks(rotation = 90)\n",
    "plt.show()\n",
    "\n",
    "# Bilan: quelle modalité de gestion des nan?\n",
    "# !! surplus du vent du nord: remplacer les nan par la modalité la plus fréquence présente un risque de biaiser les données ici ou pas?"
   ]
  },
  {
   "cell_type": "markdown",
   "metadata": {},
   "source": [
    "### `WindDir3pm`"
   ]
  },
  {
   "cell_type": "code",
   "execution_count": 13,
   "metadata": {},
   "outputs": [
    {
     "name": "stderr",
     "output_type": "stream",
     "text": [
      "/Users/omarchoa/anaconda3/envs/datascientest_project/lib/python3.11/site-packages/seaborn/axisgrid.py:118: UserWarning: The figure layout has changed to tight\n",
      "  self._figure.tight_layout(*args, **kwargs)\n"
     ]
    },
    {
     "data": {
      "image/png": "[encoded data removed]",
      "text/plain": [
       "<Figure size 500x500 with 1 Axes>"
      ]
     },
     "metadata": {},
     "output_type": "display_data"
    }
   ],
   "source": [
    "sns.catplot(y = 'WindDir3pm', data = cat, kind = 'count')\n",
    "#plt.yticks(rotation = 90)\n",
    "plt.show()\n",
    "\n",
    "# Bilan: quelle modalité de gestion des nan?"
   ]
  },
  {
   "cell_type": "markdown",
   "metadata": {},
   "source": [
    "### `RainToday`"
   ]
  },
  {
   "cell_type": "code",
   "execution_count": 14,
   "metadata": {},
   "outputs": [
    {
     "name": "stderr",
     "output_type": "stream",
     "text": [
      "/Users/omarchoa/anaconda3/envs/datascientest_project/lib/python3.11/site-packages/seaborn/axisgrid.py:118: UserWarning: The figure layout has changed to tight\n",
      "  self._figure.tight_layout(*args, **kwargs)\n"
     ]
    },
    {
     "data": {
      "text/plain": [
       "<Figure size 600x600 with 0 Axes>"
      ]
     },
     "metadata": {},
     "output_type": "display_data"
    },
    {
     "data": {
      "image/png": "[encoded data removed]",
      "text/plain": [
       "<Figure size 500x500 with 1 Axes>"
      ]
     },
     "metadata": {},
     "output_type": "display_data"
    }
   ],
   "source": [
    "# OC, 25/10 : graphique pour rapport 1\n",
    "\n",
    "plt.figure(figsize = (6, 6))\n",
    "\n",
    "color_dictionary = {\"Yes\": \"royalblue\", \n",
    "                    \"No\": \"indianred\"}\n",
    "\n",
    "catplot_raintoday = sns.catplot(data = cat, \n",
    "                                x = 'RainToday', \n",
    "                                kind = 'count', \n",
    "                                palette = color_dictionary)\n",
    "\n",
    "plt.xlabel(\"RainToday\", fontweight = \"bold\")\n",
    "plt.ylabel(\"Occurrences (en milliers)\", fontweight = \"bold\")\n",
    "\n",
    "y_ticks_locations = [i * 10000 for i in range(0, 12, 2)]\n",
    "y_ticks_simplified_labels = [i * 10 for i in range(0, 12, 2)]\n",
    "plt.yticks(ticks = y_ticks_locations, \n",
    "           labels = y_ticks_simplified_labels)\n",
    "\n",
    "plt.title(\"Distribution de RainToday\\n\", fontweight = \"bold\", fontsize = 16)\n",
    "\n",
    "plt.show()\n",
    "\n",
    "# Bilan: quelle modalité de gestion des nan?"
   ]
  },
  {
   "cell_type": "markdown",
   "metadata": {},
   "source": [
    "### `RainTomorrow`"
   ]
  },
  {
   "cell_type": "code",
   "execution_count": 15,
   "metadata": {},
   "outputs": [],
   "source": [
    "#### Premier examen de la distribution de la variable cible"
   ]
  },
  {
   "cell_type": "code",
   "execution_count": 16,
   "metadata": {},
   "outputs": [
    {
     "name": "stderr",
     "output_type": "stream",
     "text": [
      "/Users/omarchoa/anaconda3/envs/datascientest_project/lib/python3.11/site-packages/seaborn/axisgrid.py:118: UserWarning: The figure layout has changed to tight\n",
      "  self._figure.tight_layout(*args, **kwargs)\n"
     ]
    },
    {
     "data": {
      "text/plain": [
       "<Figure size 600x600 with 0 Axes>"
      ]
     },
     "metadata": {},
     "output_type": "display_data"
    },
    {
     "data": {
      "image/png": "[encoded data removed]",
      "text/plain": [
       "<Figure size 500x500 with 1 Axes>"
      ]
     },
     "metadata": {},
     "output_type": "display_data"
    }
   ],
   "source": [
    "# OC, 25/10 : graphique pour rapport 1\n",
    "\n",
    "plt.figure(figsize = (6, 6))\n",
    "\n",
    "color_dictionary = {\"Yes\": \"royalblue\", \n",
    "                    \"No\": \"indianred\"}\n",
    "\n",
    "catplot_raintoday = sns.catplot(data = cat, \n",
    "                                x = 'RainTomorrow', \n",
    "                                kind = 'count', \n",
    "                                palette = color_dictionary)\n",
    "\n",
    "plt.xlabel(\"RainTomorrow\", fontweight = \"bold\")\n",
    "plt.ylabel(\"Occurrences (en milliers)\", fontweight = \"bold\")\n",
    "\n",
    "y_ticks_locations = [i * 10000 for i in range(0, 12, 2)]\n",
    "y_ticks_simplified_labels = [i * 10 for i in range(0, 12, 2)]\n",
    "plt.yticks(ticks = y_ticks_locations, \n",
    "           labels = y_ticks_simplified_labels)\n",
    "\n",
    "plt.title(\"Distribution de RainTomorrow\\n\", fontweight = \"bold\", fontsize = 16)\n",
    "\n",
    "plt.show()\n",
    "\n",
    "# Bilan: quelle modalité de gestion des nan?"
   ]
  },
  {
   "cell_type": "code",
   "execution_count": 17,
   "metadata": {},
   "outputs": [],
   "source": [
    "#### Conclusion : sur la période sous étude, et compte tenu des conditions météorologiques d'un jour donné, il ne pleut généralement pas le lendemain."
   ]
  }
 ],
 "metadata": {
  "kernelspec": {
   "display_name": "projet_meteo",
   "language": "python",
   "name": "python3"
  },
  "language_info": {
   "codemirror_mode": {
    "name": "ipython",
    "version": 3
   },
   "file_extension": ".py",
   "mimetype": "text/x-python",
   "name": "python",
   "nbconvert_exporter": "python",
   "pygments_lexer": "ipython3",
   "version": "3.11.5"
  }
 },
 "nbformat": 4,
 "nbformat_minor": 2
}
