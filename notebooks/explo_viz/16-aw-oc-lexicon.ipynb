{
 "cells": [
  {
   "cell_type": "markdown",
   "metadata": {},
   "source": [
    "# Lexicon"
   ]
  },
  {
   "cell_type": "markdown",
   "metadata": {},
   "source": [
    "## Fonctionnement"
   ]
  },
  {
   "cell_type": "markdown",
   "metadata": {},
   "source": [
    "Cet outil permet de savoir quelles stations météorologiques n'ont enregistré aucune information dans le jeu de données pour quelles variables, et vice-versa."
   ]
  },
  {
   "cell_type": "markdown",
   "metadata": {},
   "source": [
    "## 1. Initialisation"
   ]
  },
  {
   "cell_type": "code",
   "execution_count": 1,
   "metadata": {},
   "outputs": [],
   "source": [
    "import pandas as pd\n",
    "\n",
    "df = pd.read_csv(\"../../data/raw/weatherAUS.csv\")"
   ]
  },
  {
   "cell_type": "markdown",
   "metadata": {},
   "source": [
    "## 2. `Location` -> Variables non enregistrées"
   ]
  },
  {
   "cell_type": "code",
   "execution_count": 2,
   "metadata": {},
   "outputs": [],
   "source": [
    "# Création du dictionnaire clé = station, valeurs = grandeurs non mesurées\n",
    "dict = {}\n",
    "for i in range(df['Location'].unique().shape[0]):  # df['Location'].unique().shape[0]: le nombre de stations\n",
    "    measures = []\n",
    "    non_measures = []\n",
    "    station_df = df.loc[df['Location'] == df['Location'].unique()[i]] #création d'un df pour une station\n",
    "    for col in station_df.columns:\n",
    "        if station_df[col].isna().sum()/station_df.shape[0] != 1: # si le pourcentage de nan est différent de 1\n",
    "            measures.append(col) # on ajoute la grandeur mesurée à 'measures\n",
    "        else:\n",
    "            non_measures.append(col) # sinon, on l'ajoute à 'non_measures'\n",
    "    if non_measures == []:\n",
    "        dict[df['Location'].unique()[i]] = ['all']\n",
    "    else:\n",
    "        dict[df['Location'].unique()[i]] = non_measures\n",
    "\n",
    "### Liste des différentes modalités de non-mesures:\n",
    "modalites = []\n",
    "for station in dict:\n",
    "    if dict[station] not in modalites:\n",
    "        modalites.append(dict[station])"
   ]
  },
  {
   "cell_type": "markdown",
   "metadata": {},
   "source": [
    "Afin de récupérer la liste des variables non enregistrées, passez le nom de la station (à partir des 49 modalités de `Location`) en argument du dictionnaire `dict` dans la cellule qui suit l'exemple ci-dessous."
   ]
  },
  {
   "cell_type": "code",
   "execution_count": 3,
   "metadata": {},
   "outputs": [
    {
     "data": {
      "text/plain": [
       "['Evaporation']"
      ]
     },
     "execution_count": 3,
     "metadata": {},
     "output_type": "execute_result"
    }
   ],
   "source": [
    "# Cet exemple indique que `Evaporation` est la variable pour laquelle la station 'PearceRAAF' n'a enregistré aucune information dans le jeu de données.\n",
    "\n",
    "dict[\"PearceRAAF\"]"
   ]
  },
  {
   "cell_type": "code",
   "execution_count": null,
   "metadata": {},
   "outputs": [],
   "source": [
    "# Insérez votre requête dans la ligne de code ci-dessous :\n",
    "\n",
    "dict[\"\"]"
   ]
  },
  {
   "cell_type": "markdown",
   "metadata": {},
   "source": [
    "## 3. Variables non enregistrées -> `Location`"
   ]
  },
  {
   "cell_type": "code",
   "execution_count": 4,
   "metadata": {},
   "outputs": [],
   "source": [
    "### Création du dictionnaire inverse: clé = liste concaténée des grandeurs non mesurées, valeurs = liste des stations correspondantes\n",
    "dict_reverse = {}\n",
    "for i, mod in zip(range(len(modalites)), modalites):\n",
    "    liste_stations = []\n",
    "    for station in dict:\n",
    "        if dict[station] == mod:\n",
    "            liste_stations.append(station)\n",
    "    dict_reverse[\"_\".join(modalites[i])] = liste_stations # J'ai appris qu'un dictionnaire ne peut pas prendre de liste en guise de clé.\n",
    "                                                          #J'ai décidé de concaténer le nom des colonnes non mesurées avec un \"_\"\n",
    "    #print(mod, \":\", liste_stations)"
   ]
  },
  {
   "cell_type": "markdown",
   "metadata": {},
   "source": [
    "Afin de récupérer le nom de la station, passer les noms concaténés des variables non enregistrées dans le dictionnaire `dict_reverse` dans la cellule qui suit l'exemple ci-dessous.\n",
    "\n",
    "Les entrées valables sont :\n",
    "1. `Evaporation`\n",
    "2. `Evaporation_Sunshine`\n",
    "3. `Evaporation_Sunshine_Cloud9am_Cloud3pm`\n",
    "4. `Evaporation_Sunshine_WindGustDir_WindGustSpeed_`\n",
    "`Pressure9am_Pressure3pm`\n",
    "5. `Evaporation_Sunshine_Pressure9am_Pressure3pm_`\n",
    "`Cloud9am_Cloud3pm`\n",
    "6. `Sunshine`\n",
    "7. `Cloud9am_Cloud3pm`\n",
    "8. `WindGustDir_WindGustSpeed`\n",
    "9. `all`"
   ]
  },
  {
   "cell_type": "code",
   "execution_count": 5,
   "metadata": {},
   "outputs": [
    {
     "data": {
      "text/plain": [
       "['PearceRAAF']"
      ]
     },
     "execution_count": 5,
     "metadata": {},
     "output_type": "execute_result"
    }
   ],
   "source": [
    "# Cet exemple indique que 'PearceRAAF' est la station n'ayant enregistré aucune information dans le jeu de données pour la variable `Evaporation`.\n",
    "\n",
    "dict_reverse[\"Evaporation\"]"
   ]
  },
  {
   "cell_type": "code",
   "execution_count": null,
   "metadata": {},
   "outputs": [],
   "source": [
    "# Insérez votre requête dans la ligne de code ci-dessous :\n",
    "\n",
    "dict_reverse[\"\"]"
   ]
  }
 ],
 "metadata": {
  "kernelspec": {
   "display_name": "datascientest_project",
   "language": "python",
   "name": "python3"
  },
  "language_info": {
   "codemirror_mode": {
    "name": "ipython",
    "version": 3
   },
   "file_extension": ".py",
   "mimetype": "text/x-python",
   "name": "python",
   "nbconvert_exporter": "python",
   "pygments_lexer": "ipython3",
   "version": "3.11.5"
  }
 },
 "nbformat": 4,
 "nbformat_minor": 2
}
