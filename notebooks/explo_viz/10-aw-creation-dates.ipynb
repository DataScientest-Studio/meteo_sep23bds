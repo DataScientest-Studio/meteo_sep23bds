{
 "cells": [
  {
   "cell_type": "code",
   "execution_count": 6,
   "id": "ac02e9f9-1562-4371-921f-fed86b373a9c",
   "metadata": {
    "tags": []
   },
   "outputs": [],
   "source": [
    "import pandas as pd\n",
    "\n",
    "df = pd.read_csv('../../data/raw/weatherAUS.csv')\n",
    "\n",
    "df['Date'] = pd.to_datetime(df['Date'])\n",
    "\n",
    "# Extraction d'informations depuis la variable de date\n",
    "# Année:\n",
    "df[\"year\"] = df['Date'].dt.year\n",
    "\n",
    "# Mois\n",
    "df[\"month\"] = df['Date'].dt.month\n",
    "\n",
    "# Jour du mois\n",
    "df[\"day\"] = df['Date'].dt.day\n",
    "\n",
    "# Création d'un nouveau csv:\n",
    "df.to_csv(\"../../data/interim/weatherAUS_date.csv\")"
   ]
  }
 ],
 "metadata": {
  "kernelspec": {
   "display_name": "Python 3 (ipykernel)",
   "language": "python",
   "name": "python3"
  },
  "language_info": {
   "codemirror_mode": {
    "name": "ipython",
    "version": 3
   },
   "file_extension": ".py",
   "mimetype": "text/x-python",
   "name": "python",
   "nbconvert_exporter": "python",
   "pygments_lexer": "ipython3",
   "version": "3.11.5"
  }
 },
 "nbformat": 4,
 "nbformat_minor": 5
}
