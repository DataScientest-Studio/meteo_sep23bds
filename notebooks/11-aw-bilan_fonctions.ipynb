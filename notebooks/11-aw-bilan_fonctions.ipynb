{
 "cells": [
  {
   "cell_type": "markdown",
   "id": "1aa022a3-a359-4df7-8ff3-bcde9523234f",
   "metadata": {},
   "source": [
    "# Fonctions"
   ]
  },
  {
   "cell_type": "markdown",
   "id": "7a1c5c17-b896-4f55-ac0a-1fa39d391297",
   "metadata": {
    "jp-MarkdownHeadingCollapsed": true,
    "tags": []
   },
   "source": [
    "## nan_rate"
   ]
  },
  {
   "cell_type": "code",
   "execution_count": null,
   "id": "21832b95-0cbb-4a5b-91c4-cc0fb851bdcb",
   "metadata": {},
   "outputs": [],
   "source": [
    "nan_rate = []\n",
    "for col in df.columns:\n",
    "   #print(round(df[col].isna().sum()/df.shape[0]*100, 2), \"%\")\n",
    "    nan_rate.append([col,round(df[col].isna().sum()/df.shape[0]*100, 1) ])\n",
    "print(pd.DataFrame(nan_rate))\n"
   ]
  },
  {
   "cell_type": "markdown",
   "id": "180c0d02-2057-441c-ac75-9086e0fcfc1b",
   "metadata": {
    "jp-MarkdownHeadingCollapsed": true,
    "tags": []
   },
   "source": [
    "## dict"
   ]
  },
  {
   "cell_type": "code",
   "execution_count": null,
   "id": "16f32784-640e-4916-b898-125ca1656e4c",
   "metadata": {},
   "outputs": [],
   "source": [
    "# Création du dictionnaire clé = station, valeurs = grandeurs non mesurées\n",
    "dict = {}\n",
    "for i in range(df['Location'].unique().shape[0]):  # df['Location'].unique().shape[0]: le nombre de stations\n",
    "    measures = []\n",
    "    non_measures = []\n",
    "    station_df = df.loc[df['Location'] == df['Location'].unique()[i]] #création d'un df pour une station\n",
    "    for col in station_df.columns:\n",
    "        if station_df[col].isna().sum()/station_df.shape[0] != 1: # si le pourcentage de nan est différent de 1\n",
    "            measures.append(col) # on ajoute la grandeur mesurée à 'measures\n",
    "        else:\n",
    "            non_measures.append(col) # sinon, on l'ajoute à 'non_measures'\n",
    "    if non_measures == []:\n",
    "        dict[df['Location'].unique()[i]] = ['all']\n",
    "    else:\n",
    "        dict[df['Location'].unique()[i]] = non_measures"
   ]
  },
  {
   "cell_type": "markdown",
   "id": "5741f796-0110-440d-a0e1-eafc0c1c11c9",
   "metadata": {
    "jp-MarkdownHeadingCollapsed": true,
    "tags": []
   },
   "source": [
    "## modalites"
   ]
  },
  {
   "cell_type": "code",
   "execution_count": null,
   "id": "b3575ccc-7471-4ba0-a292-140068d709c1",
   "metadata": {},
   "outputs": [],
   "source": [
    "### Liste des différentes modalités de non-mesures:\n",
    "modalites = []\n",
    "for station in dict:\n",
    "    if dict[station] not in modalites:\n",
    "        modalites.append(dict[station])\n"
   ]
  },
  {
   "cell_type": "markdown",
   "id": "43aa47de-9188-41d1-80b2-3bf1d3d95a5f",
   "metadata": {
    "jp-MarkdownHeadingCollapsed": true,
    "tags": []
   },
   "source": [
    "## dict_reverse"
   ]
  },
  {
   "cell_type": "code",
   "execution_count": null,
   "id": "58e270d2-dd55-4581-9f87-27471d344a69",
   "metadata": {},
   "outputs": [],
   "source": [
    "### Création du dictionnaire inverse: clé = liste concaténée des grandeurs non mesurées, valeurs = liste des stations correspondantes\n",
    "dict_reverse = {}\n",
    "for i, mod in zip(range(len(modalites)), modalites):\n",
    "    liste_stations = []\n",
    "    for station in dict:\n",
    "        if dict[station] == mod:\n",
    "            liste_stations.append(station)\n",
    "    dict_reverse[\"_\".join(modalites[i])] = liste_stations # J'ai appris qu'un dictionnaire ne peut pas prendre de liste en guise de clé. \n",
    "                                                          #J'ai décidé de concaténer le nom des colonnes non mesurées avec un \"_\"       \n",
    "    #print(mod, \":\", liste_stations) "
   ]
  },
  {
   "cell_type": "markdown",
   "id": "c1ffbad8-0427-4dd2-9a69-6d1916d8db1d",
   "metadata": {
    "jp-MarkdownHeadingCollapsed": true,
    "tags": []
   },
   "source": [
    "## Heatmap des nan"
   ]
  },
  {
   "cell_type": "code",
   "execution_count": null,
   "id": "010438b8-d7d0-4909-9131-2300dc2b69d5",
   "metadata": {},
   "outputs": [],
   "source": [
    "def nan_rate_count(col):\n",
    "    nr = round(col.isna().sum()/col.shape[0]*100, 2)\n",
    "    return nr\n",
    "\n",
    "nan_map = df.groupby('Location').agg(nan_rate_count)\n",
    "\n",
    "plt.figure(figsize = (20,10))\n",
    "ax = sns.heatmap(nan_map.T, annot = False, cmap = \"RdYlGn_r\", square = True, linewidth = 1, annot_kws={\"size\":6}, fmt=\".0f\", cbar_kws = {\"label\": \"Percentage\"})\n",
    "\n",
    "## Mise en forme\n",
    "plt.title(\"Taux de NaN\", fontweight = \"bold\", fontsize = 16)\n",
    "plt.xlabel(\"Variable\", fontweight = \"bold\")\n",
    "plt.ylabel(\"Location\", fontweight = \"bold\")\n",
    "plt.xticks(rotation = 70)\n",
    "cbar_axes = ax.figure.axes[-1].yaxis.label.set_weight(\"bold\")\n",
    "plt.show()\n",
    "\n",
    "# choix de la palette: voir ici :\n",
    "# https://matplotlib.org/stable/users/explain/colors/colormaps.html\n",
    "# on ajoute \"_r\" à la fin de la palette pour l'inverser."
   ]
  },
  {
   "cell_type": "markdown",
   "id": "ea6b32fc-6d00-46ed-9856-4dd18def237a",
   "metadata": {
    "jp-MarkdownHeadingCollapsed": true,
    "tags": []
   },
   "source": [
    "## rapport_jours_manqués"
   ]
  },
  {
   "cell_type": "code",
   "execution_count": null,
   "id": "b0feda09-7df0-46b1-9616-ebbd5eb48b96",
   "metadata": {},
   "outputs": [],
   "source": [
    "def rapport_jours_manqués(station):\n",
    "    print(\"Pour la station\", station, \":\")\n",
    "    lieu = df.loc[df['Location'] == station]\n",
    "    print(\"Première date enregistrée:\", lieu['Date'].dt.date.min())\n",
    "    print(\"Dernière date enregistrée:\", lieu['Date'].dt.date.max())\n",
    "    print(\"Nombre de dates mesurées:\", len(lieu['Date']))\n",
    "    delta_t = lieu['Date'].dt.date.max()-lieu['Date'].dt.date.min()\n",
    "    print(\"Nombre total de jours entre le début et la fin:\", delta_t.days)\n",
    "    print(\"Il manque donc\", delta_t.days-len(lieu['Date']), \"jours pour la station\", station, \".\")\n",
    "    print(\"-----------------------------------------------------------------------\")\n"
   ]
  },
  {
   "cell_type": "markdown",
   "id": "a27e9d0f-9b7b-4ec9-9dde-77ed012357de",
   "metadata": {
    "jp-MarkdownHeadingCollapsed": true,
    "tags": []
   },
   "source": [
    "## données_dates"
   ]
  },
  {
   "cell_type": "code",
   "execution_count": null,
   "id": "75c1a492-8b23-48dd-bd7f-af265eeb45c5",
   "metadata": {},
   "outputs": [],
   "source": [
    "def données_dates(station):\n",
    "    lieu = df.loc[df['Location'] == station]\n",
    "    date_min = lieu['Date'].dt.date.min()\n",
    "    date_max = lieu['Date'].dt.date.max()\n",
    "    n_mes = len(lieu['Date'])\n",
    "    period = date_max - date_min\n",
    "    n_missed = period.days - n_mes\n",
    "    print(\"Il manque\", n_missed, \"jours pour la station\", station, \".\") # j'aoute le message pour avoir un aperçu global."
   ]
  },
  {
   "cell_type": "markdown",
   "id": "2689b5fc-b8f1-4ce7-8fb5-fca58fddb366",
   "metadata": {
    "jp-MarkdownHeadingCollapsed": true,
    "tags": []
   },
   "source": [
    "## dict_dates"
   ]
  },
  {
   "cell_type": "code",
   "execution_count": null,
   "id": "81700d51-debb-4946-ad54-28ff7ad023b4",
   "metadata": {},
   "outputs": [],
   "source": [
    "dict_dates = {\"endroit\" : [],\n",
    "             \"date_debut\" : [], \n",
    "             \"date_fin\" : [],\n",
    "             \"n_jours_tot\": [],\n",
    "             \"n_jours_mes\": [],\n",
    "             \"n_jours_miss\": []}\n",
    "keys = [\"endroit\", \"date_debut\", \"date_fin\", \"n_jours_tot\", \"n_jours_mes\",\"n_jours_miss\"]\n",
    "\n",
    "for station in df['Location'].unique():\n",
    "    values = []\n",
    "    lieu = df.loc[df['Location'] == station]\n",
    "    date_min = lieu['Date'].dt.date.min()\n",
    "    date_max = lieu['Date'].dt.date.max()\n",
    "    n_mes = len(lieu['Date'])\n",
    "    period = date_max - date_min\n",
    "    n_missed = period.days - n_mes\n",
    "    values = [str(station), date_min, date_max, period, n_mes, n_missed]\n",
    "    \n",
    "    for j, key in enumerate(keys):\n",
    "        dict_dates[key].append(values[j])\n",
    "df_dates = pd.DataFrame.from_dict(dict_dates)\n",
    "df_dates.head(49)"
   ]
  },
  {
   "cell_type": "markdown",
   "id": "871caceb-7ff1-4a46-b606-d6c379caf369",
   "metadata": {
    "jp-MarkdownHeadingCollapsed": true,
    "tags": []
   },
   "source": [
    "## rapport_stat"
   ]
  },
  {
   "cell_type": "code",
   "execution_count": null,
   "id": "d9cf2614-4eb1-4518-895f-65c00e151ad4",
   "metadata": {},
   "outputs": [],
   "source": [
    "def rapport_stat(mesure):\n",
    "    df_mes = df[mesure].copy()\n",
    "    df_mes.dropna(inplace = True)\n",
    "\n",
    "    ext_min = df_mes.quantile(q = 0.25)-1.5*(df_mes.quantile(q = 0.75)-df_mes.quantile(q = 0.25))\n",
    "    # ext_min est la frontière pour les valeurs extrèmes minimales, cad < Q1 -1.5*IQR\n",
    "    ext_max = df_mes.quantile(q = 0.75)+1.5*(df_mes.quantile(q = 0.75)-df_mes.quantile(q = 0.25))\n",
    "    # ext_max est la frontière pour les valeurs extrèmes maximales, cad > Q + 1.5*IQR\n",
    "\n",
    "    df_mes_min = df_mes.loc[df_mes < ext_min]\n",
    "    print(\"Il y a \", df_mes_min.shape[0], \"valeurs extrèmes inférieures pour la mesure\", str(mesure),  \"sur\", df_mes.shape[0], \"valeurs mesurées.\")\n",
    "    p_min = round(df_mes_min.shape[0]/df_mes.shape[0]*100, 2)\n",
    "    print(\"Cela correspond à\",p_min , \"% des valeurs de cette colonne.\")\n",
    "    print(\"-------------------------------------------\")\n",
    "\n",
    "    df_mes_max = df_mes.loc[df_mes > ext_max]\n",
    "    print(\"Il y a \", df_mes_max.shape[0], \"valeurs extrèmes supérieures pour la mesure\" , str(mesure),  \"sur\", df_mes.shape[0], \"valeurs mesurées.\") # OC : remplacé « inférieures » par « supérieures »\n",
    "    p_max = round(df_mes_max.shape[0]/h3.shape[0]*100, 2)\n",
    "    print(\"Cela correspond à\",p_max , \"% des valeurs de cette colonne.\")\n",
    "    \n",
    "    import statsmodels.api as sm\n",
    "    plt.figure(figsize=(7,5))\n",
    "\n",
    "    plt.boxplot(df_mes)\n",
    "    plt.xlabel(str(mesure))\n",
    "    plt.ylabel('Valeurs en mm')\n",
    "    plt.title('Distribution de la grandeur '+ mesure)\n",
    "    plt.axes([0.65, 0.65, 0.2, 0.15])\n",
    "    plt.hist(df_mes, rwidth = 0.8, color = 'royalblue')\n",
    "    plt.title('Histogramme')\n",
    "    #plt.xticks([])\n",
    "    plt.yticks([])\n",
    "\n",
    "    #sm.qqplot(df_mes, fit = True, line = '45')\n",
    "    plt.show()"
   ]
  },
  {
   "cell_type": "markdown",
   "id": "5b93fd9c-7e27-476f-9dcf-0460f0a520ed",
   "metadata": {
    "jp-MarkdownHeadingCollapsed": true,
    "tags": []
   },
   "source": [
    "## distrib_grandeur_location"
   ]
  },
  {
   "cell_type": "code",
   "execution_count": null,
   "id": "eda52fd2-d26e-409d-ad69-12491f085374",
   "metadata": {},
   "outputs": [],
   "source": [
    "def distrib_grandeur_location(mesure, unit, color_box, color_mark):\n",
    "    # Initialisation de l'existence de stations météo ayant zéro entrée dans la colonne « mesure »\n",
    "\n",
    "    df_location_mes_counts = df[[\"Location\", mesure]].groupby(\"Location\").count()\n",
    "\n",
    "    ## Initialisation de la toile\n",
    "    fig, ax = plt.subplots(figsize = (12, 8))\n",
    "\n",
    "    ## Traçage\n",
    "    sns.boxplot(x = df[\"Location\"].sort_values(ascending = True), \n",
    "            y = df[mesure], \n",
    "            color = color_box, \n",
    "            flierprops={\"marker\": \"x\", \n",
    "                        \"markeredgecolor\": color_mark})\n",
    "\n",
    "    ## Mise en forme\n",
    "    plt.xticks(rotation = 90)\n",
    "    plt.ylim(df[mesure].min(), df[mesure].max())\n",
    "    plt.ylabel(mesure +  \" en \"+ unit)\n",
    "    plt.title(\"Distribution de \" + mesure + \" en fonction des stations\", fontweight = \"bold\");\n",
    "\n",
    "    ### Mise en évidence des stations météo ne disposant pas de données pour « mesure »\n",
    "    for index in range(len(df_location_mes_counts)):\n",
    "        if df_location_mes_counts.iloc[index][0] == 0:\n",
    "            ax.get_xticklabels()[index].set_color(\"#dda15e\")\n",
    "            ax.get_xticklabels()[index].set_weight(\"bold\")\n",
    "\n",
    " # AW: La fonction renvoie bien un graphique. \n",
    " # J'ai un problème non résolu: dans l'écriture de la fonction, j'appelle mesure (entre parenthèses)\n",
    " # Pour qu'elle fonctionne, il faut rentrer 'Pressure9am', au lieu de simplement Pressure9am.\n",
    " # Est-ce possible de modifier ça?"
   ]
  },
  {
   "cell_type": "markdown",
   "id": "a89b65b3-589a-4fce-aa99-399f195ff619",
   "metadata": {
    "jp-MarkdownHeadingCollapsed": true,
    "tags": []
   },
   "source": [
    "## Création des 9 datasets "
   ]
  },
  {
   "cell_type": "code",
   "execution_count": null,
   "id": "539f80e8-3030-4581-bd0b-c5d04069b502",
   "metadata": {},
   "outputs": [],
   "source": [
    "# Ce bloc permet de créer les 9 datasets, un par modalité.\n",
    "# il utilise dict, dict_reverse, modalites.\n",
    "\n",
    "dict_reverse_keys = list(dict_reverse.keys()) # Création d'une liste contenant les modalités concaténées.\n",
    "\n",
    "for key in dict_reverse_keys:\n",
    "    obj = []\n",
    "    for i, station in enumerate(dict_reverse[key]):\n",
    "        stat = df.loc[df['Location'] == station]\n",
    "        obj.append(stat)\n",
    "    \n",
    "    concat = pd.concat(obj, axis = 0) \n",
    "\n",
    "    if key != 'all':\n",
    "        concat_drop = concat.drop(columns = str.split(key, sep = \"_\"))\n",
    "    else: concat_drop = concat  # ligne ajoutée pour régler le problème de la création du df 'all'\n",
    "\n",
    "    title = str(key) + \".csv\"\n",
    "    concat_drop.to_csv(title)"
   ]
  }
 ],
 "metadata": {
  "kernelspec": {
   "display_name": "Python 3 (ipykernel)",
   "language": "python",
   "name": "python3"
  },
  "language_info": {
   "codemirror_mode": {
    "name": "ipython",
    "version": 3
   },
   "file_extension": ".py",
   "mimetype": "text/x-python",
   "name": "python",
   "nbconvert_exporter": "python",
   "pygments_lexer": "ipython3",
   "version": "3.11.5"
  }
 },
 "nbformat": 4,
 "nbformat_minor": 5
}
